{
 "cells": [
  {
   "cell_type": "code",
   "execution_count": 1,
   "metadata": {},
   "outputs": [],
   "source": [
    "### This one is made for retraining and improving the prediction."
   ]
  },
  {
   "cell_type": "code",
   "execution_count": 2,
   "metadata": {
    "scrolled": true
   },
   "outputs": [
    {
     "name": "stderr",
     "output_type": "stream",
     "text": [
      "Using TensorFlow backend.\n",
      "C:\\Users\\User\\.conda\\envs\\theano_v1\\lib\\site-packages\\tensorflow\\python\\framework\\dtypes.py:516: FutureWarning: Passing (type, 1) or '1type' as a synonym of type is deprecated; in a future version of numpy, it will be understood as (type, (1,)) / '(1,)type'.\n",
      "  _np_qint8 = np.dtype([(\"qint8\", np.int8, 1)])\n",
      "C:\\Users\\User\\.conda\\envs\\theano_v1\\lib\\site-packages\\tensorflow\\python\\framework\\dtypes.py:517: FutureWarning: Passing (type, 1) or '1type' as a synonym of type is deprecated; in a future version of numpy, it will be understood as (type, (1,)) / '(1,)type'.\n",
      "  _np_quint8 = np.dtype([(\"quint8\", np.uint8, 1)])\n",
      "C:\\Users\\User\\.conda\\envs\\theano_v1\\lib\\site-packages\\tensorflow\\python\\framework\\dtypes.py:518: FutureWarning: Passing (type, 1) or '1type' as a synonym of type is deprecated; in a future version of numpy, it will be understood as (type, (1,)) / '(1,)type'.\n",
      "  _np_qint16 = np.dtype([(\"qint16\", np.int16, 1)])\n",
      "C:\\Users\\User\\.conda\\envs\\theano_v1\\lib\\site-packages\\tensorflow\\python\\framework\\dtypes.py:519: FutureWarning: Passing (type, 1) or '1type' as a synonym of type is deprecated; in a future version of numpy, it will be understood as (type, (1,)) / '(1,)type'.\n",
      "  _np_quint16 = np.dtype([(\"quint16\", np.uint16, 1)])\n",
      "C:\\Users\\User\\.conda\\envs\\theano_v1\\lib\\site-packages\\tensorflow\\python\\framework\\dtypes.py:520: FutureWarning: Passing (type, 1) or '1type' as a synonym of type is deprecated; in a future version of numpy, it will be understood as (type, (1,)) / '(1,)type'.\n",
      "  _np_qint32 = np.dtype([(\"qint32\", np.int32, 1)])\n",
      "C:\\Users\\User\\.conda\\envs\\theano_v1\\lib\\site-packages\\tensorflow\\python\\framework\\dtypes.py:525: FutureWarning: Passing (type, 1) or '1type' as a synonym of type is deprecated; in a future version of numpy, it will be understood as (type, (1,)) / '(1,)type'.\n",
      "  np_resource = np.dtype([(\"resource\", np.ubyte, 1)])\n",
      "C:\\Users\\User\\.conda\\envs\\theano_v1\\lib\\site-packages\\tensorboard\\compat\\tensorflow_stub\\dtypes.py:541: FutureWarning: Passing (type, 1) or '1type' as a synonym of type is deprecated; in a future version of numpy, it will be understood as (type, (1,)) / '(1,)type'.\n",
      "  _np_qint8 = np.dtype([(\"qint8\", np.int8, 1)])\n",
      "C:\\Users\\User\\.conda\\envs\\theano_v1\\lib\\site-packages\\tensorboard\\compat\\tensorflow_stub\\dtypes.py:542: FutureWarning: Passing (type, 1) or '1type' as a synonym of type is deprecated; in a future version of numpy, it will be understood as (type, (1,)) / '(1,)type'.\n",
      "  _np_quint8 = np.dtype([(\"quint8\", np.uint8, 1)])\n",
      "C:\\Users\\User\\.conda\\envs\\theano_v1\\lib\\site-packages\\tensorboard\\compat\\tensorflow_stub\\dtypes.py:543: FutureWarning: Passing (type, 1) or '1type' as a synonym of type is deprecated; in a future version of numpy, it will be understood as (type, (1,)) / '(1,)type'.\n",
      "  _np_qint16 = np.dtype([(\"qint16\", np.int16, 1)])\n",
      "C:\\Users\\User\\.conda\\envs\\theano_v1\\lib\\site-packages\\tensorboard\\compat\\tensorflow_stub\\dtypes.py:544: FutureWarning: Passing (type, 1) or '1type' as a synonym of type is deprecated; in a future version of numpy, it will be understood as (type, (1,)) / '(1,)type'.\n",
      "  _np_quint16 = np.dtype([(\"quint16\", np.uint16, 1)])\n",
      "C:\\Users\\User\\.conda\\envs\\theano_v1\\lib\\site-packages\\tensorboard\\compat\\tensorflow_stub\\dtypes.py:545: FutureWarning: Passing (type, 1) or '1type' as a synonym of type is deprecated; in a future version of numpy, it will be understood as (type, (1,)) / '(1,)type'.\n",
      "  _np_qint32 = np.dtype([(\"qint32\", np.int32, 1)])\n",
      "C:\\Users\\User\\.conda\\envs\\theano_v1\\lib\\site-packages\\tensorboard\\compat\\tensorflow_stub\\dtypes.py:550: FutureWarning: Passing (type, 1) or '1type' as a synonym of type is deprecated; in a future version of numpy, it will be understood as (type, (1,)) / '(1,)type'.\n",
      "  np_resource = np.dtype([(\"resource\", np.ubyte, 1)])\n"
     ]
    }
   ],
   "source": [
    "### Import packages\n",
    "import numpy as np\n",
    "import sys\n",
    "import theano\n",
    "import theano.tensor as T\n",
    "from keras.models import Sequential\n",
    "import keras\n",
    "import tensorflow as tf\n",
    "from keras.models import load_model\n",
    "from sklearn.ensemble import RandomForestRegressor\n"
   ]
  },
  {
   "cell_type": "code",
   "execution_count": 3,
   "metadata": {},
   "outputs": [
    {
     "name": "stdout",
     "output_type": "stream",
     "text": [
      "96674\n"
     ]
    }
   ],
   "source": [
    "### Import data into memory.\n",
    "input_data_all = np.load('train_sample.npy')\n",
    "output_data_all= np.load('train_target.npy')\n",
    "n_samples= input_data_all.shape[0]\n",
    "print(n_samples)"
   ]
  },
  {
   "cell_type": "code",
   "execution_count": 4,
   "metadata": {},
   "outputs": [],
   "source": [
    "### shuffle 2 data series together randomly.\n",
    "def shuffle_together(input_1, input_2):\n",
    "    if input_1.shape[0]!= input_2.shape[0]:\n",
    "        print (\"Problem, y and x array are not of the same shape.\")\n",
    "        return None\n",
    "    c= np.arange(input_1.shape[0])\n",
    "    np.random.shuffle(c)\n",
    "    return input_1[c], input_2[c], c"
   ]
  },
  {
   "cell_type": "code",
   "execution_count": 5,
   "metadata": {},
   "outputs": [
    {
     "name": "stdout",
     "output_type": "stream",
     "text": [
      "(87007, 53)\n",
      "(87007,)\n"
     ]
    }
   ],
   "source": [
    "### splitting on train and validation input (note that it is splitted randomly.)\n",
    "input_data_all, output_data_all, _ = shuffle_together(input_data_all, output_data_all)\n",
    "n_validation_samples= int(0.1*n_samples)\n",
    "validation_input= input_data_all[-1*n_validation_samples:]\n",
    "validation_output= output_data_all[-1*n_validation_samples:]\n",
    "n_train_samples= n_samples-n_validation_samples\n",
    "train_input= input_data_all[:n_train_samples]\n",
    "train_output= output_data_all[:n_train_samples]\n",
    "print(train_input.shape)\n",
    "print(train_output.shape)\n",
    "### Now we define matrix x and vector y in theano.\n",
    "x=T.matrix('x', dtype= theano.config.floatX)\n",
    "y=T.vector('y', dtype= theano.config.floatX)\n"
   ]
  },
  {
   "cell_type": "code",
   "execution_count": 6,
   "metadata": {},
   "outputs": [
    {
     "data": {
      "text/plain": [
       "53"
      ]
     },
     "execution_count": 6,
     "metadata": {},
     "output_type": "execute_result"
    }
   ],
   "source": [
    "train_input.shape[1]"
   ]
  },
  {
   "cell_type": "code",
   "execution_count": 7,
   "metadata": {
    "scrolled": true
   },
   "outputs": [
    {
     "name": "stdout",
     "output_type": "stream",
     "text": [
      "WARNING:tensorflow:From C:\\Users\\User\\.conda\\envs\\theano_v1\\lib\\site-packages\\keras\\backend\\tensorflow_backend.py:422: The name tf.global_variables is deprecated. Please use tf.compat.v1.global_variables instead.\n",
      "\n"
     ]
    }
   ],
   "source": [
    "### If we have already defined the model, this will load it. If it has not been defined yet, then we have to define it\n",
    "### and comment this part out.\n",
    "# load model\n",
    "model = load_model('model.h1')"
   ]
  },
  {
   "cell_type": "code",
   "execution_count": 8,
   "metadata": {},
   "outputs": [],
   "source": [
    "# define SGD optimizer\n",
    "sgd_optimizer = keras.optimizers.Adam(learning_rate=0.000004, beta_1=0.9, beta_2=0.989, epsilon=1e-10)\n",
    "\n",
    "\n",
    "# compile model\n",
    "model.compile(\n",
    "    optimizer=sgd_optimizer,\n",
    "    loss='mean_squared_error'\n",
    ")"
   ]
  },
  {
   "cell_type": "code",
   "execution_count": 9,
   "metadata": {},
   "outputs": [
    {
     "name": "stdout",
     "output_type": "stream",
     "text": [
      "Num GPUs Available:  1\n"
     ]
    }
   ],
   "source": [
    "\n",
    "print(\"Num GPUs Available: \", len(tf.config.experimental.list_physical_devices('GPU')))\n"
   ]
  },
  {
   "cell_type": "code",
   "execution_count": 10,
   "metadata": {
    "scrolled": true
   },
   "outputs": [
    {
     "name": "stdout",
     "output_type": "stream",
     "text": [
      "Train on 87006 samples, validate on 9668 samples\n",
      "Epoch 1/3000\n",
      "87006/87006 [==============================] - 21s 242us/step - loss: 1.5626e-06\n",
      "Epoch 2/3000\n",
      "87006/87006 [==============================] - 23s 269us/step - loss: 1.5623e-064s \n",
      "Epoch 3/3000\n",
      "87006/87006 [==============================] - 28s 320us/step - loss: 1.5632e-06\n",
      "Epoch 4/3000\n",
      "87006/87006 [==============================] - 27s 308us/step - loss: 1.5671e-06ETA: 4s - loss: 1.56 - ETA: - ETA: 1s - loss: 1 - ETA: 1s - loss:\n",
      "Epoch 5/3000\n",
      "15300/87006 [====>.........................] - ETA: 26s - loss: 1.5138e-06"
     ]
    },
    {
     "name": "stderr",
     "output_type": "stream",
     "text": [
      "C:\\Users\\User\\.conda\\envs\\theano_v1\\lib\\site-packages\\keras\\callbacks\\callbacks.py:95: RuntimeWarning: Method (on_train_batch_end) is slow compared to the batch update (0.102503). Check your callbacks.\n",
      "  % (hook_name, delta_t_median), RuntimeWarning)\n"
     ]
    },
    {
     "name": "stdout",
     "output_type": "stream",
     "text": [
      "48900/87006 [===============>..............] - ETA: 11s - loss: 1.5219e-06"
     ]
    },
    {
     "name": "stderr",
     "output_type": "stream",
     "text": [
      "C:\\Users\\User\\.conda\\envs\\theano_v1\\lib\\site-packages\\keras\\callbacks\\callbacks.py:95: RuntimeWarning: Method (on_train_batch_end) is slow compared to the batch update (0.100693). Check your callbacks.\n",
      "  % (hook_name, delta_t_median), RuntimeWarning)\n"
     ]
    },
    {
     "name": "stdout",
     "output_type": "stream",
     "text": [
      "87006/87006 [==============================] - 27s 315us/step - loss: 1.5596e-06\n",
      "Epoch 6/3000\n",
      "43500/87006 [=============>................] - ETA: 12s - loss: 1.5580e-06"
     ]
    },
    {
     "name": "stderr",
     "output_type": "stream",
     "text": [
      "C:\\Users\\User\\.conda\\envs\\theano_v1\\lib\\site-packages\\keras\\callbacks\\callbacks.py:95: RuntimeWarning: Method (on_train_batch_end) is slow compared to the batch update (0.109033). Check your callbacks.\n",
      "  % (hook_name, delta_t_median), RuntimeWarning)\n"
     ]
    },
    {
     "name": "stdout",
     "output_type": "stream",
     "text": [
      "54000/87006 [=================>............] - ETA: 11s - loss: 1.5682e-06"
     ]
    },
    {
     "name": "stderr",
     "output_type": "stream",
     "text": [
      "C:\\Users\\User\\.conda\\envs\\theano_v1\\lib\\site-packages\\keras\\callbacks\\callbacks.py:95: RuntimeWarning: Method (on_train_batch_end) is slow compared to the batch update (0.107312). Check your callbacks.\n",
      "  % (hook_name, delta_t_median), RuntimeWarning)\n"
     ]
    },
    {
     "name": "stdout",
     "output_type": "stream",
     "text": [
      "54300/87006 [=================>............] - ETA: 11s - loss: 1.5669e-06"
     ]
    },
    {
     "name": "stderr",
     "output_type": "stream",
     "text": [
      "C:\\Users\\User\\.conda\\envs\\theano_v1\\lib\\site-packages\\keras\\callbacks\\callbacks.py:95: RuntimeWarning: Method (on_train_batch_end) is slow compared to the batch update (0.108111). Check your callbacks.\n",
      "  % (hook_name, delta_t_median), RuntimeWarning)\n"
     ]
    },
    {
     "name": "stdout",
     "output_type": "stream",
     "text": [
      "87006/87006 [==============================] - ETA: 0s - loss: 1.5586e-06- ETA: 2s - loss: 1.5395e- - ETA: - 30s 350us/step - loss: 1.5592e-06\n",
      "Epoch 7/3000\n",
      "  600/87006 [..............................] - ETA: 1:21 - loss: 2.4045e-06"
     ]
    },
    {
     "name": "stderr",
     "output_type": "stream",
     "text": [
      "C:\\Users\\User\\.conda\\envs\\theano_v1\\lib\\site-packages\\keras\\callbacks\\callbacks.py:95: RuntimeWarning: Method (on_train_batch_end) is slow compared to the batch update (0.250351). Check your callbacks.\n",
      "  % (hook_name, delta_t_median), RuntimeWarning)\n"
     ]
    },
    {
     "name": "stdout",
     "output_type": "stream",
     "text": [
      " 2400/87006 [..............................] - ETA: 27s - loss: 1.9929e-"
     ]
    },
    {
     "name": "stderr",
     "output_type": "stream",
     "text": [
      "C:\\Users\\User\\.conda\\envs\\theano_v1\\lib\\site-packages\\keras\\callbacks\\callbacks.py:95: RuntimeWarning: Method (on_train_batch_end) is slow compared to the batch update (0.175669). Check your callbacks.\n",
      "  % (hook_name, delta_t_median), RuntimeWarning)\n",
      "C:\\Users\\User\\.conda\\envs\\theano_v1\\lib\\site-packages\\keras\\callbacks\\callbacks.py:95: RuntimeWarning: Method (on_train_batch_end) is slow compared to the batch update (0.100987). Check your callbacks.\n",
      "  % (hook_name, delta_t_median), RuntimeWarning)\n"
     ]
    },
    {
     "name": "stdout",
     "output_type": "stream",
     "text": [
      "13800/87006 [===>..........................] - ETA: 27s - loss: 1.6768e-06 ETA: 26s - loss: 1.69"
     ]
    },
    {
     "name": "stderr",
     "output_type": "stream",
     "text": [
      "C:\\Users\\User\\.conda\\envs\\theano_v1\\lib\\site-packages\\keras\\callbacks\\callbacks.py:95: RuntimeWarning: Method (on_train_batch_end) is slow compared to the batch update (0.100237). Check your callbacks.\n",
      "  % (hook_name, delta_t_median), RuntimeWarning)\n"
     ]
    },
    {
     "name": "stdout",
     "output_type": "stream",
     "text": [
      "15300/87006 [====>.........................] - ETA: 27s - loss: 1.6490e-06"
     ]
    },
    {
     "name": "stderr",
     "output_type": "stream",
     "text": [
      "C:\\Users\\User\\.conda\\envs\\theano_v1\\lib\\site-packages\\keras\\callbacks\\callbacks.py:95: RuntimeWarning: Method (on_train_batch_end) is slow compared to the batch update (0.104046). Check your callbacks.\n",
      "  % (hook_name, delta_t_median), RuntimeWarning)\n"
     ]
    },
    {
     "name": "stdout",
     "output_type": "stream",
     "text": [
      "25800/87006 [=======>......................] - ETA: 24s - loss: 1.5647e-06"
     ]
    },
    {
     "name": "stderr",
     "output_type": "stream",
     "text": [
      "C:\\Users\\User\\.conda\\envs\\theano_v1\\lib\\site-packages\\keras\\callbacks\\callbacks.py:95: RuntimeWarning: Method (on_train_batch_end) is slow compared to the batch update (0.106706). Check your callbacks.\n",
      "  % (hook_name, delta_t_median), RuntimeWarning)\n",
      "C:\\Users\\User\\.conda\\envs\\theano_v1\\lib\\site-packages\\keras\\callbacks\\callbacks.py:95: RuntimeWarning: Method (on_train_batch_end) is slow compared to the batch update (0.107443). Check your callbacks.\n",
      "  % (hook_name, delta_t_median), RuntimeWarning)\n"
     ]
    },
    {
     "name": "stdout",
     "output_type": "stream",
     "text": [
      "54300/87006 [=================>............] - ETA: 10s - loss: 1.5762e-06 ETA: 11s - loss: 1.5791"
     ]
    },
    {
     "name": "stderr",
     "output_type": "stream",
     "text": [
      "C:\\Users\\User\\.conda\\envs\\theano_v1\\lib\\site-packages\\keras\\callbacks\\callbacks.py:95: RuntimeWarning: Method (on_train_batch_end) is slow compared to the batch update (0.101571). Check your callbacks.\n",
      "  % (hook_name, delta_t_median), RuntimeWarning)\n"
     ]
    },
    {
     "name": "stdout",
     "output_type": "stream",
     "text": [
      "87006/87006 [==============================] - 27s 307us/step - loss: 1.5894e-060s - loss: 1.5\n",
      "Epoch 8/3000\n",
      "17400/87006 [====>.........................] - ETA: 26s - loss: 1.6663e-06 E"
     ]
    },
    {
     "name": "stderr",
     "output_type": "stream",
     "text": [
      "C:\\Users\\User\\.conda\\envs\\theano_v1\\lib\\site-packages\\keras\\callbacks\\callbacks.py:95: RuntimeWarning: Method (on_train_batch_end) is slow compared to the batch update (0.104095). Check your callbacks.\n",
      "  % (hook_name, delta_t_median), RuntimeWarning)\n"
     ]
    },
    {
     "name": "stdout",
     "output_type": "stream",
     "text": [
      "87006/87006 [==============================] - 26s 298us/step - loss: 1.5670e-061s - loss: 1 - ETA: 0s - loss: 1.568\n",
      "Epoch 9/3000\n",
      "87006/87006 [==============================] - 25s 289us/step - loss: 1.5623e-06\n",
      "Epoch 10/3000\n",
      "87006/87006 [==============================] - 26s 302us/step - loss: 1.5642e-06\n",
      "Epoch 11/3000\n",
      "  600/87006 [..............................] - ETA: 30s - loss: 1.6477e-"
     ]
    },
    {
     "name": "stderr",
     "output_type": "stream",
     "text": [
      "C:\\Users\\User\\.conda\\envs\\theano_v1\\lib\\site-packages\\keras\\callbacks\\callbacks.py:95: RuntimeWarning: Method (on_train_batch_end) is slow compared to the batch update (0.172714). Check your callbacks.\n",
      "  % (hook_name, delta_t_median), RuntimeWarning)\n",
      "C:\\Users\\User\\.conda\\envs\\theano_v1\\lib\\site-packages\\keras\\callbacks\\callbacks.py:95: RuntimeWarning: Method (on_train_batch_end) is slow compared to the batch update (0.133103). Check your callbacks.\n",
      "  % (hook_name, delta_t_median), RuntimeWarning)\n"
     ]
    },
    {
     "name": "stdout",
     "output_type": "stream",
     "text": [
      "87006/87006 [==============================] - 20s 227us/step - loss: 1.5551e-06\n",
      "Epoch 12/3000\n",
      "  900/87006 [..............................] - ETA: 28s - loss: 1.4856e-06"
     ]
    },
    {
     "name": "stderr",
     "output_type": "stream",
     "text": [
      "C:\\Users\\User\\.conda\\envs\\theano_v1\\lib\\site-packages\\keras\\callbacks\\callbacks.py:95: RuntimeWarning: Method (on_train_batch_end) is slow compared to the batch update (0.122434). Check your callbacks.\n",
      "  % (hook_name, delta_t_median), RuntimeWarning)\n",
      "C:\\Users\\User\\.conda\\envs\\theano_v1\\lib\\site-packages\\keras\\callbacks\\callbacks.py:95: RuntimeWarning: Method (on_train_batch_end) is slow compared to the batch update (0.101444). Check your callbacks.\n",
      "  % (hook_name, delta_t_median), RuntimeWarning)\n"
     ]
    },
    {
     "name": "stdout",
     "output_type": "stream",
     "text": [
      "87006/87006 [==============================] - 26s 296us/step - loss: 1.5717e-06 9 - ETA: 5s - \n",
      "Epoch 13/3000\n",
      "87006/87006 [==============================] - 25s 292us/step - loss: 1.5646e-06\n",
      "Epoch 14/3000\n",
      "87006/87006 [==============================] - 23s 262us/step - loss: 1.5706e-063s - loss: 1 - E\n",
      "Epoch 15/3000\n",
      "87006/87006 [==============================] - 25s 290us/step - loss: 1.5642e-06\n",
      "Epoch 16/3000\n",
      "87006/87006 [==============================] - 28s 317us/step - loss: 1.5630e-060s - loss: 1.5603e-\n",
      "Epoch 17/3000\n",
      "79800/87006 [==========================>...] - ETA: 2s - loss: 1.5615e-06- ETA: 2s - loss: 1.5588e"
     ]
    },
    {
     "name": "stderr",
     "output_type": "stream",
     "text": [
      "C:\\Users\\User\\.conda\\envs\\theano_v1\\lib\\site-packages\\keras\\callbacks\\callbacks.py:95: RuntimeWarning: Method (on_train_batch_end) is slow compared to the batch update (0.104250). Check your callbacks.\n",
      "  % (hook_name, delta_t_median), RuntimeWarning)\n"
     ]
    },
    {
     "name": "stdout",
     "output_type": "stream",
     "text": [
      "87006/87006 [==============================] - 27s 315us/step - loss: 1.5630e-06\n",
      "Epoch 18/3000\n",
      "87006/87006 [==============================] - 23s 261us/step - loss: 1.5601e-06\n",
      "Epoch 19/3000\n",
      "87006/87006 [==============================] - 23s 261us/step - loss: 1.5671e-060s - loss: 1.5670e-0\n",
      "Epoch 20/3000\n",
      "87006/87006 [==============================] - 24s 281us/step - loss: 1.5637e-06\n",
      "Epoch 21/3000\n",
      "87006/87006 [==============================] - 27s 310us/step - loss: 1.5701e-061s\n",
      "Epoch 22/3000\n",
      "87006/87006 [==============================] - 30s 344us/step - loss: 1.5681e-06\n",
      "Epoch 23/3000\n",
      "19500/87006 [=====>........................] - ETA: 22s - loss: 1.5725e-06 ETA: 20s - "
     ]
    },
    {
     "name": "stderr",
     "output_type": "stream",
     "text": [
      "C:\\Users\\User\\.conda\\envs\\theano_v1\\lib\\site-packages\\keras\\callbacks\\callbacks.py:95: RuntimeWarning: Method (on_train_batch_end) is slow compared to the batch update (0.101465). Check your callbacks.\n",
      "  % (hook_name, delta_t_median), RuntimeWarning)\n"
     ]
    },
    {
     "name": "stdout",
     "output_type": "stream",
     "text": [
      "87006/87006 [==============================] - 26s 298us/step - loss: 1.5622e-06\n",
      "Epoch 24/3000\n",
      "30900/87006 [=========>....................] - ETA: 19s - loss: 1.5404e-06"
     ]
    },
    {
     "name": "stderr",
     "output_type": "stream",
     "text": [
      "C:\\Users\\User\\.conda\\envs\\theano_v1\\lib\\site-packages\\keras\\callbacks\\callbacks.py:95: RuntimeWarning: Method (on_train_batch_end) is slow compared to the batch update (0.104547). Check your callbacks.\n",
      "  % (hook_name, delta_t_median), RuntimeWarning)\n"
     ]
    },
    {
     "name": "stdout",
     "output_type": "stream",
     "text": [
      "87006/87006 [==============================] - 28s 323us/step - loss: 1.5634e-06\n",
      "Epoch 25/3000\n",
      " 6000/87006 [=>............................] - ETA: 34s - loss: 1.3147e-06 ETA: 28s - lo"
     ]
    },
    {
     "name": "stderr",
     "output_type": "stream",
     "text": [
      "C:\\Users\\User\\.conda\\envs\\theano_v1\\lib\\site-packages\\keras\\callbacks\\callbacks.py:95: RuntimeWarning: Method (on_train_batch_end) is slow compared to the batch update (0.111604). Check your callbacks.\n",
      "  % (hook_name, delta_t_median), RuntimeWarning)\n"
     ]
    },
    {
     "name": "stdout",
     "output_type": "stream",
     "text": [
      "33900/87006 [==========>...................] - ETA: 20s - loss: 1.4271e-06"
     ]
    },
    {
     "name": "stderr",
     "output_type": "stream",
     "text": [
      "C:\\Users\\User\\.conda\\envs\\theano_v1\\lib\\site-packages\\keras\\callbacks\\callbacks.py:95: RuntimeWarning: Method (on_train_batch_end) is slow compared to the batch update (0.111033). Check your callbacks.\n",
      "  % (hook_name, delta_t_median), RuntimeWarning)\n"
     ]
    },
    {
     "name": "stdout",
     "output_type": "stream",
     "text": [
      "87006/87006 [==============================] - 28s 317us/step - loss: 1.5645e-06\n",
      "Epoch 26/3000\n",
      "87006/87006 [==============================] - 25s 291us/step - loss: 1.5621e-06\n",
      "Epoch 27/3000\n",
      "87006/87006 [==============================] - 25s 293us/step - loss: 1.5625e-06\n",
      "Epoch 28/3000\n",
      "87006/87006 [==============================] - 23s 266us/step - loss: 1.5603e-06\n",
      "Epoch 29/3000\n",
      "87006/87006 [==============================] - 26s 302us/step - loss: 1.5623e-06\n",
      "Epoch 30/3000\n",
      "87006/87006 [==============================] - 23s 269us/step - loss: 1.5583e-06\n",
      "Epoch 31/3000\n",
      "87006/87006 [==============================] - 28s 325us/step - loss: 1.5628e-06\n",
      "Epoch 32/3000\n",
      "87006/87006 [==============================] - 25s 291us/step - loss: 1.5573e-06\n",
      "Epoch 33/3000\n",
      "87006/87006 [==============================] - 24s 279us/step - loss: 1.5665e-06\n",
      "Epoch 34/3000\n",
      "35100/87006 [===========>..................] - ETA: 20s - loss: 1.5691e-06 E - ETA: 21s - loss"
     ]
    },
    {
     "name": "stderr",
     "output_type": "stream",
     "text": [
      "C:\\Users\\User\\.conda\\envs\\theano_v1\\lib\\site-packages\\keras\\callbacks\\callbacks.py:95: RuntimeWarning: Method (on_train_batch_end) is slow compared to the batch update (0.100648). Check your callbacks.\n",
      "  % (hook_name, delta_t_median), RuntimeWarning)\n"
     ]
    },
    {
     "name": "stdout",
     "output_type": "stream",
     "text": [
      "57600/87006 [==================>...........] - ETA: 11s - loss: 1.5831e-06"
     ]
    },
    {
     "name": "stderr",
     "output_type": "stream",
     "text": [
      "C:\\Users\\User\\.conda\\envs\\theano_v1\\lib\\site-packages\\keras\\callbacks\\callbacks.py:95: RuntimeWarning: Method (on_train_batch_end) is slow compared to the batch update (0.104226). Check your callbacks.\n",
      "  % (hook_name, delta_t_median), RuntimeWarning)\n"
     ]
    },
    {
     "name": "stdout",
     "output_type": "stream",
     "text": [
      "60900/87006 [===================>..........] - ETA: 10s - loss: 1.5868e-06"
     ]
    },
    {
     "name": "stderr",
     "output_type": "stream",
     "text": [
      "C:\\Users\\User\\.conda\\envs\\theano_v1\\lib\\site-packages\\keras\\callbacks\\callbacks.py:95: RuntimeWarning: Method (on_train_batch_end) is slow compared to the batch update (0.118266). Check your callbacks.\n",
      "  % (hook_name, delta_t_median), RuntimeWarning)\n",
      "C:\\Users\\User\\.conda\\envs\\theano_v1\\lib\\site-packages\\keras\\callbacks\\callbacks.py:95: RuntimeWarning: Method (on_train_batch_end) is slow compared to the batch update (0.129957). Check your callbacks.\n",
      "  % (hook_name, delta_t_median), RuntimeWarning)\n"
     ]
    },
    {
     "name": "stdout",
     "output_type": "stream",
     "text": [
      "61500/87006 [====================>.........] - ETA: 9s - loss: 1.5924e-06 "
     ]
    },
    {
     "name": "stderr",
     "output_type": "stream",
     "text": [
      "C:\\Users\\User\\.conda\\envs\\theano_v1\\lib\\site-packages\\keras\\callbacks\\callbacks.py:95: RuntimeWarning: Method (on_train_batch_end) is slow compared to the batch update (0.110831). Check your callbacks.\n",
      "  % (hook_name, delta_t_median), RuntimeWarning)\n"
     ]
    },
    {
     "name": "stdout",
     "output_type": "stream",
     "text": [
      "62400/87006 [====================>.........] - ETA: 9s - loss: 1.5929e-06"
     ]
    },
    {
     "name": "stderr",
     "output_type": "stream",
     "text": [
      "C:\\Users\\User\\.conda\\envs\\theano_v1\\lib\\site-packages\\keras\\callbacks\\callbacks.py:95: RuntimeWarning: Method (on_train_batch_end) is slow compared to the batch update (0.117957). Check your callbacks.\n",
      "  % (hook_name, delta_t_median), RuntimeWarning)\n",
      "C:\\Users\\User\\.conda\\envs\\theano_v1\\lib\\site-packages\\keras\\callbacks\\callbacks.py:95: RuntimeWarning: Method (on_train_batch_end) is slow compared to the batch update (0.112418). Check your callbacks.\n",
      "  % (hook_name, delta_t_median), RuntimeWarning)\n",
      "C:\\Users\\User\\.conda\\envs\\theano_v1\\lib\\site-packages\\keras\\callbacks\\callbacks.py:95: RuntimeWarning: Method (on_train_batch_end) is slow compared to the batch update (0.105292). Check your callbacks.\n",
      "  % (hook_name, delta_t_median), RuntimeWarning)\n"
     ]
    },
    {
     "name": "stdout",
     "output_type": "stream",
     "text": [
      "87006/87006 [==============================] - 32s 365us/step - loss: 1.5612e-06\n",
      "Epoch 35/3000\n",
      "87006/87006 [==============================] - 26s 297us/step - loss: 1.5650e-06\n",
      "Epoch 36/3000\n",
      "54600/87006 [=================>............] - ETA: 11s - loss: 1.6550e-06 ETA: 11s - "
     ]
    },
    {
     "name": "stderr",
     "output_type": "stream",
     "text": [
      "C:\\Users\\User\\.conda\\envs\\theano_v1\\lib\\site-packages\\keras\\callbacks\\callbacks.py:95: RuntimeWarning: Method (on_train_batch_end) is slow compared to the batch update (0.114732). Check your callbacks.\n",
      "  % (hook_name, delta_t_median), RuntimeWarning)\n",
      "C:\\Users\\User\\.conda\\envs\\theano_v1\\lib\\site-packages\\keras\\callbacks\\callbacks.py:95: RuntimeWarning: Method (on_train_batch_end) is slow compared to the batch update (0.122223). Check your callbacks.\n",
      "  % (hook_name, delta_t_median), RuntimeWarning)\n"
     ]
    },
    {
     "name": "stdout",
     "output_type": "stream",
     "text": [
      "55500/87006 [==================>...........] - ETA: 10s - loss: 1.6562e-\r"
     ]
    },
    {
     "name": "stderr",
     "output_type": "stream",
     "text": [
      "C:\\Users\\User\\.conda\\envs\\theano_v1\\lib\\site-packages\\keras\\callbacks\\callbacks.py:95: RuntimeWarning: Method (on_train_batch_end) is slow compared to the batch update (0.101219). Check your callbacks.\n",
      "  % (hook_name, delta_t_median), RuntimeWarning)\n"
     ]
    },
    {
     "name": "stdout",
     "output_type": "stream",
     "text": [
      "57000/87006 [==================>...........] - ETA: 10s - loss: 1.6521e-06"
     ]
    },
    {
     "name": "stderr",
     "output_type": "stream",
     "text": [
      "C:\\Users\\User\\.conda\\envs\\theano_v1\\lib\\site-packages\\keras\\callbacks\\callbacks.py:95: RuntimeWarning: Method (on_train_batch_end) is slow compared to the batch update (0.111137). Check your callbacks.\n",
      "  % (hook_name, delta_t_median), RuntimeWarning)\n"
     ]
    },
    {
     "name": "stdout",
     "output_type": "stream",
     "text": [
      "87006/87006 [==============================] - 30s 342us/step - loss: 1.5876e-06- ETA: 1s - loss: 1\n",
      "Epoch 37/3000\n",
      "  600/87006 [..............................] - ETA: 46s - loss: 1.3694e-06"
     ]
    },
    {
     "name": "stderr",
     "output_type": "stream",
     "text": [
      "C:\\Users\\User\\.conda\\envs\\theano_v1\\lib\\site-packages\\keras\\callbacks\\callbacks.py:95: RuntimeWarning: Method (on_train_batch_end) is slow compared to the batch update (0.210736). Check your callbacks.\n",
      "  % (hook_name, delta_t_median), RuntimeWarning)\n"
     ]
    },
    {
     "name": "stdout",
     "output_type": "stream",
     "text": [
      "\b\b\b\b\b\b\b\b\b\b\b\b\b\b\b\b\b\b\b\b\b\b\b\b\b\b\b\b\b\b\b\b\b\b\b\b\b\b\b\b\b\b\b\b\b\b\b\b\b\b\b\b\b\b\b\b\b\b\b\b\b\b\b\b\b\b\b\b\b\b\b\b\b\b\r",
      "  900/87006 [..............................]"
     ]
    },
    {
     "name": "stderr",
     "output_type": "stream",
     "text": [
      "C:\\Users\\User\\.conda\\envs\\theano_v1\\lib\\site-packages\\keras\\callbacks\\callbacks.py:95: RuntimeWarning: Method (on_train_batch_end) is slow compared to the batch update (0.191728). Check your callbacks.\n",
      "  % (hook_name, delta_t_median), RuntimeWarning)\n"
     ]
    },
    {
     "name": "stdout",
     "output_type": "stream",
     "text": [
      " 1200/87006 [..............................] - ETA: 1:00 - loss: 1.5287e-06"
     ]
    },
    {
     "name": "stderr",
     "output_type": "stream",
     "text": [
      "C:\\Users\\User\\.conda\\envs\\theano_v1\\lib\\site-packages\\keras\\callbacks\\callbacks.py:95: RuntimeWarning: Method (on_train_batch_end) is slow compared to the batch update (0.172719). Check your callbacks.\n",
      "  % (hook_name, delta_t_median), RuntimeWarning)\n",
      "C:\\Users\\User\\.conda\\envs\\theano_v1\\lib\\site-packages\\keras\\callbacks\\callbacks.py:95: RuntimeWarning: Method (on_train_batch_end) is slow compared to the batch update (0.138814). Check your callbacks.\n",
      "  % (hook_name, delta_t_median), RuntimeWarning)\n"
     ]
    },
    {
     "name": "stdout",
     "output_type": "stream",
     "text": [
      " 2400/87006 [..............................] - ETA: 44s - loss: 1.4065e-06"
     ]
    },
    {
     "name": "stderr",
     "output_type": "stream",
     "text": [
      "C:\\Users\\User\\.conda\\envs\\theano_v1\\lib\\site-packages\\keras\\callbacks\\callbacks.py:95: RuntimeWarning: Method (on_train_batch_end) is slow compared to the batch update (0.143136). Check your callbacks.\n",
      "  % (hook_name, delta_t_median), RuntimeWarning)\n",
      "C:\\Users\\User\\.conda\\envs\\theano_v1\\lib\\site-packages\\keras\\callbacks\\callbacks.py:95: RuntimeWarning: Method (on_train_batch_end) is slow compared to the batch update (0.124022). Check your callbacks.\n",
      "  % (hook_name, delta_t_median), RuntimeWarning)\n",
      "C:\\Users\\User\\.conda\\envs\\theano_v1\\lib\\site-packages\\keras\\callbacks\\callbacks.py:95: RuntimeWarning: Method (on_train_batch_end) is slow compared to the batch update (0.104909). Check your callbacks.\n",
      "  % (hook_name, delta_t_median), RuntimeWarning)\n"
     ]
    },
    {
     "name": "stdout",
     "output_type": "stream",
     "text": [
      "87006/87006 [==============================] - 27s 311us/step - loss: 1.5614e-06\n",
      "Epoch 38/3000\n",
      "87006/87006 [==============================] - 26s 298us/step - loss: 1.5625e-06\n",
      "Epoch 39/3000\n",
      " 1200/87006 [..............................] - ETA: 50s - loss: 1.6040e-06"
     ]
    },
    {
     "name": "stderr",
     "output_type": "stream",
     "text": [
      "C:\\Users\\User\\.conda\\envs\\theano_v1\\lib\\site-packages\\keras\\callbacks\\callbacks.py:95: RuntimeWarning: Method (on_train_batch_end) is slow compared to the batch update (0.122069). Check your callbacks.\n",
      "  % (hook_name, delta_t_median), RuntimeWarning)\n",
      "C:\\Users\\User\\.conda\\envs\\theano_v1\\lib\\site-packages\\keras\\callbacks\\callbacks.py:95: RuntimeWarning: Method (on_train_batch_end) is slow compared to the batch update (0.101411). Check your callbacks.\n",
      "  % (hook_name, delta_t_median), RuntimeWarning)\n"
     ]
    },
    {
     "name": "stdout",
     "output_type": "stream",
     "text": [
      "87006/87006 [==============================] - 25s 282us/step - loss: 1.5577e-060s - loss: 1\n",
      "Epoch 40/3000\n",
      " 7500/87006 [=>............................] - ETA: 37s - loss: 1.5513e-"
     ]
    },
    {
     "name": "stderr",
     "output_type": "stream",
     "text": [
      "C:\\Users\\User\\.conda\\envs\\theano_v1\\lib\\site-packages\\keras\\callbacks\\callbacks.py:95: RuntimeWarning: Method (on_train_batch_end) is slow compared to the batch update (0.100175). Check your callbacks.\n",
      "  % (hook_name, delta_t_median), RuntimeWarning)\n"
     ]
    },
    {
     "name": "stdout",
     "output_type": "stream",
     "text": [
      "87006/87006 [==============================] - 24s 271us/step - loss: 1.5590e-062s - loss: 1.54 - ETA: 1s \n",
      "Epoch 41/3000\n",
      "  900/87006 [..............................] - ETA: 32s - loss: 1.6355e-06"
     ]
    },
    {
     "name": "stderr",
     "output_type": "stream",
     "text": [
      "C:\\Users\\User\\.conda\\envs\\theano_v1\\lib\\site-packages\\keras\\callbacks\\callbacks.py:95: RuntimeWarning: Method (on_train_batch_end) is slow compared to the batch update (0.115659). Check your callbacks.\n",
      "  % (hook_name, delta_t_median), RuntimeWarning)\n",
      "C:\\Users\\User\\.conda\\envs\\theano_v1\\lib\\site-packages\\keras\\callbacks\\callbacks.py:95: RuntimeWarning: Method (on_train_batch_end) is slow compared to the batch update (0.107947). Check your callbacks.\n",
      "  % (hook_name, delta_t_median), RuntimeWarning)\n",
      "C:\\Users\\User\\.conda\\envs\\theano_v1\\lib\\site-packages\\keras\\callbacks\\callbacks.py:95: RuntimeWarning: Method (on_train_batch_end) is slow compared to the batch update (0.100236). Check your callbacks.\n",
      "  % (hook_name, delta_t_median), RuntimeWarning)\n"
     ]
    },
    {
     "name": "stdout",
     "output_type": "stream",
     "text": [
      "42000/87006 [=============>................] - ETA: 13s - loss: 1.5505e-06"
     ]
    },
    {
     "name": "stderr",
     "output_type": "stream",
     "text": [
      "C:\\Users\\User\\.conda\\envs\\theano_v1\\lib\\site-packages\\keras\\callbacks\\callbacks.py:95: RuntimeWarning: Method (on_train_batch_end) is slow compared to the batch update (0.101428). Check your callbacks.\n",
      "  % (hook_name, delta_t_median), RuntimeWarning)\n"
     ]
    },
    {
     "name": "stdout",
     "output_type": "stream",
     "text": [
      "42600/87006 [=============>................] - ETA: 13s - loss: 1.5512e-06"
     ]
    },
    {
     "name": "stderr",
     "output_type": "stream",
     "text": [
      "C:\\Users\\User\\.conda\\envs\\theano_v1\\lib\\site-packages\\keras\\callbacks\\callbacks.py:95: RuntimeWarning: Method (on_train_batch_end) is slow compared to the batch update (0.110121). Check your callbacks.\n",
      "  % (hook_name, delta_t_median), RuntimeWarning)\n"
     ]
    },
    {
     "name": "stdout",
     "output_type": "stream",
     "text": [
      "87006/87006 [==============================] - 25s 290us/step - loss: 1.5638e-06\n",
      "Epoch 42/3000\n",
      "56700/87006 [==================>...........] - ETA: 9s - loss: 1.5865e-06"
     ]
    },
    {
     "name": "stderr",
     "output_type": "stream",
     "text": [
      "C:\\Users\\User\\.conda\\envs\\theano_v1\\lib\\site-packages\\keras\\callbacks\\callbacks.py:95: RuntimeWarning: Method (on_train_batch_end) is slow compared to the batch update (0.106948). Check your callbacks.\n",
      "  % (hook_name, delta_t_median), RuntimeWarning)\n"
     ]
    },
    {
     "name": "stdout",
     "output_type": "stream",
     "text": [
      "87006/87006 [==============================] - 27s 313us/step - loss: 1.5666e-06\n",
      "Epoch 43/3000\n",
      "87006/87006 [==============================] - 24s 278us/step - loss: 1.5562e-06 ETA: 0s - loss: 1.\n",
      "Epoch 44/3000\n",
      "87006/87006 [==============================] - 28s 327us/step - loss: 1.5682e-06\n",
      "Epoch 45/3000\n",
      "23100/87006 [======>.......................] - ETA: 30s - loss: 1.4218e-06"
     ]
    },
    {
     "name": "stderr",
     "output_type": "stream",
     "text": [
      "C:\\Users\\User\\.conda\\envs\\theano_v1\\lib\\site-packages\\keras\\callbacks\\callbacks.py:95: RuntimeWarning: Method (on_train_batch_end) is slow compared to the batch update (0.125535). Check your callbacks.\n",
      "  % (hook_name, delta_t_median), RuntimeWarning)\n"
     ]
    },
    {
     "name": "stdout",
     "output_type": "stream",
     "text": [
      "48600/87006 [===============>..............] - ETA: 18s - loss: 1.5468e-06 ETA: 20 - ETA: 18s - loss: "
     ]
    },
    {
     "name": "stderr",
     "output_type": "stream",
     "text": [
      "C:\\Users\\User\\.conda\\envs\\theano_v1\\lib\\site-packages\\keras\\callbacks\\callbacks.py:95: RuntimeWarning: Method (on_train_batch_end) is slow compared to the batch update (0.111669). Check your callbacks.\n",
      "  % (hook_name, delta_t_median), RuntimeWarning)\n"
     ]
    },
    {
     "name": "stdout",
     "output_type": "stream",
     "text": [
      "50400/87006 [================>.............] - ETA: 17s - loss: 1.5475e-06"
     ]
    },
    {
     "name": "stderr",
     "output_type": "stream",
     "text": [
      "C:\\Users\\User\\.conda\\envs\\theano_v1\\lib\\site-packages\\keras\\callbacks\\callbacks.py:95: RuntimeWarning: Method (on_train_batch_end) is slow compared to the batch update (0.117432). Check your callbacks.\n",
      "  % (hook_name, delta_t_median), RuntimeWarning)\n",
      "C:\\Users\\User\\.conda\\envs\\theano_v1\\lib\\site-packages\\keras\\callbacks\\callbacks.py:95: RuntimeWarning: Method (on_train_batch_end) is slow compared to the batch update (0.115575). Check your callbacks.\n",
      "  % (hook_name, delta_t_median), RuntimeWarning)\n"
     ]
    },
    {
     "name": "stdout",
     "output_type": "stream",
     "text": [
      "87006/87006 [==============================] - 37s 420us/step - loss: 1.5605e-06\n",
      "Epoch 46/3000\n",
      " 3900/87006 [>.............................] - ETA: 43s - loss: 2.2086e-06 ETA: 26s - loss: "
     ]
    },
    {
     "name": "stderr",
     "output_type": "stream",
     "text": [
      "C:\\Users\\User\\.conda\\envs\\theano_v1\\lib\\site-packages\\keras\\callbacks\\callbacks.py:95: RuntimeWarning: Method (on_train_batch_end) is slow compared to the batch update (0.108258). Check your callbacks.\n",
      "  % (hook_name, delta_t_median), RuntimeWarning)\n"
     ]
    },
    {
     "name": "stdout",
     "output_type": "stream",
     "text": [
      " 4500/87006 [>.............................] - ETA: 44s - loss: 2.4874e-06"
     ]
    },
    {
     "name": "stderr",
     "output_type": "stream",
     "text": [
      "C:\\Users\\User\\.conda\\envs\\theano_v1\\lib\\site-packages\\keras\\callbacks\\callbacks.py:95: RuntimeWarning: Method (on_train_batch_end) is slow compared to the batch update (0.126393). Check your callbacks.\n",
      "  % (hook_name, delta_t_median), RuntimeWarning)\n"
     ]
    },
    {
     "name": "stdout",
     "output_type": "stream",
     "text": [
      " 6000/87006 [=>............................] - ETA: 39s - loss: 2.4768e-06"
     ]
    },
    {
     "name": "stderr",
     "output_type": "stream",
     "text": [
      "C:\\Users\\User\\.conda\\envs\\theano_v1\\lib\\site-packages\\keras\\callbacks\\callbacks.py:95: RuntimeWarning: Method (on_train_batch_end) is slow compared to the batch update (0.111427). Check your callbacks.\n",
      "  % (hook_name, delta_t_median), RuntimeWarning)\n"
     ]
    },
    {
     "name": "stdout",
     "output_type": "stream",
     "text": [
      " 6900/87006 [=>............................] - ETA: 36s - loss: 2.3405e-06"
     ]
    },
    {
     "name": "stderr",
     "output_type": "stream",
     "text": [
      "C:\\Users\\User\\.conda\\envs\\theano_v1\\lib\\site-packages\\keras\\callbacks\\callbacks.py:95: RuntimeWarning: Method (on_train_batch_end) is slow compared to the batch update (0.107408). Check your callbacks.\n",
      "  % (hook_name, delta_t_median), RuntimeWarning)\n"
     ]
    },
    {
     "name": "stdout",
     "output_type": "stream",
     "text": [
      "87006/87006 [==============================] - 32s 368us/step - loss: 1.5776e-06 ETA: 1s \n",
      "Epoch 47/3000\n",
      "87006/87006 [==============================] - 35s 404us/step - loss: 1.5576e-06\n",
      "Epoch 48/3000\n",
      "87006/87006 [==============================] - 26s 295us/step - loss: 1.5649e-064s - los - ETA: 2s - loss: 1.5 - ETA: 1s - loss: 1. - ETA: 0s - loss: 1.5636\n",
      "Epoch 49/3000\n",
      "76800/87006 [=========================>....] - ETA: 3s - loss: 1.5615e-06"
     ]
    },
    {
     "name": "stderr",
     "output_type": "stream",
     "text": [
      "C:\\Users\\User\\.conda\\envs\\theano_v1\\lib\\site-packages\\keras\\callbacks\\callbacks.py:95: RuntimeWarning: Method (on_train_batch_end) is slow compared to the batch update (0.109970). Check your callbacks.\n",
      "  % (hook_name, delta_t_median), RuntimeWarning)\n",
      "C:\\Users\\User\\.conda\\envs\\theano_v1\\lib\\site-packages\\keras\\callbacks\\callbacks.py:95: RuntimeWarning: Method (on_train_batch_end) is slow compared to the batch update (0.117107). Check your callbacks.\n",
      "  % (hook_name, delta_t_median), RuntimeWarning)\n"
     ]
    },
    {
     "name": "stdout",
     "output_type": "stream",
     "text": [
      "77700/87006 [=========================>....] - ETA: 3s - loss: 1.5574e-06"
     ]
    },
    {
     "name": "stderr",
     "output_type": "stream",
     "text": [
      "C:\\Users\\User\\.conda\\envs\\theano_v1\\lib\\site-packages\\keras\\callbacks\\callbacks.py:95: RuntimeWarning: Method (on_train_batch_end) is slow compared to the batch update (0.120697). Check your callbacks.\n",
      "  % (hook_name, delta_t_median), RuntimeWarning)\n"
     ]
    },
    {
     "name": "stdout",
     "output_type": "stream",
     "text": [
      "78600/87006 [==========================>...] - ETA: 3s - loss: 1.5572e-06"
     ]
    },
    {
     "name": "stderr",
     "output_type": "stream",
     "text": [
      "C:\\Users\\User\\.conda\\envs\\theano_v1\\lib\\site-packages\\keras\\callbacks\\callbacks.py:95: RuntimeWarning: Method (on_train_batch_end) is slow compared to the batch update (0.115856). Check your callbacks.\n",
      "  % (hook_name, delta_t_median), RuntimeWarning)\n"
     ]
    },
    {
     "name": "stdout",
     "output_type": "stream",
     "text": [
      "87006/87006 [==============================] - 32s 366us/step - loss: 1.5642e-06\n",
      "Epoch 50/3000\n",
      "19200/87006 [=====>........................] - ETA: 23s - loss: 1.4820e-06"
     ]
    },
    {
     "name": "stderr",
     "output_type": "stream",
     "text": [
      "C:\\Users\\User\\.conda\\envs\\theano_v1\\lib\\site-packages\\keras\\callbacks\\callbacks.py:95: RuntimeWarning: Method (on_train_batch_end) is slow compared to the batch update (0.129821). Check your callbacks.\n",
      "  % (hook_name, delta_t_median), RuntimeWarning)\n"
     ]
    },
    {
     "name": "stdout",
     "output_type": "stream",
     "text": [
      "20100/87006 [=====>........................] - ETA: 24s - loss: 1.4716e-06"
     ]
    },
    {
     "name": "stderr",
     "output_type": "stream",
     "text": [
      "C:\\Users\\User\\.conda\\envs\\theano_v1\\lib\\site-packages\\keras\\callbacks\\callbacks.py:95: RuntimeWarning: Method (on_train_batch_end) is slow compared to the batch update (0.108723). Check your callbacks.\n",
      "  % (hook_name, delta_t_median), RuntimeWarning)\n"
     ]
    },
    {
     "name": "stdout",
     "output_type": "stream",
     "text": [
      "21600/87006 [======>.......................] - ETA: 23s - loss: 1.4594e-06"
     ]
    },
    {
     "name": "stderr",
     "output_type": "stream",
     "text": [
      "C:\\Users\\User\\.conda\\envs\\theano_v1\\lib\\site-packages\\keras\\callbacks\\callbacks.py:95: RuntimeWarning: Method (on_train_batch_end) is slow compared to the batch update (0.100901). Check your callbacks.\n",
      "  % (hook_name, delta_t_median), RuntimeWarning)\n"
     ]
    },
    {
     "name": "stdout",
     "output_type": "stream",
     "text": [
      "87006/87006 [==============================] - 29s 329us/step - loss: 1.5641e-06\n",
      "Epoch 51/3000\n",
      "17100/87006 [====>.........................] - ETA: 24s - loss: 1.5341e-06 ETA: 23s - loss: "
     ]
    },
    {
     "name": "stderr",
     "output_type": "stream",
     "text": [
      "C:\\Users\\User\\.conda\\envs\\theano_v1\\lib\\site-packages\\keras\\callbacks\\callbacks.py:95: RuntimeWarning: Method (on_train_batch_end) is slow compared to the batch update (0.133326). Check your callbacks.\n",
      "  % (hook_name, delta_t_median), RuntimeWarning)\n",
      "C:\\Users\\User\\.conda\\envs\\theano_v1\\lib\\site-packages\\keras\\callbacks\\callbacks.py:95: RuntimeWarning: Method (on_train_batch_end) is slow compared to the batch update (0.128316). Check your callbacks.\n",
      "  % (hook_name, delta_t_median), RuntimeWarning)\n"
     ]
    },
    {
     "name": "stdout",
     "output_type": "stream",
     "text": [
      "18900/87006 [=====>........................] - ETA: 23s - loss: 1.5266e-06"
     ]
    },
    {
     "name": "stderr",
     "output_type": "stream",
     "text": [
      "C:\\Users\\User\\.conda\\envs\\theano_v1\\lib\\site-packages\\keras\\callbacks\\callbacks.py:95: RuntimeWarning: Method (on_train_batch_end) is slow compared to the batch update (0.103887). Check your callbacks.\n",
      "  % (hook_name, delta_t_median), RuntimeWarning)\n"
     ]
    },
    {
     "name": "stdout",
     "output_type": "stream",
     "text": [
      "87006/87006 [==============================] - 28s 327us/step - loss: 1.5660e-06\n",
      "Epoch 52/3000\n",
      "87006/87006 [==============================] - 28s 321us/step - loss: 1.5701e-060s - loss: 1.5719e-\n",
      "Epoch 53/3000\n",
      "87006/87006 [==============================] - 26s 298us/step - loss: 1.5613e-06- ETA: 1s - loss\n",
      "Epoch 54/3000\n",
      "87006/87006 [==============================] - 28s 322us/step - loss: 1.5630e-067s - loss: \n",
      "Epoch 55/3000\n",
      "87006/87006 [==============================] - 25s 291us/step - loss: 1.5679e-060s - loss: 1.5680e-\n",
      "Epoch 56/3000\n",
      " 6900/87006 [=>............................] - ETA: 40s - loss: 1.5531e-06"
     ]
    },
    {
     "name": "stderr",
     "output_type": "stream",
     "text": [
      "C:\\Users\\User\\.conda\\envs\\theano_v1\\lib\\site-packages\\keras\\callbacks\\callbacks.py:95: RuntimeWarning: Method (on_train_batch_end) is slow compared to the batch update (0.119064). Check your callbacks.\n",
      "  % (hook_name, delta_t_median), RuntimeWarning)\n"
     ]
    },
    {
     "name": "stdout",
     "output_type": "stream",
     "text": [
      "\b\b\b\b\b\b\b\b\b\b\b\b\b\b\b\b\b\b\b\b\b\b\b\b\b\b\b\b\b\b\b\b\b\b\b\b\b\b\b\b\b\b\b\b\b\b\b\b\b\b\b\b\b\b\b\b\b\b\b\b\b\b\b\b\b\b\b\b\b\b\b\b\b\b\r",
      " 7200/87006 [=>............................] - ETA: 41s - loss: 1.5488e-06"
     ]
    },
    {
     "name": "stderr",
     "output_type": "stream",
     "text": [
      "C:\\Users\\User\\.conda\\envs\\theano_v1\\lib\\site-packages\\keras\\callbacks\\callbacks.py:95: RuntimeWarning: Method (on_train_batch_end) is slow compared to the batch update (0.131624). Check your callbacks.\n",
      "  % (hook_name, delta_t_median), RuntimeWarning)\n"
     ]
    },
    {
     "name": "stdout",
     "output_type": "stream",
     "text": [
      " 8700/87006 [=>............................] - ETA: 39s - loss: 1.5475e-06"
     ]
    },
    {
     "name": "stderr",
     "output_type": "stream",
     "text": [
      "C:\\Users\\User\\.conda\\envs\\theano_v1\\lib\\site-packages\\keras\\callbacks\\callbacks.py:95: RuntimeWarning: Method (on_train_batch_end) is slow compared to the batch update (0.140536). Check your callbacks.\n",
      "  % (hook_name, delta_t_median), RuntimeWarning)\n"
     ]
    },
    {
     "name": "stdout",
     "output_type": "stream",
     "text": [
      " 9900/87006 [==>...........................] - ETA: 35s - loss: 1.5440e-06"
     ]
    },
    {
     "name": "stderr",
     "output_type": "stream",
     "text": [
      "C:\\Users\\User\\.conda\\envs\\theano_v1\\lib\\site-packages\\keras\\callbacks\\callbacks.py:95: RuntimeWarning: Method (on_train_batch_end) is slow compared to the batch update (0.102413). Check your callbacks.\n",
      "  % (hook_name, delta_t_median), RuntimeWarning)\n"
     ]
    },
    {
     "name": "stdout",
     "output_type": "stream",
     "text": [
      "87006/87006 [==============================] - 30s 344us/step - loss: 1.5621e-060s - loss: 1.5619e\n",
      "Epoch 57/3000\n",
      "29100/87006 [=========>....................] - ETA: 21s - loss: 1.5174e-06 ETA: 21s - loss: 1.52"
     ]
    },
    {
     "name": "stderr",
     "output_type": "stream",
     "text": [
      "C:\\Users\\User\\.conda\\envs\\theano_v1\\lib\\site-packages\\keras\\callbacks\\callbacks.py:95: RuntimeWarning: Method (on_train_batch_end) is slow compared to the batch update (0.106493). Check your callbacks.\n",
      "  % (hook_name, delta_t_median), RuntimeWarning)\n",
      "C:\\Users\\User\\.conda\\envs\\theano_v1\\lib\\site-packages\\keras\\callbacks\\callbacks.py:95: RuntimeWarning: Method (on_train_batch_end) is slow compared to the batch update (0.101499). Check your callbacks.\n",
      "  % (hook_name, delta_t_median), RuntimeWarning)\n"
     ]
    },
    {
     "name": "stdout",
     "output_type": "stream",
     "text": [
      "30600/87006 [=========>....................] - ETA: 20s - loss: 1.5069e-06"
     ]
    },
    {
     "name": "stderr",
     "output_type": "stream",
     "text": [
      "C:\\Users\\User\\.conda\\envs\\theano_v1\\lib\\site-packages\\keras\\callbacks\\callbacks.py:95: RuntimeWarning: Method (on_train_batch_end) is slow compared to the batch update (0.100690). Check your callbacks.\n",
      "  % (hook_name, delta_t_median), RuntimeWarning)\n"
     ]
    },
    {
     "name": "stdout",
     "output_type": "stream",
     "text": [
      "87006/87006 [==============================] - 27s 310us/step - loss: 1.5531e-06\n",
      "Epoch 58/3000\n",
      "87006/87006 [==============================] - 28s 326us/step - loss: 1.5643e-062s - \n",
      "Epoch 59/3000\n",
      "  900/87006 [..............................] - ETA: 59s - loss: 1.4019e-06 "
     ]
    },
    {
     "name": "stderr",
     "output_type": "stream",
     "text": [
      "C:\\Users\\User\\.conda\\envs\\theano_v1\\lib\\site-packages\\keras\\callbacks\\callbacks.py:95: RuntimeWarning: Method (on_train_batch_end) is slow compared to the batch update (0.104456). Check your callbacks.\n",
      "  % (hook_name, delta_t_median), RuntimeWarning)\n",
      "C:\\Users\\User\\.conda\\envs\\theano_v1\\lib\\site-packages\\keras\\callbacks\\callbacks.py:95: RuntimeWarning: Method (on_train_batch_end) is slow compared to the batch update (0.248110). Check your callbacks.\n",
      "  % (hook_name, delta_t_median), RuntimeWarning)\n",
      "C:\\Users\\User\\.conda\\envs\\theano_v1\\lib\\site-packages\\keras\\callbacks\\callbacks.py:95: RuntimeWarning: Method (on_train_batch_end) is slow compared to the batch update (0.162107). Check your callbacks.\n",
      "  % (hook_name, delta_t_median), RuntimeWarning)\n"
     ]
    },
    {
     "name": "stdout",
     "output_type": "stream",
     "text": [
      "29700/87006 [=========>....................] - ETA: 19s - loss: 1.5318e-06"
     ]
    },
    {
     "name": "stderr",
     "output_type": "stream",
     "text": [
      "C:\\Users\\User\\.conda\\envs\\theano_v1\\lib\\site-packages\\keras\\callbacks\\callbacks.py:95: RuntimeWarning: Method (on_train_batch_end) is slow compared to the batch update (0.106156). Check your callbacks.\n",
      "  % (hook_name, delta_t_median), RuntimeWarning)\n"
     ]
    },
    {
     "name": "stdout",
     "output_type": "stream",
     "text": [
      "81900/87006 [===========================>..] - ETA: 1s - loss: 1.5655e-06- ETA: 5s - loss: 1. - ETA: 4s - loss: 1.5583e - ETA: 4s "
     ]
    },
    {
     "name": "stderr",
     "output_type": "stream",
     "text": [
      "C:\\Users\\User\\.conda\\envs\\theano_v1\\lib\\site-packages\\keras\\callbacks\\callbacks.py:95: RuntimeWarning: Method (on_train_batch_end) is slow compared to the batch update (0.101165). Check your callbacks.\n",
      "  % (hook_name, delta_t_median), RuntimeWarning)\n"
     ]
    },
    {
     "name": "stdout",
     "output_type": "stream",
     "text": [
      "87006/87006 [==============================] - 29s 332us/step - loss: 1.5616e-06\n",
      "Epoch 60/3000\n",
      "87006/87006 [==============================] - 30s 341us/step - loss: 1.5665e-060s - loss: 1.5665e-0\n",
      "Epoch 61/3000\n",
      "  900/87006 [..............................] - ETA: 36s - loss: 1.6284e-06"
     ]
    },
    {
     "name": "stderr",
     "output_type": "stream",
     "text": [
      "C:\\Users\\User\\.conda\\envs\\theano_v1\\lib\\site-packages\\keras\\callbacks\\callbacks.py:95: RuntimeWarning: Method (on_train_batch_end) is slow compared to the batch update (0.106494). Check your callbacks.\n",
      "  % (hook_name, delta_t_median), RuntimeWarning)\n"
     ]
    },
    {
     "name": "stdout",
     "output_type": "stream",
     "text": [
      "87006/87006 [==============================] - 30s 339us/step - loss: 1.5615e-06\n",
      "Epoch 62/3000\n",
      "87006/87006 [==============================] - 29s 329us/step - loss: 1.5644e-06\n",
      "Epoch 63/3000\n",
      "18000/87006 [=====>........................] - ETA: 28s - loss: 1.5369e-06"
     ]
    },
    {
     "name": "stderr",
     "output_type": "stream",
     "text": [
      "C:\\Users\\User\\.conda\\envs\\theano_v1\\lib\\site-packages\\keras\\callbacks\\callbacks.py:95: RuntimeWarning: Method (on_train_batch_end) is slow compared to the batch update (0.115176). Check your callbacks.\n",
      "  % (hook_name, delta_t_median), RuntimeWarning)\n"
     ]
    },
    {
     "name": "stdout",
     "output_type": "stream",
     "text": [
      "19800/87006 [=====>........................] - ETA: 27s - loss: 1.5278e-06 ETA: 27s - loss: 1.5226"
     ]
    },
    {
     "name": "stderr",
     "output_type": "stream",
     "text": [
      "C:\\Users\\User\\.conda\\envs\\theano_v1\\lib\\site-packages\\keras\\callbacks\\callbacks.py:95: RuntimeWarning: Method (on_train_batch_end) is slow compared to the batch update (0.127648). Check your callbacks.\n",
      "  % (hook_name, delta_t_median), RuntimeWarning)\n",
      "C:\\Users\\User\\.conda\\envs\\theano_v1\\lib\\site-packages\\keras\\callbacks\\callbacks.py:95: RuntimeWarning: Method (on_train_batch_end) is slow compared to the batch update (0.104939). Check your callbacks.\n",
      "  % (hook_name, delta_t_median), RuntimeWarning)\n"
     ]
    },
    {
     "name": "stdout",
     "output_type": "stream",
     "text": [
      "20400/87006 [======>.......................] - ETA: 27s - loss: 1.5247e-06"
     ]
    },
    {
     "name": "stderr",
     "output_type": "stream",
     "text": [
      "C:\\Users\\User\\.conda\\envs\\theano_v1\\lib\\site-packages\\keras\\callbacks\\callbacks.py:95: RuntimeWarning: Method (on_train_batch_end) is slow compared to the batch update (0.104126). Check your callbacks.\n",
      "  % (hook_name, delta_t_median), RuntimeWarning)\n"
     ]
    },
    {
     "name": "stdout",
     "output_type": "stream",
     "text": [
      "87006/87006 [==============================] - 32s 363us/step - loss: 1.5659e-06\n",
      "Epoch 64/3000\n",
      "11700/87006 [===>..........................] - ETA: 36s - loss: 1.5667e-06"
     ]
    },
    {
     "name": "stderr",
     "output_type": "stream",
     "text": [
      "C:\\Users\\User\\.conda\\envs\\theano_v1\\lib\\site-packages\\keras\\callbacks\\callbacks.py:95: RuntimeWarning: Method (on_train_batch_end) is slow compared to the batch update (0.107201). Check your callbacks.\n",
      "  % (hook_name, delta_t_median), RuntimeWarning)\n"
     ]
    },
    {
     "name": "stdout",
     "output_type": "stream",
     "text": [
      "87006/87006 [==============================] - 30s 346us/step - loss: 1.5677e-060s - loss: 1\n",
      "Epoch 65/3000\n",
      "12900/87006 [===>..........................] - ETA: 17s - loss: 1.5467e-06 ETA: 13s "
     ]
    },
    {
     "name": "stderr",
     "output_type": "stream",
     "text": [
      "C:\\Users\\User\\.conda\\envs\\theano_v1\\lib\\site-packages\\keras\\callbacks\\callbacks.py:95: RuntimeWarning: Method (on_train_batch_end) is slow compared to the batch update (0.102414). Check your callbacks.\n",
      "  % (hook_name, delta_t_median), RuntimeWarning)\n"
     ]
    },
    {
     "name": "stdout",
     "output_type": "stream",
     "text": [
      "\b\b\b\b\b\b\b\b\b\b\b\b\b\b\b\b\b\b\b\b\b\b\b\b\b\b\b\b\b\b\b\b\b\b\b\b\b\b\b\b\b\b\b\b\b\b\b\b\b\b\b\b\b\b\b\b\b\b\b\b\b\b\b\b\b\b\b\b\b\b\b\b\b\b\r",
      "13200/87006 [===>..........................] - ETA: 18s - loss: 1.5553e-06"
     ]
    },
    {
     "name": "stderr",
     "output_type": "stream",
     "text": [
      "C:\\Users\\User\\.conda\\envs\\theano_v1\\lib\\site-packages\\keras\\callbacks\\callbacks.py:95: RuntimeWarning: Method (on_train_batch_end) is slow compared to the batch update (0.109094). Check your callbacks.\n",
      "  % (hook_name, delta_t_median), RuntimeWarning)\n"
     ]
    },
    {
     "name": "stdout",
     "output_type": "stream",
     "text": [
      "49500/87006 [================>.............] - ETA: 14s - loss: 1.5666e-06"
     ]
    },
    {
     "name": "stderr",
     "output_type": "stream",
     "text": [
      "C:\\Users\\User\\.conda\\envs\\theano_v1\\lib\\site-packages\\keras\\callbacks\\callbacks.py:95: RuntimeWarning: Method (on_train_batch_end) is slow compared to the batch update (0.104684). Check your callbacks.\n",
      "  % (hook_name, delta_t_median), RuntimeWarning)\n"
     ]
    },
    {
     "name": "stdout",
     "output_type": "stream",
     "text": [
      "50400/87006 [================>.............] - ETA: 13s - loss: 1.5702e-06"
     ]
    },
    {
     "name": "stderr",
     "output_type": "stream",
     "text": [
      "C:\\Users\\User\\.conda\\envs\\theano_v1\\lib\\site-packages\\keras\\callbacks\\callbacks.py:95: RuntimeWarning: Method (on_train_batch_end) is slow compared to the batch update (0.105351). Check your callbacks.\n",
      "  % (hook_name, delta_t_median), RuntimeWarning)\n"
     ]
    },
    {
     "name": "stdout",
     "output_type": "stream",
     "text": [
      "87006/87006 [==============================] - 31s 359us/step - loss: 1.5594e-061s - l\n",
      "Epoch 66/3000\n",
      "  600/87006 [..............................] - ETA: 41s - loss: 1.3308e-06"
     ]
    },
    {
     "name": "stderr",
     "output_type": "stream",
     "text": [
      "C:\\Users\\User\\.conda\\envs\\theano_v1\\lib\\site-packages\\keras\\callbacks\\callbacks.py:95: RuntimeWarning: Method (on_train_batch_end) is slow compared to the batch update (0.112063). Check your callbacks.\n",
      "  % (hook_name, delta_t_median), RuntimeWarning)\n"
     ]
    },
    {
     "name": "stdout",
     "output_type": "stream",
     "text": [
      "87006/87006 [==============================] - 31s 360us/step - loss: 1.5602e-060s - loss: 1.5643\n",
      "Epoch 67/3000\n",
      "23400/87006 [=======>......................] - ETA: 28s - loss: 1.6569e-06"
     ]
    },
    {
     "name": "stderr",
     "output_type": "stream",
     "text": [
      "C:\\Users\\User\\.conda\\envs\\theano_v1\\lib\\site-packages\\keras\\callbacks\\callbacks.py:95: RuntimeWarning: Method (on_train_batch_end) is slow compared to the batch update (0.117344). Check your callbacks.\n",
      "  % (hook_name, delta_t_median), RuntimeWarning)\n"
     ]
    },
    {
     "name": "stdout",
     "output_type": "stream",
     "text": [
      "24600/87006 [=======>......................] - ETA: 28s - loss: 1.6631e-06"
     ]
    },
    {
     "name": "stderr",
     "output_type": "stream",
     "text": [
      "C:\\Users\\User\\.conda\\envs\\theano_v1\\lib\\site-packages\\keras\\callbacks\\callbacks.py:95: RuntimeWarning: Method (on_train_batch_end) is slow compared to the batch update (0.114551). Check your callbacks.\n",
      "  % (hook_name, delta_t_median), RuntimeWarning)\n"
     ]
    },
    {
     "name": "stdout",
     "output_type": "stream",
     "text": [
      "42000/87006 [=============>................] - ETA: 20s - loss: 1.5867e-06"
     ]
    },
    {
     "name": "stderr",
     "output_type": "stream",
     "text": [
      "C:\\Users\\User\\.conda\\envs\\theano_v1\\lib\\site-packages\\keras\\callbacks\\callbacks.py:95: RuntimeWarning: Method (on_train_batch_end) is slow compared to the batch update (0.118675). Check your callbacks.\n",
      "  % (hook_name, delta_t_median), RuntimeWarning)\n"
     ]
    },
    {
     "name": "stdout",
     "output_type": "stream",
     "text": [
      "43200/87006 [=============>................] - ETA: 20s - loss: 1.5843e-06"
     ]
    },
    {
     "name": "stderr",
     "output_type": "stream",
     "text": [
      "C:\\Users\\User\\.conda\\envs\\theano_v1\\lib\\site-packages\\keras\\callbacks\\callbacks.py:95: RuntimeWarning: Method (on_train_batch_end) is slow compared to the batch update (0.116746). Check your callbacks.\n",
      "  % (hook_name, delta_t_median), RuntimeWarning)\n"
     ]
    },
    {
     "name": "stdout",
     "output_type": "stream",
     "text": [
      "87006/87006 [==============================] - 36s 416us/step - loss: 1.5591e-060s - loss: 1.56\n",
      "Epoch 68/3000\n",
      "  600/87006 [..............................] - ETA: 34s - loss: 9.5464e- - ETA: 35s - loss: 1.5238e-06"
     ]
    },
    {
     "name": "stderr",
     "output_type": "stream",
     "text": [
      "C:\\Users\\User\\.conda\\envs\\theano_v1\\lib\\site-packages\\keras\\callbacks\\callbacks.py:95: RuntimeWarning: Method (on_train_batch_end) is slow compared to the batch update (0.102691). Check your callbacks.\n",
      "  % (hook_name, delta_t_median), RuntimeWarning)\n"
     ]
    },
    {
     "name": "stdout",
     "output_type": "stream",
     "text": [
      "12900/87006 [===>..........................] - ETA: 31s - loss: 1.5227e-\r"
     ]
    },
    {
     "name": "stderr",
     "output_type": "stream",
     "text": [
      "C:\\Users\\User\\.conda\\envs\\theano_v1\\lib\\site-packages\\keras\\callbacks\\callbacks.py:95: RuntimeWarning: Method (on_train_batch_end) is slow compared to the batch update (0.102846). Check your callbacks.\n",
      "  % (hook_name, delta_t_median), RuntimeWarning)\n"
     ]
    },
    {
     "name": "stdout",
     "output_type": "stream",
     "text": [
      "13800/87006 [===>..........................] - ETA: 31s - loss: 1.5127e-06"
     ]
    },
    {
     "name": "stderr",
     "output_type": "stream",
     "text": [
      "C:\\Users\\User\\.conda\\envs\\theano_v1\\lib\\site-packages\\keras\\callbacks\\callbacks.py:95: RuntimeWarning: Method (on_train_batch_end) is slow compared to the batch update (0.112170). Check your callbacks.\n",
      "  % (hook_name, delta_t_median), RuntimeWarning)\n"
     ]
    },
    {
     "name": "stdout",
     "output_type": "stream",
     "text": [
      "87006/87006 [==============================] - 31s 360us/step - loss: 1.5626e-06\n",
      "Epoch 69/3000\n",
      "78600/87006 [==========================>...] - ETA: 2s - loss: 1.5704e-06"
     ]
    },
    {
     "name": "stderr",
     "output_type": "stream",
     "text": [
      "C:\\Users\\User\\.conda\\envs\\theano_v1\\lib\\site-packages\\keras\\callbacks\\callbacks.py:95: RuntimeWarning: Method (on_train_batch_end) is slow compared to the batch update (0.108524). Check your callbacks.\n",
      "  % (hook_name, delta_t_median), RuntimeWarning)\n"
     ]
    },
    {
     "name": "stdout",
     "output_type": "stream",
     "text": [
      "87006/87006 [==============================] - 28s 323us/step - loss: 1.5636e-060s - loss: 1.5636e-0\n",
      "Epoch 70/3000\n",
      "33300/87006 [==========>...................] - ETA: 19s - loss: 1.6051e-06 ETA: 18s - loss - ETA: 18s  - ETA: 19s - loss: 1.6096e-"
     ]
    },
    {
     "name": "stderr",
     "output_type": "stream",
     "text": [
      "C:\\Users\\User\\.conda\\envs\\theano_v1\\lib\\site-packages\\keras\\callbacks\\callbacks.py:95: RuntimeWarning: Method (on_train_batch_end) is slow compared to the batch update (0.112214). Check your callbacks.\n",
      "  % (hook_name, delta_t_median), RuntimeWarning)\n",
      "C:\\Users\\User\\.conda\\envs\\theano_v1\\lib\\site-packages\\keras\\callbacks\\callbacks.py:95: RuntimeWarning: Method (on_train_batch_end) is slow compared to the batch update (0.104542). Check your callbacks.\n",
      "  % (hook_name, delta_t_median), RuntimeWarning)\n"
     ]
    },
    {
     "name": "stdout",
     "output_type": "stream",
     "text": [
      "35100/87006 [===========>..................] - ETA: 18s - loss: 1.5880e-06 ETA: 19s - loss: 1."
     ]
    },
    {
     "name": "stderr",
     "output_type": "stream",
     "text": [
      "C:\\Users\\User\\.conda\\envs\\theano_v1\\lib\\site-packages\\keras\\callbacks\\callbacks.py:95: RuntimeWarning: Method (on_train_batch_end) is slow compared to the batch update (0.100268). Check your callbacks.\n",
      "  % (hook_name, delta_t_median), RuntimeWarning)\n"
     ]
    },
    {
     "name": "stdout",
     "output_type": "stream",
     "text": [
      "38700/87006 [============>.................] - ETA: 18s - loss: 1.5948e-06"
     ]
    },
    {
     "name": "stderr",
     "output_type": "stream",
     "text": [
      "C:\\Users\\User\\.conda\\envs\\theano_v1\\lib\\site-packages\\keras\\callbacks\\callbacks.py:95: RuntimeWarning: Method (on_train_batch_end) is slow compared to the batch update (0.124799). Check your callbacks.\n",
      "  % (hook_name, delta_t_median), RuntimeWarning)\n"
     ]
    },
    {
     "name": "stdout",
     "output_type": "stream",
     "text": [
      "41100/87006 [=============>................] - ETA: 16s - loss: 1.5962e-06"
     ]
    },
    {
     "name": "stderr",
     "output_type": "stream",
     "text": [
      "C:\\Users\\User\\.conda\\envs\\theano_v1\\lib\\site-packages\\keras\\callbacks\\callbacks.py:95: RuntimeWarning: Method (on_train_batch_end) is slow compared to the batch update (0.132486). Check your callbacks.\n",
      "  % (hook_name, delta_t_median), RuntimeWarning)\n"
     ]
    },
    {
     "name": "stdout",
     "output_type": "stream",
     "text": [
      "87006/87006 [==============================] - 29s 328us/step - loss: 1.5571e-06\n",
      "Epoch 71/3000\n",
      "87006/87006 [==============================] - 30s 343us/step - loss: 1.5655e-06\n",
      "Epoch 72/3000\n",
      "46500/87006 [===============>..............] - ETA: 13s - loss: 1.5959e-06 ETA: 13s - loss: 1."
     ]
    },
    {
     "name": "stderr",
     "output_type": "stream",
     "text": [
      "C:\\Users\\User\\.conda\\envs\\theano_v1\\lib\\site-packages\\keras\\callbacks\\callbacks.py:95: RuntimeWarning: Method (on_train_batch_end) is slow compared to the batch update (0.101312). Check your callbacks.\n",
      "  % (hook_name, delta_t_median), RuntimeWarning)\n"
     ]
    },
    {
     "name": "stdout",
     "output_type": "stream",
     "text": [
      "47100/87006 [===============>..............] - ETA: 13s - loss: 1.5972e- - ETA: 13s - loss: 1.5935e-06"
     ]
    },
    {
     "name": "stderr",
     "output_type": "stream",
     "text": [
      "C:\\Users\\User\\.conda\\envs\\theano_v1\\lib\\site-packages\\keras\\callbacks\\callbacks.py:95: RuntimeWarning: Method (on_train_batch_end) is slow compared to the batch update (0.109333). Check your callbacks.\n",
      "  % (hook_name, delta_t_median), RuntimeWarning)\n"
     ]
    },
    {
     "name": "stdout",
     "output_type": "stream",
     "text": [
      "87006/87006 [==============================] - 28s 326us/step - loss: 1.5852e-06\n",
      "Epoch 73/3000\n",
      "87006/87006 [==============================] - 28s 317us/step - loss: 1.5711e-060s - loss: 1.5712e-0\n",
      "Epoch 74/3000\n",
      "37800/87006 [============>.................] - ETA: 16s - loss: 1.5192e-06"
     ]
    },
    {
     "name": "stderr",
     "output_type": "stream",
     "text": [
      "C:\\Users\\User\\.conda\\envs\\theano_v1\\lib\\site-packages\\keras\\callbacks\\callbacks.py:95: RuntimeWarning: Method (on_train_batch_end) is slow compared to the batch update (0.102695). Check your callbacks.\n",
      "  % (hook_name, delta_t_median), RuntimeWarning)\n",
      "C:\\Users\\User\\.conda\\envs\\theano_v1\\lib\\site-packages\\keras\\callbacks\\callbacks.py:95: RuntimeWarning: Method (on_train_batch_end) is slow compared to the batch update (0.106710). Check your callbacks.\n",
      "  % (hook_name, delta_t_median), RuntimeWarning)\n"
     ]
    },
    {
     "name": "stdout",
     "output_type": "stream",
     "text": [
      "38400/87006 [============>.................] - ETA: 16s - loss: 1.5156e-06"
     ]
    },
    {
     "name": "stderr",
     "output_type": "stream",
     "text": [
      "C:\\Users\\User\\.conda\\envs\\theano_v1\\lib\\site-packages\\keras\\callbacks\\callbacks.py:95: RuntimeWarning: Method (on_train_batch_end) is slow compared to the batch update (0.106587). Check your callbacks.\n",
      "  % (hook_name, delta_t_median), RuntimeWarning)\n"
     ]
    },
    {
     "name": "stdout",
     "output_type": "stream",
     "text": [
      "87006/87006 [==============================] - 28s 326us/step - loss: 1.5590e-06\n",
      "Epoch 75/3000\n",
      "42300/87006 [=============>................] - ETA: 12s - loss: 1.5405e-06 ETA: 12s - loss: 1.5464"
     ]
    },
    {
     "name": "stderr",
     "output_type": "stream",
     "text": [
      "C:\\Users\\User\\.conda\\envs\\theano_v1\\lib\\site-packages\\keras\\callbacks\\callbacks.py:95: RuntimeWarning: Method (on_train_batch_end) is slow compared to the batch update (0.105925). Check your callbacks.\n",
      "  % (hook_name, delta_t_median), RuntimeWarning)\n",
      "C:\\Users\\User\\.conda\\envs\\theano_v1\\lib\\site-packages\\keras\\callbacks\\callbacks.py:95: RuntimeWarning: Method (on_train_batch_end) is slow compared to the batch update (0.128049). Check your callbacks.\n",
      "  % (hook_name, delta_t_median), RuntimeWarning)\n"
     ]
    },
    {
     "name": "stdout",
     "output_type": "stream",
     "text": [
      "43800/87006 [==============>...............] - ETA: 12s - loss: 1.5344e-06"
     ]
    },
    {
     "name": "stderr",
     "output_type": "stream",
     "text": [
      "C:\\Users\\User\\.conda\\envs\\theano_v1\\lib\\site-packages\\keras\\callbacks\\callbacks.py:95: RuntimeWarning: Method (on_train_batch_end) is slow compared to the batch update (0.130414). Check your callbacks.\n",
      "  % (hook_name, delta_t_median), RuntimeWarning)\n"
     ]
    },
    {
     "name": "stdout",
     "output_type": "stream",
     "text": [
      "87006/87006 [==============================] - 26s 294us/step - loss: 1.5629e-061s - loss: - ETA: 0s - loss: 1.\n",
      "Epoch 76/3000\n",
      "25800/87006 [=======>......................] - ETA: 21s - loss: 1.5500e-06"
     ]
    },
    {
     "name": "stderr",
     "output_type": "stream",
     "text": [
      "C:\\Users\\User\\.conda\\envs\\theano_v1\\lib\\site-packages\\keras\\callbacks\\callbacks.py:95: RuntimeWarning: Method (on_train_batch_end) is slow compared to the batch update (0.107777). Check your callbacks.\n",
      "  % (hook_name, delta_t_median), RuntimeWarning)\n"
     ]
    },
    {
     "name": "stdout",
     "output_type": "stream",
     "text": [
      "87006/87006 [==============================] - 27s 310us/step - loss: 1.5571e-06\n",
      "Epoch 77/3000\n",
      "44400/87006 [==============>...............] - ETA: 13s - loss: 1.4756e-06"
     ]
    },
    {
     "name": "stderr",
     "output_type": "stream",
     "text": [
      "C:\\Users\\User\\.conda\\envs\\theano_v1\\lib\\site-packages\\keras\\callbacks\\callbacks.py:95: RuntimeWarning: Method (on_train_batch_end) is slow compared to the batch update (0.107264). Check your callbacks.\n",
      "  % (hook_name, delta_t_median), RuntimeWarning)\n"
     ]
    },
    {
     "name": "stdout",
     "output_type": "stream",
     "text": [
      "87006/87006 [==============================] - 28s 316us/step - loss: 1.5599e-06\n",
      "Epoch 78/3000\n",
      "87006/87006 [==============================] - 25s 284us/step - loss: 1.5623e-06\n",
      "Epoch 79/3000\n",
      "  600/87006 [..............................] - ETA: 36s - loss: 1.7096e-06"
     ]
    },
    {
     "name": "stderr",
     "output_type": "stream",
     "text": [
      "C:\\Users\\User\\.conda\\envs\\theano_v1\\lib\\site-packages\\keras\\callbacks\\callbacks.py:95: RuntimeWarning: Method (on_train_batch_end) is slow compared to the batch update (0.127926). Check your callbacks.\n",
      "  % (hook_name, delta_t_median), RuntimeWarning)\n",
      "C:\\Users\\User\\.conda\\envs\\theano_v1\\lib\\site-packages\\keras\\callbacks\\callbacks.py:95: RuntimeWarning: Method (on_train_batch_end) is slow compared to the batch update (0.125259). Check your callbacks.\n",
      "  % (hook_name, delta_t_median), RuntimeWarning)\n"
     ]
    },
    {
     "name": "stdout",
     "output_type": "stream",
     "text": [
      " 1200/87006 [..............................] - ETA: 36s - loss: 1.5059e-06"
     ]
    },
    {
     "name": "stderr",
     "output_type": "stream",
     "text": [
      "C:\\Users\\User\\.conda\\envs\\theano_v1\\lib\\site-packages\\keras\\callbacks\\callbacks.py:95: RuntimeWarning: Method (on_train_batch_end) is slow compared to the batch update (0.122592). Check your callbacks.\n",
      "  % (hook_name, delta_t_median), RuntimeWarning)\n"
     ]
    },
    {
     "name": "stdout",
     "output_type": "stream",
     "text": [
      "87006/87006 [==============================] - 26s 294us/step - loss: 1.5621e-064 - ETA: 2s - loss: 1.57 - ETA: \n",
      "Epoch 80/3000\n",
      "87006/87006 [==============================] - 25s 289us/step - loss: 1.5636e-06\n",
      "Epoch 81/3000\n",
      "75900/87006 [=========================>....] - ETA: 3s - loss: 1.5637e-06"
     ]
    },
    {
     "name": "stderr",
     "output_type": "stream",
     "text": [
      "C:\\Users\\User\\.conda\\envs\\theano_v1\\lib\\site-packages\\keras\\callbacks\\callbacks.py:95: RuntimeWarning: Method (on_train_batch_end) is slow compared to the batch update (0.103557). Check your callbacks.\n",
      "  % (hook_name, delta_t_median), RuntimeWarning)\n"
     ]
    },
    {
     "name": "stdout",
     "output_type": "stream",
     "text": [
      "87006/87006 [==============================] - 25s 293us/step - loss: 1.5681e-060s - loss: 1.5579\n",
      "Epoch 82/3000\n",
      "87006/87006 [==============================] - 28s 319us/step - loss: 1.5626e-06\n",
      "Epoch 83/3000\n",
      "87006/87006 [==============================] - 28s 318us/step - loss: 1.5633e-06\n",
      "Epoch 84/3000\n",
      "87006/87006 [==============================] - 28s 325us/step - loss: 1.5812e-06\n",
      "Epoch 85/3000\n",
      " 1200/87006 [..............................] - ETA: 37s - loss: 1.3077e-06"
     ]
    },
    {
     "name": "stderr",
     "output_type": "stream",
     "text": [
      "C:\\Users\\User\\.conda\\envs\\theano_v1\\lib\\site-packages\\keras\\callbacks\\callbacks.py:95: RuntimeWarning: Method (on_train_batch_end) is slow compared to the batch update (0.100959). Check your callbacks.\n",
      "  % (hook_name, delta_t_median), RuntimeWarning)\n"
     ]
    },
    {
     "name": "stdout",
     "output_type": "stream",
     "text": [
      "87006/87006 [==============================] - 28s 323us/step - loss: 1.5584e-061s -\n",
      "Epoch 86/3000\n",
      "  600/87006 [..............................] - ETA: 32s - loss: 1.3160e-06"
     ]
    },
    {
     "name": "stderr",
     "output_type": "stream",
     "text": [
      "C:\\Users\\User\\.conda\\envs\\theano_v1\\lib\\site-packages\\keras\\callbacks\\callbacks.py:95: RuntimeWarning: Method (on_train_batch_end) is slow compared to the batch update (0.115857). Check your callbacks.\n",
      "  % (hook_name, delta_t_median), RuntimeWarning)\n",
      "C:\\Users\\User\\.conda\\envs\\theano_v1\\lib\\site-packages\\keras\\callbacks\\callbacks.py:95: RuntimeWarning: Method (on_train_batch_end) is slow compared to the batch update (0.124290). Check your callbacks.\n",
      "  % (hook_name, delta_t_median), RuntimeWarning)\n"
     ]
    },
    {
     "name": "stdout",
     "output_type": "stream",
     "text": [
      "87006/87006 [==============================] - 30s 343us/step - loss: 1.5599e-06\n",
      "Epoch 87/3000\n",
      "87006/87006 [==============================] - 25s 293us/step - loss: 1.5580e-06 - ETA: 0s - loss: \n",
      "Epoch 88/3000\n",
      "51000/87006 [================>.............] - ETA: 13s - loss: 1.6374e-06"
     ]
    },
    {
     "name": "stderr",
     "output_type": "stream",
     "text": [
      "C:\\Users\\User\\.conda\\envs\\theano_v1\\lib\\site-packages\\keras\\callbacks\\callbacks.py:95: RuntimeWarning: Method (on_train_batch_end) is slow compared to the batch update (0.111431). Check your callbacks.\n",
      "  % (hook_name, delta_t_median), RuntimeWarning)\n"
     ]
    },
    {
     "name": "stdout",
     "output_type": "stream",
     "text": [
      "87006/87006 [==============================] - 31s 361us/step - loss: 1.5595e-0610s -   - ETA: 1s - loss: \n",
      "Epoch 89/3000\n",
      "  600/87006 [..............................] - ETA: 1:06 - loss: 1.0954e-06"
     ]
    },
    {
     "name": "stderr",
     "output_type": "stream",
     "text": [
      "C:\\Users\\User\\.conda\\envs\\theano_v1\\lib\\site-packages\\keras\\callbacks\\callbacks.py:95: RuntimeWarning: Method (on_train_batch_end) is slow compared to the batch update (0.186162). Check your callbacks.\n",
      "  % (hook_name, delta_t_median), RuntimeWarning)\n"
     ]
    },
    {
     "name": "stdout",
     "output_type": "stream",
     "text": [
      " 1500/87006 [..............................] - ETA: 1:00 - loss: 1.3134e-06"
     ]
    },
    {
     "name": "stderr",
     "output_type": "stream",
     "text": [
      "C:\\Users\\User\\.conda\\envs\\theano_v1\\lib\\site-packages\\keras\\callbacks\\callbacks.py:95: RuntimeWarning: Method (on_train_batch_end) is slow compared to the batch update (0.199639). Check your callbacks.\n",
      "  % (hook_name, delta_t_median), RuntimeWarning)\n",
      "C:\\Users\\User\\.conda\\envs\\theano_v1\\lib\\site-packages\\keras\\callbacks\\callbacks.py:95: RuntimeWarning: Method (on_train_batch_end) is slow compared to the batch update (0.146806). Check your callbacks.\n",
      "  % (hook_name, delta_t_median), RuntimeWarning)\n"
     ]
    },
    {
     "name": "stdout",
     "output_type": "stream",
     "text": [
      "87006/87006 [==============================] - 31s 352us/step - loss: 1.5583e-06\n",
      "Epoch 90/3000\n",
      "87006/87006 [==============================] - 30s 340us/step - loss: 1.5674e-06\n",
      "Epoch 91/3000\n",
      "87006/87006 [==============================] - 27s 315us/step - loss: 1.5569e-06\n",
      "Epoch 92/3000\n",
      "76200/87006 [=========================>....] - ETA: 3s - loss: 1.5656e-06"
     ]
    },
    {
     "name": "stderr",
     "output_type": "stream",
     "text": [
      "C:\\Users\\User\\.conda\\envs\\theano_v1\\lib\\site-packages\\keras\\callbacks\\callbacks.py:95: RuntimeWarning: Method (on_train_batch_end) is slow compared to the batch update (0.102858). Check your callbacks.\n",
      "  % (hook_name, delta_t_median), RuntimeWarning)\n",
      "C:\\Users\\User\\.conda\\envs\\theano_v1\\lib\\site-packages\\keras\\callbacks\\callbacks.py:95: RuntimeWarning: Method (on_train_batch_end) is slow compared to the batch update (0.102531). Check your callbacks.\n",
      "  % (hook_name, delta_t_median), RuntimeWarning)\n"
     ]
    },
    {
     "name": "stdout",
     "output_type": "stream",
     "text": [
      "87006/87006 [==============================] - 27s 311us/step - loss: 1.5614e-06\n",
      "Epoch 93/3000\n",
      "87006/87006 [==============================] - 28s 321us/step - loss: 1.5644e-06\n",
      "Epoch 94/3000\n",
      "61800/87006 [====================>.........] - ETA: 8s - loss: 1.5172e-06"
     ]
    },
    {
     "name": "stderr",
     "output_type": "stream",
     "text": [
      "C:\\Users\\User\\.conda\\envs\\theano_v1\\lib\\site-packages\\keras\\callbacks\\callbacks.py:95: RuntimeWarning: Method (on_train_batch_end) is slow compared to the batch update (0.101414). Check your callbacks.\n",
      "  % (hook_name, delta_t_median), RuntimeWarning)\n",
      "C:\\Users\\User\\.conda\\envs\\theano_v1\\lib\\site-packages\\keras\\callbacks\\callbacks.py:95: RuntimeWarning: Method (on_train_batch_end) is slow compared to the batch update (0.107173). Check your callbacks.\n",
      "  % (hook_name, delta_t_median), RuntimeWarning)\n"
     ]
    },
    {
     "name": "stdout",
     "output_type": "stream",
     "text": [
      "87006/87006 [==============================] - 28s 322us/step - loss: 1.5621e-06\n",
      "Epoch 95/3000\n",
      "87006/87006 [==============================] - 29s 337us/step - loss: 1.5654e-06\n",
      "Epoch 96/3000\n",
      "87006/87006 [==============================] - ETA: 0s - loss: 1.5606e-06- ETA: 2s  - ETA: 0s - loss: 1 - 25s 292us/step - loss: 1.5605e-06\n",
      "Epoch 97/3000\n",
      " 5400/87006 [>.............................] - ETA: 31s - loss: 1.3962e-06 ETA: 28s - loss: 1.44"
     ]
    },
    {
     "name": "stderr",
     "output_type": "stream",
     "text": [
      "C:\\Users\\User\\.conda\\envs\\theano_v1\\lib\\site-packages\\keras\\callbacks\\callbacks.py:95: RuntimeWarning: Method (on_train_batch_end) is slow compared to the batch update (0.105711). Check your callbacks.\n",
      "  % (hook_name, delta_t_median), RuntimeWarning)\n"
     ]
    },
    {
     "name": "stdout",
     "output_type": "stream",
     "text": [
      "38400/87006 [============>.................] - ETA: 18s - loss: 1.5160e-06"
     ]
    },
    {
     "name": "stderr",
     "output_type": "stream",
     "text": [
      "C:\\Users\\User\\.conda\\envs\\theano_v1\\lib\\site-packages\\keras\\callbacks\\callbacks.py:95: RuntimeWarning: Method (on_train_batch_end) is slow compared to the batch update (0.112202). Check your callbacks.\n",
      "  % (hook_name, delta_t_median), RuntimeWarning)\n"
     ]
    },
    {
     "name": "stdout",
     "output_type": "stream",
     "text": [
      "76500/87006 [=========================>....] - ETA: 3s - loss: 1.5480e-06- ETA: 6s - loss:  - ETA: 5s"
     ]
    },
    {
     "name": "stderr",
     "output_type": "stream",
     "text": [
      "C:\\Users\\User\\.conda\\envs\\theano_v1\\lib\\site-packages\\keras\\callbacks\\callbacks.py:95: RuntimeWarning: Method (on_train_batch_end) is slow compared to the batch update (0.102288). Check your callbacks.\n",
      "  % (hook_name, delta_t_median), RuntimeWarning)\n"
     ]
    },
    {
     "name": "stdout",
     "output_type": "stream",
     "text": [
      "77100/87006 [=========================>....] - ETA: 3s - loss: 1.5487e-06"
     ]
    },
    {
     "name": "stderr",
     "output_type": "stream",
     "text": [
      "C:\\Users\\User\\.conda\\envs\\theano_v1\\lib\\site-packages\\keras\\callbacks\\callbacks.py:95: RuntimeWarning: Method (on_train_batch_end) is slow compared to the batch update (0.101547). Check your callbacks.\n",
      "  % (hook_name, delta_t_median), RuntimeWarning)\n"
     ]
    },
    {
     "name": "stdout",
     "output_type": "stream",
     "text": [
      "87006/87006 [==============================] - 31s 356us/step - loss: 1.5536e-060s - loss: 1.5554\n",
      "Epoch 98/3000\n",
      "87006/87006 [==============================] - ETA: 0s - loss: 1.5591e-0 - 23s 267us/step - loss: 1.5606e-06\n",
      "Epoch 99/3000\n",
      " 1500/87006 [..............................] - ETA: 26s - loss: 1.6262e-06"
     ]
    },
    {
     "name": "stderr",
     "output_type": "stream",
     "text": [
      "C:\\Users\\User\\.conda\\envs\\theano_v1\\lib\\site-packages\\keras\\callbacks\\callbacks.py:95: RuntimeWarning: Method (on_train_batch_end) is slow compared to the batch update (0.113610). Check your callbacks.\n",
      "  % (hook_name, delta_t_median), RuntimeWarning)\n"
     ]
    },
    {
     "name": "stdout",
     "output_type": "stream",
     "text": [
      "87006/87006 [==============================] - 26s 294us/step - loss: 1.5620e-06\n",
      "Epoch 100/3000\n",
      "81600/87006 [===========================>..] - ETA: 1s - loss: 1.5659e-0\r"
     ]
    },
    {
     "name": "stderr",
     "output_type": "stream",
     "text": [
      "C:\\Users\\User\\.conda\\envs\\theano_v1\\lib\\site-packages\\keras\\callbacks\\callbacks.py:95: RuntimeWarning: Method (on_train_batch_end) is slow compared to the batch update (0.102748). Check your callbacks.\n",
      "  % (hook_name, delta_t_median), RuntimeWarning)\n"
     ]
    },
    {
     "name": "stdout",
     "output_type": "stream",
     "text": [
      "87006/87006 [==============================] - 28s 327us/step - loss: 1.5628e-06 - val_loss: 1.8007e-06\n",
      "Epoch 101/3000\n",
      " 6600/87006 [=>............................] - ETA: 25s - loss: 1.5979e-06 ETA: 22s - loss: "
     ]
    },
    {
     "name": "stderr",
     "output_type": "stream",
     "text": [
      "C:\\Users\\User\\.conda\\envs\\theano_v1\\lib\\site-packages\\keras\\callbacks\\callbacks.py:95: RuntimeWarning: Method (on_train_batch_end) is slow compared to the batch update (0.101369). Check your callbacks.\n",
      "  % (hook_name, delta_t_median), RuntimeWarning)\n",
      "C:\\Users\\User\\.conda\\envs\\theano_v1\\lib\\site-packages\\keras\\callbacks\\callbacks.py:95: RuntimeWarning: Method (on_train_batch_end) is slow compared to the batch update (0.104281). Check your callbacks.\n",
      "  % (hook_name, delta_t_median), RuntimeWarning)\n"
     ]
    },
    {
     "name": "stdout",
     "output_type": "stream",
     "text": [
      "87006/87006 [==============================] - 26s 303us/step - loss: 1.5613e-061s - loss: 1.56 - ETA: 0s - loss: 1.562\n",
      "Epoch 102/3000\n",
      "87006/87006 [==============================] - 28s 322us/step - loss: 1.5671e-060s - loss: 1.5679e-\n",
      "Epoch 103/3000\n",
      "21900/87006 [======>.......................] - ETA: 22s - loss: 1.5046e- - ETA: 22s - loss: 1.5096e-06"
     ]
    },
    {
     "name": "stderr",
     "output_type": "stream",
     "text": [
      "C:\\Users\\User\\.conda\\envs\\theano_v1\\lib\\site-packages\\keras\\callbacks\\callbacks.py:95: RuntimeWarning: Method (on_train_batch_end) is slow compared to the batch update (0.104071). Check your callbacks.\n",
      "  % (hook_name, delta_t_median), RuntimeWarning)\n"
     ]
    },
    {
     "name": "stdout",
     "output_type": "stream",
     "text": [
      "23400/87006 [=======>......................] - ETA: 22s - loss: 1.5992e-06"
     ]
    },
    {
     "name": "stderr",
     "output_type": "stream",
     "text": [
      "C:\\Users\\User\\.conda\\envs\\theano_v1\\lib\\site-packages\\keras\\callbacks\\callbacks.py:95: RuntimeWarning: Method (on_train_batch_end) is slow compared to the batch update (0.105789). Check your callbacks.\n",
      "  % (hook_name, delta_t_median), RuntimeWarning)\n"
     ]
    },
    {
     "name": "stdout",
     "output_type": "stream",
     "text": [
      "87006/87006 [==============================] - 28s 326us/step - loss: 1.5617e-066s \n",
      "Epoch 104/3000\n",
      "87006/87006 [==============================] - 27s 311us/step - loss: 1.5594e-06\n",
      "Epoch 105/3000\n",
      "87006/87006 [==============================] - 25s 290us/step - loss: 1.5720e-06\n",
      "Epoch 106/3000\n",
      "66600/87006 [=====================>........] - ETA: 6s - loss: 1.6201e-06- ETA: 6s - loss: 1.6215e-"
     ]
    },
    {
     "name": "stderr",
     "output_type": "stream",
     "text": [
      "C:\\Users\\User\\.conda\\envs\\theano_v1\\lib\\site-packages\\keras\\callbacks\\callbacks.py:95: RuntimeWarning: Method (on_train_batch_end) is slow compared to the batch update (0.100633). Check your callbacks.\n",
      "  % (hook_name, delta_t_median), RuntimeWarning)\n"
     ]
    },
    {
     "name": "stdout",
     "output_type": "stream",
     "text": [
      "87006/87006 [==============================] - 30s 341us/step - loss: 1.5734e-064s - loss: - ETA: 3s - loss: 1\n",
      "Epoch 107/3000\n",
      "87006/87006 [==============================] - 29s 333us/step - loss: 1.5682e-06TA: 10s - loss: 1.5 - ETA: 9s  - ETA: 1s - los\n",
      "Epoch 108/3000\n",
      " 1200/87006 [..............................] - ETA: 36s - loss: 1.4721e-06"
     ]
    },
    {
     "name": "stderr",
     "output_type": "stream",
     "text": [
      "C:\\Users\\User\\.conda\\envs\\theano_v1\\lib\\site-packages\\keras\\callbacks\\callbacks.py:95: RuntimeWarning: Method (on_train_batch_end) is slow compared to the batch update (0.102382). Check your callbacks.\n",
      "  % (hook_name, delta_t_median), RuntimeWarning)\n"
     ]
    },
    {
     "name": "stdout",
     "output_type": "stream",
     "text": [
      "87006/87006 [==============================] - 27s 314us/step - loss: 1.5576e-061s - loss:\n",
      "Epoch 109/3000\n",
      " 8100/87006 [=>............................] - ETA: 33s - loss: 1.4380e-06 ETA: 25s - lo"
     ]
    },
    {
     "name": "stderr",
     "output_type": "stream",
     "text": [
      "C:\\Users\\User\\.conda\\envs\\theano_v1\\lib\\site-packages\\keras\\callbacks\\callbacks.py:95: RuntimeWarning: Method (on_train_batch_end) is slow compared to the batch update (0.104186). Check your callbacks.\n",
      "  % (hook_name, delta_t_median), RuntimeWarning)\n"
     ]
    },
    {
     "name": "stdout",
     "output_type": "stream",
     "text": [
      " 8700/87006 [=>............................] - ETA: 33s - loss: 1.4767e-06"
     ]
    },
    {
     "name": "stderr",
     "output_type": "stream",
     "text": [
      "C:\\Users\\User\\.conda\\envs\\theano_v1\\lib\\site-packages\\keras\\callbacks\\callbacks.py:95: RuntimeWarning: Method (on_train_batch_end) is slow compared to the batch update (0.112825). Check your callbacks.\n",
      "  % (hook_name, delta_t_median), RuntimeWarning)\n"
     ]
    },
    {
     "name": "stdout",
     "output_type": "stream",
     "text": [
      "87006/87006 [==============================] - 30s 347us/step - loss: 1.5588e-06\n",
      "Epoch 110/3000\n",
      "87006/87006 [==============================] - 28s 326us/step - loss: 1.5619e-06\n",
      "Epoch 111/3000\n",
      "  600/87006 [..............................] - ETA: 31s - loss: 1.1834e-06"
     ]
    },
    {
     "name": "stderr",
     "output_type": "stream",
     "text": [
      "C:\\Users\\User\\.conda\\envs\\theano_v1\\lib\\site-packages\\keras\\callbacks\\callbacks.py:95: RuntimeWarning: Method (on_train_batch_end) is slow compared to the batch update (0.118951). Check your callbacks.\n",
      "  % (hook_name, delta_t_median), RuntimeWarning)\n",
      "C:\\Users\\User\\.conda\\envs\\theano_v1\\lib\\site-packages\\keras\\callbacks\\callbacks.py:95: RuntimeWarning: Method (on_train_batch_end) is slow compared to the batch update (0.102325). Check your callbacks.\n",
      "  % (hook_name, delta_t_median), RuntimeWarning)\n"
     ]
    },
    {
     "name": "stdout",
     "output_type": "stream",
     "text": [
      "87006/87006 [==============================] - 28s 325us/step - loss: 1.5646e-061s - loss: 1.55 - ETA: 1s - loss: 1.5 - ETA: 0s - loss: 1.565\n",
      "Epoch 112/3000\n",
      "87006/87006 [==============================] - 25s 292us/step - loss: 1.5539e-06\n",
      "Epoch 113/3000\n",
      "  900/87006 [..............................] - ETA: 33s - loss: 2.1201e-06"
     ]
    },
    {
     "name": "stderr",
     "output_type": "stream",
     "text": [
      "C:\\Users\\User\\.conda\\envs\\theano_v1\\lib\\site-packages\\keras\\callbacks\\callbacks.py:95: RuntimeWarning: Method (on_train_batch_end) is slow compared to the batch update (0.137165). Check your callbacks.\n",
      "  % (hook_name, delta_t_median), RuntimeWarning)\n"
     ]
    },
    {
     "name": "stdout",
     "output_type": "stream",
     "text": [
      "70800/87006 [=======================>......] - ETA: 5s - loss: 1.5960e-06- ETA: 7"
     ]
    },
    {
     "name": "stderr",
     "output_type": "stream",
     "text": [
      "C:\\Users\\User\\.conda\\envs\\theano_v1\\lib\\site-packages\\keras\\callbacks\\callbacks.py:95: RuntimeWarning: Method (on_train_batch_end) is slow compared to the batch update (0.116170). Check your callbacks.\n",
      "  % (hook_name, delta_t_median), RuntimeWarning)\n",
      "C:\\Users\\User\\.conda\\envs\\theano_v1\\lib\\site-packages\\keras\\callbacks\\callbacks.py:95: RuntimeWarning: Method (on_train_batch_end) is slow compared to the batch update (0.108098). Check your callbacks.\n",
      "  % (hook_name, delta_t_median), RuntimeWarning)\n"
     ]
    },
    {
     "name": "stdout",
     "output_type": "stream",
     "text": [
      "73800/87006 [========================>.....] - ETA: 4s - loss: 1.5943e-06"
     ]
    },
    {
     "name": "stderr",
     "output_type": "stream",
     "text": [
      "C:\\Users\\User\\.conda\\envs\\theano_v1\\lib\\site-packages\\keras\\callbacks\\callbacks.py:95: RuntimeWarning: Method (on_train_batch_end) is slow compared to the batch update (0.101656). Check your callbacks.\n",
      "  % (hook_name, delta_t_median), RuntimeWarning)\n"
     ]
    },
    {
     "name": "stdout",
     "output_type": "stream",
     "text": [
      "87006/87006 [==============================] - 30s 345us/step - loss: 1.5721e-06\n",
      "Epoch 114/3000\n",
      "87006/87006 [==============================] - 28s 325us/step - loss: 1.5663e-061s - \n",
      "Epoch 115/3000\n",
      "80100/87006 [==========================>...] - ETA: 2s - loss: 1.5690e-06- "
     ]
    },
    {
     "name": "stderr",
     "output_type": "stream",
     "text": [
      "C:\\Users\\User\\.conda\\envs\\theano_v1\\lib\\site-packages\\keras\\callbacks\\callbacks.py:95: RuntimeWarning: Method (on_train_batch_end) is slow compared to the batch update (0.101180). Check your callbacks.\n",
      "  % (hook_name, delta_t_median), RuntimeWarning)\n"
     ]
    },
    {
     "name": "stdout",
     "output_type": "stream",
     "text": [
      "80700/87006 [==========================>...] - ETA: 1s - loss: 1.5688e-06"
     ]
    },
    {
     "name": "stderr",
     "output_type": "stream",
     "text": [
      "C:\\Users\\User\\.conda\\envs\\theano_v1\\lib\\site-packages\\keras\\callbacks\\callbacks.py:95: RuntimeWarning: Method (on_train_batch_end) is slow compared to the batch update (0.126873). Check your callbacks.\n",
      "  % (hook_name, delta_t_median), RuntimeWarning)\n"
     ]
    },
    {
     "name": "stdout",
     "output_type": "stream",
     "text": [
      "81900/87006 [===========================>..] - ETA: 1s - loss: 1.5702e-06"
     ]
    },
    {
     "name": "stderr",
     "output_type": "stream",
     "text": [
      "C:\\Users\\User\\.conda\\envs\\theano_v1\\lib\\site-packages\\keras\\callbacks\\callbacks.py:95: RuntimeWarning: Method (on_train_batch_end) is slow compared to the batch update (0.102577). Check your callbacks.\n",
      "  % (hook_name, delta_t_median), RuntimeWarning)\n"
     ]
    },
    {
     "name": "stdout",
     "output_type": "stream",
     "text": [
      "87006/87006 [==============================] - 27s 312us/step - loss: 1.5655e-06\n",
      "Epoch 116/3000\n",
      "42000/87006 [=============>................] - ETA: 14s - loss: 1.6119e-06 ETA: 14s - loss: 1.6059e-"
     ]
    },
    {
     "name": "stderr",
     "output_type": "stream",
     "text": [
      "C:\\Users\\User\\.conda\\envs\\theano_v1\\lib\\site-packages\\keras\\callbacks\\callbacks.py:95: RuntimeWarning: Method (on_train_batch_end) is slow compared to the batch update (0.108245). Check your callbacks.\n",
      "  % (hook_name, delta_t_median), RuntimeWarning)\n",
      "C:\\Users\\User\\.conda\\envs\\theano_v1\\lib\\site-packages\\keras\\callbacks\\callbacks.py:95: RuntimeWarning: Method (on_train_batch_end) is slow compared to the batch update (0.114301). Check your callbacks.\n",
      "  % (hook_name, delta_t_median), RuntimeWarning)\n"
     ]
    },
    {
     "name": "stdout",
     "output_type": "stream",
     "text": [
      "43500/87006 [=============>................] - ETA: 13s - loss: 1.6073e-06"
     ]
    },
    {
     "name": "stderr",
     "output_type": "stream",
     "text": [
      "C:\\Users\\User\\.conda\\envs\\theano_v1\\lib\\site-packages\\keras\\callbacks\\callbacks.py:95: RuntimeWarning: Method (on_train_batch_end) is slow compared to the batch update (0.104525). Check your callbacks.\n",
      "  % (hook_name, delta_t_median), RuntimeWarning)\n"
     ]
    },
    {
     "name": "stdout",
     "output_type": "stream",
     "text": [
      "87006/87006 [==============================] - 29s 336us/step - loss: 1.5552e-062s - loss: 1.5554 - ETA: 2s - loss: 1.55 - ETA: 1s - loss: 1.554 - ETA: 0s - loss: \n",
      "Epoch 117/3000\n",
      "  600/87006 [..............................] - ETA: 38s - loss: 1.5478e-06"
     ]
    },
    {
     "name": "stderr",
     "output_type": "stream",
     "text": [
      "C:\\Users\\User\\.conda\\envs\\theano_v1\\lib\\site-packages\\keras\\callbacks\\callbacks.py:95: RuntimeWarning: Method (on_train_batch_end) is slow compared to the batch update (0.109086). Check your callbacks.\n",
      "  % (hook_name, delta_t_median), RuntimeWarning)\n"
     ]
    },
    {
     "name": "stdout",
     "output_type": "stream",
     "text": [
      " 2400/87006 [..............................] - ETA: 35s - loss: 1.4569e-06"
     ]
    },
    {
     "name": "stderr",
     "output_type": "stream",
     "text": [
      "C:\\Users\\User\\.conda\\envs\\theano_v1\\lib\\site-packages\\keras\\callbacks\\callbacks.py:95: RuntimeWarning: Method (on_train_batch_end) is slow compared to the batch update (0.105783). Check your callbacks.\n",
      "  % (hook_name, delta_t_median), RuntimeWarning)\n"
     ]
    },
    {
     "name": "stdout",
     "output_type": "stream",
     "text": [
      "57000/87006 [==================>...........] - ETA: 9s - loss: 1.5125e-06"
     ]
    },
    {
     "name": "stderr",
     "output_type": "stream",
     "text": [
      "C:\\Users\\User\\.conda\\envs\\theano_v1\\lib\\site-packages\\keras\\callbacks\\callbacks.py:95: RuntimeWarning: Method (on_train_batch_end) is slow compared to the batch update (0.101171). Check your callbacks.\n",
      "  % (hook_name, delta_t_median), RuntimeWarning)\n"
     ]
    },
    {
     "name": "stdout",
     "output_type": "stream",
     "text": [
      "87006/87006 [==============================] - 27s 306us/step - loss: 1.5618e-06A: 0s - loss: 1.5634e-\n",
      "Epoch 118/3000\n",
      "77100/87006 [=========================>....] - ETA: 3s - loss: 1.5714e-06"
     ]
    },
    {
     "name": "stderr",
     "output_type": "stream",
     "text": [
      "C:\\Users\\User\\.conda\\envs\\theano_v1\\lib\\site-packages\\keras\\callbacks\\callbacks.py:95: RuntimeWarning: Method (on_train_batch_end) is slow compared to the batch update (0.114205). Check your callbacks.\n",
      "  % (hook_name, delta_t_median), RuntimeWarning)\n"
     ]
    },
    {
     "name": "stdout",
     "output_type": "stream",
     "text": [
      "77700/87006 [=========================>....] - ETA: 2s - loss: 1.5704e-06"
     ]
    },
    {
     "name": "stderr",
     "output_type": "stream",
     "text": [
      "C:\\Users\\User\\.conda\\envs\\theano_v1\\lib\\site-packages\\keras\\callbacks\\callbacks.py:95: RuntimeWarning: Method (on_train_batch_end) is slow compared to the batch update (0.119932). Check your callbacks.\n",
      "  % (hook_name, delta_t_median), RuntimeWarning)\n"
     ]
    },
    {
     "name": "stdout",
     "output_type": "stream",
     "text": [
      "78600/87006 [==========================>...] - ETA: 2s - loss: 1.5686e-06"
     ]
    },
    {
     "name": "stderr",
     "output_type": "stream",
     "text": [
      "C:\\Users\\User\\.conda\\envs\\theano_v1\\lib\\site-packages\\keras\\callbacks\\callbacks.py:95: RuntimeWarning: Method (on_train_batch_end) is slow compared to the batch update (0.115019). Check your callbacks.\n",
      "  % (hook_name, delta_t_median), RuntimeWarning)\n",
      "C:\\Users\\User\\.conda\\envs\\theano_v1\\lib\\site-packages\\keras\\callbacks\\callbacks.py:95: RuntimeWarning: Method (on_train_batch_end) is slow compared to the batch update (0.103595). Check your callbacks.\n",
      "  % (hook_name, delta_t_median), RuntimeWarning)\n"
     ]
    },
    {
     "name": "stdout",
     "output_type": "stream",
     "text": [
      "87006/87006 [==============================] - 27s 308us/step - loss: 1.5648e-06\n",
      "Epoch 119/3000\n",
      " 1500/87006 [..............................] - ETA: 43s - loss: 1.6311e-06"
     ]
    },
    {
     "name": "stderr",
     "output_type": "stream",
     "text": [
      "C:\\Users\\User\\.conda\\envs\\theano_v1\\lib\\site-packages\\keras\\callbacks\\callbacks.py:95: RuntimeWarning: Method (on_train_batch_end) is slow compared to the batch update (0.106516). Check your callbacks.\n",
      "  % (hook_name, delta_t_median), RuntimeWarning)\n"
     ]
    },
    {
     "name": "stdout",
     "output_type": "stream",
     "text": [
      "59700/87006 [===================>..........] - ETA: 8s - loss: 1.5378e-0"
     ]
    },
    {
     "name": "stderr",
     "output_type": "stream",
     "text": [
      "C:\\Users\\User\\.conda\\envs\\theano_v1\\lib\\site-packages\\keras\\callbacks\\callbacks.py:95: RuntimeWarning: Method (on_train_batch_end) is slow compared to the batch update (0.115952). Check your callbacks.\n",
      "  % (hook_name, delta_t_median), RuntimeWarning)\n"
     ]
    },
    {
     "name": "stdout",
     "output_type": "stream",
     "text": [
      "\r",
      "60000/87006 [===================>..........] - ETA: 8s - loss: 1.5364e-06"
     ]
    },
    {
     "name": "stderr",
     "output_type": "stream",
     "text": [
      "C:\\Users\\User\\.conda\\envs\\theano_v1\\lib\\site-packages\\keras\\callbacks\\callbacks.py:95: RuntimeWarning: Method (on_train_batch_end) is slow compared to the batch update (0.153594). Check your callbacks.\n",
      "  % (hook_name, delta_t_median), RuntimeWarning)\n"
     ]
    },
    {
     "name": "stdout",
     "output_type": "stream",
     "text": [
      "61500/87006 [====================>.........] - ETA: 8s - loss: 1.5342e-06"
     ]
    },
    {
     "name": "stderr",
     "output_type": "stream",
     "text": [
      "C:\\Users\\User\\.conda\\envs\\theano_v1\\lib\\site-packages\\keras\\callbacks\\callbacks.py:95: RuntimeWarning: Method (on_train_batch_end) is slow compared to the batch update (0.100590). Check your callbacks.\n",
      "  % (hook_name, delta_t_median), RuntimeWarning)\n"
     ]
    },
    {
     "name": "stdout",
     "output_type": "stream",
     "text": [
      "87006/87006 [==============================] - 28s 322us/step - loss: 1.5594e-06\n",
      "Epoch 120/3000\n",
      "87006/87006 [==============================] - 22s 250us/step - loss: 1.5657e-06\n",
      "Epoch 121/3000\n",
      "87006/87006 [==============================] - 28s 318us/step - loss: 1.5672e-067s - loss: 1.5652e - ETA: 4s - \n",
      "Epoch 122/3000\n",
      "87006/87006 [==============================] - 27s 313us/step - loss: 1.5603e-06\n",
      "Epoch 123/3000\n",
      "77400/87006 [=========================>....] - ETA: 3s - loss: 1.5193e-06"
     ]
    },
    {
     "name": "stderr",
     "output_type": "stream",
     "text": [
      "C:\\Users\\User\\.conda\\envs\\theano_v1\\lib\\site-packages\\keras\\callbacks\\callbacks.py:95: RuntimeWarning: Method (on_train_batch_end) is slow compared to the batch update (0.102646). Check your callbacks.\n",
      "  % (hook_name, delta_t_median), RuntimeWarning)\n"
     ]
    },
    {
     "name": "stdout",
     "output_type": "stream",
     "text": [
      "87006/87006 [==============================] - 28s 325us/step - loss: 1.5645e-06\n",
      "Epoch 124/3000\n",
      "79500/87006 [==========================>...] - ETA: 2s - loss: 1.5668e-06"
     ]
    },
    {
     "name": "stderr",
     "output_type": "stream",
     "text": [
      "C:\\Users\\User\\.conda\\envs\\theano_v1\\lib\\site-packages\\keras\\callbacks\\callbacks.py:95: RuntimeWarning: Method (on_train_batch_end) is slow compared to the batch update (0.106360). Check your callbacks.\n",
      "  % (hook_name, delta_t_median), RuntimeWarning)\n"
     ]
    },
    {
     "name": "stdout",
     "output_type": "stream",
     "text": [
      "87006/87006 [==============================] - 28s 323us/step - loss: 1.5600e-06\n",
      "Epoch 125/3000\n",
      "  600/87006 [..............................] - ETA: 28s - loss: 1.7907e-06"
     ]
    },
    {
     "name": "stderr",
     "output_type": "stream",
     "text": [
      "C:\\Users\\User\\.conda\\envs\\theano_v1\\lib\\site-packages\\keras\\callbacks\\callbacks.py:95: RuntimeWarning: Method (on_train_batch_end) is slow compared to the batch update (0.103013). Check your callbacks.\n",
      "  % (hook_name, delta_t_median), RuntimeWarning)\n"
     ]
    },
    {
     "name": "stdout",
     "output_type": "stream",
     "text": [
      "87006/87006 [==============================] - 27s 310us/step - loss: 1.5660e-061s - los\n",
      "Epoch 126/3000\n",
      "87006/87006 [==============================] - 28s 316us/step - loss: 1.5558e-060s - loss: 1.5558e-0\n",
      "Epoch 127/3000\n",
      " 8700/87006 [=>............................] - ETA: 30s - loss: 1.5478e-06"
     ]
    },
    {
     "name": "stderr",
     "output_type": "stream",
     "text": [
      "C:\\Users\\User\\.conda\\envs\\theano_v1\\lib\\site-packages\\keras\\callbacks\\callbacks.py:95: RuntimeWarning: Method (on_train_batch_end) is slow compared to the batch update (0.110032). Check your callbacks.\n",
      "  % (hook_name, delta_t_median), RuntimeWarning)\n"
     ]
    },
    {
     "name": "stdout",
     "output_type": "stream",
     "text": [
      " 9600/87006 [==>...........................] - ETA: 30s - loss: 1.5723e-"
     ]
    },
    {
     "name": "stderr",
     "output_type": "stream",
     "text": [
      "C:\\Users\\User\\.conda\\envs\\theano_v1\\lib\\site-packages\\keras\\callbacks\\callbacks.py:95: RuntimeWarning: Method (on_train_batch_end) is slow compared to the batch update (0.103365). Check your callbacks.\n",
      "  % (hook_name, delta_t_median), RuntimeWarning)\n"
     ]
    },
    {
     "name": "stdout",
     "output_type": "stream",
     "text": [
      "87006/87006 [==============================] - 28s 316us/step - loss: 1.5651e-06\n",
      "Epoch 128/3000\n",
      "70800/87006 [=======================>......] - ETA: 4s - loss: 1.5461e-06- ETA: 8s - loss:  - ETA: 7s - loss:  - ET"
     ]
    },
    {
     "name": "stderr",
     "output_type": "stream",
     "text": [
      "C:\\Users\\User\\.conda\\envs\\theano_v1\\lib\\site-packages\\keras\\callbacks\\callbacks.py:95: RuntimeWarning: Method (on_train_batch_end) is slow compared to the batch update (0.101514). Check your callbacks.\n",
      "  % (hook_name, delta_t_median), RuntimeWarning)\n"
     ]
    },
    {
     "name": "stdout",
     "output_type": "stream",
     "text": [
      "87006/87006 [==============================] - 27s 310us/step - loss: 1.5580e-061\n",
      "Epoch 129/3000\n",
      "87006/87006 [==============================] - 27s 310us/step - loss: 1.5591e-066s - loss - ETA: 1s - lo\n",
      "Epoch 130/3000\n",
      "12000/87006 [===>..........................] - ETA: 31s - loss: 1.4584e-06"
     ]
    },
    {
     "name": "stderr",
     "output_type": "stream",
     "text": [
      "C:\\Users\\User\\.conda\\envs\\theano_v1\\lib\\site-packages\\keras\\callbacks\\callbacks.py:95: RuntimeWarning: Method (on_train_batch_end) is slow compared to the batch update (0.102132). Check your callbacks.\n",
      "  % (hook_name, delta_t_median), RuntimeWarning)\n"
     ]
    },
    {
     "name": "stdout",
     "output_type": "stream",
     "text": [
      "87006/87006 [==============================] - 28s 327us/step - loss: 1.5585e-060s - loss: 1.56\n",
      "Epoch 131/3000\n",
      " 1200/87006 [..............................] - ETA: 45s - loss: 1.2230e-06"
     ]
    },
    {
     "name": "stderr",
     "output_type": "stream",
     "text": [
      "C:\\Users\\User\\.conda\\envs\\theano_v1\\lib\\site-packages\\keras\\callbacks\\callbacks.py:95: RuntimeWarning: Method (on_train_batch_end) is slow compared to the batch update (0.105985). Check your callbacks.\n",
      "  % (hook_name, delta_t_median), RuntimeWarning)\n",
      "C:\\Users\\User\\.conda\\envs\\theano_v1\\lib\\site-packages\\keras\\callbacks\\callbacks.py:95: RuntimeWarning: Method (on_train_batch_end) is slow compared to the batch update (0.117695). Check your callbacks.\n",
      "  % (hook_name, delta_t_median), RuntimeWarning)\n"
     ]
    },
    {
     "name": "stdout",
     "output_type": "stream",
     "text": [
      "87006/87006 [==============================] - 28s 324us/step - loss: 1.5613e-06\n",
      "Epoch 132/3000\n",
      "87006/87006 [==============================] - 25s 293us/step - loss: 1.5559e-061s - loss\n",
      "Epoch 133/3000\n",
      "87006/87006 [==============================] - 31s 358us/step - loss: 1.5631e-062\n",
      "Epoch 134/3000\n",
      "  600/87006 [..............................] - ETA: 59s - loss: 1.3233e-06"
     ]
    },
    {
     "name": "stderr",
     "output_type": "stream",
     "text": [
      "C:\\Users\\User\\.conda\\envs\\theano_v1\\lib\\site-packages\\keras\\callbacks\\callbacks.py:95: RuntimeWarning: Method (on_train_batch_end) is slow compared to the batch update (0.155697). Check your callbacks.\n",
      "  % (hook_name, delta_t_median), RuntimeWarning)\n"
     ]
    },
    {
     "name": "stdout",
     "output_type": "stream",
     "text": [
      " 2400/87006 [..............................] - ETA: 46s - loss: 1.3935e-06"
     ]
    },
    {
     "name": "stderr",
     "output_type": "stream",
     "text": [
      "C:\\Users\\User\\.conda\\envs\\theano_v1\\lib\\site-packages\\keras\\callbacks\\callbacks.py:95: RuntimeWarning: Method (on_train_batch_end) is slow compared to the batch update (0.103968). Check your callbacks.\n",
      "  % (hook_name, delta_t_median), RuntimeWarning)\n"
     ]
    },
    {
     "name": "stdout",
     "output_type": "stream",
     "text": [
      "87006/87006 [==============================] - 27s 315us/step - loss: 1.5643e-0611s - loss: 1.5860 - ETA: 11s - loss: 1.58 - E - ET - ETA: 3s  - ETA: 0s - loss: 1 - ETA: 0s - loss: 1.5644e-0\n",
      "Epoch 135/3000\n",
      "87006/87006 [==============================] - 28s 325us/step - loss: 1.5585e-06\n",
      "Epoch 136/3000\n",
      "69900/87006 [=======================>......] - ETA: 6s - loss: 1.5400e-06- ET - ETA: 6s - loss: 1.5431e"
     ]
    },
    {
     "name": "stderr",
     "output_type": "stream",
     "text": [
      "C:\\Users\\User\\.conda\\envs\\theano_v1\\lib\\site-packages\\keras\\callbacks\\callbacks.py:95: RuntimeWarning: Method (on_train_batch_end) is slow compared to the batch update (0.101210). Check your callbacks.\n",
      "  % (hook_name, delta_t_median), RuntimeWarning)\n"
     ]
    },
    {
     "name": "stdout",
     "output_type": "stream",
     "text": [
      "87006/87006 [==============================] - 31s 360us/step - loss: 1.5687e-06\n",
      "Epoch 137/3000\n",
      "  300/87006 [..............................] - ETA: 4s - loss: 1.5284e-06"
     ]
    },
    {
     "name": "stderr",
     "output_type": "stream",
     "text": [
      "C:\\Users\\User\\.conda\\envs\\theano_v1\\lib\\site-packages\\keras\\callbacks\\callbacks.py:95: RuntimeWarning: Method (on_train_batch_end) is slow compared to the batch update (0.100988). Check your callbacks.\n",
      "  % (hook_name, delta_t_median), RuntimeWarning)\n"
     ]
    },
    {
     "name": "stdout",
     "output_type": "stream",
     "text": [
      "  600/87006 [..............................] - ETA: 23s - loss: 1.3087e-"
     ]
    },
    {
     "name": "stderr",
     "output_type": "stream",
     "text": [
      "C:\\Users\\User\\.conda\\envs\\theano_v1\\lib\\site-packages\\keras\\callbacks\\callbacks.py:95: RuntimeWarning: Method (on_train_batch_end) is slow compared to the batch update (0.155205). Check your callbacks.\n",
      "  % (hook_name, delta_t_median), RuntimeWarning)\n"
     ]
    },
    {
     "name": "stdout",
     "output_type": "stream",
     "text": [
      " 1200/87006 [..............................] - ETA: 52s - loss: 1.7445e-06"
     ]
    },
    {
     "name": "stderr",
     "output_type": "stream",
     "text": [
      "C:\\Users\\User\\.conda\\envs\\theano_v1\\lib\\site-packages\\keras\\callbacks\\callbacks.py:95: RuntimeWarning: Method (on_train_batch_end) is slow compared to the batch update (0.205034). Check your callbacks.\n",
      "  % (hook_name, delta_t_median), RuntimeWarning)\n",
      "C:\\Users\\User\\.conda\\envs\\theano_v1\\lib\\site-packages\\keras\\callbacks\\callbacks.py:95: RuntimeWarning: Method (on_train_batch_end) is slow compared to the batch update (0.133847). Check your callbacks.\n",
      "  % (hook_name, delta_t_median), RuntimeWarning)\n"
     ]
    },
    {
     "name": "stdout",
     "output_type": "stream",
     "text": [
      "87006/87006 [==============================] - 29s 329us/step - loss: 1.5605e-06\n",
      "Epoch 138/3000\n",
      "87006/87006 [==============================] - 27s 310us/step - loss: 1.5575e-06\n",
      "Epoch 139/3000\n",
      "11400/87006 [==>...........................] - ETA: 32s - loss: 1.4803e-06 ETA: 32s - loss: 1.47"
     ]
    },
    {
     "name": "stderr",
     "output_type": "stream",
     "text": [
      "C:\\Users\\User\\.conda\\envs\\theano_v1\\lib\\site-packages\\keras\\callbacks\\callbacks.py:95: RuntimeWarning: Method (on_train_batch_end) is slow compared to the batch update (0.102738). Check your callbacks.\n",
      "  % (hook_name, delta_t_median), RuntimeWarning)\n"
     ]
    },
    {
     "name": "stdout",
     "output_type": "stream",
     "text": [
      "12600/87006 [===>..........................] - ETA: 33s - loss: 1.4603e-06"
     ]
    },
    {
     "name": "stderr",
     "output_type": "stream",
     "text": [
      "C:\\Users\\User\\.conda\\envs\\theano_v1\\lib\\site-packages\\keras\\callbacks\\callbacks.py:95: RuntimeWarning: Method (on_train_batch_end) is slow compared to the batch update (0.123429). Check your callbacks.\n",
      "  % (hook_name, delta_t_median), RuntimeWarning)\n"
     ]
    },
    {
     "name": "stdout",
     "output_type": "stream",
     "text": [
      "87006/87006 [==============================] - 33s 374us/step - loss: 1.5610e-06\n",
      "Epoch 140/3000\n",
      "  300/87006 [..............................] - ETA: 36s - loss: 1.1662e-06"
     ]
    },
    {
     "name": "stderr",
     "output_type": "stream",
     "text": [
      "C:\\Users\\User\\.conda\\envs\\theano_v1\\lib\\site-packages\\keras\\callbacks\\callbacks.py:95: RuntimeWarning: Method (on_train_batch_end) is slow compared to the batch update (0.119129). Check your callbacks.\n",
      "  % (hook_name, delta_t_median), RuntimeWarning)\n"
     ]
    },
    {
     "name": "stdout",
     "output_type": "stream",
     "text": [
      "87006/87006 [==============================] - 28s 325us/step - loss: 1.5583e-06\n",
      "Epoch 141/3000\n",
      " 1500/87006 [..............................] - ETA: 43s - loss: 1.7593e-06"
     ]
    },
    {
     "name": "stderr",
     "output_type": "stream",
     "text": [
      "C:\\Users\\User\\.conda\\envs\\theano_v1\\lib\\site-packages\\keras\\callbacks\\callbacks.py:95: RuntimeWarning: Method (on_train_batch_end) is slow compared to the batch update (0.100285). Check your callbacks.\n",
      "  % (hook_name, delta_t_median), RuntimeWarning)\n"
     ]
    },
    {
     "name": "stdout",
     "output_type": "stream",
     "text": [
      " 2100/87006 [..............................] - ETA: 59s - loss: 1.6442e-06 "
     ]
    },
    {
     "name": "stderr",
     "output_type": "stream",
     "text": [
      "C:\\Users\\User\\.conda\\envs\\theano_v1\\lib\\site-packages\\keras\\callbacks\\callbacks.py:95: RuntimeWarning: Method (on_train_batch_end) is slow compared to the batch update (0.111446). Check your callbacks.\n",
      "  % (hook_name, delta_t_median), RuntimeWarning)\n"
     ]
    },
    {
     "name": "stdout",
     "output_type": "stream",
     "text": [
      " 3900/87006 [>.............................] - ETA: 1:17 - loss: 1.6333e-06"
     ]
    },
    {
     "name": "stderr",
     "output_type": "stream",
     "text": [
      "C:\\Users\\User\\.conda\\envs\\theano_v1\\lib\\site-packages\\keras\\callbacks\\callbacks.py:95: RuntimeWarning: Method (on_train_batch_end) is slow compared to the batch update (0.148023). Check your callbacks.\n",
      "  % (hook_name, delta_t_median), RuntimeWarning)\n"
     ]
    },
    {
     "name": "stdout",
     "output_type": "stream",
     "text": [
      " 6300/87006 [=>............................] - ETA: 57s - loss: 1.5839e-06"
     ]
    },
    {
     "name": "stderr",
     "output_type": "stream",
     "text": [
      "C:\\Users\\User\\.conda\\envs\\theano_v1\\lib\\site-packages\\keras\\callbacks\\callbacks.py:95: RuntimeWarning: Method (on_train_batch_end) is slow compared to the batch update (0.144428). Check your callbacks.\n",
      "  % (hook_name, delta_t_median), RuntimeWarning)\n"
     ]
    },
    {
     "name": "stdout",
     "output_type": "stream",
     "text": [
      "87006/87006 [==============================] - 27s 316us/step - loss: 1.5666e-068s - loss: 1.5689e- - E - ETA: 1s - lo\n",
      "Epoch 142/3000\n",
      "87006/87006 [==============================] - 25s 282us/step - loss: 1.5594e-060s - loss: 1.5633\n",
      "Epoch 143/3000\n",
      "87006/87006 [==============================] - 28s 322us/step - loss: 1.5658e-06\n",
      "Epoch 144/3000\n",
      "87006/87006 [==============================] - 27s 306us/step - loss: 1.5604e-06\n",
      "Epoch 145/3000\n",
      "87006/87006 [==============================] - 22s 253us/step - loss: 1.5601e-062s - loss\n",
      "Epoch 146/3000\n",
      "87006/87006 [==============================] - 29s 334us/step - loss: 1.5726e-06\n",
      "Epoch 147/3000\n",
      "87006/87006 [==============================] - 27s 314us/step - loss: 1.5526e-06\n",
      "Epoch 148/3000\n",
      "62400/87006 [====================>.........] - ETA: 7s - loss: 1.5177e-06- ETA: 8s - loss: 1.5"
     ]
    },
    {
     "name": "stderr",
     "output_type": "stream",
     "text": [
      "C:\\Users\\User\\.conda\\envs\\theano_v1\\lib\\site-packages\\keras\\callbacks\\callbacks.py:95: RuntimeWarning: Method (on_train_batch_end) is slow compared to the batch update (0.107182). Check your callbacks.\n",
      "  % (hook_name, delta_t_median), RuntimeWarning)\n"
     ]
    },
    {
     "name": "stdout",
     "output_type": "stream",
     "text": [
      "63300/87006 [====================>.........] - ETA: 7s - loss: 1.5161e-06"
     ]
    },
    {
     "name": "stderr",
     "output_type": "stream",
     "text": [
      "C:\\Users\\User\\.conda\\envs\\theano_v1\\lib\\site-packages\\keras\\callbacks\\callbacks.py:95: RuntimeWarning: Method (on_train_batch_end) is slow compared to the batch update (0.114124). Check your callbacks.\n",
      "  % (hook_name, delta_t_median), RuntimeWarning)\n"
     ]
    },
    {
     "name": "stdout",
     "output_type": "stream",
     "text": [
      "87006/87006 [==============================] - 26s 302us/step - loss: 1.5637e-06\n",
      "Epoch 149/3000\n",
      "  900/87006 [..............................] - ETA: 42s - loss: 1.7118e-"
     ]
    },
    {
     "name": "stderr",
     "output_type": "stream",
     "text": [
      "C:\\Users\\User\\.conda\\envs\\theano_v1\\lib\\site-packages\\keras\\callbacks\\callbacks.py:95: RuntimeWarning: Method (on_train_batch_end) is slow compared to the batch update (0.100467). Check your callbacks.\n",
      "  % (hook_name, delta_t_median), RuntimeWarning)\n"
     ]
    },
    {
     "name": "stdout",
     "output_type": "stream",
     "text": [
      " 1800/87006 [..............................] - ETA: 36s - loss: 1.6277e-"
     ]
    },
    {
     "name": "stderr",
     "output_type": "stream",
     "text": [
      "C:\\Users\\User\\.conda\\envs\\theano_v1\\lib\\site-packages\\keras\\callbacks\\callbacks.py:95: RuntimeWarning: Method (on_train_batch_end) is slow compared to the batch update (0.101858). Check your callbacks.\n",
      "  % (hook_name, delta_t_median), RuntimeWarning)\n"
     ]
    },
    {
     "name": "stdout",
     "output_type": "stream",
     "text": [
      "47100/87006 [===============>..............] - ETA: 13s - loss: 1.6072e-06 ETA: 14s - loss: 1.61"
     ]
    },
    {
     "name": "stderr",
     "output_type": "stream",
     "text": [
      "C:\\Users\\User\\.conda\\envs\\theano_v1\\lib\\site-packages\\keras\\callbacks\\callbacks.py:95: RuntimeWarning: Method (on_train_batch_end) is slow compared to the batch update (0.101942). Check your callbacks.\n",
      "  % (hook_name, delta_t_median), RuntimeWarning)\n"
     ]
    },
    {
     "name": "stdout",
     "output_type": "stream",
     "text": [
      "87006/87006 [==============================] - 28s 325us/step - loss: 1.5590e-06\n",
      "Epoch 150/3000\n",
      "  900/87006 [..............................] - ETA: 44s - loss: 1.6091e-06"
     ]
    },
    {
     "name": "stderr",
     "output_type": "stream",
     "text": [
      "C:\\Users\\User\\.conda\\envs\\theano_v1\\lib\\site-packages\\keras\\callbacks\\callbacks.py:95: RuntimeWarning: Method (on_train_batch_end) is slow compared to the batch update (0.141326). Check your callbacks.\n",
      "  % (hook_name, delta_t_median), RuntimeWarning)\n"
     ]
    },
    {
     "name": "stdout",
     "output_type": "stream",
     "text": [
      " 5400/87006 [>.............................] - ETA: 38s - loss: 1.5468e-06 ETA: 38s - loss: 1.5776"
     ]
    },
    {
     "name": "stderr",
     "output_type": "stream",
     "text": [
      "C:\\Users\\User\\.conda\\envs\\theano_v1\\lib\\site-packages\\keras\\callbacks\\callbacks.py:95: RuntimeWarning: Method (on_train_batch_end) is slow compared to the batch update (0.101521). Check your callbacks.\n",
      "  % (hook_name, delta_t_median), RuntimeWarning)\n"
     ]
    },
    {
     "name": "stdout",
     "output_type": "stream",
     "text": [
      "87006/87006 [==============================] - ETA: 0s - loss: 1.5637e-0 - 26s 298us/step - loss: 1.5637e-06\n",
      "Epoch 151/3000\n",
      "87006/87006 [==============================] - 27s 308us/step - loss: 1.5625e-06\n",
      "Epoch 152/3000\n",
      "  900/87006 [..............................] - ETA: 26s - loss: 1.9446e-06"
     ]
    },
    {
     "name": "stderr",
     "output_type": "stream",
     "text": [
      "C:\\Users\\User\\.conda\\envs\\theano_v1\\lib\\site-packages\\keras\\callbacks\\callbacks.py:95: RuntimeWarning: Method (on_train_batch_end) is slow compared to the batch update (0.107765). Check your callbacks.\n",
      "  % (hook_name, delta_t_median), RuntimeWarning)\n"
     ]
    },
    {
     "name": "stdout",
     "output_type": "stream",
     "text": [
      "87006/87006 [==============================] - 25s 291us/step - loss: 1.5574e-06\n",
      "Epoch 153/3000\n",
      "87006/87006 [==============================] - 25s 292us/step - loss: 1.5636e-061s - l\n",
      "Epoch 154/3000\n",
      "22800/87006 [======>.......................] - ETA: 17s - loss: 1.5033e-"
     ]
    },
    {
     "name": "stderr",
     "output_type": "stream",
     "text": [
      "C:\\Users\\User\\.conda\\envs\\theano_v1\\lib\\site-packages\\keras\\callbacks\\callbacks.py:95: RuntimeWarning: Method (on_train_batch_end) is slow compared to the batch update (0.109795). Check your callbacks.\n",
      "  % (hook_name, delta_t_median), RuntimeWarning)\n"
     ]
    },
    {
     "name": "stdout",
     "output_type": "stream",
     "text": [
      "23400/87006 [=======>......................] - ETA: 17s - loss: 1.5019e-06"
     ]
    },
    {
     "name": "stderr",
     "output_type": "stream",
     "text": [
      "C:\\Users\\User\\.conda\\envs\\theano_v1\\lib\\site-packages\\keras\\callbacks\\callbacks.py:95: RuntimeWarning: Method (on_train_batch_end) is slow compared to the batch update (0.106973). Check your callbacks.\n",
      "  % (hook_name, delta_t_median), RuntimeWarning)\n"
     ]
    },
    {
     "name": "stdout",
     "output_type": "stream",
     "text": [
      "25200/87006 [=======>......................] - ETA: 17s - loss: 1.4950e-06"
     ]
    },
    {
     "name": "stderr",
     "output_type": "stream",
     "text": [
      "C:\\Users\\User\\.conda\\envs\\theano_v1\\lib\\site-packages\\keras\\callbacks\\callbacks.py:95: RuntimeWarning: Method (on_train_batch_end) is slow compared to the batch update (0.102073). Check your callbacks.\n",
      "  % (hook_name, delta_t_median), RuntimeWarning)\n"
     ]
    },
    {
     "name": "stdout",
     "output_type": "stream",
     "text": [
      "87006/87006 [==============================] - 24s 280us/step - loss: 1.5676e-06- E - ETA: 6s - loss: 1.5381e-0 - ETA: 6s - loss: 1.53 - ETA: 6s - \n",
      "Epoch 155/3000\n",
      "87006/87006 [==============================] - 26s 304us/step - loss: 1.5600e-06\n",
      "Epoch 156/3000\n",
      "87006/87006 [==============================] - 25s 292us/step - loss: 1.5596e-06\n",
      "Epoch 157/3000\n",
      "87006/87006 [==============================] - 22s 249us/step - loss: 1.5607e-06\n",
      "Epoch 158/3000\n",
      "  900/87006 [..............................] - ETA: 28s - loss: 1.2610e-06"
     ]
    },
    {
     "name": "stderr",
     "output_type": "stream",
     "text": [
      "C:\\Users\\User\\.conda\\envs\\theano_v1\\lib\\site-packages\\keras\\callbacks\\callbacks.py:95: RuntimeWarning: Method (on_train_batch_end) is slow compared to the batch update (0.131486). Check your callbacks.\n",
      "  % (hook_name, delta_t_median), RuntimeWarning)\n"
     ]
    },
    {
     "name": "stdout",
     "output_type": "stream",
     "text": [
      "87006/87006 [==============================] - 25s 283us/step - loss: 1.5646e-060s - loss: 1.5646e-0\n",
      "Epoch 159/3000\n",
      "87006/87006 [==============================] - 24s 273us/step - loss: 1.5602e-062s - loss: 1.5340e-0 - ETA: 2\n",
      "Epoch 160/3000\n",
      "87006/87006 [==============================] - 24s 274us/step - loss: 1.5602e-062s - loss: - ETA: 1s - \n",
      "Epoch 161/3000\n",
      "87006/87006 [==============================] - 23s 268us/step - loss: 1.5650e-064s - l\n",
      "Epoch 162/3000\n",
      "87006/87006 [==============================] - 29s 332us/step - loss: 1.5592e-064s - lo\n",
      "Epoch 163/3000\n",
      "52500/87006 [=================>............] - ETA: 9s - loss: 1.5527e-06"
     ]
    },
    {
     "name": "stderr",
     "output_type": "stream",
     "text": [
      "C:\\Users\\User\\.conda\\envs\\theano_v1\\lib\\site-packages\\keras\\callbacks\\callbacks.py:95: RuntimeWarning: Method (on_train_batch_end) is slow compared to the batch update (0.100114). Check your callbacks.\n",
      "  % (hook_name, delta_t_median), RuntimeWarning)\n"
     ]
    },
    {
     "name": "stdout",
     "output_type": "stream",
     "text": [
      "53400/87006 [=================>............] - ETA: 9s - loss: 1.5510e-06"
     ]
    },
    {
     "name": "stderr",
     "output_type": "stream",
     "text": [
      "C:\\Users\\User\\.conda\\envs\\theano_v1\\lib\\site-packages\\keras\\callbacks\\callbacks.py:95: RuntimeWarning: Method (on_train_batch_end) is slow compared to the batch update (0.113604). Check your callbacks.\n",
      "  % (hook_name, delta_t_median), RuntimeWarning)\n"
     ]
    },
    {
     "name": "stdout",
     "output_type": "stream",
     "text": [
      "55200/87006 [==================>...........] - ETA: 9s - loss: 1.5508e-06"
     ]
    },
    {
     "name": "stderr",
     "output_type": "stream",
     "text": [
      "C:\\Users\\User\\.conda\\envs\\theano_v1\\lib\\site-packages\\keras\\callbacks\\callbacks.py:95: RuntimeWarning: Method (on_train_batch_end) is slow compared to the batch update (0.104837). Check your callbacks.\n",
      "  % (hook_name, delta_t_median), RuntimeWarning)\n"
     ]
    },
    {
     "name": "stdout",
     "output_type": "stream",
     "text": [
      "87006/87006 [==============================] - 26s 295us/step - loss: 1.5515e-061s - loss: \n",
      "Epoch 164/3000\n",
      "26100/87006 [=======>......................] - ETA: 14s - loss: 1.6555e-06 ETA: "
     ]
    },
    {
     "name": "stderr",
     "output_type": "stream",
     "text": [
      "C:\\Users\\User\\.conda\\envs\\theano_v1\\lib\\site-packages\\keras\\callbacks\\callbacks.py:95: RuntimeWarning: Method (on_train_batch_end) is slow compared to the batch update (0.102707). Check your callbacks.\n",
      "  % (hook_name, delta_t_median), RuntimeWarning)\n"
     ]
    },
    {
     "name": "stdout",
     "output_type": "stream",
     "text": [
      "48300/87006 [===============>..............] - ETA: 11s - loss: 1.5923e-06"
     ]
    },
    {
     "name": "stderr",
     "output_type": "stream",
     "text": [
      "C:\\Users\\User\\.conda\\envs\\theano_v1\\lib\\site-packages\\keras\\callbacks\\callbacks.py:95: RuntimeWarning: Method (on_train_batch_end) is slow compared to the batch update (0.119975). Check your callbacks.\n",
      "  % (hook_name, delta_t_median), RuntimeWarning)\n"
     ]
    },
    {
     "name": "stdout",
     "output_type": "stream",
     "text": [
      "48600/87006 [===============>..............] - ETA: 12s - loss: 1.5906e-06"
     ]
    },
    {
     "name": "stderr",
     "output_type": "stream",
     "text": [
      "C:\\Users\\User\\.conda\\envs\\theano_v1\\lib\\site-packages\\keras\\callbacks\\callbacks.py:95: RuntimeWarning: Method (on_train_batch_end) is slow compared to the batch update (0.146758). Check your callbacks.\n",
      "  % (hook_name, delta_t_median), RuntimeWarning)\n",
      "C:\\Users\\User\\.conda\\envs\\theano_v1\\lib\\site-packages\\keras\\callbacks\\callbacks.py:95: RuntimeWarning: Method (on_train_batch_end) is slow compared to the batch update (0.150455). Check your callbacks.\n",
      "  % (hook_name, delta_t_median), RuntimeWarning)\n"
     ]
    },
    {
     "name": "stdout",
     "output_type": "stream",
     "text": [
      "49500/87006 [================>.............] - ETA: 12s - loss: 1.5848e-06"
     ]
    },
    {
     "name": "stderr",
     "output_type": "stream",
     "text": [
      "C:\\Users\\User\\.conda\\envs\\theano_v1\\lib\\site-packages\\keras\\callbacks\\callbacks.py:95: RuntimeWarning: Method (on_train_batch_end) is slow compared to the batch update (0.132917). Check your callbacks.\n",
      "  % (hook_name, delta_t_median), RuntimeWarning)\n"
     ]
    },
    {
     "name": "stdout",
     "output_type": "stream",
     "text": [
      "87006/87006 [==============================] - 25s 292us/step - loss: 1.5568e-06\n",
      "Epoch 165/3000\n",
      "  900/87006 [..............................] - ETA: 27s - loss: 1.6444e-06"
     ]
    },
    {
     "name": "stderr",
     "output_type": "stream",
     "text": [
      "C:\\Users\\User\\.conda\\envs\\theano_v1\\lib\\site-packages\\keras\\callbacks\\callbacks.py:95: RuntimeWarning: Method (on_train_batch_end) is slow compared to the batch update (0.111974). Check your callbacks.\n",
      "  % (hook_name, delta_t_median), RuntimeWarning)\n"
     ]
    },
    {
     "name": "stdout",
     "output_type": "stream",
     "text": [
      "87006/87006 [==============================] - 28s 321us/step - loss: 1.5581e-060s - loss: 1.55\n",
      "Epoch 166/3000\n",
      "87006/87006 [==============================] - 26s 301us/step - loss: 1.5640e-069s - los - ETA: 9s - loss: 1. - ETA: 8s - loss: 1. - ETA: 4s - - ETA: 2s - loss: 1.555 - ETA: 1s - \n",
      "Epoch 167/3000\n",
      "30900/87006 [=========>....................] - ETA: 16s - loss: 1.6361e-06"
     ]
    },
    {
     "name": "stderr",
     "output_type": "stream",
     "text": [
      "C:\\Users\\User\\.conda\\envs\\theano_v1\\lib\\site-packages\\keras\\callbacks\\callbacks.py:95: RuntimeWarning: Method (on_train_batch_end) is slow compared to the batch update (0.101236). Check your callbacks.\n",
      "  % (hook_name, delta_t_median), RuntimeWarning)\n"
     ]
    },
    {
     "name": "stdout",
     "output_type": "stream",
     "text": [
      "32400/87006 [==========>...................] - ETA: 16s - loss: 1.6281e-06"
     ]
    },
    {
     "name": "stderr",
     "output_type": "stream",
     "text": [
      "C:\\Users\\User\\.conda\\envs\\theano_v1\\lib\\site-packages\\keras\\callbacks\\callbacks.py:95: RuntimeWarning: Method (on_train_batch_end) is slow compared to the batch update (0.105682). Check your callbacks.\n",
      "  % (hook_name, delta_t_median), RuntimeWarning)\n"
     ]
    },
    {
     "name": "stdout",
     "output_type": "stream",
     "text": [
      "87006/87006 [==============================] - 27s 306us/step - loss: 1.5568e-06\n",
      "Epoch 168/3000\n",
      "87006/87006 [==============================] - 26s 304us/step - loss: 1.5615e-06\n",
      "Epoch 169/3000\n",
      "87006/87006 [==============================] - 23s 263us/step - loss: 1.5600e-060s - loss: 1\n",
      "Epoch 170/3000\n",
      "87006/87006 [==============================] - 26s 295us/step - loss: 1.5719e-062s -\n",
      "Epoch 171/3000\n",
      "87006/87006 [==============================] - 23s 265us/step - loss: 1.5545e-06\n",
      "Epoch 172/3000\n",
      "87006/87006 [==============================] - 23s 269us/step - loss: 1.5624e-06\n",
      "Epoch 173/3000\n",
      "87006/87006 [==============================] - 25s 285us/step - loss: 1.5594e-06\n",
      "Epoch 174/3000\n",
      "  900/87006 [..............................] - ETA: 24s - loss: 1.5541e-06"
     ]
    },
    {
     "name": "stderr",
     "output_type": "stream",
     "text": [
      "C:\\Users\\User\\.conda\\envs\\theano_v1\\lib\\site-packages\\keras\\callbacks\\callbacks.py:95: RuntimeWarning: Method (on_train_batch_end) is slow compared to the batch update (0.121564). Check your callbacks.\n",
      "  % (hook_name, delta_t_median), RuntimeWarning)\n"
     ]
    },
    {
     "name": "stdout",
     "output_type": "stream",
     "text": [
      "87006/87006 [==============================] - 23s 266us/step - loss: 1.5575e-067s - loss\n",
      "Epoch 175/3000\n",
      "33900/87006 [==========>...................] - ETA: 14s - loss: 1.4934e-06"
     ]
    },
    {
     "name": "stderr",
     "output_type": "stream",
     "text": [
      "C:\\Users\\User\\.conda\\envs\\theano_v1\\lib\\site-packages\\keras\\callbacks\\callbacks.py:95: RuntimeWarning: Method (on_train_batch_end) is slow compared to the batch update (0.102813). Check your callbacks.\n",
      "  % (hook_name, delta_t_median), RuntimeWarning)\n"
     ]
    },
    {
     "name": "stdout",
     "output_type": "stream",
     "text": [
      "38700/87006 [============>.................] - ETA: 15s - loss: 1.4829e-06"
     ]
    },
    {
     "name": "stderr",
     "output_type": "stream",
     "text": [
      "C:\\Users\\User\\.conda\\envs\\theano_v1\\lib\\site-packages\\keras\\callbacks\\callbacks.py:95: RuntimeWarning: Method (on_train_batch_end) is slow compared to the batch update (0.117678). Check your callbacks.\n",
      "  % (hook_name, delta_t_median), RuntimeWarning)\n"
     ]
    },
    {
     "name": "stdout",
     "output_type": "stream",
     "text": [
      "42900/87006 [=============>................] - ETA: 15s - loss: 1.5164e-06"
     ]
    },
    {
     "name": "stderr",
     "output_type": "stream",
     "text": [
      "C:\\Users\\User\\.conda\\envs\\theano_v1\\lib\\site-packages\\keras\\callbacks\\callbacks.py:95: RuntimeWarning: Method (on_train_batch_end) is slow compared to the batch update (0.103696). Check your callbacks.\n",
      "  % (hook_name, delta_t_median), RuntimeWarning)\n"
     ]
    },
    {
     "name": "stdout",
     "output_type": "stream",
     "text": [
      "48600/87006 [===============>..............] - ETA: 14s - loss: 1.5410e-06"
     ]
    },
    {
     "name": "stderr",
     "output_type": "stream",
     "text": [
      "C:\\Users\\User\\.conda\\envs\\theano_v1\\lib\\site-packages\\keras\\callbacks\\callbacks.py:95: RuntimeWarning: Method (on_train_batch_end) is slow compared to the batch update (0.106310). Check your callbacks.\n",
      "  % (hook_name, delta_t_median), RuntimeWarning)\n"
     ]
    },
    {
     "name": "stdout",
     "output_type": "stream",
     "text": [
      "87006/87006 [==============================] - 32s 372us/step - loss: 1.5670e-06\n",
      "Epoch 176/3000\n",
      "36600/87006 [===========>..................] - ETA: 14s - loss: 1.5075e-06"
     ]
    },
    {
     "name": "stderr",
     "output_type": "stream",
     "text": [
      "C:\\Users\\User\\.conda\\envs\\theano_v1\\lib\\site-packages\\keras\\callbacks\\callbacks.py:95: RuntimeWarning: Method (on_train_batch_end) is slow compared to the batch update (0.100475). Check your callbacks.\n",
      "  % (hook_name, delta_t_median), RuntimeWarning)\n"
     ]
    },
    {
     "name": "stdout",
     "output_type": "stream",
     "text": [
      "87006/87006 [==============================] - 24s 279us/step - loss: 1.5556e-061s - l\n",
      "Epoch 177/3000\n",
      " 1200/87006 [..............................] - ETA: 17s - loss: 1.4013e-06"
     ]
    },
    {
     "name": "stderr",
     "output_type": "stream",
     "text": [
      "C:\\Users\\User\\.conda\\envs\\theano_v1\\lib\\site-packages\\keras\\callbacks\\callbacks.py:95: RuntimeWarning: Method (on_train_batch_end) is slow compared to the batch update (0.131738). Check your callbacks.\n",
      "  % (hook_name, delta_t_median), RuntimeWarning)\n"
     ]
    },
    {
     "name": "stdout",
     "output_type": "stream",
     "text": [
      "87006/87006 [==============================] - 27s 306us/step - loss: 1.5598e-060s - loss: 1.\n",
      "Epoch 178/3000\n",
      "44100/87006 [==============>...............] - ETA: 13s - loss: 1.6006e-06"
     ]
    },
    {
     "name": "stderr",
     "output_type": "stream",
     "text": [
      "C:\\Users\\User\\.conda\\envs\\theano_v1\\lib\\site-packages\\keras\\callbacks\\callbacks.py:95: RuntimeWarning: Method (on_train_batch_end) is slow compared to the batch update (0.100351). Check your callbacks.\n",
      "  % (hook_name, delta_t_median), RuntimeWarning)\n"
     ]
    },
    {
     "name": "stdout",
     "output_type": "stream",
     "text": [
      "87006/87006 [==============================] - 27s 309us/step - loss: 1.5677e-060s - loss: 1.\n",
      "Epoch 179/3000\n",
      "87006/87006 [==============================] - 23s 266us/step - loss: 1.5558e-06\n",
      "Epoch 180/3000\n",
      "87006/87006 [==============================] - 23s 268us/step - loss: 1.5571e-06\n",
      "Epoch 181/3000\n",
      " 1200/87006 [..............................] - ETA: 48s - loss: 1.3832e-06"
     ]
    },
    {
     "name": "stderr",
     "output_type": "stream",
     "text": [
      "C:\\Users\\User\\.conda\\envs\\theano_v1\\lib\\site-packages\\keras\\callbacks\\callbacks.py:95: RuntimeWarning: Method (on_train_batch_end) is slow compared to the batch update (0.103346). Check your callbacks.\n",
      "  % (hook_name, delta_t_median), RuntimeWarning)\n"
     ]
    },
    {
     "name": "stdout",
     "output_type": "stream",
     "text": [
      "87006/87006 [==============================] - 28s 324us/step - loss: 1.5597e-064s  - ETA: \n",
      "Epoch 182/3000\n",
      "87006/87006 [==============================] - 24s 270us/step - loss: 1.5573e-06\n",
      "Epoch 183/3000\n",
      "87006/87006 [==============================] - 25s 285us/step - loss: 1.5598e-06\n",
      "Epoch 184/3000\n",
      "87006/87006 [==============================] - 23s 270us/step - loss: 1.5605e-064s - loss: 1.5719e- - ETA:  - ETA: 1s - \n",
      "Epoch 185/3000\n",
      "87006/87006 [==============================] - 21s 245us/step - loss: 1.5642e-06\n",
      "Epoch 186/3000\n",
      "87006/87006 [==============================] - 22s 253us/step - loss: 1.5615e-06\n",
      "Epoch 187/3000\n",
      "63900/87006 [=====================>........] - ETA: 6s - loss: 1.5573e-06  ETA:  - ETA:  - ETA: 10s - loss: 1.5851e- - ETA:  - ETA: 8s - lo - ETA: 7s - loss: 1.56"
     ]
    },
    {
     "name": "stderr",
     "output_type": "stream",
     "text": [
      "C:\\Users\\User\\.conda\\envs\\theano_v1\\lib\\site-packages\\keras\\callbacks\\callbacks.py:95: RuntimeWarning: Method (on_train_batch_end) is slow compared to the batch update (0.102440). Check your callbacks.\n",
      "  % (hook_name, delta_t_median), RuntimeWarning)\n"
     ]
    },
    {
     "name": "stdout",
     "output_type": "stream",
     "text": [
      "68100/87006 [======================>.......] - ETA: 6s - loss: 1.5606e-06"
     ]
    },
    {
     "name": "stderr",
     "output_type": "stream",
     "text": [
      "C:\\Users\\User\\.conda\\envs\\theano_v1\\lib\\site-packages\\keras\\callbacks\\callbacks.py:95: RuntimeWarning: Method (on_train_batch_end) is slow compared to the batch update (0.100186). Check your callbacks.\n",
      "  % (hook_name, delta_t_median), RuntimeWarning)\n"
     ]
    },
    {
     "name": "stdout",
     "output_type": "stream",
     "text": [
      "87006/87006 [==============================] - 27s 306us/step - loss: 1.5617e-06\n",
      "Epoch 188/3000\n",
      " 1200/87006 [..............................] - ETA: 19s - loss: 1.6136e-06"
     ]
    },
    {
     "name": "stderr",
     "output_type": "stream",
     "text": [
      "C:\\Users\\User\\.conda\\envs\\theano_v1\\lib\\site-packages\\keras\\callbacks\\callbacks.py:95: RuntimeWarning: Method (on_train_batch_end) is slow compared to the batch update (0.144746). Check your callbacks.\n",
      "  % (hook_name, delta_t_median), RuntimeWarning)\n"
     ]
    },
    {
     "name": "stdout",
     "output_type": "stream",
     "text": [
      "45000/87006 [==============>...............] - ETA: 13s - loss: 1.6107e-06"
     ]
    },
    {
     "name": "stderr",
     "output_type": "stream",
     "text": [
      "C:\\Users\\User\\.conda\\envs\\theano_v1\\lib\\site-packages\\keras\\callbacks\\callbacks.py:95: RuntimeWarning: Method (on_train_batch_end) is slow compared to the batch update (0.105659). Check your callbacks.\n",
      "  % (hook_name, delta_t_median), RuntimeWarning)\n"
     ]
    },
    {
     "name": "stdout",
     "output_type": "stream",
     "text": [
      "68700/87006 [======================>.......] - ETA: 5s - loss: 1.5864e-06"
     ]
    },
    {
     "name": "stderr",
     "output_type": "stream",
     "text": [
      "C:\\Users\\User\\.conda\\envs\\theano_v1\\lib\\site-packages\\keras\\callbacks\\callbacks.py:95: RuntimeWarning: Method (on_train_batch_end) is slow compared to the batch update (0.109021). Check your callbacks.\n",
      "  % (hook_name, delta_t_median), RuntimeWarning)\n"
     ]
    },
    {
     "name": "stdout",
     "output_type": "stream",
     "text": [
      "70200/87006 [=======================>......] - ETA: 5s - loss: 1.5890e-06"
     ]
    },
    {
     "name": "stderr",
     "output_type": "stream",
     "text": [
      "C:\\Users\\User\\.conda\\envs\\theano_v1\\lib\\site-packages\\keras\\callbacks\\callbacks.py:95: RuntimeWarning: Method (on_train_batch_end) is slow compared to the batch update (0.104102). Check your callbacks.\n",
      "  % (hook_name, delta_t_median), RuntimeWarning)\n"
     ]
    },
    {
     "name": "stdout",
     "output_type": "stream",
     "text": [
      "87006/87006 [==============================] - 28s 316us/step - loss: 1.5605e-06\n",
      "Epoch 189/3000\n",
      "87006/87006 [==============================] - 25s 293us/step - loss: 1.5639e-068s - lo - E\n",
      "Epoch 190/3000\n",
      "87006/87006 [==============================] - 25s 287us/step - loss: 1.5677e-064s - loss: 1.5892 - ETA: 4s -  - ETA: 2s - loss: 1.5830e - \n",
      "Epoch 191/3000\n",
      "87006/87006 [==============================] - 23s 268us/step - loss: 1.5604e-069s - loss: 1.58 - ETA: 8s - loss: 1.581 - ETA: 8s - loss:  - ETA: 6s -  - ETA: 4s - loss: 1.5 - - ETA: 1s - loss: \n",
      "Epoch 192/3000\n",
      "87006/87006 [==============================] - 27s 308us/step - loss: 1.5574e-06ETA: 1s  - ETA: 0s - loss: 1.5585e-\n",
      "Epoch 193/3000\n",
      " 1200/87006 [..............................] - ETA: 38s - loss: 1.2651e-06"
     ]
    },
    {
     "name": "stderr",
     "output_type": "stream",
     "text": [
      "C:\\Users\\User\\.conda\\envs\\theano_v1\\lib\\site-packages\\keras\\callbacks\\callbacks.py:95: RuntimeWarning: Method (on_train_batch_end) is slow compared to the batch update (0.118621). Check your callbacks.\n",
      "  % (hook_name, delta_t_median), RuntimeWarning)\n"
     ]
    },
    {
     "name": "stdout",
     "output_type": "stream",
     "text": [
      "87006/87006 [==============================] - 27s 305us/step - loss: 1.5587e-060s - loss: 1.5599e-\n",
      "Epoch 194/3000\n",
      "87006/87006 [==============================] - 24s 274us/step - loss: 1.5573e-06\n",
      "Epoch 195/3000\n",
      "21300/87006 [======>.......................] - ETA: 20s - loss: 1.6523e-06 ETA: 20s - loss: 1. - ETA: 21s - loss: 1."
     ]
    },
    {
     "name": "stderr",
     "output_type": "stream",
     "text": [
      "C:\\Users\\User\\.conda\\envs\\theano_v1\\lib\\site-packages\\keras\\callbacks\\callbacks.py:95: RuntimeWarning: Method (on_train_batch_end) is slow compared to the batch update (0.100348). Check your callbacks.\n",
      "  % (hook_name, delta_t_median), RuntimeWarning)\n"
     ]
    },
    {
     "name": "stdout",
     "output_type": "stream",
     "text": [
      "87006/87006 [==============================] - 24s 271us/step - loss: 1.5598e-06\n",
      "Epoch 196/3000\n",
      "87006/87006 [==============================] - 23s 266us/step - loss: 1.5634e-06\n",
      "Epoch 197/3000\n",
      "87006/87006 [==============================] - 28s 316us/step - loss: 1.5571e-06TA: 6s  - ETA\n",
      "Epoch 198/3000\n",
      "87006/87006 [==============================] - 27s 316us/step - loss: 1.5635e-06\n",
      "Epoch 199/3000\n",
      "  600/87006 [..............................] - ETA: 25s - loss: 1.6773e-"
     ]
    },
    {
     "name": "stderr",
     "output_type": "stream",
     "text": [
      "C:\\Users\\User\\.conda\\envs\\theano_v1\\lib\\site-packages\\keras\\callbacks\\callbacks.py:95: RuntimeWarning: Method (on_train_batch_end) is slow compared to the batch update (0.102718). Check your callbacks.\n",
      "  % (hook_name, delta_t_median), RuntimeWarning)\n"
     ]
    },
    {
     "name": "stdout",
     "output_type": "stream",
     "text": [
      "28200/87006 [========>.....................] - ETA: 20s - loss: 1.5807e-06"
     ]
    },
    {
     "name": "stderr",
     "output_type": "stream",
     "text": [
      "C:\\Users\\User\\.conda\\envs\\theano_v1\\lib\\site-packages\\keras\\callbacks\\callbacks.py:95: RuntimeWarning: Method (on_train_batch_end) is slow compared to the batch update (0.114835). Check your callbacks.\n",
      "  % (hook_name, delta_t_median), RuntimeWarning)\n",
      "C:\\Users\\User\\.conda\\envs\\theano_v1\\lib\\site-packages\\keras\\callbacks\\callbacks.py:95: RuntimeWarning: Method (on_train_batch_end) is slow compared to the batch update (0.108758). Check your callbacks.\n",
      "  % (hook_name, delta_t_median), RuntimeWarning)\n"
     ]
    },
    {
     "name": "stdout",
     "output_type": "stream",
     "text": [
      "29100/87006 [=========>....................] - ETA: 20s - loss: 1.5703e-06"
     ]
    },
    {
     "name": "stderr",
     "output_type": "stream",
     "text": [
      "C:\\Users\\User\\.conda\\envs\\theano_v1\\lib\\site-packages\\keras\\callbacks\\callbacks.py:95: RuntimeWarning: Method (on_train_batch_end) is slow compared to the batch update (0.103343). Check your callbacks.\n",
      "  % (hook_name, delta_t_median), RuntimeWarning)\n"
     ]
    },
    {
     "name": "stdout",
     "output_type": "stream",
     "text": [
      "87006/87006 [==============================] - 32s 365us/step - loss: 1.5699e-06\n",
      "Epoch 200/3000\n",
      "87006/87006 [==============================] - 26s 300us/step - loss: 1.5616e-06 - val_loss: 1.8176e-06\n",
      "Epoch 201/3000\n",
      "87006/87006 [==============================] - 24s 272us/step - loss: 1.5567e-068s -  - ETA: 6s - loss: 1.5274e - ETA: 6s - ETA: 4s - loss:\n",
      "Epoch 202/3000\n",
      "87006/87006 [==============================] - 25s 290us/step - loss: 1.5729e-06\n",
      "Epoch 203/3000\n",
      "87006/87006 [==============================] - 24s 281us/step - loss: 1.5660e-063s - loss: 1.5780e \n",
      "Epoch 204/3000\n",
      "87006/87006 [==============================] - 25s 284us/step - loss: 1.5540e-06\n",
      "Epoch 205/3000\n",
      "87006/87006 [==============================] - 24s 270us/step - loss: 1.5575e-066s - loss: 1.58\n",
      "Epoch 206/3000\n",
      "87006/87006 [==============================] - 24s 277us/step - loss: 1.5614e-06\n",
      "Epoch 207/3000\n",
      "67500/87006 [======================>.......] - ETA: 5s - loss: 1.5804e-06"
     ]
    },
    {
     "name": "stderr",
     "output_type": "stream",
     "text": [
      "C:\\Users\\User\\.conda\\envs\\theano_v1\\lib\\site-packages\\keras\\callbacks\\callbacks.py:95: RuntimeWarning: Method (on_train_batch_end) is slow compared to the batch update (0.100841). Check your callbacks.\n",
      "  % (hook_name, delta_t_median), RuntimeWarning)\n"
     ]
    },
    {
     "name": "stdout",
     "output_type": "stream",
     "text": [
      "68700/87006 [======================>.......] - ETA: 5s - loss: 1.5761e-06"
     ]
    },
    {
     "name": "stderr",
     "output_type": "stream",
     "text": [
      "C:\\Users\\User\\.conda\\envs\\theano_v1\\lib\\site-packages\\keras\\callbacks\\callbacks.py:95: RuntimeWarning: Method (on_train_batch_end) is slow compared to the batch update (0.102227). Check your callbacks.\n",
      "  % (hook_name, delta_t_median), RuntimeWarning)\n"
     ]
    },
    {
     "name": "stdout",
     "output_type": "stream",
     "text": [
      "87006/87006 [==============================] - 26s 298us/step - loss: 1.5563e-061s -\n",
      "Epoch 208/3000\n",
      " 1200/87006 [..............................] - ETA: 24s - loss: 1.3704e-06"
     ]
    },
    {
     "name": "stderr",
     "output_type": "stream",
     "text": [
      "C:\\Users\\User\\.conda\\envs\\theano_v1\\lib\\site-packages\\keras\\callbacks\\callbacks.py:95: RuntimeWarning: Method (on_train_batch_end) is slow compared to the batch update (0.105057). Check your callbacks.\n",
      "  % (hook_name, delta_t_median), RuntimeWarning)\n"
     ]
    },
    {
     "name": "stdout",
     "output_type": "stream",
     "text": [
      "87006/87006 [==============================] - 25s 285us/step - loss: 1.5591e-06: 1s - l\n",
      "Epoch 209/3000\n",
      "87006/87006 [==============================] - 24s 274us/step - loss: 1.5601e-060s - loss: 1\n",
      "Epoch 210/3000\n",
      "87006/87006 [==============================] - 21s 241us/step - loss: 1.5644e-06\n",
      "Epoch 211/3000\n",
      "87006/87006 [==============================] - 24s 276us/step - loss: 1.5529e-061s - l\n",
      "Epoch 212/3000\n",
      "35400/87006 [===========>..................] - ETA: 16s - loss: 1.5912e-06"
     ]
    },
    {
     "name": "stderr",
     "output_type": "stream",
     "text": [
      "C:\\Users\\User\\.conda\\envs\\theano_v1\\lib\\site-packages\\keras\\callbacks\\callbacks.py:95: RuntimeWarning: Method (on_train_batch_end) is slow compared to the batch update (0.136497). Check your callbacks.\n",
      "  % (hook_name, delta_t_median), RuntimeWarning)\n"
     ]
    },
    {
     "name": "stdout",
     "output_type": "stream",
     "text": [
      "36000/87006 [===========>..................] - ETA: 16s - loss: 1.5845e-06"
     ]
    },
    {
     "name": "stderr",
     "output_type": "stream",
     "text": [
      "C:\\Users\\User\\.conda\\envs\\theano_v1\\lib\\site-packages\\keras\\callbacks\\callbacks.py:95: RuntimeWarning: Method (on_train_batch_end) is slow compared to the batch update (0.174816). Check your callbacks.\n",
      "  % (hook_name, delta_t_median), RuntimeWarning)\n"
     ]
    },
    {
     "name": "stdout",
     "output_type": "stream",
     "text": [
      "36900/87006 [===========>..................] - ETA: 17s - loss: 1.5784e-06"
     ]
    },
    {
     "name": "stderr",
     "output_type": "stream",
     "text": [
      "C:\\Users\\User\\.conda\\envs\\theano_v1\\lib\\site-packages\\keras\\callbacks\\callbacks.py:95: RuntimeWarning: Method (on_train_batch_end) is slow compared to the batch update (0.153065). Check your callbacks.\n",
      "  % (hook_name, delta_t_median), RuntimeWarning)\n"
     ]
    },
    {
     "name": "stdout",
     "output_type": "stream",
     "text": [
      "87006/87006 [==============================] - 21s 247us/step - loss: 1.5645e-06\n",
      "Epoch 213/3000\n",
      "87006/87006 [==============================] - 22s 247us/step - loss: 1.5594e-069s - ETA: 2s - loss: 1\n",
      "Epoch 214/3000\n",
      "87006/87006 [==============================] - 24s 273us/step - loss: 1.5558e-06TA: 1\n",
      "Epoch 215/3000\n",
      "87006/87006 [==============================] - 27s 308us/step - loss: 1.5621e-06\n",
      "Epoch 216/3000\n",
      "87006/87006 [==============================] - 26s 302us/step - loss: 1.5729e-06\n",
      "Epoch 217/3000\n",
      "87006/87006 [==============================] - 23s 270us/step - loss: 1.5624e-06\n",
      "Epoch 218/3000\n",
      "  600/87006 [..............................] - ETA: 34s - loss: 1.4511e-06"
     ]
    },
    {
     "name": "stderr",
     "output_type": "stream",
     "text": [
      "C:\\Users\\User\\.conda\\envs\\theano_v1\\lib\\site-packages\\keras\\callbacks\\callbacks.py:95: RuntimeWarning: Method (on_train_batch_end) is slow compared to the batch update (0.110758). Check your callbacks.\n",
      "  % (hook_name, delta_t_median), RuntimeWarning)\n"
     ]
    },
    {
     "name": "stdout",
     "output_type": "stream",
     "text": [
      "87006/87006 [==============================] - 26s 295us/step - loss: 1.5532e-062s\n",
      "Epoch 219/3000\n",
      "87006/87006 [==============================] - 24s 270us/step - loss: 1.5627e-062s - loss: 1.5 - ETA: 2s - ETA: 0s - loss: 1.5483 - ETA: 0s - loss: 1.55\n",
      "Epoch 220/3000\n",
      "87006/87006 [==============================] - 22s 257us/step - loss: 1.5602e-06\n",
      "Epoch 221/3000\n",
      "87006/87006 [==============================] - 28s 323us/step - loss: 1.5552e-06\n",
      "Epoch 222/3000\n",
      "87006/87006 [==============================] - 24s 274us/step - loss: 1.5555e-06\n",
      "Epoch 223/3000\n",
      "87006/87006 [==============================] - 27s 316us/step - loss: 1.5604e-063s - l - ETA: 1s - los\n",
      "Epoch 224/3000\n",
      "64200/87006 [=====================>........] - ETA: 6s - loss: 1.5767e-06"
     ]
    },
    {
     "name": "stderr",
     "output_type": "stream",
     "text": [
      "C:\\Users\\User\\.conda\\envs\\theano_v1\\lib\\site-packages\\keras\\callbacks\\callbacks.py:95: RuntimeWarning: Method (on_train_batch_end) is slow compared to the batch update (0.102064). Check your callbacks.\n",
      "  % (hook_name, delta_t_median), RuntimeWarning)\n"
     ]
    },
    {
     "name": "stdout",
     "output_type": "stream",
     "text": [
      "87006/87006 [==============================] - 24s 279us/step - loss: 1.5591e-060s - loss: 1.\n",
      "Epoch 225/3000\n",
      "87006/87006 [==============================] - 24s 281us/step - loss: 1.5566e-06\n",
      "Epoch 226/3000\n",
      "53100/87006 [=================>............] - ETA: 10s - loss: 1.6046e-06"
     ]
    },
    {
     "name": "stderr",
     "output_type": "stream",
     "text": [
      "C:\\Users\\User\\.conda\\envs\\theano_v1\\lib\\site-packages\\keras\\callbacks\\callbacks.py:95: RuntimeWarning: Method (on_train_batch_end) is slow compared to the batch update (0.107441). Check your callbacks.\n",
      "  % (hook_name, delta_t_median), RuntimeWarning)\n",
      "C:\\Users\\User\\.conda\\envs\\theano_v1\\lib\\site-packages\\keras\\callbacks\\callbacks.py:95: RuntimeWarning: Method (on_train_batch_end) is slow compared to the batch update (0.111212). Check your callbacks.\n",
      "  % (hook_name, delta_t_median), RuntimeWarning)\n"
     ]
    },
    {
     "name": "stdout",
     "output_type": "stream",
     "text": [
      "54300/87006 [=================>............] - ETA: 10s - loss: 1.5967e-06"
     ]
    },
    {
     "name": "stderr",
     "output_type": "stream",
     "text": [
      "C:\\Users\\User\\.conda\\envs\\theano_v1\\lib\\site-packages\\keras\\callbacks\\callbacks.py:95: RuntimeWarning: Method (on_train_batch_end) is slow compared to the batch update (0.102754). Check your callbacks.\n",
      "  % (hook_name, delta_t_median), RuntimeWarning)\n"
     ]
    },
    {
     "name": "stdout",
     "output_type": "stream",
     "text": [
      "87006/87006 [==============================] - 26s 299us/step - loss: 1.5709e-06\n",
      "Epoch 227/3000\n",
      "87006/87006 [==============================] - 24s 275us/step - loss: 1.5579e-06\n",
      "Epoch 228/3000\n",
      "  900/87006 [..............................] - ETA: 26s - loss: 1.9079e-06"
     ]
    },
    {
     "name": "stderr",
     "output_type": "stream",
     "text": [
      "C:\\Users\\User\\.conda\\envs\\theano_v1\\lib\\site-packages\\keras\\callbacks\\callbacks.py:95: RuntimeWarning: Method (on_train_batch_end) is slow compared to the batch update (0.114016). Check your callbacks.\n",
      "  % (hook_name, delta_t_median), RuntimeWarning)\n"
     ]
    },
    {
     "name": "stdout",
     "output_type": "stream",
     "text": [
      "87006/87006 [==============================] - 25s 289us/step - loss: 1.5648e-060s - loss: 1.5649e-0\n",
      "Epoch 229/3000\n",
      "  900/87006 [..............................] - ETA: 27s - loss: 1.4013e-06"
     ]
    },
    {
     "name": "stderr",
     "output_type": "stream",
     "text": [
      "C:\\Users\\User\\.conda\\envs\\theano_v1\\lib\\site-packages\\keras\\callbacks\\callbacks.py:95: RuntimeWarning: Method (on_train_batch_end) is slow compared to the batch update (0.107124). Check your callbacks.\n",
      "  % (hook_name, delta_t_median), RuntimeWarning)\n"
     ]
    },
    {
     "name": "stdout",
     "output_type": "stream",
     "text": [
      "87006/87006 [==============================] - 27s 312us/step - loss: 1.5672e-061s - \n",
      "Epoch 230/3000\n",
      "18600/87006 [=====>........................] - ETA: 22s - loss: 1.6943e-06"
     ]
    },
    {
     "name": "stderr",
     "output_type": "stream",
     "text": [
      "C:\\Users\\User\\.conda\\envs\\theano_v1\\lib\\site-packages\\keras\\callbacks\\callbacks.py:95: RuntimeWarning: Method (on_train_batch_end) is slow compared to the batch update (0.101403). Check your callbacks.\n",
      "  % (hook_name, delta_t_median), RuntimeWarning)\n"
     ]
    },
    {
     "name": "stdout",
     "output_type": "stream",
     "text": [
      "87006/87006 [==============================] - 22s 256us/step - loss: 1.5559e-06\n",
      "Epoch 231/3000\n",
      "87006/87006 [==============================] - 24s 272us/step - loss: 1.5562e-062s - loss: 1 - ETA: 1s - l - ETA: 0s - loss: 1.557 - ETA: 0s - loss: 1.5562e-\n",
      "Epoch 232/3000\n",
      "80100/87006 [==========================>...] - ETA: 2s - loss: 1.5677e-06"
     ]
    },
    {
     "name": "stderr",
     "output_type": "stream",
     "text": [
      "C:\\Users\\User\\.conda\\envs\\theano_v1\\lib\\site-packages\\keras\\callbacks\\callbacks.py:95: RuntimeWarning: Method (on_train_batch_end) is slow compared to the batch update (0.100311). Check your callbacks.\n",
      "  % (hook_name, delta_t_median), RuntimeWarning)\n"
     ]
    },
    {
     "name": "stdout",
     "output_type": "stream",
     "text": [
      "87006/87006 [==============================] - 27s 311us/step - loss: 1.5599e-06\n",
      "Epoch 233/3000\n",
      "87006/87006 [==============================] - 27s 313us/step - loss: 1.5565e-061s - loss: 1.557 - ETA: 0s - loss: 1.\n",
      "Epoch 234/3000\n",
      " 1200/87006 [..............................] - ETA: 44s - loss: 1.7766e-06"
     ]
    },
    {
     "name": "stderr",
     "output_type": "stream",
     "text": [
      "C:\\Users\\User\\.conda\\envs\\theano_v1\\lib\\site-packages\\keras\\callbacks\\callbacks.py:95: RuntimeWarning: Method (on_train_batch_end) is slow compared to the batch update (0.106982). Check your callbacks.\n",
      "  % (hook_name, delta_t_median), RuntimeWarning)\n",
      "C:\\Users\\User\\.conda\\envs\\theano_v1\\lib\\site-packages\\keras\\callbacks\\callbacks.py:95: RuntimeWarning: Method (on_train_batch_end) is slow compared to the batch update (0.120678). Check your callbacks.\n",
      "  % (hook_name, delta_t_median), RuntimeWarning)\n"
     ]
    },
    {
     "name": "stdout",
     "output_type": "stream",
     "text": [
      "87006/87006 [==============================] - 27s 308us/step - loss: 1.5566e-061s - loss:\n",
      "Epoch 235/3000\n",
      "87006/87006 [==============================] - 24s 274us/step - loss: 1.5533e-06\n",
      "Epoch 236/3000\n",
      "87006/87006 [==============================] - 28s 316us/step - loss: 1.5610e-06\n",
      "Epoch 237/3000\n",
      "87006/87006 [==============================] - 26s 305us/step - loss: 1.5618e-0612s - loss - ETA:   - ETA: 8s - loss: 1. - ETA\n",
      "Epoch 238/3000\n",
      "87006/87006 [==============================] - 25s 286us/step - loss: 1.5495e-062\n",
      "Epoch 239/3000\n",
      "87006/87006 [==============================] - 22s 258us/step - loss: 1.5585e-061s - loss\n",
      "Epoch 240/3000\n",
      "  900/87006 [..............................] - ETA: 33s - loss: 2.0644e-06 ETA: 39s - loss: 2.4101e-"
     ]
    },
    {
     "name": "stderr",
     "output_type": "stream",
     "text": [
      "C:\\Users\\User\\.conda\\envs\\theano_v1\\lib\\site-packages\\keras\\callbacks\\callbacks.py:95: RuntimeWarning: Method (on_train_batch_end) is slow compared to the batch update (0.160816). Check your callbacks.\n",
      "  % (hook_name, delta_t_median), RuntimeWarning)\n",
      "C:\\Users\\User\\.conda\\envs\\theano_v1\\lib\\site-packages\\keras\\callbacks\\callbacks.py:95: RuntimeWarning: Method (on_train_batch_end) is slow compared to the batch update (0.116352). Check your callbacks.\n",
      "  % (hook_name, delta_t_median), RuntimeWarning)\n"
     ]
    },
    {
     "name": "stdout",
     "output_type": "stream",
     "text": [
      "31200/87006 [=========>....................] - ETA: 17s - loss: 1.5183e-06"
     ]
    },
    {
     "name": "stderr",
     "output_type": "stream",
     "text": [
      "C:\\Users\\User\\.conda\\envs\\theano_v1\\lib\\site-packages\\keras\\callbacks\\callbacks.py:95: RuntimeWarning: Method (on_train_batch_end) is slow compared to the batch update (0.112803). Check your callbacks.\n",
      "  % (hook_name, delta_t_median), RuntimeWarning)\n"
     ]
    },
    {
     "name": "stdout",
     "output_type": "stream",
     "text": [
      "87006/87006 [==============================] - 29s 329us/step - loss: 1.5670e-06\n",
      "Epoch 241/3000\n",
      "23100/87006 [======>.......................] - ETA: 21s - loss: 1.4948e-06 ETA: 19s "
     ]
    },
    {
     "name": "stderr",
     "output_type": "stream",
     "text": [
      "C:\\Users\\User\\.conda\\envs\\theano_v1\\lib\\site-packages\\keras\\callbacks\\callbacks.py:95: RuntimeWarning: Method (on_train_batch_end) is slow compared to the batch update (0.117204). Check your callbacks.\n",
      "  % (hook_name, delta_t_median), RuntimeWarning)\n",
      "C:\\Users\\User\\.conda\\envs\\theano_v1\\lib\\site-packages\\keras\\callbacks\\callbacks.py:95: RuntimeWarning: Method (on_train_batch_end) is slow compared to the batch update (0.105132). Check your callbacks.\n",
      "  % (hook_name, delta_t_median), RuntimeWarning)\n"
     ]
    },
    {
     "name": "stdout",
     "output_type": "stream",
     "text": [
      "23700/87006 [=======>......................] - ETA: 21s - loss: 1.5088e-06"
     ]
    },
    {
     "name": "stderr",
     "output_type": "stream",
     "text": [
      "C:\\Users\\User\\.conda\\envs\\theano_v1\\lib\\site-packages\\keras\\callbacks\\callbacks.py:95: RuntimeWarning: Method (on_train_batch_end) is slow compared to the batch update (0.129280). Check your callbacks.\n",
      "  % (hook_name, delta_t_median), RuntimeWarning)\n"
     ]
    },
    {
     "name": "stdout",
     "output_type": "stream",
     "text": [
      "87006/87006 [==============================] - 25s 282us/step - loss: 1.5582e-06\n",
      "Epoch 242/3000\n",
      "87006/87006 [==============================] - 25s 282us/step - loss: 1.5572e-0610s - loss: 1.\n",
      "Epoch 243/3000\n",
      "87006/87006 [==============================] - 23s 260us/step - loss: 1.5656e-061s - loss\n",
      "Epoch 244/3000\n",
      "87006/87006 [==============================] - 22s 254us/step - loss: 1.5538e-062s - loss - ETA: 1s \n",
      "Epoch 245/3000\n",
      "87006/87006 [==============================] - 25s 283us/step - loss: 1.5755e-06\n",
      "Epoch 246/3000\n",
      "87006/87006 [==============================] - 25s 290us/step - loss: 1.5542e-06\n",
      "Epoch 247/3000\n",
      "87006/87006 [==============================] - 27s 306us/step - loss: 1.5619e-061s - loss: \n",
      "Epoch 248/3000\n",
      " 1200/87006 [..............................] - ETA: 32s - loss: 1.8653e-06"
     ]
    },
    {
     "name": "stderr",
     "output_type": "stream",
     "text": [
      "C:\\Users\\User\\.conda\\envs\\theano_v1\\lib\\site-packages\\keras\\callbacks\\callbacks.py:95: RuntimeWarning: Method (on_train_batch_end) is slow compared to the batch update (0.108183). Check your callbacks.\n",
      "  % (hook_name, delta_t_median), RuntimeWarning)\n"
     ]
    },
    {
     "name": "stdout",
     "output_type": "stream",
     "text": [
      "87006/87006 [==============================] - 23s 267us/step - loss: 1.5605e-063s - \n",
      "Epoch 249/3000\n",
      "87006/87006 [==============================] - 25s 293us/step - loss: 1.5598e-06\n",
      "Epoch 250/3000\n",
      "87006/87006 [==============================] - 26s 296us/step - loss: 1.5567e-06\n",
      "Epoch 251/3000\n",
      "87006/87006 [==============================] - 21s 246us/step - loss: 1.5617e-062s - los - ETA:\n",
      "Epoch 252/3000\n",
      "87006/87006 [==============================] - 26s 297us/step - loss: 1.5594e-06\n",
      "Epoch 253/3000\n",
      "69900/87006 [=======================>......] - ETA: 5s - loss: 1.5695e-06- ETA: 9s - l - ETA: 8s - loss: 1. - ETA: 7s - l - ETA: 5s - loss: 1"
     ]
    },
    {
     "name": "stderr",
     "output_type": "stream",
     "text": [
      "C:\\Users\\User\\.conda\\envs\\theano_v1\\lib\\site-packages\\keras\\callbacks\\callbacks.py:95: RuntimeWarning: Method (on_train_batch_end) is slow compared to the batch update (0.100736). Check your callbacks.\n",
      "  % (hook_name, delta_t_median), RuntimeWarning)\n"
     ]
    },
    {
     "name": "stdout",
     "output_type": "stream",
     "text": [
      "87006/87006 [==============================] - 25s 286us/step - loss: 1.5605e-060s - loss: 1.5717 - ETA: 0s - loss: 1.567\n",
      "Epoch 254/3000\n",
      "87006/87006 [==============================] - 28s 320us/step - loss: 1.5525e-06\n",
      "Epoch 255/3000\n",
      "69900/87006 [=======================>......] - ETA: 4s - loss: 1.5240e-06"
     ]
    },
    {
     "name": "stderr",
     "output_type": "stream",
     "text": [
      "C:\\Users\\User\\.conda\\envs\\theano_v1\\lib\\site-packages\\keras\\callbacks\\callbacks.py:95: RuntimeWarning: Method (on_train_batch_end) is slow compared to the batch update (0.104766). Check your callbacks.\n",
      "  % (hook_name, delta_t_median), RuntimeWarning)\n",
      "C:\\Users\\User\\.conda\\envs\\theano_v1\\lib\\site-packages\\keras\\callbacks\\callbacks.py:95: RuntimeWarning: Method (on_train_batch_end) is slow compared to the batch update (0.113380). Check your callbacks.\n",
      "  % (hook_name, delta_t_median), RuntimeWarning)\n"
     ]
    },
    {
     "name": "stdout",
     "output_type": "stream",
     "text": [
      "71100/87006 [=======================>......] - ETA: 4s - loss: 1.5231e-06"
     ]
    },
    {
     "name": "stderr",
     "output_type": "stream",
     "text": [
      "C:\\Users\\User\\.conda\\envs\\theano_v1\\lib\\site-packages\\keras\\callbacks\\callbacks.py:95: RuntimeWarning: Method (on_train_batch_end) is slow compared to the batch update (0.116693). Check your callbacks.\n",
      "  % (hook_name, delta_t_median), RuntimeWarning)\n"
     ]
    },
    {
     "name": "stdout",
     "output_type": "stream",
     "text": [
      "87006/87006 [==============================] - 24s 272us/step - loss: 1.5538e-06\n",
      "Epoch 256/3000\n",
      "87006/87006 [==============================] - 26s 293us/step - loss: 1.5621e-06\n",
      "Epoch 257/3000\n",
      "87006/87006 [==============================] - 25s 288us/step - loss: 1.5594e-06\n",
      "Epoch 258/3000\n",
      "52800/87006 [=================>............] - ETA: 10s - loss: 1.5748e-06"
     ]
    },
    {
     "name": "stderr",
     "output_type": "stream",
     "text": [
      "C:\\Users\\User\\.conda\\envs\\theano_v1\\lib\\site-packages\\keras\\callbacks\\callbacks.py:95: RuntimeWarning: Method (on_train_batch_end) is slow compared to the batch update (0.101199). Check your callbacks.\n",
      "  % (hook_name, delta_t_median), RuntimeWarning)\n"
     ]
    },
    {
     "name": "stdout",
     "output_type": "stream",
     "text": [
      "87006/87006 [==============================] - 25s 287us/step - loss: 1.5564e-060s - loss: \n",
      "Epoch 259/3000\n",
      "87006/87006 [==============================] - 24s 276us/step - loss: 1.5558e-06\n",
      "Epoch 260/3000\n",
      "87006/87006 [==============================] - 24s 280us/step - loss: 1.5611e-06\n",
      "Epoch 261/3000\n",
      "87006/87006 [==============================] - 21s 242us/step - loss: 1.5685e-06\n",
      "Epoch 262/3000\n",
      "87006/87006 [==============================] - 25s 293us/step - loss: 1.5540e-061s - loss: 1 - ETA: 0s - loss: 1.5544\n",
      "Epoch 263/3000\n",
      "87006/87006 [==============================] - 24s 276us/step - loss: 1.5596e-062s - loss: 1.5735e-0 - ETA: 2s -\n",
      "Epoch 264/3000\n",
      " 1200/87006 [..............................] - ETA: 23s - loss: 1.2037e-06"
     ]
    },
    {
     "name": "stderr",
     "output_type": "stream",
     "text": [
      "C:\\Users\\User\\.conda\\envs\\theano_v1\\lib\\site-packages\\keras\\callbacks\\callbacks.py:95: RuntimeWarning: Method (on_train_batch_end) is slow compared to the batch update (0.101797). Check your callbacks.\n",
      "  % (hook_name, delta_t_median), RuntimeWarning)\n"
     ]
    },
    {
     "name": "stdout",
     "output_type": "stream",
     "text": [
      "87006/87006 [==============================] - 25s 286us/step - loss: 1.5581e-06\n",
      "Epoch 265/3000\n",
      "87006/87006 [==============================] - 25s 285us/step - loss: 1.5566e-062s \n",
      "Epoch 266/3000\n",
      "87006/87006 [==============================] - 23s 264us/step - loss: 1.5526e-06\n",
      "Epoch 267/3000\n",
      "87006/87006 [==============================] - 23s 261us/step - loss: 1.5658e-06\n",
      "Epoch 268/3000\n",
      "87006/87006 [==============================] - 23s 267us/step - loss: 1.5572e-06\n",
      "Epoch 269/3000\n",
      "87006/87006 [==============================] - 26s 296us/step - loss: 1.5555e-06\n",
      "Epoch 270/3000\n",
      "87006/87006 [==============================] - 22s 257us/step - loss: 1.5598e-06\n",
      "Epoch 271/3000\n",
      "85500/87006 [============================>.] - ETA: 0s - loss: 1.5585e-06"
     ]
    },
    {
     "name": "stderr",
     "output_type": "stream",
     "text": [
      "C:\\Users\\User\\.conda\\envs\\theano_v1\\lib\\site-packages\\keras\\callbacks\\callbacks.py:95: RuntimeWarning: Method (on_train_batch_end) is slow compared to the batch update (0.126285). Check your callbacks.\n",
      "  % (hook_name, delta_t_median), RuntimeWarning)\n"
     ]
    },
    {
     "name": "stdout",
     "output_type": "stream",
     "text": [
      "87006/87006 [==============================] - 27s 307us/step - loss: 1.5609e-06\n",
      "Epoch 272/3000\n",
      "87006/87006 [==============================] - 24s 276us/step - loss: 1.5517e-061s - loss: - ETA: 0s - loss: 1.553\n",
      "Epoch 273/3000\n",
      "87006/87006 [==============================] - 25s 285us/step - loss: 1.5598e-061s - loss: 1. - ETA: 0s - loss: 1.5544e\n",
      "Epoch 274/3000\n",
      " 1200/87006 [..............................] - ETA: 31s - loss: 1.6201e-06"
     ]
    },
    {
     "name": "stderr",
     "output_type": "stream",
     "text": [
      "C:\\Users\\User\\.conda\\envs\\theano_v1\\lib\\site-packages\\keras\\callbacks\\callbacks.py:95: RuntimeWarning: Method (on_train_batch_end) is slow compared to the batch update (0.114449). Check your callbacks.\n",
      "  % (hook_name, delta_t_median), RuntimeWarning)\n"
     ]
    },
    {
     "name": "stdout",
     "output_type": "stream",
     "text": [
      "87006/87006 [==============================] - 24s 271us/step - loss: 1.5583e-06\n",
      "Epoch 275/3000\n",
      "87006/87006 [==============================] - 23s 270us/step - loss: 1.5507e-063s - lo - ETA: 1\n",
      "Epoch 276/3000\n",
      "87006/87006 [==============================] - 24s 278us/step - loss: 1.5580e-06- E - E\n",
      "Epoch 277/3000\n",
      "87006/87006 [==============================] - 25s 286us/step - loss: 1.5582e-06\n",
      "Epoch 278/3000\n",
      "87006/87006 [==============================] - 23s 268us/step - loss: 1.5556e-06\n",
      "Epoch 279/3000\n",
      "87006/87006 [==============================] - 20s 235us/step - loss: 1.5710e-06\n",
      "Epoch 280/3000\n",
      "79200/87006 [==========================>...] - ETA: 2s - loss: 1.5688e-06- ETA: 2s - loss: 1.5701e-"
     ]
    },
    {
     "name": "stderr",
     "output_type": "stream",
     "text": [
      "C:\\Users\\User\\.conda\\envs\\theano_v1\\lib\\site-packages\\keras\\callbacks\\callbacks.py:95: RuntimeWarning: Method (on_train_batch_end) is slow compared to the batch update (0.117146). Check your callbacks.\n",
      "  % (hook_name, delta_t_median), RuntimeWarning)\n"
     ]
    },
    {
     "name": "stdout",
     "output_type": "stream",
     "text": [
      "87006/87006 [==============================] - 23s 263us/step - loss: 1.5604e-06\n",
      "Epoch 281/3000\n",
      "87006/87006 [==============================] - 22s 256us/step - loss: 1.5595e-06 9s - loss: 1.5407e-0 - ETA: 9s - loss: 1 - ETA - ETA: 0s - loss: 1.564 - ETA: 0s - loss: 1.5598\n",
      "Epoch 282/3000\n",
      "87006/87006 [==============================] - 25s 287us/step - loss: 1.5574e-06\n",
      "Epoch 283/3000\n",
      "87006/87006 [==============================] - 21s 245us/step - loss: 1.5667e-06\n",
      "Epoch 284/3000\n",
      "87006/87006 [==============================] - 23s 267us/step - loss: 1.5535e-06\n",
      "Epoch 285/3000\n",
      "87006/87006 [==============================] - 23s 267us/step - loss: 1.5592e-06\n",
      "Epoch 286/3000\n",
      "  900/87006 [..............................] - ETA: 27s - loss: 1.2655e-06"
     ]
    },
    {
     "name": "stderr",
     "output_type": "stream",
     "text": [
      "C:\\Users\\User\\.conda\\envs\\theano_v1\\lib\\site-packages\\keras\\callbacks\\callbacks.py:95: RuntimeWarning: Method (on_train_batch_end) is slow compared to the batch update (0.105988). Check your callbacks.\n",
      "  % (hook_name, delta_t_median), RuntimeWarning)\n"
     ]
    },
    {
     "name": "stdout",
     "output_type": "stream",
     "text": [
      "20100/87006 [=====>........................] - ETA: 20s - loss: 1.4826e-06"
     ]
    },
    {
     "name": "stderr",
     "output_type": "stream",
     "text": [
      "C:\\Users\\User\\.conda\\envs\\theano_v1\\lib\\site-packages\\keras\\callbacks\\callbacks.py:95: RuntimeWarning: Method (on_train_batch_end) is slow compared to the batch update (0.101900). Check your callbacks.\n",
      "  % (hook_name, delta_t_median), RuntimeWarning)\n"
     ]
    },
    {
     "name": "stdout",
     "output_type": "stream",
     "text": [
      "20700/87006 [======>.......................] - ETA: 20s - loss: 1.4788e-"
     ]
    },
    {
     "name": "stderr",
     "output_type": "stream",
     "text": [
      "C:\\Users\\User\\.conda\\envs\\theano_v1\\lib\\site-packages\\keras\\callbacks\\callbacks.py:95: RuntimeWarning: Method (on_train_batch_end) is slow compared to the batch update (0.109709). Check your callbacks.\n",
      "  % (hook_name, delta_t_median), RuntimeWarning)\n"
     ]
    },
    {
     "name": "stdout",
     "output_type": "stream",
     "text": [
      "87006/87006 [==============================] - 20s 231us/step - loss: 1.5584e-06\n",
      "Epoch 287/3000\n",
      "87006/87006 [==============================] - 22s 247us/step - loss: 1.5536e-06\n",
      "Epoch 288/3000\n",
      "87006/87006 [==============================] - 23s 265us/step - loss: 1.5564e-06\n",
      "Epoch 289/3000\n",
      "87006/87006 [==============================] - 23s 270us/step - loss: 1.5595e-063s - lo - ETA: 1s -\n",
      "Epoch 290/3000\n",
      "87006/87006 [==============================] - 24s 276us/step - loss: 1.5660e-060s - loss: 1.5670e\n",
      "Epoch 291/3000\n",
      "87006/87006 [==============================] - 25s 288us/step - loss: 1.5664e-06\n",
      "Epoch 292/3000\n",
      " 1800/87006 [..............................] - ETA: 30s - loss: 1.4351e-06"
     ]
    },
    {
     "name": "stderr",
     "output_type": "stream",
     "text": [
      "C:\\Users\\User\\.conda\\envs\\theano_v1\\lib\\site-packages\\keras\\callbacks\\callbacks.py:95: RuntimeWarning: Method (on_train_batch_end) is slow compared to the batch update (0.101729). Check your callbacks.\n",
      "  % (hook_name, delta_t_median), RuntimeWarning)\n"
     ]
    },
    {
     "name": "stdout",
     "output_type": "stream",
     "text": [
      "87006/87006 [==============================] - 22s 256us/step - loss: 1.5627e-067s  - ETA: 6s - loss: 1. - E - ETA: 4s\n",
      "Epoch 293/3000\n",
      " 1800/87006 [..............................] - ETA: 25s - loss: 1.7327e-06"
     ]
    },
    {
     "name": "stderr",
     "output_type": "stream",
     "text": [
      "C:\\Users\\User\\.conda\\envs\\theano_v1\\lib\\site-packages\\keras\\callbacks\\callbacks.py:95: RuntimeWarning: Method (on_train_batch_end) is slow compared to the batch update (0.103854). Check your callbacks.\n",
      "  % (hook_name, delta_t_median), RuntimeWarning)\n"
     ]
    },
    {
     "name": "stdout",
     "output_type": "stream",
     "text": [
      "87006/87006 [==============================] - 20s 234us/step - loss: 1.5585e-06\n",
      "Epoch 294/3000\n",
      "87006/87006 [==============================] - 17s 200us/step - loss: 1.5587e-06 E\n",
      "Epoch 295/3000\n",
      "87006/87006 [==============================] - 24s 274us/step - loss: 1.5599e-06\n",
      "Epoch 296/3000\n",
      "87006/87006 [==============================] - 24s 280us/step - loss: 1.5506e-06\n",
      "Epoch 297/3000\n",
      "  900/87006 [..............................] - ETA: 32s - loss: 1.5752e-06"
     ]
    },
    {
     "name": "stderr",
     "output_type": "stream",
     "text": [
      "C:\\Users\\User\\.conda\\envs\\theano_v1\\lib\\site-packages\\keras\\callbacks\\callbacks.py:95: RuntimeWarning: Method (on_train_batch_end) is slow compared to the batch update (0.141986). Check your callbacks.\n",
      "  % (hook_name, delta_t_median), RuntimeWarning)\n",
      "C:\\Users\\User\\.conda\\envs\\theano_v1\\lib\\site-packages\\keras\\callbacks\\callbacks.py:95: RuntimeWarning: Method (on_train_batch_end) is slow compared to the batch update (0.101431). Check your callbacks.\n",
      "  % (hook_name, delta_t_median), RuntimeWarning)\n"
     ]
    },
    {
     "name": "stdout",
     "output_type": "stream",
     "text": [
      "87006/87006 [==============================] - 24s 271us/step - loss: 1.5629e-060s - loss:\n",
      "Epoch 298/3000\n",
      "87006/87006 [==============================] - 24s 281us/step - loss: 1.5562e-06 ETA: 1s - loss: 1.55\n",
      "Epoch 299/3000\n",
      "87006/87006 [==============================] - 21s 242us/step - loss: 1.5584e-06\n",
      "Epoch 300/3000\n",
      "87006/87006 [==============================] - 21s 236us/step - loss: 1.5573e-06 - val_loss: 1.8083e-06\n",
      "Epoch 301/3000\n",
      "87006/87006 [==============================] - 26s 293us/step - loss: 1.5616e-06\n",
      "Epoch 302/3000\n",
      "87006/87006 [==============================] - 25s 284us/step - loss: 1.5591e-068s\n",
      "Epoch 303/3000\n",
      "  600/87006 [..............................] - ETA: 20s - loss: 1.7722e-06"
     ]
    },
    {
     "name": "stderr",
     "output_type": "stream",
     "text": [
      "C:\\Users\\User\\.conda\\envs\\theano_v1\\lib\\site-packages\\keras\\callbacks\\callbacks.py:95: RuntimeWarning: Method (on_train_batch_end) is slow compared to the batch update (0.126140). Check your callbacks.\n",
      "  % (hook_name, delta_t_median), RuntimeWarning)\n"
     ]
    },
    {
     "name": "stdout",
     "output_type": "stream",
     "text": [
      "87006/87006 [==============================] - 25s 288us/step - loss: 1.5576e-06\n",
      "Epoch 304/3000\n",
      " 1200/87006 [..............................] - ETA: 34s - loss: 1.3867e-06"
     ]
    },
    {
     "name": "stderr",
     "output_type": "stream",
     "text": [
      "C:\\Users\\User\\.conda\\envs\\theano_v1\\lib\\site-packages\\keras\\callbacks\\callbacks.py:95: RuntimeWarning: Method (on_train_batch_end) is slow compared to the batch update (0.138504). Check your callbacks.\n",
      "  % (hook_name, delta_t_median), RuntimeWarning)\n"
     ]
    },
    {
     "name": "stdout",
     "output_type": "stream",
     "text": [
      "87006/87006 [==============================] - 26s 304us/step - loss: 1.5680e-061s \n",
      "Epoch 305/3000\n",
      "87006/87006 [==============================] - 23s 263us/step - loss: 1.5568e-06\n",
      "Epoch 306/3000\n",
      "87006/87006 [==============================] - 23s 270us/step - loss: 1.5592e-06\n",
      "Epoch 307/3000\n",
      "87006/87006 [==============================] - 24s 280us/step - loss: 1.5560e-068s - loss: 1.59 - ETA: - ETA: 5s - loss - ETA: 4s \n",
      "Epoch 308/3000\n",
      "87006/87006 [==============================] - 23s 260us/step - loss: 1.5659e-061s - l\n",
      "Epoch 309/3000\n",
      "87006/87006 [==============================] - 22s 247us/step - loss: 1.5572e-060s - loss: 1\n",
      "Epoch 310/3000\n",
      "87006/87006 [==============================] - 22s 251us/step - loss: 1.5577e-060s - loss: \n",
      "Epoch 311/3000\n",
      "46500/87006 [===============>..............] - ETA: 11s - loss: 1.5467e-06"
     ]
    },
    {
     "name": "stderr",
     "output_type": "stream",
     "text": [
      "C:\\Users\\User\\.conda\\envs\\theano_v1\\lib\\site-packages\\keras\\callbacks\\callbacks.py:95: RuntimeWarning: Method (on_train_batch_end) is slow compared to the batch update (0.100072). Check your callbacks.\n",
      "  % (hook_name, delta_t_median), RuntimeWarning)\n"
     ]
    },
    {
     "name": "stdout",
     "output_type": "stream",
     "text": [
      "48000/87006 [===============>..............] - ETA: 10s - loss: 1.5425e-06"
     ]
    },
    {
     "name": "stderr",
     "output_type": "stream",
     "text": [
      "C:\\Users\\User\\.conda\\envs\\theano_v1\\lib\\site-packages\\keras\\callbacks\\callbacks.py:95: RuntimeWarning: Method (on_train_batch_end) is slow compared to the batch update (0.101731). Check your callbacks.\n",
      "  % (hook_name, delta_t_median), RuntimeWarning)\n"
     ]
    },
    {
     "name": "stdout",
     "output_type": "stream",
     "text": [
      "48900/87006 [===============>..............] - ETA: 10s - loss: 1.5444e-06"
     ]
    },
    {
     "name": "stderr",
     "output_type": "stream",
     "text": [
      "C:\\Users\\User\\.conda\\envs\\theano_v1\\lib\\site-packages\\keras\\callbacks\\callbacks.py:95: RuntimeWarning: Method (on_train_batch_end) is slow compared to the batch update (0.102674). Check your callbacks.\n",
      "  % (hook_name, delta_t_median), RuntimeWarning)\n"
     ]
    },
    {
     "name": "stdout",
     "output_type": "stream",
     "text": [
      "50700/87006 [================>.............] - ETA: 10s - loss: 1.5410e-06"
     ]
    },
    {
     "name": "stderr",
     "output_type": "stream",
     "text": [
      "C:\\Users\\User\\.conda\\envs\\theano_v1\\lib\\site-packages\\keras\\callbacks\\callbacks.py:95: RuntimeWarning: Method (on_train_batch_end) is slow compared to the batch update (0.105793). Check your callbacks.\n",
      "  % (hook_name, delta_t_median), RuntimeWarning)\n"
     ]
    },
    {
     "name": "stdout",
     "output_type": "stream",
     "text": [
      "87006/87006 [==============================] - 22s 252us/step - loss: 1.5614e-06\n",
      "Epoch 312/3000\n",
      "28200/87006 [========>.....................] - ETA: 17s - loss: 1.5019e-06"
     ]
    },
    {
     "name": "stderr",
     "output_type": "stream",
     "text": [
      "C:\\Users\\User\\.conda\\envs\\theano_v1\\lib\\site-packages\\keras\\callbacks\\callbacks.py:95: RuntimeWarning: Method (on_train_batch_end) is slow compared to the batch update (0.135178). Check your callbacks.\n",
      "  % (hook_name, delta_t_median), RuntimeWarning)\n"
     ]
    },
    {
     "name": "stdout",
     "output_type": "stream",
     "text": [
      "30000/87006 [=========>....................] - ETA: 18s - loss: 1.5125e-06"
     ]
    },
    {
     "name": "stderr",
     "output_type": "stream",
     "text": [
      "C:\\Users\\User\\.conda\\envs\\theano_v1\\lib\\site-packages\\keras\\callbacks\\callbacks.py:95: RuntimeWarning: Method (on_train_batch_end) is slow compared to the batch update (0.119899). Check your callbacks.\n",
      "  % (hook_name, delta_t_median), RuntimeWarning)\n"
     ]
    },
    {
     "name": "stdout",
     "output_type": "stream",
     "text": [
      "31800/87006 [=========>....................] - ETA: 18s - loss: 1.5211e-06"
     ]
    },
    {
     "name": "stderr",
     "output_type": "stream",
     "text": [
      "C:\\Users\\User\\.conda\\envs\\theano_v1\\lib\\site-packages\\keras\\callbacks\\callbacks.py:95: RuntimeWarning: Method (on_train_batch_end) is slow compared to the batch update (0.106388). Check your callbacks.\n",
      "  % (hook_name, delta_t_median), RuntimeWarning)\n"
     ]
    },
    {
     "name": "stdout",
     "output_type": "stream",
     "text": [
      "87006/87006 [==============================] - 21s 236us/step - loss: 1.5635e-06\n",
      "Epoch 313/3000\n",
      " 5400/87006 [>.............................] - ETA: 28s - loss: 1.4264e-06"
     ]
    },
    {
     "name": "stderr",
     "output_type": "stream",
     "text": [
      "C:\\Users\\User\\.conda\\envs\\theano_v1\\lib\\site-packages\\keras\\callbacks\\callbacks.py:95: RuntimeWarning: Method (on_train_batch_end) is slow compared to the batch update (0.102278). Check your callbacks.\n",
      "  % (hook_name, delta_t_median), RuntimeWarning)\n"
     ]
    },
    {
     "name": "stdout",
     "output_type": "stream",
     "text": [
      "87006/87006 [==============================] - 24s 280us/step - loss: 1.5557e-068s - loss: 1. - E - ETA: 1s - loss:\n",
      "Epoch 314/3000\n",
      "87006/87006 [==============================] - 21s 237us/step - loss: 1.5553e-06\n",
      "Epoch 315/3000\n",
      "87006/87006 [==============================] - 24s 279us/step - loss: 1.5590e-06\n",
      "Epoch 316/3000\n",
      "87006/87006 [==============================] - 22s 248us/step - loss: 1.5590e-069s - loss - ETA: 5s -  - ETA: 0s - loss: 1.56 - ETA: 0s - loss: 1.5604e- - ETA: 0s - loss: 1.55\n",
      "Epoch 317/3000\n",
      "87006/87006 [==============================] - 24s 277us/step - loss: 1.5652e-06 ETA: 0s - los\n",
      "Epoch 318/3000\n",
      "87006/87006 [==============================] - ETA: 0s - loss: 1.5559e-0 - 22s 255us/step - loss: 1.5548e-06\n",
      "Epoch 319/3000\n",
      "87006/87006 [==============================] - 22s 249us/step - loss: 1.5558e-06\n",
      "Epoch 320/3000\n",
      "87006/87006 [==============================] - ETA: 0s - loss: 1.5576e-0 - 23s 268us/step - loss: 1.5575e-06\n",
      "Epoch 321/3000\n",
      "87006/87006 [==============================] - 22s 255us/step - loss: 1.5522e-063s - los \n",
      "Epoch 322/3000\n",
      "87006/87006 [==============================] - 25s 291us/step - loss: 1.5552e-06\n",
      "Epoch 323/3000\n",
      "87006/87006 [==============================] - 26s 301us/step - loss: 1.5697e-06\n",
      "Epoch 324/3000\n",
      "  600/87006 [..............................] - ETA: 40s - loss: 1.8872e-06"
     ]
    },
    {
     "name": "stderr",
     "output_type": "stream",
     "text": [
      "C:\\Users\\User\\.conda\\envs\\theano_v1\\lib\\site-packages\\keras\\callbacks\\callbacks.py:95: RuntimeWarning: Method (on_train_batch_end) is slow compared to the batch update (0.103314). Check your callbacks.\n",
      "  % (hook_name, delta_t_median), RuntimeWarning)\n"
     ]
    },
    {
     "name": "stdout",
     "output_type": "stream",
     "text": [
      "53100/87006 [=================>............] - ETA: 11s - loss: 1.5540e-06"
     ]
    },
    {
     "name": "stderr",
     "output_type": "stream",
     "text": [
      "C:\\Users\\User\\.conda\\envs\\theano_v1\\lib\\site-packages\\keras\\callbacks\\callbacks.py:95: RuntimeWarning: Method (on_train_batch_end) is slow compared to the batch update (0.104267). Check your callbacks.\n",
      "  % (hook_name, delta_t_median), RuntimeWarning)\n"
     ]
    },
    {
     "name": "stdout",
     "output_type": "stream",
     "text": [
      "87006/87006 [==============================] - 26s 294us/step - loss: 1.5601e-06\n",
      "Epoch 325/3000\n",
      "87006/87006 [==============================] - 24s 273us/step - loss: 1.5561e-06\n",
      "Epoch 326/3000\n",
      "87006/87006 [==============================] - 25s 283us/step - loss: 1.5624e-060s - loss: 1.5\n",
      "Epoch 327/3000\n",
      "87006/87006 [==============================] - 29s 331us/step - loss: 1.5638e-060s - loss: 1.5639e-0\n",
      "Epoch 328/3000\n",
      "87006/87006 [==============================] - ETA: 0s - loss: 1.5586e-0 - 24s 278us/step - loss: 1.5585e-06\n",
      "Epoch 329/3000\n",
      "87006/87006 [==============================] - 25s 283us/step - loss: 1.5609e-06\n",
      "Epoch 330/3000\n",
      "87006/87006 [==============================] - 22s 253us/step - loss: 1.5549e-06\n",
      "Epoch 331/3000\n",
      "87006/87006 [==============================] - 21s 244us/step - loss: 1.5599e-06\n",
      "Epoch 332/3000\n",
      "87006/87006 [==============================] - 23s 270us/step - loss: 1.5606e-063s - loss: 1.\n",
      "Epoch 333/3000\n",
      "87006/87006 [==============================] - 24s 277us/step - loss: 1.5518e-0610s - loss: -  - ETA: 6 - ETA: 1s\n",
      "Epoch 334/3000\n",
      "87006/87006 [==============================] - 24s 281us/step - loss: 1.5568e-06\n",
      "Epoch 335/3000\n",
      "  900/87006 [..............................] - ETA: 27s - loss: 1.5519e-06"
     ]
    },
    {
     "name": "stderr",
     "output_type": "stream",
     "text": [
      "C:\\Users\\User\\.conda\\envs\\theano_v1\\lib\\site-packages\\keras\\callbacks\\callbacks.py:95: RuntimeWarning: Method (on_train_batch_end) is slow compared to the batch update (0.153425). Check your callbacks.\n",
      "  % (hook_name, delta_t_median), RuntimeWarning)\n"
     ]
    },
    {
     "name": "stdout",
     "output_type": "stream",
     "text": [
      "87006/87006 [==============================] - 27s 305us/step - loss: 1.5580e-061s - loss: 1.563 - ETA: 0s - loss: 1.56\n",
      "Epoch 336/3000\n",
      "67500/87006 [======================>.......] - ETA: 5s - loss: 1.5340e-06"
     ]
    },
    {
     "name": "stderr",
     "output_type": "stream",
     "text": [
      "C:\\Users\\User\\.conda\\envs\\theano_v1\\lib\\site-packages\\keras\\callbacks\\callbacks.py:95: RuntimeWarning: Method (on_train_batch_end) is slow compared to the batch update (0.107760). Check your callbacks.\n",
      "  % (hook_name, delta_t_median), RuntimeWarning)\n"
     ]
    },
    {
     "name": "stdout",
     "output_type": "stream",
     "text": [
      "87006/87006 [==============================] - 25s 292us/step - loss: 1.5590e-06\n",
      "Epoch 337/3000\n",
      "87006/87006 [==============================] - 26s 298us/step - loss: 1.5585e-06\n",
      "Epoch 338/3000\n",
      "87006/87006 [==============================] - 21s 245us/step - loss: 1.5593e-06\n",
      "Epoch 339/3000\n",
      "87006/87006 [==============================] - 24s 280us/step - loss: 1.5622e-066s - loss: 1. - E - ETA: 3s - - ETA:\n",
      "Epoch 340/3000\n",
      " 9600/87006 [==>...........................] - ETA: 29s - loss: 1.6590e-06"
     ]
    },
    {
     "name": "stderr",
     "output_type": "stream",
     "text": [
      "C:\\Users\\User\\.conda\\envs\\theano_v1\\lib\\site-packages\\keras\\callbacks\\callbacks.py:95: RuntimeWarning: Method (on_train_batch_end) is slow compared to the batch update (0.102001). Check your callbacks.\n",
      "  % (hook_name, delta_t_median), RuntimeWarning)\n"
     ]
    },
    {
     "name": "stdout",
     "output_type": "stream",
     "text": [
      "87006/87006 [==============================] - 25s 286us/step - loss: 1.5593e-06\n",
      "Epoch 341/3000\n",
      "35700/87006 [===========>..................] - ETA: 14s - loss: 1.6013e-06"
     ]
    },
    {
     "name": "stderr",
     "output_type": "stream",
     "text": [
      "C:\\Users\\User\\.conda\\envs\\theano_v1\\lib\\site-packages\\keras\\callbacks\\callbacks.py:95: RuntimeWarning: Method (on_train_batch_end) is slow compared to the batch update (0.101939). Check your callbacks.\n",
      "  % (hook_name, delta_t_median), RuntimeWarning)\n"
     ]
    },
    {
     "name": "stdout",
     "output_type": "stream",
     "text": [
      "87006/87006 [==============================] - 25s 288us/step - loss: 1.5562e-064s - loss - ETA: 2s - loss: 1.56 - ETA: 2s \n",
      "Epoch 342/3000\n",
      " 1800/87006 [..............................] - ETA: 1:00 - loss: 1.5347e-06"
     ]
    },
    {
     "name": "stderr",
     "output_type": "stream",
     "text": [
      "C:\\Users\\User\\.conda\\envs\\theano_v1\\lib\\site-packages\\keras\\callbacks\\callbacks.py:95: RuntimeWarning: Method (on_train_batch_end) is slow compared to the batch update (0.126328). Check your callbacks.\n",
      "  % (hook_name, delta_t_median), RuntimeWarning)\n"
     ]
    },
    {
     "name": "stdout",
     "output_type": "stream",
     "text": [
      "87006/87006 [==============================] - 27s 314us/step - loss: 1.5649e-06\n",
      "Epoch 343/3000\n",
      "87006/87006 [==============================] - 27s 310us/step - loss: 1.5564e-06\n",
      "Epoch 344/3000\n",
      "87006/87006 [==============================] - 24s 274us/step - loss: 1.5567e-06\n",
      "Epoch 345/3000\n",
      "87006/87006 [==============================] - 22s 254us/step - loss: 1.5556e-060s - loss: 1.5\n",
      "Epoch 346/3000\n",
      "87006/87006 [==============================] - 24s 271us/step - loss: 1.5575e-060s - loss: 1.5596e\n",
      "Epoch 347/3000\n",
      "87006/87006 [==============================] - 23s 263us/step - loss: 1.5624e-062s - loss: 1.5840 - ETA: 2s - loss: 1.5825e-\n",
      "Epoch 348/3000\n",
      "14100/87006 [===>..........................] - ETA: 29s - loss: 1.5512e-06"
     ]
    },
    {
     "name": "stderr",
     "output_type": "stream",
     "text": [
      "C:\\Users\\User\\.conda\\envs\\theano_v1\\lib\\site-packages\\keras\\callbacks\\callbacks.py:95: RuntimeWarning: Method (on_train_batch_end) is slow compared to the batch update (0.133355). Check your callbacks.\n",
      "  % (hook_name, delta_t_median), RuntimeWarning)\n"
     ]
    },
    {
     "name": "stdout",
     "output_type": "stream",
     "text": [
      "14700/87006 [====>.........................] - ETA: 28s - loss: 1.5327e-06"
     ]
    },
    {
     "name": "stderr",
     "output_type": "stream",
     "text": [
      "C:\\Users\\User\\.conda\\envs\\theano_v1\\lib\\site-packages\\keras\\callbacks\\callbacks.py:95: RuntimeWarning: Method (on_train_batch_end) is slow compared to the batch update (0.121377). Check your callbacks.\n",
      "  % (hook_name, delta_t_median), RuntimeWarning)\n"
     ]
    },
    {
     "name": "stdout",
     "output_type": "stream",
     "text": [
      "15600/87006 [====>.........................] - ETA: 28s - loss: 1.5233e-06"
     ]
    },
    {
     "name": "stderr",
     "output_type": "stream",
     "text": [
      "C:\\Users\\User\\.conda\\envs\\theano_v1\\lib\\site-packages\\keras\\callbacks\\callbacks.py:95: RuntimeWarning: Method (on_train_batch_end) is slow compared to the batch update (0.137029). Check your callbacks.\n",
      "  % (hook_name, delta_t_median), RuntimeWarning)\n",
      "C:\\Users\\User\\.conda\\envs\\theano_v1\\lib\\site-packages\\keras\\callbacks\\callbacks.py:95: RuntimeWarning: Method (on_train_batch_end) is slow compared to the batch update (0.103474). Check your callbacks.\n",
      "  % (hook_name, delta_t_median), RuntimeWarning)\n"
     ]
    },
    {
     "name": "stdout",
     "output_type": "stream",
     "text": [
      "81300/87006 [===========================>..] - ETA: 2s - loss: 1.5536e-06"
     ]
    },
    {
     "name": "stderr",
     "output_type": "stream",
     "text": [
      "C:\\Users\\User\\.conda\\envs\\theano_v1\\lib\\site-packages\\keras\\callbacks\\callbacks.py:95: RuntimeWarning: Method (on_train_batch_end) is slow compared to the batch update (0.106438). Check your callbacks.\n",
      "  % (hook_name, delta_t_median), RuntimeWarning)\n"
     ]
    },
    {
     "name": "stdout",
     "output_type": "stream",
     "text": [
      "87006/87006 [==============================] - 32s 364us/step - loss: 1.5538e-06\n",
      "Epoch 349/3000\n",
      "87006/87006 [==============================] - 20s 234us/step - loss: 1.5600e-06\n",
      "Epoch 350/3000\n",
      "81900/87006 [===========================>..] - ETA: 1s - loss: 1.5595e-06- ETA: 1s - loss: 1.5608e-0"
     ]
    },
    {
     "name": "stderr",
     "output_type": "stream",
     "text": [
      "C:\\Users\\User\\.conda\\envs\\theano_v1\\lib\\site-packages\\keras\\callbacks\\callbacks.py:95: RuntimeWarning: Method (on_train_batch_end) is slow compared to the batch update (0.100895). Check your callbacks.\n",
      "  % (hook_name, delta_t_median), RuntimeWarning)\n"
     ]
    },
    {
     "name": "stdout",
     "output_type": "stream",
     "text": [
      "87006/87006 [==============================] - 28s 318us/step - loss: 1.5595e-061s - loss:\n",
      "Epoch 351/3000\n",
      "87006/87006 [==============================] - 26s 300us/step - loss: 1.5595e-06\n",
      "Epoch 352/3000\n",
      "87006/87006 [==============================] - 24s 274us/step - loss: 1.5543e-06\n",
      "Epoch 353/3000\n",
      "87006/87006 [==============================] - 21s 243us/step - loss: 1.5601e-061s - \n",
      "Epoch 354/3000\n",
      "87006/87006 [==============================] - 23s 263us/step - loss: 1.5544e-06- ETA: 3s - loss: 1 - ETA:  - ETA: 0s - loss: 1.5560e-\n",
      "Epoch 355/3000\n",
      "87006/87006 [==============================] - 22s 250us/step - loss: 1.5592e-06\n",
      "Epoch 356/3000\n",
      "87006/87006 [==============================] - 25s 288us/step - loss: 1.5598e-0610s - loss: 1.5346 - ETA: 10 - ETA: 8s - loss: 1.5328e- - ETA: 8s - l - ETA: 3s  - ETA: 0s - loss: 1.5592 - ETA: 0s - loss: 1.55\n",
      "Epoch 357/3000\n",
      "87006/87006 [==============================] - 21s 245us/step - loss: 1.5570e-06\n",
      "Epoch 358/3000\n",
      "87006/87006 [==============================] - 17s 196us/step - loss: 1.5553e-06\n",
      "Epoch 359/3000\n",
      "87006/87006 [==============================] - 22s 252us/step - loss: 1.5594e-06\n",
      "Epoch 360/3000\n",
      "87006/87006 [==============================] - 20s 235us/step - loss: 1.5539e-06\n",
      "Epoch 361/3000\n",
      " 1500/87006 [..............................] - ETA: 46s - loss: 1.4479e-06"
     ]
    },
    {
     "name": "stderr",
     "output_type": "stream",
     "text": [
      "C:\\Users\\User\\.conda\\envs\\theano_v1\\lib\\site-packages\\keras\\callbacks\\callbacks.py:95: RuntimeWarning: Method (on_train_batch_end) is slow compared to the batch update (0.113993). Check your callbacks.\n",
      "  % (hook_name, delta_t_median), RuntimeWarning)\n"
     ]
    },
    {
     "name": "stdout",
     "output_type": "stream",
     "text": [
      "87006/87006 [==============================] - ETA: 0s - loss: 1.5626e-06- ETA: 5s - loss: - ETA: 0s - loss: 1. - ETA: 0s - loss: 1.5641e- - 21s 246us/step - loss: 1.5625e-06\n",
      "Epoch 362/3000\n",
      "12600/87006 [===>..........................] - ETA: 23s - loss: 1.6443e-06 - ETA"
     ]
    },
    {
     "name": "stderr",
     "output_type": "stream",
     "text": [
      "C:\\Users\\User\\.conda\\envs\\theano_v1\\lib\\site-packages\\keras\\callbacks\\callbacks.py:95: RuntimeWarning: Method (on_train_batch_end) is slow compared to the batch update (0.101391). Check your callbacks.\n",
      "  % (hook_name, delta_t_median), RuntimeWarning)\n"
     ]
    },
    {
     "name": "stdout",
     "output_type": "stream",
     "text": [
      "13500/87006 [===>..........................] - ETA: 24s - loss: 1.6293e-06"
     ]
    },
    {
     "name": "stderr",
     "output_type": "stream",
     "text": [
      "C:\\Users\\User\\.conda\\envs\\theano_v1\\lib\\site-packages\\keras\\callbacks\\callbacks.py:95: RuntimeWarning: Method (on_train_batch_end) is slow compared to the batch update (0.102172). Check your callbacks.\n",
      "  % (hook_name, delta_t_median), RuntimeWarning)\n"
     ]
    },
    {
     "name": "stdout",
     "output_type": "stream",
     "text": [
      "14100/87006 [===>..........................] - ETA: 24s - loss: 1.6078e-06"
     ]
    },
    {
     "name": "stderr",
     "output_type": "stream",
     "text": [
      "C:\\Users\\User\\.conda\\envs\\theano_v1\\lib\\site-packages\\keras\\callbacks\\callbacks.py:95: RuntimeWarning: Method (on_train_batch_end) is slow compared to the batch update (0.105548). Check your callbacks.\n",
      "  % (hook_name, delta_t_median), RuntimeWarning)\n"
     ]
    },
    {
     "name": "stdout",
     "output_type": "stream",
     "text": [
      "86400/87006 [============================>.] - ETA: 0s - loss: 1.5557e-06"
     ]
    },
    {
     "name": "stderr",
     "output_type": "stream",
     "text": [
      "C:\\Users\\User\\.conda\\envs\\theano_v1\\lib\\site-packages\\keras\\callbacks\\callbacks.py:95: RuntimeWarning: Method (on_train_batch_end) is slow compared to the batch update (0.107821). Check your callbacks.\n",
      "  % (hook_name, delta_t_median), RuntimeWarning)\n"
     ]
    },
    {
     "name": "stdout",
     "output_type": "stream",
     "text": [
      "87006/87006 [==============================] - 23s 270us/step - loss: 1.5565e-06\n"
     ]
    },
    {
     "name": "stderr",
     "output_type": "stream",
     "text": [
      "C:\\Users\\User\\.conda\\envs\\theano_v1\\lib\\site-packages\\keras\\callbacks\\callbacks.py:95: RuntimeWarning: Method (on_train_batch_end) is slow compared to the batch update (0.110397). Check your callbacks.\n",
      "  % (hook_name, delta_t_median), RuntimeWarning)\n"
     ]
    },
    {
     "name": "stdout",
     "output_type": "stream",
     "text": [
      "Epoch 363/3000\n",
      "\r",
      "  300/87006 [..............................] - ETA: 12s - loss: 1.2978e-06"
     ]
    },
    {
     "name": "stderr",
     "output_type": "stream",
     "text": [
      "C:\\Users\\User\\.conda\\envs\\theano_v1\\lib\\site-packages\\keras\\callbacks\\callbacks.py:95: RuntimeWarning: Method (on_train_batch_end) is slow compared to the batch update (0.114110). Check your callbacks.\n",
      "  % (hook_name, delta_t_median), RuntimeWarning)\n"
     ]
    },
    {
     "name": "stdout",
     "output_type": "stream",
     "text": [
      " 1500/87006 [..............................] - ETA: 1:00 - loss: 2.7926e-06"
     ]
    },
    {
     "name": "stderr",
     "output_type": "stream",
     "text": [
      "C:\\Users\\User\\.conda\\envs\\theano_v1\\lib\\site-packages\\keras\\callbacks\\callbacks.py:95: RuntimeWarning: Method (on_train_batch_end) is slow compared to the batch update (0.106163). Check your callbacks.\n",
      "  % (hook_name, delta_t_median), RuntimeWarning)\n"
     ]
    },
    {
     "name": "stdout",
     "output_type": "stream",
     "text": [
      "87006/87006 [==============================] - 26s 300us/step - loss: 1.5530e-06\n",
      "Epoch 364/3000\n",
      "87006/87006 [==============================] - 19s 220us/step - loss: 1.5646e-06\n",
      "Epoch 365/3000\n",
      "  900/87006 [..............................] - ETA: 32s - loss: 1.9504e-06"
     ]
    },
    {
     "name": "stderr",
     "output_type": "stream",
     "text": [
      "C:\\Users\\User\\.conda\\envs\\theano_v1\\lib\\site-packages\\keras\\callbacks\\callbacks.py:95: RuntimeWarning: Method (on_train_batch_end) is slow compared to the batch update (0.108067). Check your callbacks.\n",
      "  % (hook_name, delta_t_median), RuntimeWarning)\n"
     ]
    },
    {
     "name": "stdout",
     "output_type": "stream",
     "text": [
      "87006/87006 [==============================] - 22s 253us/step - loss: 1.5590e-06\n",
      "Epoch 366/3000\n",
      "87006/87006 [==============================] - 21s 237us/step - loss: 1.5529e-063s - lo - ETA: 1s\n",
      "Epoch 367/3000\n",
      "61200/87006 [====================>.........] - ETA: 7s - loss: 1.5385e-06- ETA: 8s - loss: 1.5397"
     ]
    },
    {
     "name": "stderr",
     "output_type": "stream",
     "text": [
      "C:\\Users\\User\\.conda\\envs\\theano_v1\\lib\\site-packages\\keras\\callbacks\\callbacks.py:95: RuntimeWarning: Method (on_train_batch_end) is slow compared to the batch update (0.102764). Check your callbacks.\n",
      "  % (hook_name, delta_t_median), RuntimeWarning)\n",
      "C:\\Users\\User\\.conda\\envs\\theano_v1\\lib\\site-packages\\keras\\callbacks\\callbacks.py:95: RuntimeWarning: Method (on_train_batch_end) is slow compared to the batch update (0.100722). Check your callbacks.\n",
      "  % (hook_name, delta_t_median), RuntimeWarning)\n"
     ]
    },
    {
     "name": "stdout",
     "output_type": "stream",
     "text": [
      "87006/87006 [==============================] - 24s 276us/step - loss: 1.5549e-06\n",
      "Epoch 368/3000\n",
      "87006/87006 [==============================] - 23s 267us/step - loss: 1.5627e-06\n",
      "Epoch 369/3000\n",
      "87006/87006 [==============================] - 20s 226us/step - loss: 1.5598e-06\n",
      "Epoch 370/3000\n",
      "  900/87006 [..............................] - ETA: 39s - loss: 1.5763e-06"
     ]
    },
    {
     "name": "stderr",
     "output_type": "stream",
     "text": [
      "C:\\Users\\User\\.conda\\envs\\theano_v1\\lib\\site-packages\\keras\\callbacks\\callbacks.py:95: RuntimeWarning: Method (on_train_batch_end) is slow compared to the batch update (0.130486). Check your callbacks.\n",
      "  % (hook_name, delta_t_median), RuntimeWarning)\n",
      "C:\\Users\\User\\.conda\\envs\\theano_v1\\lib\\site-packages\\keras\\callbacks\\callbacks.py:95: RuntimeWarning: Method (on_train_batch_end) is slow compared to the batch update (0.111164). Check your callbacks.\n",
      "  % (hook_name, delta_t_median), RuntimeWarning)\n"
     ]
    },
    {
     "name": "stdout",
     "output_type": "stream",
     "text": [
      " 1800/87006 [..............................] - ETA: 39s - loss: 1.5966e-06"
     ]
    },
    {
     "name": "stderr",
     "output_type": "stream",
     "text": [
      "C:\\Users\\User\\.conda\\envs\\theano_v1\\lib\\site-packages\\keras\\callbacks\\callbacks.py:95: RuntimeWarning: Method (on_train_batch_end) is slow compared to the batch update (0.109416). Check your callbacks.\n",
      "  % (hook_name, delta_t_median), RuntimeWarning)\n",
      "C:\\Users\\User\\.conda\\envs\\theano_v1\\lib\\site-packages\\keras\\callbacks\\callbacks.py:95: RuntimeWarning: Method (on_train_batch_end) is slow compared to the batch update (0.107669). Check your callbacks.\n",
      "  % (hook_name, delta_t_median), RuntimeWarning)\n"
     ]
    },
    {
     "name": "stdout",
     "output_type": "stream",
     "text": [
      "87006/87006 [==============================] - 20s 230us/step - loss: 1.5553e-06\n",
      "Epoch 371/3000\n",
      "87006/87006 [==============================] - 21s 245us/step - loss: 1.5507e-061s \n",
      "Epoch 372/3000\n",
      " 1200/87006 [..............................] - ETA: 17s - loss: 1.2886e-06"
     ]
    },
    {
     "name": "stderr",
     "output_type": "stream",
     "text": [
      "C:\\Users\\User\\.conda\\envs\\theano_v1\\lib\\site-packages\\keras\\callbacks\\callbacks.py:95: RuntimeWarning: Method (on_train_batch_end) is slow compared to the batch update (0.140013). Check your callbacks.\n",
      "  % (hook_name, delta_t_median), RuntimeWarning)\n"
     ]
    },
    {
     "name": "stdout",
     "output_type": "stream",
     "text": [
      "87006/87006 [==============================] - 20s 229us/step - loss: 1.5558e-06\n",
      "Epoch 373/3000\n",
      "87006/87006 [==============================] - 22s 250us/step - loss: 1.5595e-06E\n",
      "Epoch 374/3000\n",
      "87006/87006 [==============================] - 23s 260us/step - loss: 1.5598e-06\n",
      "Epoch 375/3000\n",
      "87006/87006 [==============================] - 22s 257us/step - loss: 1.5594e-060s - loss:\n",
      "Epoch 376/3000\n",
      "87006/87006 [==============================] - 26s 303us/step - loss: 1.5575e-060s - loss: 1 - ETA: 0s - loss: 1.5560e-\n",
      "Epoch 377/3000\n",
      " 1500/87006 [..............................] - ETA: 34s - loss: 1.5680e-06"
     ]
    },
    {
     "name": "stderr",
     "output_type": "stream",
     "text": [
      "C:\\Users\\User\\.conda\\envs\\theano_v1\\lib\\site-packages\\keras\\callbacks\\callbacks.py:95: RuntimeWarning: Method (on_train_batch_end) is slow compared to the batch update (0.122681). Check your callbacks.\n",
      "  % (hook_name, delta_t_median), RuntimeWarning)\n"
     ]
    },
    {
     "name": "stdout",
     "output_type": "stream",
     "text": [
      "87006/87006 [==============================] - 24s 276us/step - loss: 1.5571e-06\n",
      "Epoch 378/3000\n",
      "87006/87006 [==============================] - 24s 271us/step - loss: 1.5544e-06\n",
      "Epoch 379/3000\n",
      "87006/87006 [==============================] - 22s 253us/step - loss: 1.5529e-061s - los\n",
      "Epoch 380/3000\n",
      "87006/87006 [==============================] - 20s 230us/step - loss: 1.5566e-06\n",
      "Epoch 381/3000\n",
      "87006/87006 [==============================] - 20s 235us/step - loss: 1.5533e-06\n",
      "Epoch 382/3000\n",
      "87006/87006 [==============================] - 22s 253us/step - loss: 1.5610e-060s - loss: 1.5610e-0\n",
      "Epoch 383/3000\n",
      "87006/87006 [==============================] - 25s 282us/step - loss: 1.5561e-068s - loss: 1.535 - ETA: 7s - loss: 1 - ETA: 7s  - ET\n",
      "Epoch 384/3000\n",
      "87006/87006 [==============================] - 23s 268us/step - loss: 1.5638e-062s - loss: 1. - ETA: 1s - loss: - ETA: 0s - loss: 1.5465e - ETA: 0s - loss: 1.5\n",
      "Epoch 385/3000\n",
      "87006/87006 [==============================] - 22s 253us/step - loss: 1.5603e-064s - loss: 1.\n",
      "Epoch 386/3000\n",
      "87006/87006 [==============================] - 21s 237us/step - loss: 1.5553e-06\n",
      "Epoch 387/3000\n",
      "87006/87006 [==============================] - ETA: 0s - loss: 1.5546e-0 - 21s 238us/step - loss: 1.5546e-06\n",
      "Epoch 388/3000\n",
      "87006/87006 [==============================] - 21s 239us/step - loss: 1.5581e-060s - loss: \n",
      "Epoch 389/3000\n",
      "49200/87006 [===============>..............] - ETA: 9s - loss: 1.6168e-06"
     ]
    },
    {
     "name": "stderr",
     "output_type": "stream",
     "text": [
      "C:\\Users\\User\\.conda\\envs\\theano_v1\\lib\\site-packages\\keras\\callbacks\\callbacks.py:95: RuntimeWarning: Method (on_train_batch_end) is slow compared to the batch update (0.101969). Check your callbacks.\n",
      "  % (hook_name, delta_t_median), RuntimeWarning)\n"
     ]
    },
    {
     "name": "stdout",
     "output_type": "stream",
     "text": [
      "87006/87006 [==============================] - 25s 285us/step - loss: 1.5527e-06\n",
      "Epoch 390/3000\n",
      "36600/87006 [===========>..................] - ETA: 17s - loss: 1.5919e-06"
     ]
    },
    {
     "name": "stderr",
     "output_type": "stream",
     "text": [
      "C:\\Users\\User\\.conda\\envs\\theano_v1\\lib\\site-packages\\keras\\callbacks\\callbacks.py:95: RuntimeWarning: Method (on_train_batch_end) is slow compared to the batch update (0.102098). Check your callbacks.\n",
      "  % (hook_name, delta_t_median), RuntimeWarning)\n"
     ]
    },
    {
     "name": "stdout",
     "output_type": "stream",
     "text": [
      "37200/87006 [===========>..................] - ETA: 17s - loss: 1.5849e-\r"
     ]
    },
    {
     "name": "stderr",
     "output_type": "stream",
     "text": [
      "C:\\Users\\User\\.conda\\envs\\theano_v1\\lib\\site-packages\\keras\\callbacks\\callbacks.py:95: RuntimeWarning: Method (on_train_batch_end) is slow compared to the batch update (0.101241). Check your callbacks.\n",
      "  % (hook_name, delta_t_median), RuntimeWarning)\n"
     ]
    },
    {
     "name": "stdout",
     "output_type": "stream",
     "text": [
      "87006/87006 [==============================] - 25s 289us/step - loss: 1.5553e-0612s -  - ETA: 8s -  - E\n",
      "Epoch 391/3000\n",
      "  900/87006 [..............................] - ETA: 34s - loss: 1.2179e-06"
     ]
    },
    {
     "name": "stderr",
     "output_type": "stream",
     "text": [
      "C:\\Users\\User\\.conda\\envs\\theano_v1\\lib\\site-packages\\keras\\callbacks\\callbacks.py:95: RuntimeWarning: Method (on_train_batch_end) is slow compared to the batch update (0.132265). Check your callbacks.\n",
      "  % (hook_name, delta_t_median), RuntimeWarning)\n"
     ]
    },
    {
     "name": "stdout",
     "output_type": "stream",
     "text": [
      "87006/87006 [==============================] - 22s 251us/step - loss: 1.5610e-06\n",
      "Epoch 392/3000\n",
      "87006/87006 [==============================] - 20s 233us/step - loss: 1.5624e-06\n",
      "Epoch 393/3000\n",
      "87006/87006 [==============================] - 22s 250us/step - loss: 1.5508e-06\n",
      "Epoch 394/3000\n",
      "87006/87006 [==============================] - 18s 206us/step - loss: 1.5633e-06\n",
      "Epoch 395/3000\n",
      "87006/87006 [==============================] - 23s 265us/step - loss: 1.5573e-06\n",
      "Epoch 396/3000\n",
      "87006/87006 [==============================] - 22s 256us/step - loss: 1.5511e-06\n",
      "Epoch 397/3000\n",
      "87006/87006 [==============================] - 19s 215us/step - loss: 1.5600e-060s - loss: 1.559\n",
      "Epoch 398/3000\n",
      "87006/87006 [==============================] - 21s 241us/step - loss: 1.5512e-061s \n",
      "Epoch 399/3000\n",
      "87006/87006 [==============================] - 21s 238us/step - loss: 1.5542e-06\n",
      "Epoch 400/3000\n",
      "87006/87006 [==============================] - 21s 244us/step - loss: 1.5590e-06 - val_loss: 2.7433e-06 - ETA: 0s - loss: 1.5573\n",
      "Epoch 401/3000\n",
      "87006/87006 [==============================] - 23s 269us/step - loss: 1.5885e-06\n",
      "Epoch 402/3000\n",
      "87006/87006 [==============================] - 22s 257us/step - loss: 1.5623e-060s - loss: 1.5615e\n",
      "Epoch 403/3000\n",
      "87006/87006 [==============================] - 19s 219us/step - loss: 1.5542e-06\n",
      "Epoch 404/3000\n",
      "87006/87006 [==============================] - 22s 253us/step - loss: 1.5667e-06\n",
      "Epoch 405/3000\n",
      "87006/87006 [==============================] - 20s 230us/step - loss: 1.5579e-060s - loss: 1.55\n",
      "Epoch 406/3000\n",
      "87006/87006 [==============================] - 22s 254us/step - loss: 1.5520e-06\n",
      "Epoch 407/3000\n",
      "35700/87006 [===========>..................] - ETA: 12s - loss: 1.5757e-06"
     ]
    },
    {
     "name": "stderr",
     "output_type": "stream",
     "text": [
      "C:\\Users\\User\\.conda\\envs\\theano_v1\\lib\\site-packages\\keras\\callbacks\\callbacks.py:95: RuntimeWarning: Method (on_train_batch_end) is slow compared to the batch update (0.100364). Check your callbacks.\n",
      "  % (hook_name, delta_t_median), RuntimeWarning)\n"
     ]
    },
    {
     "name": "stdout",
     "output_type": "stream",
     "text": [
      "87006/87006 [==============================] - 20s 234us/step - loss: 1.5549e-06\n",
      "Epoch 408/3000\n",
      "87006/87006 [==============================] - 21s 241us/step - loss: 1.5571e-06\n",
      "Epoch 409/3000\n",
      "87006/87006 [==============================] - 19s 219us/step - loss: 1.5580e-06\n",
      "Epoch 410/3000\n",
      "87006/87006 [==============================] - 23s 267us/step - loss: 1.5528e-062 - ETA: 1s - loss: 1\n",
      "Epoch 411/3000\n",
      "87006/87006 [==============================] - 25s 287us/step - loss: 1.5651e-061s - loss:\n",
      "Epoch 412/3000\n",
      "87006/87006 [==============================] - 23s 267us/step - loss: 1.5507e-067s - lo\n",
      "Epoch 413/3000\n",
      "87006/87006 [==============================] - 22s 257us/step - loss: 1.5557e-069 - ETA: 7s - loss: 1. - ETA: 1s -\n",
      "Epoch 414/3000\n",
      "87006/87006 [==============================] - 21s 246us/step - loss: 1.5550e-064s - loss:  - ETA: - ETA: 1s -\n",
      "Epoch 415/3000\n",
      "87006/87006 [==============================] - 21s 237us/step - loss: 1.5563e-064 - ETA: 2s - loss: - ETA: 1s - loss\n",
      "Epoch 416/3000\n",
      "87006/87006 [==============================] - 19s 216us/step - loss: 1.5674e-06\n",
      "Epoch 417/3000\n",
      "87006/87006 [==============================] - 24s 271us/step - loss: 1.5556e-06\n",
      "Epoch 418/3000\n",
      "18300/87006 [=====>........................] - ETA: 22s - loss: 1.5992e-06"
     ]
    },
    {
     "name": "stderr",
     "output_type": "stream",
     "text": [
      "C:\\Users\\User\\.conda\\envs\\theano_v1\\lib\\site-packages\\keras\\callbacks\\callbacks.py:95: RuntimeWarning: Method (on_train_batch_end) is slow compared to the batch update (0.122049). Check your callbacks.\n",
      "  % (hook_name, delta_t_median), RuntimeWarning)\n"
     ]
    },
    {
     "name": "stdout",
     "output_type": "stream",
     "text": [
      "18900/87006 [=====>........................] - ETA: 24s - loss: 1.5958e-06"
     ]
    },
    {
     "name": "stderr",
     "output_type": "stream",
     "text": [
      "C:\\Users\\User\\.conda\\envs\\theano_v1\\lib\\site-packages\\keras\\callbacks\\callbacks.py:95: RuntimeWarning: Method (on_train_batch_end) is slow compared to the batch update (0.125791). Check your callbacks.\n",
      "  % (hook_name, delta_t_median), RuntimeWarning)\n"
     ]
    },
    {
     "name": "stdout",
     "output_type": "stream",
     "text": [
      "19800/87006 [=====>........................] - ETA: 24s - loss: 1.6014e-06"
     ]
    },
    {
     "name": "stderr",
     "output_type": "stream",
     "text": [
      "C:\\Users\\User\\.conda\\envs\\theano_v1\\lib\\site-packages\\keras\\callbacks\\callbacks.py:95: RuntimeWarning: Method (on_train_batch_end) is slow compared to the batch update (0.109763). Check your callbacks.\n",
      "  % (hook_name, delta_t_median), RuntimeWarning)\n"
     ]
    },
    {
     "name": "stdout",
     "output_type": "stream",
     "text": [
      "87006/87006 [==============================] - 22s 252us/step - loss: 1.5543e-061s - - ETA: 0s - loss: 1.55\n",
      "Epoch 419/3000\n",
      "87006/87006 [==============================] - 18s 201us/step - loss: 1.5512e-061s - loss: 1 - ETA: 0s - l\n",
      "Epoch 420/3000\n",
      "87006/87006 [==============================] - 20s 229us/step - loss: 1.5553e-061s\n",
      "Epoch 421/3000\n",
      "87006/87006 [==============================] - 18s 211us/step - loss: 1.5590e-061s - loss: 1 - ETA: 0s - loss: 1.56\n",
      "Epoch 422/3000\n",
      "87006/87006 [==============================] - 20s 231us/step - loss: 1.5558e-061s - loss: 1.5225e- - ETA: 1s\n",
      "Epoch 423/3000\n",
      "43200/87006 [=============>................] - ETA: 12s - loss: 1.5863e-06 ETA: 14s - lo"
     ]
    },
    {
     "name": "stderr",
     "output_type": "stream",
     "text": [
      "C:\\Users\\User\\.conda\\envs\\theano_v1\\lib\\site-packages\\keras\\callbacks\\callbacks.py:95: RuntimeWarning: Method (on_train_batch_end) is slow compared to the batch update (0.102468). Check your callbacks.\n",
      "  % (hook_name, delta_t_median), RuntimeWarning)\n"
     ]
    },
    {
     "name": "stdout",
     "output_type": "stream",
     "text": [
      "44400/87006 [==============>...............] - ETA: 12s - loss: 1.5921e-06"
     ]
    },
    {
     "name": "stderr",
     "output_type": "stream",
     "text": [
      "C:\\Users\\User\\.conda\\envs\\theano_v1\\lib\\site-packages\\keras\\callbacks\\callbacks.py:95: RuntimeWarning: Method (on_train_batch_end) is slow compared to the batch update (0.121624). Check your callbacks.\n",
      "  % (hook_name, delta_t_median), RuntimeWarning)\n"
     ]
    },
    {
     "name": "stdout",
     "output_type": "stream",
     "text": [
      "87006/87006 [==============================] - 26s 301us/step - loss: 1.5531e-062s - loss:  - ETA: 1s - loss: 1.5585e-0 - ETA: 1s - loss: \n",
      "Epoch 424/3000\n",
      "87006/87006 [==============================] - 25s 284us/step - loss: 1.5674e-06\n",
      "Epoch 425/3000\n",
      " 1800/87006 [..............................] - ETA: 35s - loss: 1.9923e-"
     ]
    },
    {
     "name": "stderr",
     "output_type": "stream",
     "text": [
      "C:\\Users\\User\\.conda\\envs\\theano_v1\\lib\\site-packages\\keras\\callbacks\\callbacks.py:95: RuntimeWarning: Method (on_train_batch_end) is slow compared to the batch update (0.100573). Check your callbacks.\n",
      "  % (hook_name, delta_t_median), RuntimeWarning)\n"
     ]
    },
    {
     "name": "stdout",
     "output_type": "stream",
     "text": [
      "87006/87006 [==============================] - 25s 288us/step - loss: 1.5529e-06\n",
      "Epoch 426/3000\n",
      "87006/87006 [==============================] - 24s 279us/step - loss: 1.5648e-06\n",
      "Epoch 427/3000\n",
      "  900/87006 [..............................] - ETA: 37s - loss: 1.5783e-06"
     ]
    },
    {
     "name": "stderr",
     "output_type": "stream",
     "text": [
      "C:\\Users\\User\\.conda\\envs\\theano_v1\\lib\\site-packages\\keras\\callbacks\\callbacks.py:95: RuntimeWarning: Method (on_train_batch_end) is slow compared to the batch update (0.209689). Check your callbacks.\n",
      "  % (hook_name, delta_t_median), RuntimeWarning)\n",
      "C:\\Users\\User\\.conda\\envs\\theano_v1\\lib\\site-packages\\keras\\callbacks\\callbacks.py:95: RuntimeWarning: Method (on_train_batch_end) is slow compared to the batch update (0.131160). Check your callbacks.\n",
      "  % (hook_name, delta_t_median), RuntimeWarning)\n"
     ]
    },
    {
     "name": "stdout",
     "output_type": "stream",
     "text": [
      "87006/87006 [==============================] - 25s 292us/step - loss: 1.5560e-06\n",
      "Epoch 428/3000\n",
      "87006/87006 [==============================] - 23s 266us/step - loss: 1.5503e-062s - loss: 1.571 - ETA:\n",
      "Epoch 429/3000\n",
      "87006/87006 [==============================] - 25s 288us/step - loss: 1.5520e-06\n",
      "Epoch 430/3000\n",
      "87006/87006 [==============================] - 23s 269us/step - loss: 1.5641e-06\n",
      "Epoch 431/3000\n",
      "87006/87006 [==============================] - 25s 283us/step - loss: 1.5518e-06A: 0s - loss: 1.5519e-0\n",
      "Epoch 432/3000\n",
      "87006/87006 [==============================] - 23s 262us/step - loss: 1.5568e-060s - loss:\n",
      "Epoch 433/3000\n",
      "87006/87006 [==============================] - 22s 254us/step - loss: 1.5524e-0611s - lo - ETA:\n",
      "Epoch 434/3000\n",
      "87006/87006 [==============================] - 23s 269us/step - loss: 1.5510e-061\n",
      "Epoch 435/3000\n",
      "15300/87006 [====>.........................] - ETA: 28s - loss: 1.4486e-06 ETA: 26s - loss"
     ]
    },
    {
     "name": "stderr",
     "output_type": "stream",
     "text": [
      "C:\\Users\\User\\.conda\\envs\\theano_v1\\lib\\site-packages\\keras\\callbacks\\callbacks.py:95: RuntimeWarning: Method (on_train_batch_end) is slow compared to the batch update (0.115265). Check your callbacks.\n",
      "  % (hook_name, delta_t_median), RuntimeWarning)\n"
     ]
    },
    {
     "name": "stdout",
     "output_type": "stream",
     "text": [
      "16500/87006 [====>.........................] - ETA: 27s - loss: 1.4581e-06"
     ]
    },
    {
     "name": "stderr",
     "output_type": "stream",
     "text": [
      "C:\\Users\\User\\.conda\\envs\\theano_v1\\lib\\site-packages\\keras\\callbacks\\callbacks.py:95: RuntimeWarning: Method (on_train_batch_end) is slow compared to the batch update (0.110294). Check your callbacks.\n",
      "  % (hook_name, delta_t_median), RuntimeWarning)\n"
     ]
    },
    {
     "name": "stdout",
     "output_type": "stream",
     "text": [
      "87006/87006 [==============================] - 28s 321us/step - loss: 1.5541e-069s -  - ETA: 8s - loss: 1.5699 - ETA: 7s - loss: 1.5673e-0 - ETA: \n",
      "Epoch 436/3000\n",
      "87006/87006 [==============================] - 24s 280us/step - loss: 1.5564e-06\n",
      "Epoch 437/3000\n",
      "  900/87006 [..............................] - ETA: 51s - loss: 1.7118e-06 "
     ]
    },
    {
     "name": "stderr",
     "output_type": "stream",
     "text": [
      "C:\\Users\\User\\.conda\\envs\\theano_v1\\lib\\site-packages\\keras\\callbacks\\callbacks.py:95: RuntimeWarning: Method (on_train_batch_end) is slow compared to the batch update (0.104003). Check your callbacks.\n",
      "  % (hook_name, delta_t_median), RuntimeWarning)\n"
     ]
    },
    {
     "name": "stdout",
     "output_type": "stream",
     "text": [
      "87006/87006 [==============================] - 25s 283us/step - loss: 1.5603e-06\n",
      "Epoch 438/3000\n",
      "87006/87006 [==============================] - 25s 289us/step - loss: 1.5552e-06\n",
      "Epoch 439/3000\n",
      "87006/87006 [==============================] - 23s 262us/step - loss: 1.5505e-0616s - loss \n",
      "Epoch 440/3000\n",
      "87006/87006 [==============================] - 24s 280us/step - loss: 1.5631e-06\n",
      "Epoch 441/3000\n",
      "67200/87006 [======================>.......] - ETA: 5s - loss: 1.5925e-06"
     ]
    },
    {
     "name": "stderr",
     "output_type": "stream",
     "text": [
      "C:\\Users\\User\\.conda\\envs\\theano_v1\\lib\\site-packages\\keras\\callbacks\\callbacks.py:95: RuntimeWarning: Method (on_train_batch_end) is slow compared to the batch update (0.115341). Check your callbacks.\n",
      "  % (hook_name, delta_t_median), RuntimeWarning)\n"
     ]
    },
    {
     "name": "stdout",
     "output_type": "stream",
     "text": [
      "68100/87006 [======================>.......] - ETA: 5s - loss: 1.5887e-06"
     ]
    },
    {
     "name": "stderr",
     "output_type": "stream",
     "text": [
      "C:\\Users\\User\\.conda\\envs\\theano_v1\\lib\\site-packages\\keras\\callbacks\\callbacks.py:95: RuntimeWarning: Method (on_train_batch_end) is slow compared to the batch update (0.124187). Check your callbacks.\n",
      "  % (hook_name, delta_t_median), RuntimeWarning)\n"
     ]
    },
    {
     "name": "stdout",
     "output_type": "stream",
     "text": [
      "69600/87006 [======================>.......] - ETA: 5s - loss: 1.5849e-06"
     ]
    },
    {
     "name": "stderr",
     "output_type": "stream",
     "text": [
      "C:\\Users\\User\\.conda\\envs\\theano_v1\\lib\\site-packages\\keras\\callbacks\\callbacks.py:95: RuntimeWarning: Method (on_train_batch_end) is slow compared to the batch update (0.109779). Check your callbacks.\n",
      "  % (hook_name, delta_t_median), RuntimeWarning)\n"
     ]
    },
    {
     "name": "stdout",
     "output_type": "stream",
     "text": [
      "70500/87006 [=======================>......] - ETA: 5s - loss: 1.5893e-06"
     ]
    },
    {
     "name": "stderr",
     "output_type": "stream",
     "text": [
      "C:\\Users\\User\\.conda\\envs\\theano_v1\\lib\\site-packages\\keras\\callbacks\\callbacks.py:95: RuntimeWarning: Method (on_train_batch_end) is slow compared to the batch update (0.122618). Check your callbacks.\n",
      "  % (hook_name, delta_t_median), RuntimeWarning)\n",
      "C:\\Users\\User\\.conda\\envs\\theano_v1\\lib\\site-packages\\keras\\callbacks\\callbacks.py:95: RuntimeWarning: Method (on_train_batch_end) is slow compared to the batch update (0.122026). Check your callbacks.\n",
      "  % (hook_name, delta_t_median), RuntimeWarning)\n"
     ]
    },
    {
     "name": "stdout",
     "output_type": "stream",
     "text": [
      "71700/87006 [=======================>......] - ETA: 5s - loss: 1.5874e-06"
     ]
    },
    {
     "name": "stderr",
     "output_type": "stream",
     "text": [
      "C:\\Users\\User\\.conda\\envs\\theano_v1\\lib\\site-packages\\keras\\callbacks\\callbacks.py:95: RuntimeWarning: Method (on_train_batch_end) is slow compared to the batch update (0.110587). Check your callbacks.\n",
      "  % (hook_name, delta_t_median), RuntimeWarning)\n"
     ]
    },
    {
     "name": "stdout",
     "output_type": "stream",
     "text": [
      "87006/87006 [==============================] - 27s 315us/step - loss: 1.5654e-06\n",
      "Epoch 442/3000\n",
      "87006/87006 [==============================] - 23s 263us/step - loss: 1.5542e-060s - loss: 1.5554\n",
      "Epoch 443/3000\n",
      "44700/87006 [==============>...............] - ETA: 13s - loss: 1.5539e-06 ETA: 13s - loss: 1.5302 - ETA: 13s - loss"
     ]
    },
    {
     "name": "stderr",
     "output_type": "stream",
     "text": [
      "C:\\Users\\User\\.conda\\envs\\theano_v1\\lib\\site-packages\\keras\\callbacks\\callbacks.py:95: RuntimeWarning: Method (on_train_batch_end) is slow compared to the batch update (0.129552). Check your callbacks.\n",
      "  % (hook_name, delta_t_median), RuntimeWarning)\n",
      "C:\\Users\\User\\.conda\\envs\\theano_v1\\lib\\site-packages\\keras\\callbacks\\callbacks.py:95: RuntimeWarning: Method (on_train_batch_end) is slow compared to the batch update (0.103077). Check your callbacks.\n",
      "  % (hook_name, delta_t_median), RuntimeWarning)\n"
     ]
    },
    {
     "name": "stdout",
     "output_type": "stream",
     "text": [
      "49800/87006 [================>.............] - ETA: 12s - loss: 1.5521e-06 ETA: 12s - "
     ]
    },
    {
     "name": "stderr",
     "output_type": "stream",
     "text": [
      "C:\\Users\\User\\.conda\\envs\\theano_v1\\lib\\site-packages\\keras\\callbacks\\callbacks.py:95: RuntimeWarning: Method (on_train_batch_end) is slow compared to the batch update (0.103190). Check your callbacks.\n",
      "  % (hook_name, delta_t_median), RuntimeWarning)\n"
     ]
    },
    {
     "name": "stdout",
     "output_type": "stream",
     "text": [
      "87006/87006 [==============================] - 28s 320us/step - loss: 1.5518e-06 4s  - ETA: 2s - loss: 1 - ETA: 1s - loss:\n",
      "Epoch 444/3000\n",
      "12000/87006 [===>..........................] - ETA: 43s - loss: 1.3840e-06"
     ]
    },
    {
     "name": "stderr",
     "output_type": "stream",
     "text": [
      "C:\\Users\\User\\.conda\\envs\\theano_v1\\lib\\site-packages\\keras\\callbacks\\callbacks.py:95: RuntimeWarning: Method (on_train_batch_end) is slow compared to the batch update (0.102210). Check your callbacks.\n",
      "  % (hook_name, delta_t_median), RuntimeWarning)\n"
     ]
    },
    {
     "name": "stdout",
     "output_type": "stream",
     "text": [
      "87006/87006 [==============================] - 23s 262us/step - loss: 1.5518e-06\n",
      "Epoch 445/3000\n",
      "87006/87006 [==============================] - 19s 217us/step - loss: 1.5569e-06\n",
      "Epoch 446/3000\n",
      "87006/87006 [==============================] - 24s 272us/step - loss: 1.5541e-06\n",
      "Epoch 447/3000\n",
      "87006/87006 [==============================] - 21s 242us/step - loss: 1.5541e-06\n",
      "Epoch 448/3000\n",
      " 1200/87006 [..............................] - ETA: 33s - loss: 1.5451e-06"
     ]
    },
    {
     "name": "stderr",
     "output_type": "stream",
     "text": [
      "C:\\Users\\User\\.conda\\envs\\theano_v1\\lib\\site-packages\\keras\\callbacks\\callbacks.py:95: RuntimeWarning: Method (on_train_batch_end) is slow compared to the batch update (0.112782). Check your callbacks.\n",
      "  % (hook_name, delta_t_median), RuntimeWarning)\n"
     ]
    },
    {
     "name": "stdout",
     "output_type": "stream",
     "text": [
      "87006/87006 [==============================] - 25s 287us/step - loss: 1.5538e-060s - loss: 1.5539e-0\n",
      "Epoch 449/3000\n",
      "87006/87006 [==============================] - 28s 321us/step - loss: 1.5550e-06\n",
      "Epoch 450/3000\n",
      "87006/87006 [==============================] - 23s 270us/step - loss: 1.5512e-06\n",
      "Epoch 451/3000\n",
      "87006/87006 [==============================] - 26s 294us/step - loss: 1.5557e-06 - ETA - ETA: 3s - loss: 1.5 - ET\n",
      "Epoch 452/3000\n",
      "87006/87006 [==============================] - 26s 294us/step - loss: 1.5695e-065s - loss: 1.52 - ETA: 4s - lo - E - ETA: 0s - loss: 1.550\n",
      "Epoch 453/3000\n",
      "35100/87006 [===========>..................] - ETA: 17s - loss: 1.5167e-06"
     ]
    },
    {
     "name": "stderr",
     "output_type": "stream",
     "text": [
      "C:\\Users\\User\\.conda\\envs\\theano_v1\\lib\\site-packages\\keras\\callbacks\\callbacks.py:95: RuntimeWarning: Method (on_train_batch_end) is slow compared to the batch update (0.104129). Check your callbacks.\n",
      "  % (hook_name, delta_t_median), RuntimeWarning)\n"
     ]
    },
    {
     "name": "stdout",
     "output_type": "stream",
     "text": [
      "87006/87006 [==============================] - 27s 312us/step - loss: 1.5610e-06\n",
      "Epoch 454/3000\n",
      "40500/87006 [============>.................] - ETA: 15s - loss: 1.5321e-06"
     ]
    },
    {
     "name": "stderr",
     "output_type": "stream",
     "text": [
      "C:\\Users\\User\\.conda\\envs\\theano_v1\\lib\\site-packages\\keras\\callbacks\\callbacks.py:95: RuntimeWarning: Method (on_train_batch_end) is slow compared to the batch update (0.103580). Check your callbacks.\n",
      "  % (hook_name, delta_t_median), RuntimeWarning)\n",
      "C:\\Users\\User\\.conda\\envs\\theano_v1\\lib\\site-packages\\keras\\callbacks\\callbacks.py:95: RuntimeWarning: Method (on_train_batch_end) is slow compared to the batch update (0.100246). Check your callbacks.\n",
      "  % (hook_name, delta_t_median), RuntimeWarning)\n"
     ]
    },
    {
     "name": "stdout",
     "output_type": "stream",
     "text": [
      "87006/87006 [==============================] - 26s 304us/step - loss: 1.5552e-06\n",
      "Epoch 455/3000\n",
      "87006/87006 [==============================] - 25s 282us/step - loss: 1.5550e-06\n",
      "Epoch 456/3000\n",
      "13800/87006 [===>..........................] - ETA: 19s - loss: 1.6490e-06 ETA: 17s "
     ]
    },
    {
     "name": "stderr",
     "output_type": "stream",
     "text": [
      "C:\\Users\\User\\.conda\\envs\\theano_v1\\lib\\site-packages\\keras\\callbacks\\callbacks.py:95: RuntimeWarning: Method (on_train_batch_end) is slow compared to the batch update (0.103195). Check your callbacks.\n",
      "  % (hook_name, delta_t_median), RuntimeWarning)\n"
     ]
    },
    {
     "name": "stdout",
     "output_type": "stream",
     "text": [
      "87006/87006 [==============================] - 22s 258us/step - loss: 1.5565e-062 - ETA: 0s - loss: 1.5586e\n",
      "Epoch 457/3000\n",
      "86400/87006 [============================>.] - ETA: 0s - loss: 1.5650e-06- ETA - ETA: 1s - loss:  - ETA: 0s - loss: 1.569"
     ]
    },
    {
     "name": "stderr",
     "output_type": "stream",
     "text": [
      "C:\\Users\\User\\.conda\\envs\\theano_v1\\lib\\site-packages\\keras\\callbacks\\callbacks.py:95: RuntimeWarning: Method (on_train_batch_end) is slow compared to the batch update (0.108901). Check your callbacks.\n",
      "  % (hook_name, delta_t_median), RuntimeWarning)\n"
     ]
    },
    {
     "name": "stdout",
     "output_type": "stream",
     "text": [
      "87006/87006 [==============================] - 24s 280us/step - loss: 1.5636e-06\n",
      "Epoch 458/3000\n",
      "87006/87006 [==============================] - 23s 261us/step - loss: 1.5502e-06 ETA: \n",
      "Epoch 459/3000\n",
      "87006/87006 [==============================] - 27s 312us/step - loss: 1.5539e-06\n",
      "Epoch 460/3000\n",
      "  900/87006 [..............................] - ETA: 20s - loss: 1.4423e-06"
     ]
    },
    {
     "name": "stderr",
     "output_type": "stream",
     "text": [
      "C:\\Users\\User\\.conda\\envs\\theano_v1\\lib\\site-packages\\keras\\callbacks\\callbacks.py:95: RuntimeWarning: Method (on_train_batch_end) is slow compared to the batch update (0.119990). Check your callbacks.\n",
      "  % (hook_name, delta_t_median), RuntimeWarning)\n"
     ]
    },
    {
     "name": "stdout",
     "output_type": "stream",
     "text": [
      "87006/87006 [==============================] - 27s 307us/step - loss: 1.5582e-06\n",
      "Epoch 461/3000\n",
      "87006/87006 [==============================] - 26s 302us/step - loss: 1.5549e-062s - l - ETA: 1s - loss:\n",
      "Epoch 462/3000\n",
      "87006/87006 [==============================] - 24s 278us/step - loss: 1.5525e-06\n",
      "Epoch 463/3000\n",
      " 9300/87006 [==>...........................] - ETA: 36s - loss: 1.5624e-\r"
     ]
    },
    {
     "name": "stderr",
     "output_type": "stream",
     "text": [
      "C:\\Users\\User\\.conda\\envs\\theano_v1\\lib\\site-packages\\keras\\callbacks\\callbacks.py:95: RuntimeWarning: Method (on_train_batch_end) is slow compared to the batch update (0.108822). Check your callbacks.\n",
      "  % (hook_name, delta_t_median), RuntimeWarning)\n"
     ]
    },
    {
     "name": "stdout",
     "output_type": "stream",
     "text": [
      "87006/87006 [==============================] - 27s 306us/step - loss: 1.5583e-06\n",
      "Epoch 464/3000\n",
      "87006/87006 [==============================] - 26s 304us/step - loss: 1.5516e-061s - los\n",
      "Epoch 465/3000\n",
      "60600/87006 [===================>..........] - ETA: 7s - loss: 1.5569e-06"
     ]
    },
    {
     "name": "stderr",
     "output_type": "stream",
     "text": [
      "C:\\Users\\User\\.conda\\envs\\theano_v1\\lib\\site-packages\\keras\\callbacks\\callbacks.py:95: RuntimeWarning: Method (on_train_batch_end) is slow compared to the batch update (0.107460). Check your callbacks.\n",
      "  % (hook_name, delta_t_median), RuntimeWarning)\n"
     ]
    },
    {
     "name": "stdout",
     "output_type": "stream",
     "text": [
      "87006/87006 [==============================] - 24s 271us/step - loss: 1.5601e-06A: 1s - loss - ETA: 0s - loss:\n",
      "Epoch 466/3000\n",
      "87006/87006 [==============================] - 26s 295us/step - loss: 1.5504e-067s - loss: 1.5 - ETA: 7s - E\n",
      "Epoch 467/3000\n",
      "87006/87006 [==============================] - 23s 270us/step - loss: 1.5581e-06\n",
      "Epoch 468/3000\n",
      " 1500/87006 [..............................] - ETA: 57s - loss: 1.6217e-06"
     ]
    },
    {
     "name": "stderr",
     "output_type": "stream",
     "text": [
      "C:\\Users\\User\\.conda\\envs\\theano_v1\\lib\\site-packages\\keras\\callbacks\\callbacks.py:95: RuntimeWarning: Method (on_train_batch_end) is slow compared to the batch update (0.158810). Check your callbacks.\n",
      "  % (hook_name, delta_t_median), RuntimeWarning)\n",
      "C:\\Users\\User\\.conda\\envs\\theano_v1\\lib\\site-packages\\keras\\callbacks\\callbacks.py:95: RuntimeWarning: Method (on_train_batch_end) is slow compared to the batch update (0.113125). Check your callbacks.\n",
      "  % (hook_name, delta_t_median), RuntimeWarning)\n"
     ]
    },
    {
     "name": "stdout",
     "output_type": "stream",
     "text": [
      " 2100/87006 [..............................] - ETA: 50s - loss: 1.6918e-06"
     ]
    },
    {
     "name": "stderr",
     "output_type": "stream",
     "text": [
      "C:\\Users\\User\\.conda\\envs\\theano_v1\\lib\\site-packages\\keras\\callbacks\\callbacks.py:95: RuntimeWarning: Method (on_train_batch_end) is slow compared to the batch update (0.108259). Check your callbacks.\n",
      "  % (hook_name, delta_t_median), RuntimeWarning)\n",
      "C:\\Users\\User\\.conda\\envs\\theano_v1\\lib\\site-packages\\keras\\callbacks\\callbacks.py:95: RuntimeWarning: Method (on_train_batch_end) is slow compared to the batch update (0.103394). Check your callbacks.\n",
      "  % (hook_name, delta_t_median), RuntimeWarning)\n"
     ]
    },
    {
     "name": "stdout",
     "output_type": "stream",
     "text": [
      "87006/87006 [==============================] - 26s 296us/step - loss: 1.5599e-069s - loss: 1.5945\n",
      "Epoch 469/3000\n",
      " 1500/87006 [..............................] - ETA: 37s - loss: 1.8587e-06"
     ]
    },
    {
     "name": "stderr",
     "output_type": "stream",
     "text": [
      "C:\\Users\\User\\.conda\\envs\\theano_v1\\lib\\site-packages\\keras\\callbacks\\callbacks.py:95: RuntimeWarning: Method (on_train_batch_end) is slow compared to the batch update (0.115980). Check your callbacks.\n",
      "  % (hook_name, delta_t_median), RuntimeWarning)\n"
     ]
    },
    {
     "name": "stdout",
     "output_type": "stream",
     "text": [
      "87006/87006 [==============================] - 23s 270us/step - loss: 1.5697e-06\n",
      "Epoch 470/3000\n",
      "87006/87006 [==============================] - 26s 295us/step - loss: 1.5592e-068s - loss:  - ETA: 4s -\n",
      "Epoch 471/3000\n",
      "  600/87006 [..............................] - ETA: 31s - loss: 1.7467e-06"
     ]
    },
    {
     "name": "stderr",
     "output_type": "stream",
     "text": [
      "C:\\Users\\User\\.conda\\envs\\theano_v1\\lib\\site-packages\\keras\\callbacks\\callbacks.py:95: RuntimeWarning: Method (on_train_batch_end) is slow compared to the batch update (0.127482). Check your callbacks.\n",
      "  % (hook_name, delta_t_median), RuntimeWarning)\n",
      "C:\\Users\\User\\.conda\\envs\\theano_v1\\lib\\site-packages\\keras\\callbacks\\callbacks.py:95: RuntimeWarning: Method (on_train_batch_end) is slow compared to the batch update (0.123293). Check your callbacks.\n",
      "  % (hook_name, delta_t_median), RuntimeWarning)\n"
     ]
    },
    {
     "name": "stdout",
     "output_type": "stream",
     "text": [
      " 2700/87006 [..............................] - ETA: 32s - loss: 1.4758e-06"
     ]
    },
    {
     "name": "stderr",
     "output_type": "stream",
     "text": [
      "C:\\Users\\User\\.conda\\envs\\theano_v1\\lib\\site-packages\\keras\\callbacks\\callbacks.py:95: RuntimeWarning: Method (on_train_batch_end) is slow compared to the batch update (0.119105). Check your callbacks.\n",
      "  % (hook_name, delta_t_median), RuntimeWarning)\n"
     ]
    },
    {
     "name": "stdout",
     "output_type": "stream",
     "text": [
      "87006/87006 [==============================] - 24s 277us/step - loss: 1.5558e-06\n",
      "Epoch 472/3000\n",
      "87006/87006 [==============================] - 26s 295us/step - loss: 1.5589e-06\n",
      "Epoch 473/3000\n",
      "87006/87006 [==============================] - 23s 259us/step - loss: 1.5538e-06\n",
      "Epoch 474/3000\n",
      "87006/87006 [==============================] - 23s 270us/step - loss: 1.5547e-06\n",
      "Epoch 475/3000\n",
      "43200/87006 [=============>................] - ETA: 12s - loss: 1.5630e-"
     ]
    },
    {
     "name": "stderr",
     "output_type": "stream",
     "text": [
      "C:\\Users\\User\\.conda\\envs\\theano_v1\\lib\\site-packages\\keras\\callbacks\\callbacks.py:95: RuntimeWarning: Method (on_train_batch_end) is slow compared to the batch update (0.100368). Check your callbacks.\n",
      "  % (hook_name, delta_t_median), RuntimeWarning)\n"
     ]
    },
    {
     "name": "stdout",
     "output_type": "stream",
     "text": [
      "87006/87006 [==============================] - 23s 259us/step - loss: 1.5562e-06ET\n",
      "Epoch 476/3000\n",
      "87006/87006 [==============================] - 26s 294us/step - loss: 1.5596e-069s - loss: 1. - ETA: 8s - loss: 1. - ETA - ET - ETA: 1s - lo\n",
      "Epoch 477/3000\n",
      "87006/87006 [==============================] - 24s 276us/step - loss: 1.5509e-06\n",
      "Epoch 478/3000\n",
      " 1800/87006 [..............................] - ETA: 1:16 - loss: 1.5268e-06"
     ]
    },
    {
     "name": "stderr",
     "output_type": "stream",
     "text": [
      "C:\\Users\\User\\.conda\\envs\\theano_v1\\lib\\site-packages\\keras\\callbacks\\callbacks.py:95: RuntimeWarning: Method (on_train_batch_end) is slow compared to the batch update (0.134023). Check your callbacks.\n",
      "  % (hook_name, delta_t_median), RuntimeWarning)\n"
     ]
    },
    {
     "name": "stdout",
     "output_type": "stream",
     "text": [
      "\b\b\b\b\b\b\b\b\b\b\b\b\b\b\b\b\b\b\b\b\b\b\b\b\b\b\b\b\b\b\b\b\b\b\b\b\b\b\b\b\b\b\b\b\b\b\b\b\b\b\b\b\b\b\b\b\b\b\b\b\b\b\b\b\b\b\b\b\b\b\b\b\b\b\b\r",
      " 2100/87006 [..............................] - ETA: 1:14 - loss: 1.5248e-06"
     ]
    },
    {
     "name": "stderr",
     "output_type": "stream",
     "text": [
      "C:\\Users\\User\\.conda\\envs\\theano_v1\\lib\\site-packages\\keras\\callbacks\\callbacks.py:95: RuntimeWarning: Method (on_train_batch_end) is slow compared to the batch update (0.169095). Check your callbacks.\n",
      "  % (hook_name, delta_t_median), RuntimeWarning)\n"
     ]
    },
    {
     "name": "stdout",
     "output_type": "stream",
     "text": [
      " 3000/87006 [>.............................] - ETA: 1:31 - loss: 1.6779e-06"
     ]
    },
    {
     "name": "stderr",
     "output_type": "stream",
     "text": [
      "C:\\Users\\User\\.conda\\envs\\theano_v1\\lib\\site-packages\\keras\\callbacks\\callbacks.py:95: RuntimeWarning: Method (on_train_batch_end) is slow compared to the batch update (0.168401). Check your callbacks.\n",
      "  % (hook_name, delta_t_median), RuntimeWarning)\n"
     ]
    },
    {
     "name": "stdout",
     "output_type": "stream",
     "text": [
      " 4200/87006 [>.............................] - ETA: 1:31 - loss: 1.6485e-06"
     ]
    },
    {
     "name": "stderr",
     "output_type": "stream",
     "text": [
      "C:\\Users\\User\\.conda\\envs\\theano_v1\\lib\\site-packages\\keras\\callbacks\\callbacks.py:95: RuntimeWarning: Method (on_train_batch_end) is slow compared to the batch update (0.147164). Check your callbacks.\n",
      "  % (hook_name, delta_t_median), RuntimeWarning)\n"
     ]
    },
    {
     "name": "stdout",
     "output_type": "stream",
     "text": [
      " 5100/87006 [>.............................] - ETA: 1:25 - loss: 1.6592e-06"
     ]
    },
    {
     "name": "stderr",
     "output_type": "stream",
     "text": [
      "C:\\Users\\User\\.conda\\envs\\theano_v1\\lib\\site-packages\\keras\\callbacks\\callbacks.py:95: RuntimeWarning: Method (on_train_batch_end) is slow compared to the batch update (0.110360). Check your callbacks.\n",
      "  % (hook_name, delta_t_median), RuntimeWarning)\n"
     ]
    },
    {
     "name": "stdout",
     "output_type": "stream",
     "text": [
      "11700/87006 [===>..........................] - ETA: 1:07 - loss: 1.5697e-06"
     ]
    },
    {
     "name": "stderr",
     "output_type": "stream",
     "text": [
      "C:\\Users\\User\\.conda\\envs\\theano_v1\\lib\\site-packages\\keras\\callbacks\\callbacks.py:95: RuntimeWarning: Method (on_train_batch_end) is slow compared to the batch update (0.105720). Check your callbacks.\n",
      "  % (hook_name, delta_t_median), RuntimeWarning)\n"
     ]
    },
    {
     "name": "stdout",
     "output_type": "stream",
     "text": [
      "13500/87006 [===>..........................] - ETA: 1:04 - loss: 1.5709e-06"
     ]
    },
    {
     "name": "stderr",
     "output_type": "stream",
     "text": [
      "C:\\Users\\User\\.conda\\envs\\theano_v1\\lib\\site-packages\\keras\\callbacks\\callbacks.py:95: RuntimeWarning: Method (on_train_batch_end) is slow compared to the batch update (0.136846). Check your callbacks.\n",
      "  % (hook_name, delta_t_median), RuntimeWarning)\n"
     ]
    },
    {
     "name": "stdout",
     "output_type": "stream",
     "text": [
      "87006/87006 [==============================] - 34s 396us/step - loss: 1.5580e-062s - loss: \n",
      "Epoch 479/3000\n",
      "55200/87006 [==================>...........] - ETA: 11s - loss: 1.6065e-06 E - ETA: 12s - loss - ETA: 11s - lo"
     ]
    },
    {
     "name": "stderr",
     "output_type": "stream",
     "text": [
      "C:\\Users\\User\\.conda\\envs\\theano_v1\\lib\\site-packages\\keras\\callbacks\\callbacks.py:95: RuntimeWarning: Method (on_train_batch_end) is slow compared to the batch update (0.100982). Check your callbacks.\n",
      "  % (hook_name, delta_t_median), RuntimeWarning)\n"
     ]
    },
    {
     "name": "stdout",
     "output_type": "stream",
     "text": [
      "56400/87006 [==================>...........] - ETA: 10s - loss: 1.6024e-06"
     ]
    },
    {
     "name": "stderr",
     "output_type": "stream",
     "text": [
      "C:\\Users\\User\\.conda\\envs\\theano_v1\\lib\\site-packages\\keras\\callbacks\\callbacks.py:95: RuntimeWarning: Method (on_train_batch_end) is slow compared to the batch update (0.108117). Check your callbacks.\n",
      "  % (hook_name, delta_t_median), RuntimeWarning)\n"
     ]
    },
    {
     "name": "stdout",
     "output_type": "stream",
     "text": [
      "87006/87006 [==============================] - 28s 327us/step - loss: 1.5596e-061s - loss: 1.5632 - ETA: 1s - loss:\n",
      "Epoch 480/3000\n",
      "87006/87006 [==============================] - 25s 292us/step - loss: 1.5512e-06\n",
      "Epoch 481/3000\n",
      "81900/87006 [===========================>..] - ETA: 1s - loss: 1.5475e-06- ETA: 2s - loss:"
     ]
    },
    {
     "name": "stderr",
     "output_type": "stream",
     "text": [
      "C:\\Users\\User\\.conda\\envs\\theano_v1\\lib\\site-packages\\keras\\callbacks\\callbacks.py:95: RuntimeWarning: Method (on_train_batch_end) is slow compared to the batch update (0.103695). Check your callbacks.\n",
      "  % (hook_name, delta_t_median), RuntimeWarning)\n"
     ]
    },
    {
     "name": "stdout",
     "output_type": "stream",
     "text": [
      "87006/87006 [==============================] - 24s 272us/step - loss: 1.5530e-06\n",
      "Epoch 482/3000\n",
      "  600/87006 [..............................] - ETA: 22s - loss: 1.0223e-"
     ]
    },
    {
     "name": "stderr",
     "output_type": "stream",
     "text": [
      "C:\\Users\\User\\.conda\\envs\\theano_v1\\lib\\site-packages\\keras\\callbacks\\callbacks.py:95: RuntimeWarning: Method (on_train_batch_end) is slow compared to the batch update (0.120809). Check your callbacks.\n",
      "  % (hook_name, delta_t_median), RuntimeWarning)\n"
     ]
    },
    {
     "name": "stdout",
     "output_type": "stream",
     "text": [
      "87006/87006 [==============================] - 25s 292us/step - loss: 1.5545e-067s - loss: 1.5957e- -  - ETA: 4s - loss: 1.5705e-0 - ETA: 4s -\n",
      "Epoch 483/3000\n",
      "87006/87006 [==============================] - 23s 264us/step - loss: 1.5549e-06\n",
      "Epoch 484/3000\n",
      "87006/87006 [==============================] - 24s 279us/step - loss: 1.5670e-06\n",
      "Epoch 485/3000\n",
      "87006/87006 [==============================] - 24s 277us/step - loss: 1.5594e-06\n",
      "Epoch 486/3000\n",
      "87006/87006 [==============================] - 23s 263us/step - loss: 1.5578e-063s - lo - ETA: 2s - ETA: 0s - loss: 1.\n",
      "Epoch 487/3000\n",
      "87006/87006 [==============================] - 26s 300us/step - loss: 1.5560e-06\n",
      "Epoch 488/3000\n",
      "87006/87006 [==============================] - 19s 214us/step - loss: 1.5577e-06\n",
      "Epoch 489/3000\n",
      "87006/87006 [==============================] - 22s 252us/step - loss: 1.5541e-06\n",
      "Epoch 490/3000\n",
      "87006/87006 [==============================] - 27s 311us/step - loss: 1.5517e-06\n",
      "Epoch 491/3000\n",
      "69300/87006 [======================>.......] - ETA: 4s - loss: 1.5860e-06"
     ]
    },
    {
     "name": "stderr",
     "output_type": "stream",
     "text": [
      "C:\\Users\\User\\.conda\\envs\\theano_v1\\lib\\site-packages\\keras\\callbacks\\callbacks.py:95: RuntimeWarning: Method (on_train_batch_end) is slow compared to the batch update (0.111581). Check your callbacks.\n",
      "  % (hook_name, delta_t_median), RuntimeWarning)\n"
     ]
    },
    {
     "name": "stdout",
     "output_type": "stream",
     "text": [
      "87006/87006 [==============================] - 22s 256us/step - loss: 1.5582e-061s - los\n",
      "Epoch 492/3000\n",
      "11400/87006 [==>...........................] - ETA: 30s - loss: 1.6766e-06"
     ]
    },
    {
     "name": "stderr",
     "output_type": "stream",
     "text": [
      "C:\\Users\\User\\.conda\\envs\\theano_v1\\lib\\site-packages\\keras\\callbacks\\callbacks.py:95: RuntimeWarning: Method (on_train_batch_end) is slow compared to the batch update (0.101105). Check your callbacks.\n",
      "  % (hook_name, delta_t_median), RuntimeWarning)\n"
     ]
    },
    {
     "name": "stdout",
     "output_type": "stream",
     "text": [
      "48900/87006 [===============>..............] - ETA: 11s - loss: 1.5266e-06"
     ]
    },
    {
     "name": "stderr",
     "output_type": "stream",
     "text": [
      "C:\\Users\\User\\.conda\\envs\\theano_v1\\lib\\site-packages\\keras\\callbacks\\callbacks.py:95: RuntimeWarning: Method (on_train_batch_end) is slow compared to the batch update (0.111779). Check your callbacks.\n",
      "  % (hook_name, delta_t_median), RuntimeWarning)\n",
      "C:\\Users\\User\\.conda\\envs\\theano_v1\\lib\\site-packages\\keras\\callbacks\\callbacks.py:95: RuntimeWarning: Method (on_train_batch_end) is slow compared to the batch update (0.111111). Check your callbacks.\n",
      "  % (hook_name, delta_t_median), RuntimeWarning)\n"
     ]
    },
    {
     "name": "stdout",
     "output_type": "stream",
     "text": [
      "49200/87006 [===============>..............] - ETA: 11s - loss: 1.5252e-"
     ]
    },
    {
     "name": "stderr",
     "output_type": "stream",
     "text": [
      "C:\\Users\\User\\.conda\\envs\\theano_v1\\lib\\site-packages\\keras\\callbacks\\callbacks.py:95: RuntimeWarning: Method (on_train_batch_end) is slow compared to the batch update (0.127329). Check your callbacks.\n",
      "  % (hook_name, delta_t_median), RuntimeWarning)\n",
      "C:\\Users\\User\\.conda\\envs\\theano_v1\\lib\\site-packages\\keras\\callbacks\\callbacks.py:95: RuntimeWarning: Method (on_train_batch_end) is slow compared to the batch update (0.144859). Check your callbacks.\n",
      "  % (hook_name, delta_t_median), RuntimeWarning)\n"
     ]
    },
    {
     "name": "stdout",
     "output_type": "stream",
     "text": [
      "49500/87006 [================>.............] - ETA: 11s - loss: 1.5245e-"
     ]
    },
    {
     "name": "stderr",
     "output_type": "stream",
     "text": [
      "C:\\Users\\User\\.conda\\envs\\theano_v1\\lib\\site-packages\\keras\\callbacks\\callbacks.py:95: RuntimeWarning: Method (on_train_batch_end) is slow compared to the batch update (0.148235). Check your callbacks.\n",
      "  % (hook_name, delta_t_median), RuntimeWarning)\n"
     ]
    },
    {
     "name": "stdout",
     "output_type": "stream",
     "text": [
      "50700/87006 [================>.............] - ETA: 11s - loss: 1.5360e-06"
     ]
    },
    {
     "name": "stderr",
     "output_type": "stream",
     "text": [
      "C:\\Users\\User\\.conda\\envs\\theano_v1\\lib\\site-packages\\keras\\callbacks\\callbacks.py:95: RuntimeWarning: Method (on_train_batch_end) is slow compared to the batch update (0.132878). Check your callbacks.\n",
      "  % (hook_name, delta_t_median), RuntimeWarning)\n",
      "C:\\Users\\User\\.conda\\envs\\theano_v1\\lib\\site-packages\\keras\\callbacks\\callbacks.py:95: RuntimeWarning: Method (on_train_batch_end) is slow compared to the batch update (0.121715). Check your callbacks.\n",
      "  % (hook_name, delta_t_median), RuntimeWarning)\n"
     ]
    },
    {
     "name": "stdout",
     "output_type": "stream",
     "text": [
      "51900/87006 [================>.............] - ETA: 11s - loss: 1.5359e- - ETA: 10s - loss: 1.5328e-"
     ]
    },
    {
     "name": "stderr",
     "output_type": "stream",
     "text": [
      "C:\\Users\\User\\.conda\\envs\\theano_v1\\lib\\site-packages\\keras\\callbacks\\callbacks.py:95: RuntimeWarning: Method (on_train_batch_end) is slow compared to the batch update (0.103056). Check your callbacks.\n",
      "  % (hook_name, delta_t_median), RuntimeWarning)\n"
     ]
    },
    {
     "name": "stdout",
     "output_type": "stream",
     "text": [
      "87006/87006 [==============================] - 25s 284us/step - loss: 1.5586e-06\n",
      "Epoch 493/3000\n",
      "87006/87006 [==============================] - 23s 265us/step - loss: 1.5571e-060s - loss: 1.5597e\n",
      "Epoch 494/3000\n",
      "87006/87006 [==============================] - 23s 266us/step - loss: 1.5542e-061s - \n",
      "Epoch 495/3000\n",
      "87006/87006 [==============================] - 21s 245us/step - loss: 1.5515e-064s - loss: 1 - ETA: 1s - loss - ETA: 0s - loss: 1.5\n",
      "Epoch 496/3000\n",
      "87006/87006 [==============================] - 25s 288us/step - loss: 1.5620e-062\n",
      "Epoch 497/3000\n",
      "87006/87006 [==============================] - 28s 321us/step - loss: 1.5553e-06\n",
      "Epoch 498/3000\n",
      " 3900/87006 [>.............................] - ETA: 37s - loss: 1.5847e-06 ETA: 32s - loss: 1.61"
     ]
    },
    {
     "name": "stderr",
     "output_type": "stream",
     "text": [
      "C:\\Users\\User\\.conda\\envs\\theano_v1\\lib\\site-packages\\keras\\callbacks\\callbacks.py:95: RuntimeWarning: Method (on_train_batch_end) is slow compared to the batch update (0.111774). Check your callbacks.\n",
      "  % (hook_name, delta_t_median), RuntimeWarning)\n"
     ]
    },
    {
     "name": "stdout",
     "output_type": "stream",
     "text": [
      " 5700/87006 [>.............................] - ETA: 35s - loss: 1.5038e-06"
     ]
    },
    {
     "name": "stderr",
     "output_type": "stream",
     "text": [
      "C:\\Users\\User\\.conda\\envs\\theano_v1\\lib\\site-packages\\keras\\callbacks\\callbacks.py:95: RuntimeWarning: Method (on_train_batch_end) is slow compared to the batch update (0.109138). Check your callbacks.\n",
      "  % (hook_name, delta_t_median), RuntimeWarning)\n"
     ]
    },
    {
     "name": "stdout",
     "output_type": "stream",
     "text": [
      "87006/87006 [==============================] - 24s 277us/step - loss: 1.5645e-06\n",
      "Epoch 499/3000\n",
      "49200/87006 [===============>..............] - ETA: 12s - loss: 1.5475e-06"
     ]
    },
    {
     "name": "stderr",
     "output_type": "stream",
     "text": [
      "C:\\Users\\User\\.conda\\envs\\theano_v1\\lib\\site-packages\\keras\\callbacks\\callbacks.py:95: RuntimeWarning: Method (on_train_batch_end) is slow compared to the batch update (0.108805). Check your callbacks.\n",
      "  % (hook_name, delta_t_median), RuntimeWarning)\n"
     ]
    },
    {
     "name": "stdout",
     "output_type": "stream",
     "text": [
      "\b\b\b\b\b\b\b\b\b\b\b\b\b\b\b\b\b\b\b\b\b\b\b\b\b\b\b\b\b\b\b\b\b\b\b\b\b\b\b\b\b\b\b\b\b\b\b\b\b\b\b\b\b\b\b\b\b\b\b\b\b\b\b\b\b\b\b\b\b\b\b\b\b\b\r",
      "49500/87006 [================>.............] - ETA: 12s - loss: 1.5477e-06"
     ]
    },
    {
     "name": "stderr",
     "output_type": "stream",
     "text": [
      "C:\\Users\\User\\.conda\\envs\\theano_v1\\lib\\site-packages\\keras\\callbacks\\callbacks.py:95: RuntimeWarning: Method (on_train_batch_end) is slow compared to the batch update (0.118150). Check your callbacks.\n",
      "  % (hook_name, delta_t_median), RuntimeWarning)\n"
     ]
    },
    {
     "name": "stdout",
     "output_type": "stream",
     "text": [
      "87006/87006 [==============================] - 29s 330us/step - loss: 1.5558e-062s - loss: - ETA: 0s - loss: 1\n",
      "Epoch 500/3000\n",
      " 1500/87006 [..............................] - ETA: 16s - loss: 1.5806e-06"
     ]
    },
    {
     "name": "stderr",
     "output_type": "stream",
     "text": [
      "C:\\Users\\User\\.conda\\envs\\theano_v1\\lib\\site-packages\\keras\\callbacks\\callbacks.py:95: RuntimeWarning: Method (on_train_batch_end) is slow compared to the batch update (0.101944). Check your callbacks.\n",
      "  % (hook_name, delta_t_median), RuntimeWarning)\n"
     ]
    },
    {
     "name": "stdout",
     "output_type": "stream",
     "text": [
      "87006/87006 [==============================] - 22s 248us/step - loss: 1.5619e-06 - val_loss: 1.8248e-06\n",
      "Epoch 501/3000\n",
      "  900/87006 [..............................] - ETA: 32s - loss: 1.6269e-06"
     ]
    },
    {
     "name": "stderr",
     "output_type": "stream",
     "text": [
      "C:\\Users\\User\\.conda\\envs\\theano_v1\\lib\\site-packages\\keras\\callbacks\\callbacks.py:95: RuntimeWarning: Method (on_train_batch_end) is slow compared to the batch update (0.144601). Check your callbacks.\n",
      "  % (hook_name, delta_t_median), RuntimeWarning)\n",
      "C:\\Users\\User\\.conda\\envs\\theano_v1\\lib\\site-packages\\keras\\callbacks\\callbacks.py:95: RuntimeWarning: Method (on_train_batch_end) is slow compared to the batch update (0.111013). Check your callbacks.\n",
      "  % (hook_name, delta_t_median), RuntimeWarning)\n"
     ]
    },
    {
     "name": "stdout",
     "output_type": "stream",
     "text": [
      "87006/87006 [==============================] - 26s 301us/step - loss: 1.5585e-068s - loss\n",
      "Epoch 502/3000\n",
      "87006/87006 [==============================] - 30s 340us/step - loss: 1.5485e-06\n",
      "Epoch 503/3000\n",
      "87006/87006 [==============================] - 29s 330us/step - loss: 1.5614e-061s - loss:  - ETA: 0s - loss: \n",
      "Epoch 504/3000\n",
      "27300/87006 [========>.....................] - ETA: 16s - loss: 1.5836e-06 ETA: 16s - loss"
     ]
    },
    {
     "name": "stderr",
     "output_type": "stream",
     "text": [
      "C:\\Users\\User\\.conda\\envs\\theano_v1\\lib\\site-packages\\keras\\callbacks\\callbacks.py:95: RuntimeWarning: Method (on_train_batch_end) is slow compared to the batch update (0.102980). Check your callbacks.\n",
      "  % (hook_name, delta_t_median), RuntimeWarning)\n"
     ]
    },
    {
     "name": "stdout",
     "output_type": "stream",
     "text": [
      "87006/87006 [==============================] - 25s 286us/step - loss: 1.5527e-06\n",
      "Epoch 505/3000\n",
      "83700/87006 [===========================>..] - ETA: 0s - loss: 1.5496e-06- ETA: 2s - lo"
     ]
    },
    {
     "name": "stderr",
     "output_type": "stream",
     "text": [
      "C:\\Users\\User\\.conda\\envs\\theano_v1\\lib\\site-packages\\keras\\callbacks\\callbacks.py:95: RuntimeWarning: Method (on_train_batch_end) is slow compared to the batch update (0.101913). Check your callbacks.\n",
      "  % (hook_name, delta_t_median), RuntimeWarning)\n"
     ]
    },
    {
     "name": "stdout",
     "output_type": "stream",
     "text": [
      "87006/87006 [==============================] - 25s 293us/step - loss: 1.5583e-060s - loss: 1.5588e - ETA: 0s - loss: 1.5582e-\n",
      "Epoch 506/3000\n",
      "87006/87006 [==============================] - 26s 299us/step - loss: 1.5497e-06\n",
      "Epoch 507/3000\n",
      "87006/87006 [==============================] - 27s 314us/step - loss: 1.5570e-06\n",
      "Epoch 508/3000\n",
      "87006/87006 [==============================] - 27s 311us/step - loss: 1.5529e-06\n",
      "Epoch 509/3000\n",
      "87006/87006 [==============================] - 23s 262us/step - loss: 1.5639e-064s - loss: 1.5 - ETA: 4s - l - ETA: 2s - los - ETA: \n",
      "Epoch 510/3000\n",
      "87006/87006 [==============================] - 24s 279us/step - loss: 1.5512e-063s - loss: 1 - E\n",
      "Epoch 511/3000\n",
      "87006/87006 [==============================] - 26s 296us/step - loss: 1.5499e-06\n",
      "Epoch 512/3000\n",
      "87006/87006 [==============================] - 27s 306us/step - loss: 1.5530e-06\n",
      "Epoch 513/3000\n",
      "87006/87006 [==============================] - 25s 283us/step - loss: 1.5628e-06-\n",
      "Epoch 514/3000\n",
      "87006/87006 [==============================] - 26s 300us/step - loss: 1.5505e-06\n",
      "Epoch 515/3000\n",
      "87006/87006 [==============================] - 24s 272us/step - loss: 1.5536e-06\n",
      "Epoch 516/3000\n",
      "19800/87006 [=====>........................] - ETA: 23s - loss: 1.5104e-06"
     ]
    },
    {
     "name": "stderr",
     "output_type": "stream",
     "text": [
      "C:\\Users\\User\\.conda\\envs\\theano_v1\\lib\\site-packages\\keras\\callbacks\\callbacks.py:95: RuntimeWarning: Method (on_train_batch_end) is slow compared to the batch update (0.103338). Check your callbacks.\n",
      "  % (hook_name, delta_t_median), RuntimeWarning)\n"
     ]
    },
    {
     "name": "stdout",
     "output_type": "stream",
     "text": [
      "87006/87006 [==============================] - 24s 277us/step - loss: 1.5568e-06\n",
      "Epoch 517/3000\n",
      " 2100/87006 [..............................] - ETA: 13s - loss: 1.2319e-06"
     ]
    },
    {
     "name": "stderr",
     "output_type": "stream",
     "text": [
      "C:\\Users\\User\\.conda\\envs\\theano_v1\\lib\\site-packages\\keras\\callbacks\\callbacks.py:95: RuntimeWarning: Method (on_train_batch_end) is slow compared to the batch update (0.134225). Check your callbacks.\n",
      "  % (hook_name, delta_t_median), RuntimeWarning)\n"
     ]
    },
    {
     "name": "stdout",
     "output_type": "stream",
     "text": [
      "87006/87006 [==============================] - 26s 297us/step - loss: 1.5566e-06\n",
      "Epoch 518/3000\n",
      "87006/87006 [==============================] - 22s 257us/step - loss: 1.5634e-06\n",
      "Epoch 519/3000\n",
      "87006/87006 [==============================] - 23s 263us/step - loss: 1.5538e-06\n",
      "Epoch 520/3000\n",
      "  600/87006 [..............................] - ETA: 25s - loss: 1.6931e-06"
     ]
    },
    {
     "name": "stderr",
     "output_type": "stream",
     "text": [
      "C:\\Users\\User\\.conda\\envs\\theano_v1\\lib\\site-packages\\keras\\callbacks\\callbacks.py:95: RuntimeWarning: Method (on_train_batch_end) is slow compared to the batch update (0.129053). Check your callbacks.\n",
      "  % (hook_name, delta_t_median), RuntimeWarning)\n",
      "C:\\Users\\User\\.conda\\envs\\theano_v1\\lib\\site-packages\\keras\\callbacks\\callbacks.py:95: RuntimeWarning: Method (on_train_batch_end) is slow compared to the batch update (0.116967). Check your callbacks.\n",
      "  % (hook_name, delta_t_median), RuntimeWarning)\n"
     ]
    },
    {
     "name": "stdout",
     "output_type": "stream",
     "text": [
      " 1800/87006 [..............................] - ETA: 45s - loss: 2.2852e-06"
     ]
    },
    {
     "name": "stderr",
     "output_type": "stream",
     "text": [
      "C:\\Users\\User\\.conda\\envs\\theano_v1\\lib\\site-packages\\keras\\callbacks\\callbacks.py:95: RuntimeWarning: Method (on_train_batch_end) is slow compared to the batch update (0.114775). Check your callbacks.\n",
      "  % (hook_name, delta_t_median), RuntimeWarning)\n",
      "C:\\Users\\User\\.conda\\envs\\theano_v1\\lib\\site-packages\\keras\\callbacks\\callbacks.py:95: RuntimeWarning: Method (on_train_batch_end) is slow compared to the batch update (0.104881). Check your callbacks.\n",
      "  % (hook_name, delta_t_median), RuntimeWarning)\n"
     ]
    },
    {
     "name": "stdout",
     "output_type": "stream",
     "text": [
      " 2400/87006 [..............................] - ETA: 42s - loss: 2.1651e-06"
     ]
    },
    {
     "name": "stderr",
     "output_type": "stream",
     "text": [
      "C:\\Users\\User\\.conda\\envs\\theano_v1\\lib\\site-packages\\keras\\callbacks\\callbacks.py:95: RuntimeWarning: Method (on_train_batch_end) is slow compared to the batch update (0.103640). Check your callbacks.\n",
      "  % (hook_name, delta_t_median), RuntimeWarning)\n",
      "C:\\Users\\User\\.conda\\envs\\theano_v1\\lib\\site-packages\\keras\\callbacks\\callbacks.py:95: RuntimeWarning: Method (on_train_batch_end) is slow compared to the batch update (0.102398). Check your callbacks.\n",
      "  % (hook_name, delta_t_median), RuntimeWarning)\n"
     ]
    },
    {
     "name": "stdout",
     "output_type": "stream",
     "text": [
      "87006/87006 [==============================] - 28s 321us/step - loss: 1.5581e-06\n",
      "Epoch 521/3000\n",
      "87006/87006 [==============================] - 28s 317us/step - loss: 1.5479e-067s - loss - ETA: 4s - ETA\n",
      "Epoch 522/3000\n",
      "  900/87006 [..............................] - ETA: 44s - loss: 1.4014e-06"
     ]
    },
    {
     "name": "stderr",
     "output_type": "stream",
     "text": [
      "C:\\Users\\User\\.conda\\envs\\theano_v1\\lib\\site-packages\\keras\\callbacks\\callbacks.py:95: RuntimeWarning: Method (on_train_batch_end) is slow compared to the batch update (0.120627). Check your callbacks.\n",
      "  % (hook_name, delta_t_median), RuntimeWarning)\n"
     ]
    },
    {
     "name": "stdout",
     "output_type": "stream",
     "text": [
      " 2400/87006 [..............................] - ETA: 43s - loss: 1.5535e-06"
     ]
    },
    {
     "name": "stderr",
     "output_type": "stream",
     "text": [
      "C:\\Users\\User\\.conda\\envs\\theano_v1\\lib\\site-packages\\keras\\callbacks\\callbacks.py:95: RuntimeWarning: Method (on_train_batch_end) is slow compared to the batch update (0.113021). Check your callbacks.\n",
      "  % (hook_name, delta_t_median), RuntimeWarning)\n",
      "C:\\Users\\User\\.conda\\envs\\theano_v1\\lib\\site-packages\\keras\\callbacks\\callbacks.py:95: RuntimeWarning: Method (on_train_batch_end) is slow compared to the batch update (0.138391). Check your callbacks.\n",
      "  % (hook_name, delta_t_median), RuntimeWarning)\n",
      "C:\\Users\\User\\.conda\\envs\\theano_v1\\lib\\site-packages\\keras\\callbacks\\callbacks.py:95: RuntimeWarning: Method (on_train_batch_end) is slow compared to the batch update (0.125706). Check your callbacks.\n",
      "  % (hook_name, delta_t_median), RuntimeWarning)\n",
      "C:\\Users\\User\\.conda\\envs\\theano_v1\\lib\\site-packages\\keras\\callbacks\\callbacks.py:95: RuntimeWarning: Method (on_train_batch_end) is slow compared to the batch update (0.106239). Check your callbacks.\n",
      "  % (hook_name, delta_t_median), RuntimeWarning)\n"
     ]
    },
    {
     "name": "stdout",
     "output_type": "stream",
     "text": [
      "64500/87006 [=====================>........] - ETA: 6s - loss: 1.5725e-06- ETA: 6s - loss: 1.5683e"
     ]
    },
    {
     "name": "stderr",
     "output_type": "stream",
     "text": [
      "C:\\Users\\User\\.conda\\envs\\theano_v1\\lib\\site-packages\\keras\\callbacks\\callbacks.py:95: RuntimeWarning: Method (on_train_batch_end) is slow compared to the batch update (0.101964). Check your callbacks.\n",
      "  % (hook_name, delta_t_median), RuntimeWarning)\n"
     ]
    },
    {
     "name": "stdout",
     "output_type": "stream",
     "text": [
      "87006/87006 [==============================] - 27s 308us/step - loss: 1.5538e-06\n",
      "Epoch 523/3000\n",
      "87006/87006 [==============================] - 21s 245us/step - loss: 1.5509e-06\n",
      "Epoch 524/3000\n",
      "87006/87006 [==============================] - 24s 279us/step - loss: 1.5580e-06\n",
      "Epoch 525/3000\n",
      "87006/87006 [==============================] - 23s 266us/step - loss: 1.5533e-06\n",
      "Epoch 526/3000\n",
      "87006/87006 [==============================] - 23s 261us/step - loss: 1.5569e-06\n",
      "Epoch 527/3000\n",
      "60900/87006 [===================>..........] - ETA: 7s - loss: 1.5124e-06"
     ]
    },
    {
     "name": "stderr",
     "output_type": "stream",
     "text": [
      "C:\\Users\\User\\.conda\\envs\\theano_v1\\lib\\site-packages\\keras\\callbacks\\callbacks.py:95: RuntimeWarning: Method (on_train_batch_end) is slow compared to the batch update (0.109181). Check your callbacks.\n",
      "  % (hook_name, delta_t_median), RuntimeWarning)\n"
     ]
    },
    {
     "name": "stdout",
     "output_type": "stream",
     "text": [
      "87006/87006 [==============================] - 23s 268us/step - loss: 1.5508e-06\n",
      "Epoch 528/3000\n",
      "24000/87006 [=======>......................] - ETA: 19s - loss: 1.6694e-06"
     ]
    },
    {
     "name": "stderr",
     "output_type": "stream",
     "text": [
      "C:\\Users\\User\\.conda\\envs\\theano_v1\\lib\\site-packages\\keras\\callbacks\\callbacks.py:95: RuntimeWarning: Method (on_train_batch_end) is slow compared to the batch update (0.111770). Check your callbacks.\n",
      "  % (hook_name, delta_t_median), RuntimeWarning)\n"
     ]
    },
    {
     "name": "stdout",
     "output_type": "stream",
     "text": [
      "87006/87006 [==============================] - 29s 337us/step - loss: 1.5537e-06- ETA: 0s - loss: 1. - ETA: 0s - loss: 1.5539e-\n",
      "Epoch 529/3000\n",
      "71400/87006 [=======================>......] - ETA: 5s - loss: 1.5412e-06- ETA: 6s - loss: 1.5356e-0 - ETA: 6s - lo - ETA: 5s - loss: 1.5415e-06"
     ]
    },
    {
     "name": "stderr",
     "output_type": "stream",
     "text": [
      "C:\\Users\\User\\.conda\\envs\\theano_v1\\lib\\site-packages\\keras\\callbacks\\callbacks.py:95: RuntimeWarning: Method (on_train_batch_end) is slow compared to the batch update (0.117035). Check your callbacks.\n",
      "  % (hook_name, delta_t_median), RuntimeWarning)\n"
     ]
    },
    {
     "name": "stdout",
     "output_type": "stream",
     "text": [
      "87006/87006 [==============================] - 28s 319us/step - loss: 1.5505e-063s - loss - ETA: 1s - loss - ETA: 0s - loss: 1.5505e-0\n",
      "Epoch 530/3000\n",
      "68700/87006 [======================>.......] - ETA: 5s - loss: 1.5365e-06- ETA: "
     ]
    },
    {
     "name": "stderr",
     "output_type": "stream",
     "text": [
      "C:\\Users\\User\\.conda\\envs\\theano_v1\\lib\\site-packages\\keras\\callbacks\\callbacks.py:95: RuntimeWarning: Method (on_train_batch_end) is slow compared to the batch update (0.100962). Check your callbacks.\n",
      "  % (hook_name, delta_t_median), RuntimeWarning)\n"
     ]
    },
    {
     "name": "stdout",
     "output_type": "stream",
     "text": [
      "87006/87006 [==============================] - 25s 289us/step - loss: 1.5569e-06\n",
      "Epoch 531/3000\n",
      "87006/87006 [==============================] - 29s 336us/step - loss: 1.5541e-06\n",
      "Epoch 532/3000\n",
      "87006/87006 [==============================] - 28s 320us/step - loss: 1.5633e-06  - ETA: 1s - loss: 1.5650 - ETA: 0s - loss: 1.56\n",
      "Epoch 533/3000\n",
      "58200/87006 [===================>..........] - ETA: 7s - loss: 1.5543e-06- ETA: 7s - loss: 1.5560e-"
     ]
    },
    {
     "name": "stderr",
     "output_type": "stream",
     "text": [
      "C:\\Users\\User\\.conda\\envs\\theano_v1\\lib\\site-packages\\keras\\callbacks\\callbacks.py:95: RuntimeWarning: Method (on_train_batch_end) is slow compared to the batch update (0.102262). Check your callbacks.\n",
      "  % (hook_name, delta_t_median), RuntimeWarning)\n"
     ]
    },
    {
     "name": "stdout",
     "output_type": "stream",
     "text": [
      "87006/87006 [==============================] - 23s 265us/step - loss: 1.5491e-06 - ETA: 0s - loss: 1.5492e-0\n",
      "Epoch 534/3000\n",
      " 1200/87006 [..............................] - ETA: 24s - loss: 1.7567e-06"
     ]
    },
    {
     "name": "stderr",
     "output_type": "stream",
     "text": [
      "C:\\Users\\User\\.conda\\envs\\theano_v1\\lib\\site-packages\\keras\\callbacks\\callbacks.py:95: RuntimeWarning: Method (on_train_batch_end) is slow compared to the batch update (0.104997). Check your callbacks.\n",
      "  % (hook_name, delta_t_median), RuntimeWarning)\n"
     ]
    },
    {
     "name": "stdout",
     "output_type": "stream",
     "text": [
      "87006/87006 [==============================] - 23s 262us/step - loss: 1.5543e-061s - loss - ETA: 0s - loss: 1.5593\n",
      "Epoch 535/3000\n",
      "72000/87006 [=======================>......] - ETA: 3s - loss: 1.5596e-06"
     ]
    },
    {
     "name": "stderr",
     "output_type": "stream",
     "text": [
      "C:\\Users\\User\\.conda\\envs\\theano_v1\\lib\\site-packages\\keras\\callbacks\\callbacks.py:95: RuntimeWarning: Method (on_train_batch_end) is slow compared to the batch update (0.106217). Check your callbacks.\n",
      "  % (hook_name, delta_t_median), RuntimeWarning)\n"
     ]
    },
    {
     "name": "stdout",
     "output_type": "stream",
     "text": [
      "87006/87006 [==============================] - 23s 260us/step - loss: 1.5512e-06\n",
      "Epoch 536/3000\n",
      "87006/87006 [==============================] - 25s 286us/step - loss: 1.5536e-06 - ETA: 0s - loss: 1.5\n",
      "Epoch 537/3000\n",
      "87006/87006 [==============================] - 27s 309us/step - loss: 1.5540e-06\n",
      "Epoch 538/3000\n",
      "  600/87006 [..............................] - ETA: 28s - loss: 1.3086e-06"
     ]
    },
    {
     "name": "stderr",
     "output_type": "stream",
     "text": [
      "C:\\Users\\User\\.conda\\envs\\theano_v1\\lib\\site-packages\\keras\\callbacks\\callbacks.py:95: RuntimeWarning: Method (on_train_batch_end) is slow compared to the batch update (0.132776). Check your callbacks.\n",
      "  % (hook_name, delta_t_median), RuntimeWarning)\n"
     ]
    },
    {
     "name": "stdout",
     "output_type": "stream",
     "text": [
      " 1800/87006 [..............................] - ETA: 40s - loss: 1.3870e-06"
     ]
    },
    {
     "name": "stderr",
     "output_type": "stream",
     "text": [
      "C:\\Users\\User\\.conda\\envs\\theano_v1\\lib\\site-packages\\keras\\callbacks\\callbacks.py:95: RuntimeWarning: Method (on_train_batch_end) is slow compared to the batch update (0.104715). Check your callbacks.\n",
      "  % (hook_name, delta_t_median), RuntimeWarning)\n"
     ]
    },
    {
     "name": "stdout",
     "output_type": "stream",
     "text": [
      "51600/87006 [================>.............] - ETA: 11s - loss: 1.5706e-06"
     ]
    },
    {
     "name": "stderr",
     "output_type": "stream",
     "text": [
      "C:\\Users\\User\\.conda\\envs\\theano_v1\\lib\\site-packages\\keras\\callbacks\\callbacks.py:95: RuntimeWarning: Method (on_train_batch_end) is slow compared to the batch update (0.100090). Check your callbacks.\n",
      "  % (hook_name, delta_t_median), RuntimeWarning)\n",
      "C:\\Users\\User\\.conda\\envs\\theano_v1\\lib\\site-packages\\keras\\callbacks\\callbacks.py:95: RuntimeWarning: Method (on_train_batch_end) is slow compared to the batch update (0.112108). Check your callbacks.\n",
      "  % (hook_name, delta_t_median), RuntimeWarning)\n"
     ]
    },
    {
     "name": "stdout",
     "output_type": "stream",
     "text": [
      "87006/87006 [==============================] - 28s 319us/step - loss: 1.5500e-06: 0s - loss: 1.5498e\n",
      "Epoch 539/3000\n",
      "65700/87006 [=====================>........] - ETA: 6s - loss: 1.5487e-06"
     ]
    },
    {
     "name": "stderr",
     "output_type": "stream",
     "text": [
      "C:\\Users\\User\\.conda\\envs\\theano_v1\\lib\\site-packages\\keras\\callbacks\\callbacks.py:95: RuntimeWarning: Method (on_train_batch_end) is slow compared to the batch update (0.104128). Check your callbacks.\n",
      "  % (hook_name, delta_t_median), RuntimeWarning)\n"
     ]
    },
    {
     "name": "stdout",
     "output_type": "stream",
     "text": [
      "87006/87006 [==============================] - 27s 308us/step - loss: 1.5558e-06\n",
      "Epoch 540/3000\n",
      "87006/87006 [==============================] - 27s 307us/step - loss: 1.5499e-063s -  - ETA: 1s\n",
      "Epoch 541/3000\n",
      "87006/87006 [==============================] - 26s 293us/step - loss: 1.5606e-06\n",
      "Epoch 542/3000\n",
      "87006/87006 [==============================] - 20s 234us/step - loss: 1.5517e-060s - loss: 1.5\n",
      "Epoch 543/3000\n",
      "87006/87006 [==============================] - 19s 223us/step - loss: 1.5552e-06\n",
      "Epoch 544/3000\n",
      "87006/87006 [==============================] - 23s 262us/step - loss: 1.5575e-063s - loss: \n",
      "Epoch 545/3000\n",
      "87006/87006 [==============================] - 25s 292us/step - loss: 1.5511e-06\n",
      "Epoch 546/3000\n",
      "87006/87006 [==============================] - 27s 309us/step - loss: 1.5530e-06\n",
      "Epoch 547/3000\n",
      "87006/87006 [==============================] - 24s 275us/step - loss: 1.5569e-064s - l - ETA: 2s - lo - ETA: 1\n",
      "Epoch 548/3000\n",
      "87006/87006 [==============================] - 23s 265us/step - loss: 1.5483e-063s - loss: 1.5 - ETA: \n",
      "Epoch 549/3000\n",
      "  900/87006 [..............................] - ETA: 38s - loss: 1.4096e-06"
     ]
    },
    {
     "name": "stderr",
     "output_type": "stream",
     "text": [
      "C:\\Users\\User\\.conda\\envs\\theano_v1\\lib\\site-packages\\keras\\callbacks\\callbacks.py:95: RuntimeWarning: Method (on_train_batch_end) is slow compared to the batch update (0.122979). Check your callbacks.\n",
      "  % (hook_name, delta_t_median), RuntimeWarning)\n",
      "C:\\Users\\User\\.conda\\envs\\theano_v1\\lib\\site-packages\\keras\\callbacks\\callbacks.py:95: RuntimeWarning: Method (on_train_batch_end) is slow compared to the batch update (0.131796). Check your callbacks.\n",
      "  % (hook_name, delta_t_median), RuntimeWarning)\n"
     ]
    },
    {
     "name": "stdout",
     "output_type": "stream",
     "text": [
      " 1500/87006 [..............................] - ETA: 50s - loss: 1.4300e-06"
     ]
    },
    {
     "name": "stderr",
     "output_type": "stream",
     "text": [
      "C:\\Users\\User\\.conda\\envs\\theano_v1\\lib\\site-packages\\keras\\callbacks\\callbacks.py:95: RuntimeWarning: Method (on_train_batch_end) is slow compared to the batch update (0.128706). Check your callbacks.\n",
      "  % (hook_name, delta_t_median), RuntimeWarning)\n"
     ]
    },
    {
     "name": "stdout",
     "output_type": "stream",
     "text": [
      " 2400/87006 [..............................] - ETA: 43s - loss: 1.4806e-06"
     ]
    },
    {
     "name": "stderr",
     "output_type": "stream",
     "text": [
      "C:\\Users\\User\\.conda\\envs\\theano_v1\\lib\\site-packages\\keras\\callbacks\\callbacks.py:95: RuntimeWarning: Method (on_train_batch_end) is slow compared to the batch update (0.106027). Check your callbacks.\n",
      "  % (hook_name, delta_t_median), RuntimeWarning)\n"
     ]
    },
    {
     "name": "stdout",
     "output_type": "stream",
     "text": [
      "34800/87006 [==========>...................] - ETA: 16s - loss: 1.5744e-06 ETA: 16s - loss"
     ]
    },
    {
     "name": "stderr",
     "output_type": "stream",
     "text": [
      "C:\\Users\\User\\.conda\\envs\\theano_v1\\lib\\site-packages\\keras\\callbacks\\callbacks.py:95: RuntimeWarning: Method (on_train_batch_end) is slow compared to the batch update (0.106302). Check your callbacks.\n",
      "  % (hook_name, delta_t_median), RuntimeWarning)\n"
     ]
    },
    {
     "name": "stdout",
     "output_type": "stream",
     "text": [
      "35700/87006 [===========>..................] - ETA: 16s - loss: 1.5704e-06"
     ]
    },
    {
     "name": "stderr",
     "output_type": "stream",
     "text": [
      "C:\\Users\\User\\.conda\\envs\\theano_v1\\lib\\site-packages\\keras\\callbacks\\callbacks.py:95: RuntimeWarning: Method (on_train_batch_end) is slow compared to the batch update (0.117364). Check your callbacks.\n",
      "  % (hook_name, delta_t_median), RuntimeWarning)\n",
      "C:\\Users\\User\\.conda\\envs\\theano_v1\\lib\\site-packages\\keras\\callbacks\\callbacks.py:95: RuntimeWarning: Method (on_train_batch_end) is slow compared to the batch update (0.112203). Check your callbacks.\n",
      "  % (hook_name, delta_t_median), RuntimeWarning)\n"
     ]
    },
    {
     "name": "stdout",
     "output_type": "stream",
     "text": [
      "87006/87006 [==============================] - 26s 298us/step - loss: 1.5514e-06\n",
      "Epoch 550/3000\n",
      "11100/87006 [==>...........................] - ETA: 31s - loss: 1.4750e-06"
     ]
    },
    {
     "name": "stderr",
     "output_type": "stream",
     "text": [
      "C:\\Users\\User\\.conda\\envs\\theano_v1\\lib\\site-packages\\keras\\callbacks\\callbacks.py:95: RuntimeWarning: Method (on_train_batch_end) is slow compared to the batch update (0.113153). Check your callbacks.\n",
      "  % (hook_name, delta_t_median), RuntimeWarning)\n"
     ]
    },
    {
     "name": "stdout",
     "output_type": "stream",
     "text": [
      "11700/87006 [===>..........................] - ETA: 31s - loss: 1.4837e-06"
     ]
    },
    {
     "name": "stderr",
     "output_type": "stream",
     "text": [
      "C:\\Users\\User\\.conda\\envs\\theano_v1\\lib\\site-packages\\keras\\callbacks\\callbacks.py:95: RuntimeWarning: Method (on_train_batch_end) is slow compared to the batch update (0.111816). Check your callbacks.\n",
      "  % (hook_name, delta_t_median), RuntimeWarning)\n"
     ]
    },
    {
     "name": "stdout",
     "output_type": "stream",
     "text": [
      "41700/87006 [=============>................] - ETA: 14s - loss: 1.6155e-06 ETA: 15s - loss: 1."
     ]
    },
    {
     "name": "stderr",
     "output_type": "stream",
     "text": [
      "C:\\Users\\User\\.conda\\envs\\theano_v1\\lib\\site-packages\\keras\\callbacks\\callbacks.py:95: RuntimeWarning: Method (on_train_batch_end) is slow compared to the batch update (0.101174). Check your callbacks.\n",
      "  % (hook_name, delta_t_median), RuntimeWarning)\n"
     ]
    },
    {
     "name": "stdout",
     "output_type": "stream",
     "text": [
      "87006/87006 [==============================] - 24s 276us/step - loss: 1.5664e-06\n",
      "Epoch 551/3000\n",
      "87006/87006 [==============================] - 21s 241us/step - loss: 1.5575e-06\n",
      "Epoch 552/3000\n",
      "  900/87006 [..............................] - ETA: 24s - loss: 1.4545e-06"
     ]
    },
    {
     "name": "stderr",
     "output_type": "stream",
     "text": [
      "C:\\Users\\User\\.conda\\envs\\theano_v1\\lib\\site-packages\\keras\\callbacks\\callbacks.py:95: RuntimeWarning: Method (on_train_batch_end) is slow compared to the batch update (0.119278). Check your callbacks.\n",
      "  % (hook_name, delta_t_median), RuntimeWarning)\n"
     ]
    },
    {
     "name": "stdout",
     "output_type": "stream",
     "text": [
      "87006/87006 [==============================] - 23s 260us/step - loss: 1.5585e-06\n",
      "Epoch 553/3000\n",
      "87006/87006 [==============================] - 19s 223us/step - loss: 1.5504e-06\n",
      "Epoch 554/3000\n",
      "87006/87006 [==============================] - 20s 233us/step - loss: 1.5556e-065  - ETA: 0s - loss: 1.\n",
      "Epoch 555/3000\n",
      " 1800/87006 [..............................] - ETA: 34s - loss: 1.5400e-06 ETA: 30s - loss: 1.4487"
     ]
    },
    {
     "name": "stderr",
     "output_type": "stream",
     "text": [
      "C:\\Users\\User\\.conda\\envs\\theano_v1\\lib\\site-packages\\keras\\callbacks\\callbacks.py:95: RuntimeWarning: Method (on_train_batch_end) is slow compared to the batch update (0.100397). Check your callbacks.\n",
      "  % (hook_name, delta_t_median), RuntimeWarning)\n"
     ]
    },
    {
     "name": "stdout",
     "output_type": "stream",
     "text": [
      "87006/87006 [==============================] - 21s 247us/step - loss: 1.5494e-06\n",
      "Epoch 556/3000\n",
      "87006/87006 [==============================] - 21s 238us/step - loss: 1.5601e-06\n",
      "Epoch 557/3000\n",
      "87006/87006 [==============================] - 25s 285us/step - loss: 1.5515e-06\n",
      "Epoch 558/3000\n",
      "87006/87006 [==============================] - 24s 272us/step - loss: 1.5516e-06\n",
      "Epoch 559/3000\n",
      " 1500/87006 [..............................] - ETA: 25s - loss: 1.3776e-06"
     ]
    },
    {
     "name": "stderr",
     "output_type": "stream",
     "text": [
      "C:\\Users\\User\\.conda\\envs\\theano_v1\\lib\\site-packages\\keras\\callbacks\\callbacks.py:95: RuntimeWarning: Method (on_train_batch_end) is slow compared to the batch update (0.113199). Check your callbacks.\n",
      "  % (hook_name, delta_t_median), RuntimeWarning)\n"
     ]
    },
    {
     "name": "stdout",
     "output_type": "stream",
     "text": [
      "87006/87006 [==============================] - 21s 243us/step - loss: 1.5522e-06\n",
      "Epoch 560/3000\n",
      "87006/87006 [==============================] - 21s 238us/step - loss: 1.5580e-064 - ETA: 2s - loss: 1.5622 - ETA: 1s -\n",
      "Epoch 561/3000\n",
      "  600/87006 [..............................] - ETA: 27s - loss: 1.2879e-"
     ]
    },
    {
     "name": "stderr",
     "output_type": "stream",
     "text": [
      "C:\\Users\\User\\.conda\\envs\\theano_v1\\lib\\site-packages\\keras\\callbacks\\callbacks.py:95: RuntimeWarning: Method (on_train_batch_end) is slow compared to the batch update (0.157990). Check your callbacks.\n",
      "  % (hook_name, delta_t_median), RuntimeWarning)\n",
      "C:\\Users\\User\\.conda\\envs\\theano_v1\\lib\\site-packages\\keras\\callbacks\\callbacks.py:95: RuntimeWarning: Method (on_train_batch_end) is slow compared to the batch update (0.100085). Check your callbacks.\n",
      "  % (hook_name, delta_t_median), RuntimeWarning)\n"
     ]
    },
    {
     "name": "stdout",
     "output_type": "stream",
     "text": [
      " 2100/87006 [..............................] - ETA: 29s - loss: 1.3585e-06"
     ]
    },
    {
     "name": "stderr",
     "output_type": "stream",
     "text": [
      "C:\\Users\\User\\.conda\\envs\\theano_v1\\lib\\site-packages\\keras\\callbacks\\callbacks.py:95: RuntimeWarning: Method (on_train_batch_end) is slow compared to the batch update (0.107378). Check your callbacks.\n",
      "  % (hook_name, delta_t_median), RuntimeWarning)\n"
     ]
    },
    {
     "name": "stdout",
     "output_type": "stream",
     "text": [
      "87006/87006 [==============================] - 21s 242us/step - loss: 1.5572e-06\n",
      "Epoch 562/3000\n",
      "87006/87006 [==============================] - 22s 247us/step - loss: 1.5503e-060s - loss: 1.547\n",
      "Epoch 563/3000\n",
      "87006/87006 [==============================] - 20s 229us/step - loss: 1.5519e-06\n",
      "Epoch 564/3000\n",
      "87006/87006 [==============================] - 21s 239us/step - loss: 1.5593e-06\n",
      "Epoch 565/3000\n",
      "87006/87006 [==============================] - 21s 243us/step - loss: 1.5601e-061s - loss: 1.57 - ETA: 0s - loss: 1. - ETA: 0s - loss: 1.5602e-0\n",
      "Epoch 566/3000\n",
      "52200/87006 [================>.............] - ETA: 10s - loss: 1.5573e-06"
     ]
    },
    {
     "name": "stderr",
     "output_type": "stream",
     "text": [
      "C:\\Users\\User\\.conda\\envs\\theano_v1\\lib\\site-packages\\keras\\callbacks\\callbacks.py:95: RuntimeWarning: Method (on_train_batch_end) is slow compared to the batch update (0.117877). Check your callbacks.\n",
      "  % (hook_name, delta_t_median), RuntimeWarning)\n"
     ]
    },
    {
     "name": "stdout",
     "output_type": "stream",
     "text": [
      "54300/87006 [=================>............] - ETA: 9s - loss: 1.5488e-06 "
     ]
    },
    {
     "name": "stderr",
     "output_type": "stream",
     "text": [
      "C:\\Users\\User\\.conda\\envs\\theano_v1\\lib\\site-packages\\keras\\callbacks\\callbacks.py:95: RuntimeWarning: Method (on_train_batch_end) is slow compared to the batch update (0.174030). Check your callbacks.\n",
      "  % (hook_name, delta_t_median), RuntimeWarning)\n"
     ]
    },
    {
     "name": "stdout",
     "output_type": "stream",
     "text": [
      "87006/87006 [==============================] - 23s 269us/step - loss: 1.5591e-06\n",
      "Epoch 567/3000\n",
      "87006/87006 [==============================] - 24s 272us/step - loss: 1.5479e-06\n",
      "Epoch 568/3000\n",
      "  600/87006 [..............................] - ETA: 31s - loss: 4.4378e-"
     ]
    },
    {
     "name": "stderr",
     "output_type": "stream",
     "text": [
      "C:\\Users\\User\\.conda\\envs\\theano_v1\\lib\\site-packages\\keras\\callbacks\\callbacks.py:95: RuntimeWarning: Method (on_train_batch_end) is slow compared to the batch update (0.133493). Check your callbacks.\n",
      "  % (hook_name, delta_t_median), RuntimeWarning)\n",
      "C:\\Users\\User\\.conda\\envs\\theano_v1\\lib\\site-packages\\keras\\callbacks\\callbacks.py:95: RuntimeWarning: Method (on_train_batch_end) is slow compared to the batch update (0.116184). Check your callbacks.\n",
      "  % (hook_name, delta_t_median), RuntimeWarning)\n"
     ]
    },
    {
     "name": "stdout",
     "output_type": "stream",
     "text": [
      "87006/87006 [==============================] - 20s 236us/step - loss: 1.5557e-06\n",
      "Epoch 569/3000\n",
      "79200/87006 [==========================>...] - ETA: 1s - loss: 1.5572e-06"
     ]
    },
    {
     "name": "stderr",
     "output_type": "stream",
     "text": [
      "C:\\Users\\User\\.conda\\envs\\theano_v1\\lib\\site-packages\\keras\\callbacks\\callbacks.py:95: RuntimeWarning: Method (on_train_batch_end) is slow compared to the batch update (0.100462). Check your callbacks.\n",
      "  % (hook_name, delta_t_median), RuntimeWarning)\n"
     ]
    },
    {
     "name": "stdout",
     "output_type": "stream",
     "text": [
      "79800/87006 [==========================>...] - ETA: 1s - loss: 1.5569e-06"
     ]
    },
    {
     "name": "stderr",
     "output_type": "stream",
     "text": [
      "C:\\Users\\User\\.conda\\envs\\theano_v1\\lib\\site-packages\\keras\\callbacks\\callbacks.py:95: RuntimeWarning: Method (on_train_batch_end) is slow compared to the batch update (0.124731). Check your callbacks.\n",
      "  % (hook_name, delta_t_median), RuntimeWarning)\n",
      "C:\\Users\\User\\.conda\\envs\\theano_v1\\lib\\site-packages\\keras\\callbacks\\callbacks.py:95: RuntimeWarning: Method (on_train_batch_end) is slow compared to the batch update (0.102694). Check your callbacks.\n",
      "  % (hook_name, delta_t_median), RuntimeWarning)\n"
     ]
    },
    {
     "name": "stdout",
     "output_type": "stream",
     "text": [
      "87006/87006 [==============================] - 21s 244us/step - loss: 1.5557e-061s - l\n",
      "Epoch 570/3000\n",
      "87006/87006 [==============================] - 21s 241us/step - loss: 1.5570e-06\n",
      "Epoch 571/3000\n",
      "87006/87006 [==============================] - 22s 253us/step - loss: 1.5591e-06\n",
      "Epoch 572/3000\n",
      "87006/87006 [==============================] - 23s 263us/step - loss: 1.5578e-063s - loss: 1.5625\n",
      "Epoch 573/3000\n",
      "87006/87006 [==============================] - 21s 242us/step - loss: 1.5504e-06\n",
      "Epoch 574/3000\n",
      "87006/87006 [==============================] - 21s 237us/step - loss: 1.5494e-06\n",
      "Epoch 575/3000\n",
      "87006/87006 [==============================] - 23s 264us/step - loss: 1.5489e-06\n",
      "Epoch 576/3000\n",
      "87006/87006 [==============================] - 21s 238us/step - loss: 1.5590e-06\n",
      "Epoch 577/3000\n",
      "87006/87006 [==============================] - 25s 286us/step - loss: 1.5540e-06\n",
      "Epoch 578/3000\n",
      "87006/87006 [==============================] - 23s 262us/step - loss: 1.5571e-063s - los - ETA: 2s - loss: 1.5533 -\n",
      "Epoch 579/3000\n",
      "87006/87006 [==============================] - 25s 287us/step - loss: 1.5501e-06\n",
      "Epoch 580/3000\n",
      "71400/87006 [=======================>......] - ETA: 4s - loss: 1.5596e-06- ETA:"
     ]
    },
    {
     "name": "stderr",
     "output_type": "stream",
     "text": [
      "C:\\Users\\User\\.conda\\envs\\theano_v1\\lib\\site-packages\\keras\\callbacks\\callbacks.py:95: RuntimeWarning: Method (on_train_batch_end) is slow compared to the batch update (0.105215). Check your callbacks.\n",
      "  % (hook_name, delta_t_median), RuntimeWarning)\n"
     ]
    },
    {
     "name": "stdout",
     "output_type": "stream",
     "text": [
      "87006/87006 [==============================] - 24s 274us/step - loss: 1.5525e-062s - loss: 1.5519e-0 -\n",
      "Epoch 581/3000\n",
      "87006/87006 [==============================] - 20s 232us/step - loss: 1.5510e-060s - los\n",
      "Epoch 582/3000\n",
      "87006/87006 [==============================] - 22s 255us/step - loss: 1.5465e-060s - loss: 1\n",
      "Epoch 583/3000\n",
      "87006/87006 [==============================] - 22s 253us/step - loss: 1.5582e-06\n",
      "Epoch 584/3000\n",
      "87006/87006 [==============================] - 25s 288us/step - loss: 1.5544e-061s - \n",
      "Epoch 585/3000\n",
      " 1200/87006 [..............................] - ETA: 45s - loss: 3.4151e-06"
     ]
    },
    {
     "name": "stderr",
     "output_type": "stream",
     "text": [
      "C:\\Users\\User\\.conda\\envs\\theano_v1\\lib\\site-packages\\keras\\callbacks\\callbacks.py:95: RuntimeWarning: Method (on_train_batch_end) is slow compared to the batch update (0.147999). Check your callbacks.\n",
      "  % (hook_name, delta_t_median), RuntimeWarning)\n"
     ]
    },
    {
     "name": "stdout",
     "output_type": "stream",
     "text": [
      "87006/87006 [==============================] - 22s 253us/step - loss: 1.5568e-06\n",
      "Epoch 586/3000\n",
      "  900/87006 [..............................] - ETA: 42s - loss: 1.7774e-06"
     ]
    },
    {
     "name": "stderr",
     "output_type": "stream",
     "text": [
      "C:\\Users\\User\\.conda\\envs\\theano_v1\\lib\\site-packages\\keras\\callbacks\\callbacks.py:95: RuntimeWarning: Method (on_train_batch_end) is slow compared to the batch update (0.168005). Check your callbacks.\n",
      "  % (hook_name, delta_t_median), RuntimeWarning)\n"
     ]
    },
    {
     "name": "stdout",
     "output_type": "stream",
     "text": [
      " 1800/87006 [..............................] - ETA: 29s - loss: 1.6144e-06"
     ]
    },
    {
     "name": "stderr",
     "output_type": "stream",
     "text": [
      "C:\\Users\\User\\.conda\\envs\\theano_v1\\lib\\site-packages\\keras\\callbacks\\callbacks.py:95: RuntimeWarning: Method (on_train_batch_end) is slow compared to the batch update (0.100056). Check your callbacks.\n",
      "  % (hook_name, delta_t_median), RuntimeWarning)\n"
     ]
    },
    {
     "name": "stdout",
     "output_type": "stream",
     "text": [
      "87006/87006 [==============================] - 22s 249us/step - loss: 1.5485e-062s - loss: 1. - ETA: 2s - loss: 1.5531 - ETA: 1s - \n",
      "Epoch 587/3000\n",
      "87006/87006 [==============================] - 24s 271us/step - loss: 1.5599e-061s - lo\n",
      "Epoch 588/3000\n",
      "87006/87006 [==============================] - 24s 278us/step - loss: 1.5686e-06\n",
      "Epoch 589/3000\n",
      "87006/87006 [==============================] - 28s 322us/step - loss: 1.5516e-062s - loss: 1.5 - ET\n",
      "Epoch 590/3000\n",
      "87006/87006 [==============================] - 23s 264us/step - loss: 1.5574e-06\n",
      "Epoch 591/3000\n",
      "87006/87006 [==============================] - 25s 286us/step - loss: 1.5589e-064s  -\n",
      "Epoch 592/3000\n",
      "87006/87006 [==============================] - 24s 279us/step - loss: 1.5507e-066s - - ETA: 5s - l - ETA: 3s - l - ETA: 2s -\n",
      "Epoch 593/3000\n",
      "47400/87006 [===============>..............] - ETA: 9s - loss: 1.5511e-0"
     ]
    },
    {
     "name": "stderr",
     "output_type": "stream",
     "text": [
      "C:\\Users\\User\\.conda\\envs\\theano_v1\\lib\\site-packages\\keras\\callbacks\\callbacks.py:95: RuntimeWarning: Method (on_train_batch_end) is slow compared to the batch update (0.120920). Check your callbacks.\n",
      "  % (hook_name, delta_t_median), RuntimeWarning)\n"
     ]
    },
    {
     "name": "stdout",
     "output_type": "stream",
     "text": [
      "47700/87006 [===============>..............] - ETA: 9s - loss: 1.5483e-0"
     ]
    },
    {
     "name": "stderr",
     "output_type": "stream",
     "text": [
      "C:\\Users\\User\\.conda\\envs\\theano_v1\\lib\\site-packages\\keras\\callbacks\\callbacks.py:95: RuntimeWarning: Method (on_train_batch_end) is slow compared to the batch update (0.150809). Check your callbacks.\n",
      "  % (hook_name, delta_t_median), RuntimeWarning)\n"
     ]
    },
    {
     "name": "stdout",
     "output_type": "stream",
     "text": [
      "48300/87006 [===============>..............] - ETA: 10s - loss: 1.5466e-06"
     ]
    },
    {
     "name": "stderr",
     "output_type": "stream",
     "text": [
      "C:\\Users\\User\\.conda\\envs\\theano_v1\\lib\\site-packages\\keras\\callbacks\\callbacks.py:95: RuntimeWarning: Method (on_train_batch_end) is slow compared to the batch update (0.183863). Check your callbacks.\n",
      "  % (hook_name, delta_t_median), RuntimeWarning)\n"
     ]
    },
    {
     "name": "stdout",
     "output_type": "stream",
     "text": [
      "49800/87006 [================>.............] - ETA: 9s - loss: 1.5479e-06 "
     ]
    },
    {
     "name": "stderr",
     "output_type": "stream",
     "text": [
      "C:\\Users\\User\\.conda\\envs\\theano_v1\\lib\\site-packages\\keras\\callbacks\\callbacks.py:95: RuntimeWarning: Method (on_train_batch_end) is slow compared to the batch update (0.150502). Check your callbacks.\n",
      "  % (hook_name, delta_t_median), RuntimeWarning)\n"
     ]
    },
    {
     "name": "stdout",
     "output_type": "stream",
     "text": [
      "87006/87006 [==============================] - 18s 204us/step - loss: 1.5592e-06\n",
      "Epoch 594/3000\n",
      "87006/87006 [==============================] - 20s 233us/step - loss: 1.5514e-060s - loss: 1.5513e-0\n",
      "Epoch 595/3000\n",
      "87006/87006 [==============================] - 21s 238us/step - loss: 1.5563e-061\n",
      "Epoch 596/3000\n",
      "87006/87006 [==============================] - 21s 242us/step - loss: 1.5569e-061s\n",
      "Epoch 597/3000\n",
      "87006/87006 [==============================] - 20s 234us/step - loss: 1.5561e-062s - loss:  - ETA: 1s - l\n",
      "Epoch 598/3000\n",
      "87006/87006 [==============================] - 23s 259us/step - loss: 1.5834e-061s - l\n",
      "Epoch 599/3000\n",
      "87006/87006 [==============================] - 22s 254us/step - loss: 1.5546e-06\n",
      "Epoch 600/3000\n",
      "87006/87006 [==============================] - 23s 268us/step - loss: 1.5613e-06 - val_loss: 1.8405e-06\n",
      "Epoch 601/3000\n",
      "87006/87006 [==============================] - 22s 252us/step - loss: 1.5497e-06\n",
      "Epoch 602/3000\n",
      "87006/87006 [==============================] - 21s 246us/step - loss: 1.5459e-06\n",
      "Epoch 603/3000\n",
      "87006/87006 [==============================] - 20s 233us/step - loss: 1.5533e-062s - loss: 1.5 \n",
      "Epoch 604/3000\n",
      "87006/87006 [==============================] - ETA: 0s - loss: 1.5581e-0 - 22s 250us/step - loss: 1.5567e-06\n",
      "Epoch 605/3000\n",
      "87006/87006 [==============================] - 21s 240us/step - loss: 1.5615e-06\n",
      "Epoch 606/3000\n",
      "87006/87006 [==============================] - 22s 257us/step - loss: 1.5468e-06\n",
      "Epoch 607/3000\n",
      "  600/87006 [..............................] - ETA: 30s - loss: 1.4167e-06"
     ]
    },
    {
     "name": "stderr",
     "output_type": "stream",
     "text": [
      "C:\\Users\\User\\.conda\\envs\\theano_v1\\lib\\site-packages\\keras\\callbacks\\callbacks.py:95: RuntimeWarning: Method (on_train_batch_end) is slow compared to the batch update (0.117495). Check your callbacks.\n",
      "  % (hook_name, delta_t_median), RuntimeWarning)\n",
      "C:\\Users\\User\\.conda\\envs\\theano_v1\\lib\\site-packages\\keras\\callbacks\\callbacks.py:95: RuntimeWarning: Method (on_train_batch_end) is slow compared to the batch update (0.113024). Check your callbacks.\n",
      "  % (hook_name, delta_t_median), RuntimeWarning)\n"
     ]
    },
    {
     "name": "stdout",
     "output_type": "stream",
     "text": [
      " 1800/87006 [..............................] - ETA: 19s - loss: 1.5611e-06"
     ]
    },
    {
     "name": "stderr",
     "output_type": "stream",
     "text": [
      "C:\\Users\\User\\.conda\\envs\\theano_v1\\lib\\site-packages\\keras\\callbacks\\callbacks.py:95: RuntimeWarning: Method (on_train_batch_end) is slow compared to the batch update (0.108553). Check your callbacks.\n",
      "  % (hook_name, delta_t_median), RuntimeWarning)\n"
     ]
    },
    {
     "name": "stdout",
     "output_type": "stream",
     "text": [
      "87006/87006 [==============================] - 20s 231us/step - loss: 1.5567e-06 ETA: 0s - loss: 1.5\n",
      "Epoch 608/3000\n",
      "87006/87006 [==============================] - 19s 221us/step - loss: 1.5615e-062\n",
      "Epoch 609/3000\n",
      "87006/87006 [==============================] - 21s 246us/step - loss: 1.5561e-06\n",
      "Epoch 610/3000\n",
      "87006/87006 [==============================] - 21s 237us/step - loss: 1.5519e-06\n",
      "Epoch 611/3000\n",
      "87006/87006 [==============================] - 23s 267us/step - loss: 1.5523e-06\n",
      "Epoch 612/3000\n",
      "87006/87006 [==============================] - 22s 250us/step - loss: 1.5517e-068s - loss: 1.5689 - ETA: 8s - l\n",
      "Epoch 613/3000\n",
      "87006/87006 [==============================] - 17s 195us/step - loss: 1.5544e-06\n",
      "Epoch 614/3000\n",
      "87006/87006 [==============================] - 21s 247us/step - loss: 1.5547e-06\n",
      "Epoch 615/3000\n",
      "87006/87006 [==============================] - 17s 196us/step - loss: 1.5553e-06\n",
      "Epoch 616/3000\n",
      "87006/87006 [==============================] - 19s 216us/step - loss: 1.5596e-06\n",
      "Epoch 617/3000\n",
      "87006/87006 [==============================] - 20s 234us/step - loss: 1.5490e-06\n",
      "Epoch 618/3000\n",
      "87006/87006 [==============================] - 23s 269us/step - loss: 1.5662e-06\n",
      "Epoch 619/3000\n",
      "87006/87006 [==============================] - 21s 238us/step - loss: 1.5673e-06\n",
      "Epoch 620/3000\n",
      "87006/87006 [==============================] - 21s 243us/step - loss: 1.5649e-06\n",
      "Epoch 621/3000\n",
      "87006/87006 [==============================] - 24s 272us/step - loss: 1.5514e-06- ETA: 3s - - ETA: 1s - loss: 1.56 - ETA: 0s - loss: 1.\n",
      "Epoch 622/3000\n",
      "87006/87006 [==============================] - 21s 236us/step - loss: 1.5546e-06\n",
      "Epoch 623/3000\n",
      "87006/87006 [==============================] - 22s 258us/step - loss: 1.5485e-061s - los\n",
      "Epoch 624/3000\n",
      "87006/87006 [==============================] - 19s 217us/step - loss: 1.5641e-06\n",
      "Epoch 625/3000\n",
      "87006/87006 [==============================] - 20s 227us/step - loss: 1.5467e-06\n",
      "Epoch 626/3000\n",
      "87006/87006 [==============================] - 23s 268us/step - loss: 1.5520e-06\n",
      "Epoch 627/3000\n",
      "87006/87006 [==============================] - 21s 242us/step - loss: 1.5594e-06\n",
      "Epoch 628/3000\n",
      "87006/87006 [==============================] - 25s 288us/step - loss: 1.5467e-06\n",
      "Epoch 629/3000\n",
      "87006/87006 [==============================] - 25s 288us/step - loss: 1.5568e-06\n",
      "Epoch 630/3000\n",
      "  600/87006 [..............................] - ETA: 40s - loss: 1.2130e-06"
     ]
    },
    {
     "name": "stderr",
     "output_type": "stream",
     "text": [
      "C:\\Users\\User\\.conda\\envs\\theano_v1\\lib\\site-packages\\keras\\callbacks\\callbacks.py:95: RuntimeWarning: Method (on_train_batch_end) is slow compared to the batch update (0.122256). Check your callbacks.\n",
      "  % (hook_name, delta_t_median), RuntimeWarning)\n"
     ]
    },
    {
     "name": "stdout",
     "output_type": "stream",
     "text": [
      "87006/87006 [==============================] - 23s 267us/step - loss: 1.5547e-06TA: 10s - loss: 1.62 - ETA: 9s - ETA: 7s  - ETA: 5s - ETA: 0s - loss: 1.5571\n",
      "Epoch 631/3000\n",
      "87006/87006 [==============================] - 28s 317us/step - loss: 1.5686e-06\n",
      "Epoch 632/3000\n",
      "  600/87006 [..............................] - ETA: 41s - loss: 1.7066e-06"
     ]
    },
    {
     "name": "stderr",
     "output_type": "stream",
     "text": [
      "C:\\Users\\User\\.conda\\envs\\theano_v1\\lib\\site-packages\\keras\\callbacks\\callbacks.py:95: RuntimeWarning: Method (on_train_batch_end) is slow compared to the batch update (0.163463). Check your callbacks.\n",
      "  % (hook_name, delta_t_median), RuntimeWarning)\n",
      "C:\\Users\\User\\.conda\\envs\\theano_v1\\lib\\site-packages\\keras\\callbacks\\callbacks.py:95: RuntimeWarning: Method (on_train_batch_end) is slow compared to the batch update (0.137330). Check your callbacks.\n",
      "  % (hook_name, delta_t_median), RuntimeWarning)\n"
     ]
    },
    {
     "name": "stdout",
     "output_type": "stream",
     "text": [
      "87006/87006 [==============================] - 27s 306us/step - loss: 1.5531e-060s - loss: 1.5\n",
      "Epoch 633/3000\n",
      " 1200/87006 [..............................] - ETA: 19s - loss: 1.6046e-06"
     ]
    },
    {
     "name": "stderr",
     "output_type": "stream",
     "text": [
      "C:\\Users\\User\\.conda\\envs\\theano_v1\\lib\\site-packages\\keras\\callbacks\\callbacks.py:95: RuntimeWarning: Method (on_train_batch_end) is slow compared to the batch update (0.146477). Check your callbacks.\n",
      "  % (hook_name, delta_t_median), RuntimeWarning)\n",
      "C:\\Users\\User\\.conda\\envs\\theano_v1\\lib\\site-packages\\keras\\callbacks\\callbacks.py:95: RuntimeWarning: Method (on_train_batch_end) is slow compared to the batch update (0.100445). Check your callbacks.\n",
      "  % (hook_name, delta_t_median), RuntimeWarning)\n"
     ]
    },
    {
     "name": "stdout",
     "output_type": "stream",
     "text": [
      "48000/87006 [===============>..............] - ETA: 10s - loss: 1.4718e-06"
     ]
    },
    {
     "name": "stderr",
     "output_type": "stream",
     "text": [
      "C:\\Users\\User\\.conda\\envs\\theano_v1\\lib\\site-packages\\keras\\callbacks\\callbacks.py:95: RuntimeWarning: Method (on_train_batch_end) is slow compared to the batch update (0.104193). Check your callbacks.\n",
      "  % (hook_name, delta_t_median), RuntimeWarning)\n"
     ]
    },
    {
     "name": "stdout",
     "output_type": "stream",
     "text": [
      "87006/87006 [==============================] - 23s 264us/step - loss: 1.5529e-06\n",
      "Epoch 634/3000\n",
      "87006/87006 [==============================] - 25s 290us/step - loss: 1.5518e-06\n",
      "Epoch 635/3000\n",
      "  900/87006 [..............................] - ETA: 33s - loss: 1.6541e-06"
     ]
    },
    {
     "name": "stderr",
     "output_type": "stream",
     "text": [
      "C:\\Users\\User\\.conda\\envs\\theano_v1\\lib\\site-packages\\keras\\callbacks\\callbacks.py:95: RuntimeWarning: Method (on_train_batch_end) is slow compared to the batch update (0.129858). Check your callbacks.\n",
      "  % (hook_name, delta_t_median), RuntimeWarning)\n"
     ]
    },
    {
     "name": "stdout",
     "output_type": "stream",
     "text": [
      "87006/87006 [==============================] - 19s 216us/step - loss: 1.5509e-06\n",
      "Epoch 636/3000\n",
      "87006/87006 [==============================] - 19s 222us/step - loss: 1.5526e-06\n",
      "Epoch 637/3000\n",
      "25800/87006 [=======>......................] - ETA: 19s - loss: 1.5290e-06"
     ]
    },
    {
     "name": "stderr",
     "output_type": "stream",
     "text": [
      "C:\\Users\\User\\.conda\\envs\\theano_v1\\lib\\site-packages\\keras\\callbacks\\callbacks.py:95: RuntimeWarning: Method (on_train_batch_end) is slow compared to the batch update (0.118770). Check your callbacks.\n",
      "  % (hook_name, delta_t_median), RuntimeWarning)\n"
     ]
    },
    {
     "name": "stdout",
     "output_type": "stream",
     "text": [
      "87006/87006 [==============================] - 26s 295us/step - loss: 1.5569e-06\n",
      "Epoch 638/3000\n",
      "87006/87006 [==============================] - 24s 271us/step - loss: 1.5478e-063s - loss: 1. - ETA\n",
      "Epoch 639/3000\n",
      "87006/87006 [==============================] - 24s 274us/step - loss: 1.5542e-06\n",
      "Epoch 640/3000\n",
      "87006/87006 [==============================] - 19s 214us/step - loss: 1.5562e-06 - ETA: 2s -  - ETA: 0s - loss: 1.\n",
      "Epoch 641/3000\n",
      "87006/87006 [==============================] - 24s 278us/step - loss: 1.5508e-06\n",
      "Epoch 642/3000\n",
      "87006/87006 [==============================] - 22s 252us/step - loss: 1.5650e-06\n",
      "Epoch 643/3000\n",
      " 1200/87006 [..............................] - ETA: 47s - loss: 1.5407e-06"
     ]
    },
    {
     "name": "stderr",
     "output_type": "stream",
     "text": [
      "C:\\Users\\User\\.conda\\envs\\theano_v1\\lib\\site-packages\\keras\\callbacks\\callbacks.py:95: RuntimeWarning: Method (on_train_batch_end) is slow compared to the batch update (0.122620). Check your callbacks.\n",
      "  % (hook_name, delta_t_median), RuntimeWarning)\n",
      "C:\\Users\\User\\.conda\\envs\\theano_v1\\lib\\site-packages\\keras\\callbacks\\callbacks.py:95: RuntimeWarning: Method (on_train_batch_end) is slow compared to the batch update (0.105202). Check your callbacks.\n",
      "  % (hook_name, delta_t_median), RuntimeWarning)\n",
      "C:\\Users\\User\\.conda\\envs\\theano_v1\\lib\\site-packages\\keras\\callbacks\\callbacks.py:95: RuntimeWarning: Method (on_train_batch_end) is slow compared to the batch update (0.101157). Check your callbacks.\n",
      "  % (hook_name, delta_t_median), RuntimeWarning)\n"
     ]
    },
    {
     "name": "stdout",
     "output_type": "stream",
     "text": [
      "87006/87006 [==============================] - 22s 249us/step - loss: 1.5543e-061s - loss: 1.5 - ETA: 1s - los\n",
      "Epoch 644/3000\n",
      "87006/87006 [==============================] - 23s 269us/step - loss: 1.5543e-06\n",
      "Epoch 645/3000\n",
      " 1500/87006 [..............................] - ETA: 35s - loss: 1.6710e-06 ETA: 40s - loss: 1.30"
     ]
    },
    {
     "name": "stderr",
     "output_type": "stream",
     "text": [
      "C:\\Users\\User\\.conda\\envs\\theano_v1\\lib\\site-packages\\keras\\callbacks\\callbacks.py:95: RuntimeWarning: Method (on_train_batch_end) is slow compared to the batch update (0.128507). Check your callbacks.\n",
      "  % (hook_name, delta_t_median), RuntimeWarning)\n"
     ]
    },
    {
     "name": "stdout",
     "output_type": "stream",
     "text": [
      "87006/87006 [==============================] - 23s 264us/step - loss: 1.5559e-064s - los\n",
      "Epoch 646/3000\n",
      "87006/87006 [==============================] - 19s 216us/step - loss: 1.5490e-06\n",
      "Epoch 647/3000\n",
      "87006/87006 [==============================] - 26s 295us/step - loss: 1.5542e-06 2s - loss: 1.572 - \n",
      "Epoch 648/3000\n",
      "75900/87006 [=========================>....] - ETA: 2s - loss: 1.5552e-06"
     ]
    },
    {
     "name": "stderr",
     "output_type": "stream",
     "text": [
      "C:\\Users\\User\\.conda\\envs\\theano_v1\\lib\\site-packages\\keras\\callbacks\\callbacks.py:95: RuntimeWarning: Method (on_train_batch_end) is slow compared to the batch update (0.109632). Check your callbacks.\n",
      "  % (hook_name, delta_t_median), RuntimeWarning)\n"
     ]
    },
    {
     "name": "stdout",
     "output_type": "stream",
     "text": [
      "76800/87006 [=========================>....] - ETA: 2s - loss: 1.5520e-06"
     ]
    },
    {
     "name": "stderr",
     "output_type": "stream",
     "text": [
      "C:\\Users\\User\\.conda\\envs\\theano_v1\\lib\\site-packages\\keras\\callbacks\\callbacks.py:95: RuntimeWarning: Method (on_train_batch_end) is slow compared to the batch update (0.117901). Check your callbacks.\n",
      "  % (hook_name, delta_t_median), RuntimeWarning)\n"
     ]
    },
    {
     "name": "stdout",
     "output_type": "stream",
     "text": [
      "87006/87006 [==============================] - 21s 236us/step - loss: 1.5526e-06\n",
      "Epoch 649/3000\n",
      "87006/87006 [==============================] - 17s 198us/step - loss: 1.5535e-063s - loss: 1.5832 - ETA: 1s - loss: 1.5627 - ETA: 1s - los\n",
      "Epoch 650/3000\n",
      "69000/87006 [======================>.......] - ETA: 4s - loss: 1.5296e-06"
     ]
    },
    {
     "name": "stderr",
     "output_type": "stream",
     "text": [
      "C:\\Users\\User\\.conda\\envs\\theano_v1\\lib\\site-packages\\keras\\callbacks\\callbacks.py:95: RuntimeWarning: Method (on_train_batch_end) is slow compared to the batch update (0.106426). Check your callbacks.\n",
      "  % (hook_name, delta_t_median), RuntimeWarning)\n"
     ]
    },
    {
     "name": "stdout",
     "output_type": "stream",
     "text": [
      "69900/87006 [=======================>......] - ETA: 4s - loss: 1.5316e-06"
     ]
    },
    {
     "name": "stderr",
     "output_type": "stream",
     "text": [
      "C:\\Users\\User\\.conda\\envs\\theano_v1\\lib\\site-packages\\keras\\callbacks\\callbacks.py:95: RuntimeWarning: Method (on_train_batch_end) is slow compared to the batch update (0.124259). Check your callbacks.\n",
      "  % (hook_name, delta_t_median), RuntimeWarning)\n"
     ]
    },
    {
     "name": "stdout",
     "output_type": "stream",
     "text": [
      "87006/87006 [==============================] - 22s 255us/step - loss: 1.5550e-062s - lo - ETA: 1s - loss: 1.5508e - ETA: 1s - loss: 1. - ETA: 0s - loss: 1.5566e\n",
      "Epoch 651/3000\n",
      "87006/87006 [==============================] - 22s 248us/step - loss: 1.5546e-067 - ETA: 6 - ETA: 4s - loss: 1.5221 - ETA: 3s  - ETA: \n",
      "Epoch 652/3000\n",
      "87006/87006 [==============================] - 21s 245us/step - loss: 1.5495e-06\n",
      "Epoch 653/3000\n",
      "87006/87006 [==============================] - 20s 230us/step - loss: 1.5639e-06ETA: 5s - lo - ETA: 2\n",
      "Epoch 654/3000\n",
      "87006/87006 [==============================] - 20s 226us/step - loss: 1.5458e-06\n",
      "Epoch 655/3000\n",
      " 1500/87006 [..............................] - ETA: 18s - loss: 1.3785e-06"
     ]
    },
    {
     "name": "stderr",
     "output_type": "stream",
     "text": [
      "C:\\Users\\User\\.conda\\envs\\theano_v1\\lib\\site-packages\\keras\\callbacks\\callbacks.py:95: RuntimeWarning: Method (on_train_batch_end) is slow compared to the batch update (0.106483). Check your callbacks.\n",
      "  % (hook_name, delta_t_median), RuntimeWarning)\n"
     ]
    },
    {
     "name": "stdout",
     "output_type": "stream",
     "text": [
      "87006/87006 [==============================] - 19s 222us/step - loss: 1.5533e-06\n",
      "Epoch 656/3000\n",
      "87006/87006 [==============================] - 24s 271us/step - loss: 1.5574e-069s - loss: 1 - ETA: 8s - loss: 1.589 - ETA: 8s - los - - ETA: 3s - loss: 1.\n",
      "Epoch 657/3000\n",
      "87006/87006 [==============================] - 19s 221us/step - loss: 1.5557e-06\n",
      "Epoch 658/3000\n",
      " 1200/87006 [..............................] - ETA: 26s - loss: 1.4936e-06"
     ]
    },
    {
     "name": "stderr",
     "output_type": "stream",
     "text": [
      "C:\\Users\\User\\.conda\\envs\\theano_v1\\lib\\site-packages\\keras\\callbacks\\callbacks.py:95: RuntimeWarning: Method (on_train_batch_end) is slow compared to the batch update (0.153926). Check your callbacks.\n",
      "  % (hook_name, delta_t_median), RuntimeWarning)\n",
      "C:\\Users\\User\\.conda\\envs\\theano_v1\\lib\\site-packages\\keras\\callbacks\\callbacks.py:95: RuntimeWarning: Method (on_train_batch_end) is slow compared to the batch update (0.117510). Check your callbacks.\n",
      "  % (hook_name, delta_t_median), RuntimeWarning)\n"
     ]
    },
    {
     "name": "stdout",
     "output_type": "stream",
     "text": [
      "87006/87006 [==============================] - 23s 262us/step - loss: 1.5502e-06\n",
      "Epoch 659/3000\n",
      "87006/87006 [==============================] - 26s 298us/step - loss: 1.5560e-060s - loss: 1.5553e-\n",
      "Epoch 660/3000\n",
      "87006/87006 [==============================] - 27s 313us/step - loss: 1.5466e-060s - loss: 1.5404e- - ETA: 0s - loss: 1.5473e- - ETA: 0s - loss: 1.5466e-0\n",
      "Epoch 661/3000\n",
      "66900/87006 [======================>.......] - ETA: 6s - loss: 1.5750e-06- ETA: 7"
     ]
    },
    {
     "name": "stderr",
     "output_type": "stream",
     "text": [
      "C:\\Users\\User\\.conda\\envs\\theano_v1\\lib\\site-packages\\keras\\callbacks\\callbacks.py:95: RuntimeWarning: Method (on_train_batch_end) is slow compared to the batch update (0.107030). Check your callbacks.\n",
      "  % (hook_name, delta_t_median), RuntimeWarning)\n"
     ]
    },
    {
     "name": "stdout",
     "output_type": "stream",
     "text": [
      "68400/87006 [======================>.......] - ETA: 5s - loss: 1.5700e-06"
     ]
    },
    {
     "name": "stderr",
     "output_type": "stream",
     "text": [
      "C:\\Users\\User\\.conda\\envs\\theano_v1\\lib\\site-packages\\keras\\callbacks\\callbacks.py:95: RuntimeWarning: Method (on_train_batch_end) is slow compared to the batch update (0.113674). Check your callbacks.\n",
      "  % (hook_name, delta_t_median), RuntimeWarning)\n"
     ]
    },
    {
     "name": "stdout",
     "output_type": "stream",
     "text": [
      "87006/87006 [==============================] - 28s 324us/step - loss: 1.5662e-063s - loss - ETA: 2\n",
      "Epoch 662/3000\n",
      "87006/87006 [==============================] - 17s 193us/step - loss: 1.5547e-06\n",
      "Epoch 663/3000\n",
      "87006/87006 [==============================] - 20s 235us/step - loss: 1.5616e-061s - loss: - ETA: 0s - loss: 1.5\n",
      "Epoch 664/3000\n",
      "87006/87006 [==============================] - 20s 233us/step - loss: 1.5513e-06\n",
      "Epoch 665/3000\n",
      "87006/87006 [==============================] - 19s 221us/step - loss: 1.5480e-06\n",
      "Epoch 666/3000\n",
      "87006/87006 [==============================] - 23s 262us/step - loss: 1.5542e-063s - loss: 1.5530e-0 - ETA - ETA: 1s - \n",
      "Epoch 667/3000\n",
      " 1800/87006 [..............................] - ETA: 16s - loss: 1.1801e-06"
     ]
    },
    {
     "name": "stderr",
     "output_type": "stream",
     "text": [
      "C:\\Users\\User\\.conda\\envs\\theano_v1\\lib\\site-packages\\keras\\callbacks\\callbacks.py:95: RuntimeWarning: Method (on_train_batch_end) is slow compared to the batch update (0.140426). Check your callbacks.\n",
      "  % (hook_name, delta_t_median), RuntimeWarning)\n"
     ]
    },
    {
     "name": "stdout",
     "output_type": "stream",
     "text": [
      "87006/87006 [==============================] - 22s 251us/step - loss: 1.5586e-06\n",
      "Epoch 668/3000\n",
      "87006/87006 [==============================] - 21s 238us/step - loss: 1.5513e-064s\n",
      "Epoch 669/3000\n",
      "87006/87006 [==============================] - 18s 209us/step - loss: 1.5515e-065s - loss: 1.553 - ETA: 5s - l - ETA - ETA: 1s - los - ETA: 0s - loss: 1.5471e-\n",
      "Epoch 670/3000\n",
      "87006/87006 [==============================] - 20s 226us/step - loss: 1.5571e-062\n",
      "Epoch 671/3000\n",
      " 1200/87006 [..............................] - ETA: 44s - loss: 2.0236e-06"
     ]
    },
    {
     "name": "stderr",
     "output_type": "stream",
     "text": [
      "C:\\Users\\User\\.conda\\envs\\theano_v1\\lib\\site-packages\\keras\\callbacks\\callbacks.py:95: RuntimeWarning: Method (on_train_batch_end) is slow compared to the batch update (0.105188). Check your callbacks.\n",
      "  % (hook_name, delta_t_median), RuntimeWarning)\n"
     ]
    },
    {
     "name": "stdout",
     "output_type": "stream",
     "text": [
      "87006/87006 [==============================] - 21s 240us/step - loss: 1.5529e-061\n",
      "Epoch 672/3000\n",
      "87006/87006 [==============================] - 21s 237us/step - loss: 1.5544e-06\n",
      "Epoch 673/3000\n",
      "87006/87006 [==============================] - 24s 271us/step - loss: 1.5537e-060s - loss: 1.5\n",
      "Epoch 674/3000\n",
      "87006/87006 [==============================] - 23s 264us/step - loss: 1.5536e-06\n",
      "Epoch 675/3000\n",
      "87006/87006 [==============================] - 23s 262us/step - loss: 1.5515e-06\n",
      "Epoch 676/3000\n",
      "62100/87006 [====================>.........] - ETA: 6s - loss: 1.5461e-06"
     ]
    },
    {
     "name": "stderr",
     "output_type": "stream",
     "text": [
      "C:\\Users\\User\\.conda\\envs\\theano_v1\\lib\\site-packages\\keras\\callbacks\\callbacks.py:95: RuntimeWarning: Method (on_train_batch_end) is slow compared to the batch update (0.107544). Check your callbacks.\n",
      "  % (hook_name, delta_t_median), RuntimeWarning)\n"
     ]
    },
    {
     "name": "stdout",
     "output_type": "stream",
     "text": [
      "87006/87006 [==============================] - ETA: 0s - loss: 1.5533e-06- ETA: 4s -  - ETA - 21s 240us/step - loss: 1.5532e-06\n",
      "Epoch 677/3000\n",
      "87006/87006 [==============================] - 21s 244us/step - loss: 1.5492e-06\n",
      "Epoch 678/3000\n",
      "87006/87006 [==============================] - 19s 217us/step - loss: 1.5540e-062s - loss - ETA: 1s - \n",
      "Epoch 679/3000\n",
      "87006/87006 [==============================] - 20s 233us/step - loss: 1.5468e-0613s - loss: 1.5261 - ETA: 13  - ETA: 0s - loss: 1.5301\n",
      "Epoch 680/3000\n",
      "87006/87006 [==============================] - 19s 216us/step - loss: 1.5516e-06 ETA: 4s - loss: - E - ETA: 1s - loss: 1 - ETA: 0s - loss: 1.5 - ETA: 0s - loss: 1.5515e-0\n",
      "Epoch 681/3000\n",
      "87006/87006 [==============================] - 19s 220us/step - loss: 1.5569e-06\n",
      "Epoch 682/3000\n",
      "87006/87006 [==============================] - 23s 266us/step - loss: 1.5515e-06\n",
      "Epoch 683/3000\n",
      "87006/87006 [==============================] - 19s 214us/step - loss: 1.5633e-065s - loss: 1.58 - ETA: 1s - loss: 1.5 - ETA: 0s - loss: 1.565\n",
      "Epoch 684/3000\n",
      "87006/87006 [==============================] - 20s 232us/step - loss: 1.5503e-06\n",
      "Epoch 685/3000\n",
      "87006/87006 [==============================] - 20s 234us/step - loss: 1.5528e-06\n",
      "Epoch 686/3000\n",
      " 1200/87006 [..............................] - ETA: 23s - loss: 1.5381e-06"
     ]
    },
    {
     "name": "stderr",
     "output_type": "stream",
     "text": [
      "C:\\Users\\User\\.conda\\envs\\theano_v1\\lib\\site-packages\\keras\\callbacks\\callbacks.py:95: RuntimeWarning: Method (on_train_batch_end) is slow compared to the batch update (0.123020). Check your callbacks.\n",
      "  % (hook_name, delta_t_median), RuntimeWarning)\n"
     ]
    },
    {
     "name": "stdout",
     "output_type": "stream",
     "text": [
      "87006/87006 [==============================] - 20s 231us/step - loss: 1.5592e-06\n",
      "Epoch 687/3000\n",
      "87006/87006 [==============================] - 20s 229us/step - loss: 1.5524e-06\n",
      "Epoch 688/3000\n",
      "87006/87006 [==============================] - 21s 246us/step - loss: 1.5606e-060s - loss:\n",
      "Epoch 689/3000\n",
      "87006/87006 [==============================] - 25s 285us/step - loss: 1.5636e-06\n",
      "Epoch 690/3000\n",
      "87006/87006 [==============================] - 22s 253us/step - loss: 1.5486e-060s - loss: 1.5484e\n",
      "Epoch 691/3000\n",
      "87006/87006 [==============================] - 17s 196us/step - loss: 1.5505e-06\n",
      "Epoch 692/3000\n",
      "87006/87006 [==============================] - 21s 247us/step - loss: 1.5547e-06\n",
      "Epoch 693/3000\n",
      "87006/87006 [==============================] - 21s 243us/step - loss: 1.5517e-06\n",
      "Epoch 694/3000\n",
      "87006/87006 [==============================] - 25s 284us/step - loss: 1.5478e-069s - loss - ETA:\n",
      "Epoch 695/3000\n",
      "87006/87006 [==============================] - 18s 212us/step - loss: 1.5493e-06\n",
      "Epoch 696/3000\n",
      "87006/87006 [==============================] - 21s 239us/step - loss: 1.5640e-06ETA: 1s - loss:\n",
      "Epoch 697/3000\n",
      "77100/87006 [=========================>....] - ETA: 2s - loss: 1.5441e-06- ETA: 9s - loss: 1.4 - ETA - ETA - ETA: 4s - loss: 1 - ETA: 3s - "
     ]
    },
    {
     "name": "stderr",
     "output_type": "stream",
     "text": [
      "C:\\Users\\User\\.conda\\envs\\theano_v1\\lib\\site-packages\\keras\\callbacks\\callbacks.py:95: RuntimeWarning: Method (on_train_batch_end) is slow compared to the batch update (0.104298). Check your callbacks.\n",
      "  % (hook_name, delta_t_median), RuntimeWarning)\n"
     ]
    },
    {
     "name": "stdout",
     "output_type": "stream",
     "text": [
      "87006/87006 [==============================] - 23s 259us/step - loss: 1.5590e-06 ETA: 0s - loss: 1.5590e-0\n",
      "Epoch 698/3000\n",
      "87006/87006 [==============================] - 15s 177us/step - loss: 1.5521e-06\n",
      "Epoch 699/3000\n",
      "87006/87006 [==============================] - 22s 252us/step - loss: 1.5501e-06\n",
      "Epoch 700/3000\n",
      "87006/87006 [==============================] - 18s 209us/step - loss: 1.5554e-06 - val_loss: 1.8151e-06\n",
      "Epoch 701/3000\n",
      "87006/87006 [==============================] - 21s 244us/step - loss: 1.5480e-062s - loss: 1.552 - ETA: 1s - \n",
      "Epoch 702/3000\n",
      "87006/87006 [==============================] - 19s 221us/step - loss: 1.5532e-06\n",
      "Epoch 703/3000\n",
      "87006/87006 [==============================] - 18s 212us/step - loss: 1.5510e-061s \n",
      "Epoch 704/3000\n",
      "87006/87006 [==============================] - 17s 191us/step - loss: 1.5534e-066s - loss: 1 - ETA: 5s - - E - ETA: 1s - los\n",
      "Epoch 705/3000\n",
      "87006/87006 [==============================] - 19s 221us/step - loss: 1.5524e-06\n",
      "Epoch 706/3000\n",
      "87006/87006 [==============================] - 20s 232us/step - loss: 1.5582e-06\n",
      "Epoch 707/3000\n",
      "87006/87006 [==============================] - 17s 194us/step - loss: 1.5479e-06\n",
      "Epoch 708/3000\n",
      "87006/87006 [==============================] - 20s 226us/step - loss: 1.5485e-06\n",
      "Epoch 709/3000\n",
      "87006/87006 [==============================] - 21s 244us/step - loss: 1.5558e-060s - loss:\n",
      "Epoch 710/3000\n",
      "87006/87006 [==============================] - 18s 211us/step - loss: 1.5566e-06\n",
      "Epoch 711/3000\n",
      "87006/87006 [==============================] - 22s 248us/step - loss: 1.5469e-06\n",
      "Epoch 712/3000\n",
      "87006/87006 [==============================] - 22s 256us/step - loss: 1.5548e-06\n",
      "Epoch 713/3000\n",
      "87006/87006 [==============================] - 24s 277us/step - loss: 1.5543e-060s - loss: 1.5\n",
      "Epoch 714/3000\n",
      " 1500/87006 [..............................] - ETA: 15s - loss: 1.7252e-06"
     ]
    },
    {
     "name": "stderr",
     "output_type": "stream",
     "text": [
      "C:\\Users\\User\\.conda\\envs\\theano_v1\\lib\\site-packages\\keras\\callbacks\\callbacks.py:95: RuntimeWarning: Method (on_train_batch_end) is slow compared to the batch update (0.102800). Check your callbacks.\n",
      "  % (hook_name, delta_t_median), RuntimeWarning)\n"
     ]
    },
    {
     "name": "stdout",
     "output_type": "stream",
     "text": [
      "87006/87006 [==============================] - 20s 231us/step - loss: 1.5472e-06\n",
      "Epoch 715/3000\n",
      "87006/87006 [==============================] - 20s 235us/step - loss: 1.5554e-065s - \n",
      "Epoch 716/3000\n",
      "87006/87006 [==============================] - 20s 228us/step - loss: 1.5558e-06\n",
      "Epoch 717/3000\n",
      "87006/87006 [==============================] - 19s 215us/step - loss: 1.5614e-06\n",
      "Epoch 718/3000\n",
      "87006/87006 [==============================] - 20s 232us/step - loss: 1.5589e-063s - loss: 1.5591e-0 - ETA: 3s - loss - ETA: 3s - loss: 1 - ETA:\n",
      "Epoch 719/3000\n",
      "87006/87006 [==============================] - 23s 260us/step - loss: 1.5550e-061s - loss:  - ETA: 0s - loss: 1\n",
      "Epoch 720/3000\n",
      "87006/87006 [==============================] - 22s 252us/step - loss: 1.5439e-060s - loss: 1.5456e\n",
      "Epoch 721/3000\n",
      "87006/87006 [==============================] - 21s 238us/step - loss: 1.5550e-06\n",
      "Epoch 722/3000\n",
      "87006/87006 [==============================] - 23s 260us/step - loss: 1.5481e-06\n",
      "Epoch 723/3000\n",
      "87006/87006 [==============================] - 23s 259us/step - loss: 1.5499e-06\n",
      "Epoch 724/3000\n",
      " 1800/87006 [..............................] - ETA: 36s - loss: 1.4642e-06"
     ]
    },
    {
     "name": "stderr",
     "output_type": "stream",
     "text": [
      "C:\\Users\\User\\.conda\\envs\\theano_v1\\lib\\site-packages\\keras\\callbacks\\callbacks.py:95: RuntimeWarning: Method (on_train_batch_end) is slow compared to the batch update (0.125218). Check your callbacks.\n",
      "  % (hook_name, delta_t_median), RuntimeWarning)\n"
     ]
    },
    {
     "name": "stdout",
     "output_type": "stream",
     "text": [
      "87006/87006 [==============================] - 22s 253us/step - loss: 1.5562e-06\n",
      "Epoch 725/3000\n",
      "87006/87006 [==============================] - ETA: 0s - loss: 1.5521e-06- ETA: 0s - loss: 1.555 - 21s 242us/step - loss: 1.5520e-06\n",
      "Epoch 726/3000\n",
      "87006/87006 [==============================] - 19s 216us/step - loss: 1.5611e-06\n",
      "Epoch 727/3000\n",
      "74700/87006 [========================>.....] - ETA: 3s - loss: 1.5480e-06- ETA: 4s - l"
     ]
    },
    {
     "name": "stderr",
     "output_type": "stream",
     "text": [
      "C:\\Users\\User\\.conda\\envs\\theano_v1\\lib\\site-packages\\keras\\callbacks\\callbacks.py:95: RuntimeWarning: Method (on_train_batch_end) is slow compared to the batch update (0.110971). Check your callbacks.\n",
      "  % (hook_name, delta_t_median), RuntimeWarning)\n"
     ]
    },
    {
     "name": "stdout",
     "output_type": "stream",
     "text": [
      "87006/87006 [==============================] - 21s 244us/step - loss: 1.5521e-06\n",
      "Epoch 728/3000\n",
      "87006/87006 [==============================] - 23s 263us/step - loss: 1.5489e-060s - loss - ETA: 0s - loss: 1.5490e-0\n",
      "Epoch 729/3000\n",
      "87006/87006 [==============================] - 23s 260us/step - loss: 1.5516e-06\n",
      "Epoch 730/3000\n",
      "87006/87006 [==============================] - 19s 219us/step - loss: 1.5622e-068s - l - ET\n",
      "Epoch 731/3000\n",
      "87006/87006 [==============================] - 21s 247us/step - loss: 1.5540e-06\n",
      "Epoch 732/3000\n",
      "87006/87006 [==============================] - 25s 282us/step - loss: 1.5484e-060s - loss: 1.5487e\n",
      "Epoch 733/3000\n",
      "87006/87006 [==============================] - 22s 257us/step - loss: 1.5501e-06\n",
      "Epoch 734/3000\n",
      "87006/87006 [==============================] - 21s 237us/step - loss: 1.5506e-061s - lo\n",
      "Epoch 735/3000\n",
      "87006/87006 [==============================] - 22s 247us/step - loss: 1.5523e-06\n",
      "Epoch 736/3000\n",
      "87006/87006 [==============================] - 19s 221us/step - loss: 1.5552e-06\n",
      "Epoch 737/3000\n",
      "87006/87006 [==============================] - 20s 228us/step - loss: 1.5586e-061s\n",
      "Epoch 738/3000\n",
      "87006/87006 [==============================] - 19s 214us/step - loss: 1.5508e-060s - loss: 1.5526\n",
      "Epoch 739/3000\n",
      "87006/87006 [==============================] - 18s 204us/step - loss: 1.5463e-06\n",
      "Epoch 740/3000\n",
      "87006/87006 [==============================] - 20s 235us/step - loss: 1.5623e-06\n",
      "Epoch 741/3000\n",
      "87006/87006 [==============================] - 23s 261us/step - loss: 1.5578e-060s - loss: 1.559\n",
      "Epoch 742/3000\n",
      "87006/87006 [==============================] - 24s 280us/step - loss: 1.5491e-066s - loss: 1. - E - ETA: 2s - loss: 1 - ETA: 2s - loss:  - ETA: 0s - loss: 1.\n",
      "Epoch 743/3000\n",
      "87006/87006 [==============================] - 19s 218us/step - loss: 1.5509e-06\n",
      "Epoch 744/3000\n",
      "87006/87006 [==============================] - 20s 231us/step - loss: 1.5507e-063s - loss: - ET - ETA: 0s - loss: 1.55\n",
      "Epoch 745/3000\n",
      "87006/87006 [==============================] - 21s 236us/step - loss: 1.5545e-06\n",
      "Epoch 746/3000\n",
      "87006/87006 [==============================] - 21s 245us/step - loss: 1.5581e-065s - loss: 1 - ET - ETA: 1s\n",
      "Epoch 747/3000\n",
      "87006/87006 [==============================] - 20s 225us/step - loss: 1.5696e-061s -\n",
      "Epoch 748/3000\n",
      "87006/87006 [==============================] - 19s 216us/step - loss: 1.5562e-06\n",
      "Epoch 749/3000\n",
      "87006/87006 [==============================] - 22s 257us/step - loss: 1.5467e-06\n",
      "Epoch 750/3000\n",
      "87006/87006 [==============================] - 25s 283us/step - loss: 1.5456e-06\n",
      "Epoch 751/3000\n",
      "87006/87006 [==============================] - 20s 228us/step - loss: 1.5594e-06\n",
      "Epoch 752/3000\n",
      "87006/87006 [==============================] - 22s 256us/step - loss: 1.5534e-06\n",
      "Epoch 753/3000\n",
      "87006/87006 [==============================] - 21s 241us/step - loss: 1.5550e-06\n",
      "Epoch 754/3000\n",
      "87006/87006 [==============================] - 21s 238us/step - loss: 1.5558e-063s - - ETA:\n",
      "Epoch 755/3000\n",
      "  600/87006 [..............................] - ETA: 37s - loss: 1.3961e-"
     ]
    },
    {
     "name": "stderr",
     "output_type": "stream",
     "text": [
      "C:\\Users\\User\\.conda\\envs\\theano_v1\\lib\\site-packages\\keras\\callbacks\\callbacks.py:95: RuntimeWarning: Method (on_train_batch_end) is slow compared to the batch update (0.147137). Check your callbacks.\n",
      "  % (hook_name, delta_t_median), RuntimeWarning)\n"
     ]
    },
    {
     "name": "stdout",
     "output_type": "stream",
     "text": [
      "87006/87006 [==============================] - 22s 255us/step - loss: 1.5558e-060s - loss: 1.558 - ETA: 0s - loss: 1.5598\n",
      "Epoch 756/3000\n",
      "87006/87006 [==============================] - 21s 240us/step - loss: 1.5467e-06\n",
      "Epoch 757/3000\n",
      "87006/87006 [==============================] - ETA: 0s - loss: 1.5508e-0 - 24s 275us/step - loss: 1.5507e-06\n",
      "Epoch 758/3000\n",
      "87006/87006 [==============================] - 21s 242us/step - loss: 1.5567e-060s - loss: 1.561\n",
      "Epoch 759/3000\n",
      "87006/87006 [==============================] - 21s 246us/step - loss: 1.5550e-06\n",
      "Epoch 760/3000\n",
      "87006/87006 [==============================] - 21s 247us/step - loss: 1.5491e-060s - loss: 1.5\n",
      "Epoch 761/3000\n",
      "87006/87006 [==============================] - 24s 271us/step - loss: 1.5473e-060s - loss: 1.55\n",
      "Epoch 762/3000\n",
      "87006/87006 [==============================] - 25s 289us/step - loss: 1.5541e-060s - loss: 1.55\n",
      "Epoch 763/3000\n",
      " 3600/87006 [>.............................] - ETA: 1:00 - loss: 1.3557e-06"
     ]
    },
    {
     "name": "stderr",
     "output_type": "stream",
     "text": [
      "C:\\Users\\User\\.conda\\envs\\theano_v1\\lib\\site-packages\\keras\\callbacks\\callbacks.py:95: RuntimeWarning: Method (on_train_batch_end) is slow compared to the batch update (0.100500). Check your callbacks.\n",
      "  % (hook_name, delta_t_median), RuntimeWarning)\n"
     ]
    },
    {
     "name": "stdout",
     "output_type": "stream",
     "text": [
      " 4800/87006 [>.............................] - ETA: 55s - loss: 1.4169e-06"
     ]
    },
    {
     "name": "stderr",
     "output_type": "stream",
     "text": [
      "C:\\Users\\User\\.conda\\envs\\theano_v1\\lib\\site-packages\\keras\\callbacks\\callbacks.py:95: RuntimeWarning: Method (on_train_batch_end) is slow compared to the batch update (0.120375). Check your callbacks.\n",
      "  % (hook_name, delta_t_median), RuntimeWarning)\n"
     ]
    },
    {
     "name": "stdout",
     "output_type": "stream",
     "text": [
      "87006/87006 [==============================] - 27s 316us/step - loss: 1.5481e-06\n",
      "Epoch 764/3000\n",
      "87006/87006 [==============================] - 26s 299us/step - loss: 1.5582e-06\n",
      "Epoch 765/3000\n",
      "87006/87006 [==============================] - 25s 291us/step - loss: 1.5512e-06\n",
      "Epoch 766/3000\n",
      "87006/87006 [==============================] - 26s 298us/step - loss: 1.5494e-063 - ETA: 1s - loss: 1 - ETA: 0s - loss: 1.5508e-\n",
      "Epoch 767/3000\n",
      "75300/87006 [========================>.....] - ETA: 3s - loss: 1.5717e-06  E - ETA: 8s - l - ETA: 5s - los - ETA: 3s - loss: 1.5703"
     ]
    },
    {
     "name": "stderr",
     "output_type": "stream",
     "text": [
      "C:\\Users\\User\\.conda\\envs\\theano_v1\\lib\\site-packages\\keras\\callbacks\\callbacks.py:95: RuntimeWarning: Method (on_train_batch_end) is slow compared to the batch update (0.100121). Check your callbacks.\n",
      "  % (hook_name, delta_t_median), RuntimeWarning)\n",
      "C:\\Users\\User\\.conda\\envs\\theano_v1\\lib\\site-packages\\keras\\callbacks\\callbacks.py:95: RuntimeWarning: Method (on_train_batch_end) is slow compared to the batch update (0.107951). Check your callbacks.\n",
      "  % (hook_name, delta_t_median), RuntimeWarning)\n"
     ]
    },
    {
     "name": "stdout",
     "output_type": "stream",
     "text": [
      "87006/87006 [==============================] - ETA: 0s - loss: 1.5560e-0 - 27s 307us/step - loss: 1.5560e-06\n",
      "Epoch 768/3000\n",
      " 9300/87006 [==>...........................] - ETA: 29s - loss: 1.5554e-06"
     ]
    },
    {
     "name": "stderr",
     "output_type": "stream",
     "text": [
      "C:\\Users\\User\\.conda\\envs\\theano_v1\\lib\\site-packages\\keras\\callbacks\\callbacks.py:95: RuntimeWarning: Method (on_train_batch_end) is slow compared to the batch update (0.108116). Check your callbacks.\n",
      "  % (hook_name, delta_t_median), RuntimeWarning)\n"
     ]
    },
    {
     "name": "stdout",
     "output_type": "stream",
     "text": [
      "87006/87006 [==============================] - 27s 308us/step - loss: 1.5441e-06\n",
      "Epoch 769/3000\n",
      "87006/87006 [==============================] - 24s 273us/step - loss: 1.5522e-06\n",
      "Epoch 770/3000\n",
      "87006/87006 [==============================] - 23s 269us/step - loss: 1.5482e-064s - loss: 1.53 - ETA: 0s - loss: 1.5\n",
      "Epoch 771/3000\n",
      "87006/87006 [==============================] - 25s 287us/step - loss: 1.5441e-06\n",
      "Epoch 772/3000\n",
      " 1200/87006 [..............................] - ETA: 38s - loss: 1.6975e-06"
     ]
    },
    {
     "name": "stderr",
     "output_type": "stream",
     "text": [
      "C:\\Users\\User\\.conda\\envs\\theano_v1\\lib\\site-packages\\keras\\callbacks\\callbacks.py:95: RuntimeWarning: Method (on_train_batch_end) is slow compared to the batch update (0.122823). Check your callbacks.\n",
      "  % (hook_name, delta_t_median), RuntimeWarning)\n"
     ]
    },
    {
     "name": "stdout",
     "output_type": "stream",
     "text": [
      "87006/87006 [==============================] - ETA: 0s - loss: 1.5530e-06- ETA: 5s - - ETA - ETA: 1s  - 25s 287us/step - loss: 1.5530e-06\n",
      "Epoch 773/3000\n",
      "87006/87006 [==============================] - 24s 278us/step - loss: 1.5542e-06\n",
      "Epoch 774/3000\n",
      "87006/87006 [==============================] - 26s 299us/step - loss: 1.5492e-06\n",
      "Epoch 775/3000\n",
      "  900/87006 [..............................] - ETA: 36s - loss: 1.6744e-06"
     ]
    },
    {
     "name": "stderr",
     "output_type": "stream",
     "text": [
      "C:\\Users\\User\\.conda\\envs\\theano_v1\\lib\\site-packages\\keras\\callbacks\\callbacks.py:95: RuntimeWarning: Method (on_train_batch_end) is slow compared to the batch update (0.142101). Check your callbacks.\n",
      "  % (hook_name, delta_t_median), RuntimeWarning)\n"
     ]
    },
    {
     "name": "stdout",
     "output_type": "stream",
     "text": [
      "87006/87006 [==============================] - 25s 284us/step - loss: 1.5548e-06\n",
      "Epoch 776/3000\n",
      "87006/87006 [==============================] - 20s 233us/step - loss: 1.5479e-061s - loss: \n",
      "Epoch 777/3000\n",
      "87006/87006 [==============================] - 22s 258us/step - loss: 1.5510e-06\n",
      "Epoch 778/3000\n",
      "87006/87006 [==============================] - 23s 259us/step - loss: 1.5527e-06TA:\n",
      "Epoch 779/3000\n",
      "87006/87006 [==============================] - 25s 291us/step - loss: 1.5555e-069s - loss: 1.5519 - ETA: 9s - loss: 1.5566e - ETA: 8s - l - ETA: 0s - loss: 1\n",
      "Epoch 780/3000\n",
      "87006/87006 [==============================] - 23s 264us/step - loss: 1.5568e-06\n",
      "Epoch 781/3000\n",
      "87006/87006 [==============================] - 23s 265us/step - loss: 1.5619e-06\n",
      "Epoch 782/3000\n",
      " 1200/87006 [..............................] - ETA: 33s - loss: 1.4417e-06"
     ]
    },
    {
     "name": "stderr",
     "output_type": "stream",
     "text": [
      "C:\\Users\\User\\.conda\\envs\\theano_v1\\lib\\site-packages\\keras\\callbacks\\callbacks.py:95: RuntimeWarning: Method (on_train_batch_end) is slow compared to the batch update (0.102240). Check your callbacks.\n",
      "  % (hook_name, delta_t_median), RuntimeWarning)\n",
      "C:\\Users\\User\\.conda\\envs\\theano_v1\\lib\\site-packages\\keras\\callbacks\\callbacks.py:95: RuntimeWarning: Method (on_train_batch_end) is slow compared to the batch update (0.105794). Check your callbacks.\n",
      "  % (hook_name, delta_t_median), RuntimeWarning)\n"
     ]
    },
    {
     "name": "stdout",
     "output_type": "stream",
     "text": [
      "87006/87006 [==============================] - 26s 298us/step - loss: 1.5502e-06\n",
      "Epoch 783/3000\n",
      "81600/87006 [===========================>..] - ETA: 1s - loss: 1.5562e-06- ETA: 8s - loss: 1. - ETA: 8s - loss: - ETA: 7s - lo - ETA: 4s - - ETA: 2s "
     ]
    },
    {
     "name": "stderr",
     "output_type": "stream",
     "text": [
      "C:\\Users\\User\\.conda\\envs\\theano_v1\\lib\\site-packages\\keras\\callbacks\\callbacks.py:95: RuntimeWarning: Method (on_train_batch_end) is slow compared to the batch update (0.105601). Check your callbacks.\n",
      "  % (hook_name, delta_t_median), RuntimeWarning)\n"
     ]
    },
    {
     "name": "stdout",
     "output_type": "stream",
     "text": [
      "87006/87006 [==============================] - 22s 249us/step - loss: 1.5582e-060s - loss: 1.5537\n",
      "Epoch 784/3000\n",
      " 2400/87006 [..............................] - ETA: 24s - loss: 1.6302e-06"
     ]
    },
    {
     "name": "stderr",
     "output_type": "stream",
     "text": [
      "C:\\Users\\User\\.conda\\envs\\theano_v1\\lib\\site-packages\\keras\\callbacks\\callbacks.py:95: RuntimeWarning: Method (on_train_batch_end) is slow compared to the batch update (0.138131). Check your callbacks.\n",
      "  % (hook_name, delta_t_median), RuntimeWarning)\n"
     ]
    },
    {
     "name": "stdout",
     "output_type": "stream",
     "text": [
      "87006/87006 [==============================] - 25s 289us/step - loss: 1.5533e-06\n",
      "Epoch 785/3000\n",
      "87006/87006 [==============================] - 13s 151us/step - loss: 1.5491e-06\n",
      "Epoch 786/3000\n",
      "87006/87006 [==============================] - 9s 105us/step - loss: 1.5495e-06 3s - loss:\n",
      "Epoch 787/3000\n",
      "87006/87006 [==============================] - 8s 91us/step - loss: 1.5456e-06: 3s - loss: 1.4400 - ETA: 2s - los - ETA:  - ETA: 1s - loss: 1. - ETA: 0s - loss: 1.540 - ETA: 0s - lo\n",
      "Epoch 788/3000\n",
      "87006/87006 [==============================] - 8s 98us/step - loss: 1.5602e-06: 0s - loss: 1.563\n",
      "Epoch 789/3000\n",
      "87006/87006 [==============================] - 11s 126us/step - loss: 1.5572e-06\n",
      "Epoch 790/3000\n",
      "87006/87006 [==============================] - 8s 89us/step - loss: 1.5521e-06: 4s - loss: 1 -  - ETA: 1s - l - ETA: 0s - l\n",
      "Epoch 791/3000\n",
      "51300/87006 [================>.............] - ETA: 5s - loss: 1.5262e-06"
     ]
    },
    {
     "name": "stderr",
     "output_type": "stream",
     "text": [
      "C:\\Users\\User\\.conda\\envs\\theano_v1\\lib\\site-packages\\keras\\callbacks\\callbacks.py:95: RuntimeWarning: Method (on_train_batch_end) is slow compared to the batch update (0.105788). Check your callbacks.\n",
      "  % (hook_name, delta_t_median), RuntimeWarning)\n"
     ]
    },
    {
     "name": "stdout",
     "output_type": "stream",
     "text": [
      "\b\b\b\b\b\b\b\b\b\b\b\b\b\b\b\b\b\b\b\b\b\b\b\b\b\b\b\b\b\b\b\b\b\b\b\b\b\b\b\b\b\b\b\b\b\b\b\b\b\b\b\b\b\b\b\b\b\b\b\b\b\b\b\b\b\b\b\b\b\b\b\b\b\r",
      "51600/87006 [================>.............] - ETA: 5s - loss: 1.5276e-06"
     ]
    },
    {
     "name": "stderr",
     "output_type": "stream",
     "text": [
      "C:\\Users\\User\\.conda\\envs\\theano_v1\\lib\\site-packages\\keras\\callbacks\\callbacks.py:95: RuntimeWarning: Method (on_train_batch_end) is slow compared to the batch update (0.143907). Check your callbacks.\n",
      "  % (hook_name, delta_t_median), RuntimeWarning)\n"
     ]
    },
    {
     "name": "stdout",
     "output_type": "stream",
     "text": [
      "87006/87006 [==============================] - 12s 141us/step - loss: 1.5512e-06\n",
      "Epoch 792/3000\n",
      "87006/87006 [==============================] - 9s 103us/step - loss: 1.5539e-06 3s - loss: 1.5414e-0 - ETA: 3s - loss: 1.5452e-0 \n",
      "Epoch 793/3000\n",
      "87006/87006 [==============================] - 7s 78us/step - loss: 1.5549e-06\n",
      "Epoch 794/3000\n",
      "87006/87006 [==============================] - 6s 74us/step - loss: 1.5532e-06\n",
      "Epoch 795/3000\n",
      "87006/87006 [==============================] - 7s 81us/step - loss: 1.5528e-06: 4s - loss: 1. - ET - ETA: 2s - \n",
      "Epoch 796/3000\n",
      "87006/87006 [==============================] - 6s 65us/step - loss: 1.5483e-06\n",
      "Epoch 797/3000\n",
      "87006/87006 [==============================] - 7s 76us/step - loss: 1.5533e-06: 2s - loss:  - ETA: 1\n",
      "Epoch 798/3000\n",
      "87006/87006 [==============================] - 9s 99us/step - loss: 1.5483e-06TA: 0s - loss: 1.5502e-\n",
      "Epoch 799/3000\n",
      "87006/87006 [==============================] - 6s 67us/step - loss: 1.5493e-06\n",
      "Epoch 800/3000\n",
      "87006/87006 [==============================] - 9s 101us/step - loss: 1.5553e-06 - val_loss: 1.8107e-06\n",
      "Epoch 801/3000\n",
      "87006/87006 [==============================] - 6s 70us/step - loss: 1.5475e-06: 1s - los - ETA: 0s - loss: 1.537\n",
      "Epoch 802/3000\n",
      "87006/87006 [==============================] - 9s 99us/step - loss: 1.5530e-06\n",
      "Epoch 803/3000\n",
      "87006/87006 [==============================] - 7s 81us/step - loss: 1.5598e-06: 3s - loss: - ETA - ETA: 1s - loss: 1\n",
      "Epoch 804/3000\n",
      "87006/87006 [==============================] - 8s 96us/step - loss: 1.5519e-06:\n",
      "Epoch 805/3000\n",
      "87006/87006 [==============================] - 6s 70us/step - loss: 1.5548e-06: 1s - loss:  - ETA: 0s - \n",
      "Epoch 806/3000\n",
      "87006/87006 [==============================] - 8s 96us/step - loss: 1.5505e-06\n",
      "Epoch 807/3000\n",
      "87006/87006 [==============================] - 7s 83us/step - loss: 1.5589e-06\n",
      "Epoch 808/3000\n",
      "87006/87006 [==============================] - 10s 117us/step - loss: 1.5530e-06\n",
      "Epoch 809/3000\n",
      "87006/87006 [==============================] - 8s 97us/step - loss: 1.5624e-06: 2s - loss: - ETA: 1s - loss: \n",
      "Epoch 810/3000\n",
      "87006/87006 [==============================] - 9s 104us/step - loss: 1.5545e-06 0s - loss:\n",
      "Epoch 811/3000\n",
      "87006/87006 [==============================] - 8s 91us/step - loss: 1.5498e-06\n",
      "Epoch 812/3000\n",
      "87006/87006 [==============================] - 8s 89us/step - loss: 1.5483e-06\n",
      "Epoch 813/3000\n",
      "87006/87006 [==============================] - 5s 54us/step - loss: 1.5461e-06: 0s - loss: 1.54\n",
      "Epoch 814/3000\n",
      "87006/87006 [==============================] - 5s 55us/step - loss: 1.5509e-06\n",
      "Epoch 815/3000\n",
      "87006/87006 [==============================] - 7s 81us/step - loss: 1.5541e-06: 1s - \n",
      "Epoch 816/3000\n",
      "87006/87006 [==============================] - 11s 128us/step - loss: 1.5550e-06\n",
      "Epoch 817/3000\n",
      "87006/87006 [==============================] - 7s 84us/step - loss: 1.5469e-06 - ETA: 1s - l\n",
      "Epoch 818/3000\n",
      "87006/87006 [==============================] - 11s 123us/step - loss: 1.5483e-06E\n",
      "Epoch 819/3000\n",
      "87006/87006 [==============================] - 11s 121us/step - loss: 1.5499e-06\n",
      "Epoch 820/3000\n",
      "87006/87006 [==============================] - 10s 121us/step - loss: 1.5551e-060s - loss: 1.\n",
      "Epoch 821/3000\n",
      "87006/87006 [==============================] - 9s 103us/step - loss: 1.5498e-06 0s - loss: 1.5530e\n",
      "Epoch 822/3000\n",
      "87006/87006 [==============================] - 8s 90us/step - loss: 1.5483e-06\n",
      "Epoch 823/3000\n",
      "87006/87006 [==============================] - 9s 107us/step - loss: 1.5489e-06\n",
      "Epoch 824/3000\n",
      "87006/87006 [==============================] - 7s 77us/step - loss: 1.5440e-06 ETA: 1s - loss:  - ETA: \n",
      "Epoch 825/3000\n",
      "87006/87006 [==============================] - 10s 114us/step - loss: 1.5586e-06\n",
      "Epoch 826/3000\n",
      "87006/87006 [==============================] - 8s 96us/step - loss: 1.5508e-06\n",
      "Epoch 827/3000\n",
      "87006/87006 [==============================] - 10s 110us/step - loss: 1.5510e-060s - loss: \n",
      "Epoch 828/3000\n",
      "87006/87006 [==============================] - 8s 86us/step - loss: 1.5490e-06: 1s - loss:\n",
      "Epoch 829/3000\n",
      "87006/87006 [==============================] - 8s 95us/step - loss: 1.5461e-06: 0s - loss: 1.5451e-0\n",
      "Epoch 830/3000\n",
      "87006/87006 [==============================] - 8s 88us/step - loss: 1.5442e-06\n",
      "Epoch 831/3000\n",
      "87006/87006 [==============================] - 7s 77us/step - loss: 1.5484e-06\n",
      "Epoch 832/3000\n",
      "87006/87006 [==============================] - 9s 100us/step - loss: 1.5558e-06: 0s - loss\n",
      "Epoch 833/3000\n",
      "87006/87006 [==============================] - 9s 107us/step - loss: 1.5619e-06 5s - ETA - ETA:  - ETA: 2s - loss: 1.5886\n",
      "Epoch 834/3000\n",
      "87006/87006 [==============================] - 8s 96us/step - loss: 1.5539e-06\n",
      "Epoch 835/3000\n",
      "87006/87006 [==============================] - 14s 163us/step - loss: 1.5519e-06\n",
      "Epoch 836/3000\n",
      "87006/87006 [==============================] - 10s 116us/step - loss: 1.5467e-06\n",
      "Epoch 837/3000\n",
      "87006/87006 [==============================] - 11s 125us/step - loss: 1.5528e-060s - loss:\n",
      "Epoch 838/3000\n",
      "87006/87006 [==============================] - 11s 124us/step - loss: 1.5558e-061s\n",
      "Epoch 839/3000\n",
      "87006/87006 [==============================] - 8s 89us/step - loss: 1.5521e-06: \n",
      "Epoch 840/3000\n",
      "87006/87006 [==============================] - 10s 112us/step - loss: 1.5553e-06\n",
      "Epoch 841/3000\n",
      "87006/87006 [==============================] - 9s 101us/step - loss: 1.5482e-06\n",
      "Epoch 842/3000\n",
      "87006/87006 [==============================] - 7s 83us/step - loss: 1.5554e-06: 0s - loss: 1.5554e-0\n",
      "Epoch 843/3000\n",
      "87006/87006 [==============================] - 13s 145us/step - loss: 1.5531e-061s - loss\n",
      "Epoch 844/3000\n",
      "87006/87006 [==============================] - 9s 103us/step - loss: 1.5523e-06 0s - lo\n",
      "Epoch 845/3000\n",
      "  900/87006 [..............................] - ETA: 23s - loss: 1.1046e-06"
     ]
    },
    {
     "name": "stderr",
     "output_type": "stream",
     "text": [
      "C:\\Users\\User\\.conda\\envs\\theano_v1\\lib\\site-packages\\keras\\callbacks\\callbacks.py:95: RuntimeWarning: Method (on_train_batch_end) is slow compared to the batch update (0.116166). Check your callbacks.\n",
      "  % (hook_name, delta_t_median), RuntimeWarning)\n"
     ]
    },
    {
     "name": "stdout",
     "output_type": "stream",
     "text": [
      "87006/87006 [==============================] - 11s 123us/step - loss: 1.5629e-062s - loss: 1 - ETA: 0s -\n",
      "Epoch 846/3000\n",
      "87006/87006 [==============================] - 11s 128us/step - loss: 1.5505e-06 8s - loss: 1.4726e-0 -\n",
      "Epoch 847/3000\n",
      "87006/87006 [==============================] - 10s 116us/step - loss: 1.5554e-06\n",
      "Epoch 848/3000\n",
      "87006/87006 [==============================] - 9s 108us/step - loss: 1.5519e-06\n",
      "Epoch 849/3000\n",
      "87006/87006 [==============================] - 8s 94us/step - loss: 1.5479e-06\n",
      "Epoch 850/3000\n",
      "87006/87006 [==============================] - 10s 113us/step - loss: 1.5475e-06\n",
      "Epoch 851/3000\n",
      "87006/87006 [==============================] - 7s 75us/step - loss: 1.5523e-06\n",
      "Epoch 852/3000\n",
      "87006/87006 [==============================] - 9s 100us/step - loss: 1.5506e-06 6s -  - ETA: 6s - loss: - ETA: 5s - loss: 1.6824e-0 - ETA: 5s - l - ETA: 0s - loss: 1\n",
      "Epoch 853/3000\n",
      "87006/87006 [==============================] - 8s 95us/step - loss: 1.5518e-06\n",
      "Epoch 854/3000\n",
      "87006/87006 [==============================] - 9s 101us/step - loss: 1.5521e-06 3s - loss: 1.5221e-0\n",
      "Epoch 855/3000\n",
      "87006/87006 [==============================] - 7s 82us/step - loss: 1.5477e-06 ETA: 0s - loss: 1.5204\n",
      "Epoch 856/3000\n",
      "87006/87006 [==============================] - 7s 75us/step - loss: 1.5473e-06\n",
      "Epoch 857/3000\n",
      "87006/87006 [==============================] - 7s 80us/step - loss: 1.5514e-06\n",
      "Epoch 858/3000\n",
      "87006/87006 [==============================] - 6s 69us/step - loss: 1.5546e-06: 1s - loss: - ETA: 1\n",
      "Epoch 859/3000\n",
      "87006/87006 [==============================] - 6s 73us/step - loss: 1.5523e-06\n",
      "Epoch 860/3000\n",
      "87006/87006 [==============================] - 10s 113us/step - loss: 1.5614e-06\n",
      "Epoch 861/3000\n",
      "87006/87006 [==============================] - 8s 90us/step - loss: 1.5494e-06: 7s - loss: 1.5670e- - ETA: 7s - loss: 1 - ETA: 5s - loss: 1.608  - ETA:  - ETA: 1s -\n",
      "Epoch 862/3000\n",
      "87006/87006 [==============================] - 10s 119us/step - loss: 1.5488e-060s - loss: 1.5\n",
      "Epoch 863/3000\n",
      "87006/87006 [==============================] - 7s 84us/step - loss: 1.5511e-06: 0s - loss: 1.5583\n",
      "Epoch 864/3000\n",
      "87006/87006 [==============================] - 7s 78us/step - loss: 1.5545e-06A: 8s - loss: 1.4235e-0 - ETA: - ETA: 3s - loss: 1. - ETA\n",
      "Epoch 865/3000\n",
      "87006/87006 [==============================] - 7s 86us/step - loss: 1.5519e-06 ETA: 2s - l - ETA: 1s - loss: 1.5825 - ETA: 1 - ETA: 0s - loss: 1.5\n",
      "Epoch 866/3000\n",
      "87006/87006 [==============================] - 6s 69us/step - loss: 1.5593e-06: 0s - loss\n",
      "Epoch 867/3000\n",
      "87006/87006 [==============================] - 6s 70us/step - loss: 1.5504e-06\n",
      "Epoch 868/3000\n",
      "87006/87006 [==============================] - ETA: 0s - loss: 1.5577e-0 - 5s 62us/step - loss: 1.5554e-06\n",
      "Epoch 869/3000\n",
      "87006/87006 [==============================] - 6s 64us/step - loss: 1.5510e-06: 2s - lo - ETA: 0s - loss: 1\n",
      "Epoch 870/3000\n",
      "87006/87006 [==============================] - 6s 75us/step - loss: 1.5615e-06\n",
      "Epoch 871/3000\n",
      "87006/87006 [==============================] - 9s 109us/step - loss: 1.5503e-06 0s - loss: \n",
      "Epoch 872/3000\n",
      "87006/87006 [==============================] - 10s 111us/step - loss: 1.5473e-060s - loss: 1.5477e\n",
      "Epoch 873/3000\n",
      "87006/87006 [==============================] - 8s 88us/step - loss: 1.5499e-06: 6s - ETA: 5 - ETA: 3s - loss: 1\n",
      "Epoch 874/3000\n",
      "87006/87006 [==============================] - 5s 55us/step - loss: 1.5489e-06\n",
      "Epoch 875/3000\n",
      "87006/87006 [==============================] - 8s 92us/step - loss: 1.5561e-06\n",
      "Epoch 876/3000\n",
      "87006/87006 [==============================] - 5s 60us/step - loss: 1.5493e-06\n",
      "Epoch 877/3000\n",
      "87006/87006 [==============================] - 6s 73us/step - loss: 1.5484e-06\n",
      "Epoch 878/3000\n",
      "87006/87006 [==============================] - 8s 87us/step - loss: 1.5473e-06: 3s - loss: 1.4645 - ETA: 3s - loss: 1.4632e - ETA: 3s - loss - ETA\n",
      "Epoch 879/3000\n",
      "87006/87006 [==============================] - 6s 66us/step - loss: 1.5519e-06: 3s - lo - ETA: 2s - loss: 1.471 - ETA: 2s - loss: 1 - ETA: 1s - loss: 1.5 - ETA:  - ETA: 0s - loss: 1.552 - ETA: 0s - loss: 1.5530e-0 - ETA: 0s - loss: 1.55\n",
      "Epoch 880/3000\n",
      "87006/87006 [==============================] - 6s 74us/step - loss: 1.5454e-06: 5s  -\n",
      "Epoch 881/3000\n",
      "87006/87006 [==============================] - ETA: 0s - loss: 1.5548e-06- - ETA: 0s - loss: 1.5 - 11s 123us/step - loss: 1.5523e-06\n",
      "Epoch 882/3000\n",
      "87006/87006 [==============================] - 9s 101us/step - loss: 1.5420e-06\n",
      "Epoch 883/3000\n",
      "87006/87006 [==============================] - 6s 74us/step - loss: 1.5481e-06\n",
      "Epoch 884/3000\n",
      "87006/87006 [==============================] - 9s 106us/step - loss: 1.5498e-06 - ETA: 2s - \n",
      "Epoch 885/3000\n",
      "87006/87006 [==============================] - 7s 76us/step - loss: 1.5517e-06: 0s\n",
      "Epoch 886/3000\n",
      "87006/87006 [==============================] - 5s 54us/step - loss: 1.5530e-06: 0s - loss: 1.5489e - ETA: 0s - loss: 1.54\n",
      "Epoch 887/3000\n",
      "87006/87006 [==============================] - 6s 72us/step - loss: 1.5524e-06\n",
      "Epoch 888/3000\n",
      "87006/87006 [==============================] - 8s 94us/step - loss: 1.5485e-06: 0s - loss: 1.5535e- - ETA: 0s - loss: 1.5520\n",
      "Epoch 889/3000\n",
      "87006/87006 [==============================] - 6s 70us/step - loss: 1.5462e-06\n",
      "Epoch 890/3000\n",
      "87006/87006 [==============================] - 4s 52us/step - loss: 1.5568e-06: 2s - loss: 1.6020e - ETA:  - ETA: \n",
      "Epoch 891/3000\n",
      "87006/87006 [==============================] - 8s 93us/step - loss: 1.5420e-06: 0s - loss: \n",
      "Epoch 892/3000\n",
      "87006/87006 [==============================] - 9s 100us/step - loss: 1.5501e-06 3s - loss: - ETA: \n",
      "Epoch 893/3000\n",
      "87006/87006 [==============================] - 8s 98us/step - loss: 1.5527e-06\n",
      "Epoch 894/3000\n",
      "87006/87006 [==============================] - 9s 101us/step - loss: 1.5606e-06 0s - loss: 1.\n",
      "Epoch 895/3000\n",
      "87006/87006 [==============================] - 5s 61us/step - loss: 1.5454e-06\n",
      "Epoch 896/3000\n",
      "87006/87006 [==============================] - 6s 68us/step - loss: 1.5514e-06: 0s - \n",
      "Epoch 897/3000\n",
      "87006/87006 [==============================] - 8s 90us/step - loss: 1.5517e-06\n",
      "Epoch 898/3000\n",
      "87006/87006 [==============================] - 8s 87us/step - loss: 1.5441e-06 ETA: 0s - loss\n",
      "Epoch 899/3000\n",
      "87006/87006 [==============================] - 6s 67us/step - loss: 1.5642e-06: 0s - l\n",
      "Epoch 900/3000\n",
      "87006/87006 [==============================] - 5s 62us/step - loss: 1.5490e-06 - val_loss: 1.8082e-06\n",
      "Epoch 901/3000\n",
      "87006/87006 [==============================] - 6s 70us/step - loss: 1.5474e-06\n",
      "Epoch 902/3000\n",
      "87006/87006 [==============================] - 7s 85us/step - loss: 1.5492e-06:  - ETA: 0s - loss: 1.5\n",
      "Epoch 903/3000\n",
      "87006/87006 [==============================] - 7s 83us/step - loss: 1.5521e-06: 0s - loss:\n",
      "Epoch 904/3000\n",
      "87006/87006 [==============================] - 9s 106us/step - loss: 1.5450e-06\n",
      "Epoch 905/3000\n",
      "87006/87006 [==============================] - 8s 96us/step - loss: 1.5465e-06\n",
      "Epoch 906/3000\n",
      "87006/87006 [==============================] - 6s 72us/step - loss: 1.5481e-06\n",
      "Epoch 907/3000\n",
      "87006/87006 [==============================] - 8s 91us/step - loss: 1.5629e-06: 3s - ETA: 0s - loss\n",
      "Epoch 908/3000\n",
      "87006/87006 [==============================] - 7s 84us/step - loss: 1.5495e-06\n",
      "Epoch 909/3000\n",
      "87006/87006 [==============================] - 8s 88us/step - loss: 1.5513e-06: 4s - lo - E\n",
      "Epoch 910/3000\n",
      "87006/87006 [==============================] - 5s 54us/step - loss: 1.5580e-06\n",
      "Epoch 911/3000\n",
      "87006/87006 [==============================] - 6s 71us/step - loss: 1.5503e-06\n",
      "Epoch 912/3000\n",
      "87006/87006 [==============================] - 6s 68us/step - loss: 1.5505e-06\n",
      "Epoch 913/3000\n",
      "87006/87006 [==============================] - 3s 40us/step - loss: 1.5498e-06\n",
      "Epoch 914/3000\n",
      "87006/87006 [==============================] - 6s 70us/step - loss: 1.5573e-06\n",
      "Epoch 915/3000\n",
      "87006/87006 [==============================] - 7s 77us/step - loss: 1.5463e-06: 2s - loss: 1.\n",
      "Epoch 916/3000\n",
      "87006/87006 [==============================] - 7s 82us/step - loss: 1.5438e-06\n",
      "Epoch 917/3000\n",
      "87006/87006 [==============================] - 5s 61us/step - loss: 1.5502e-06\n",
      "Epoch 918/3000\n",
      "87006/87006 [==============================] - 6s 72us/step - loss: 1.5568e-06: 0s - loss: 1. - ETA: 0s - loss: 1.5556e\n",
      "Epoch 919/3000\n",
      "87006/87006 [==============================] - 7s 76us/step - loss: 1.5492e-06: 3s - loss:  - ETA: 3\n",
      "Epoch 920/3000\n",
      " 2400/87006 [..............................] - ETA: 12s - loss: 1.8023e-06"
     ]
    },
    {
     "name": "stderr",
     "output_type": "stream",
     "text": [
      "C:\\Users\\User\\.conda\\envs\\theano_v1\\lib\\site-packages\\keras\\callbacks\\callbacks.py:95: RuntimeWarning: Method (on_train_batch_end) is slow compared to the batch update (0.103395). Check your callbacks.\n",
      "  % (hook_name, delta_t_median), RuntimeWarning)\n"
     ]
    },
    {
     "name": "stdout",
     "output_type": "stream",
     "text": [
      "87006/87006 [==============================] - 7s 86us/step - loss: 1.5530e-06\n",
      "Epoch 921/3000\n",
      "87006/87006 [==============================] - 8s 98us/step - loss: 1.5430e-06: 2 - ETA: 1s -\n",
      "Epoch 922/3000\n",
      "87006/87006 [==============================] - 9s 109us/step - loss: 1.5453e-06\n",
      "Epoch 923/3000\n",
      "87006/87006 [==============================] - 8s 93us/step - loss: 1.5447e-06\n",
      "Epoch 924/3000\n",
      "87006/87006 [==============================] - 5s 61us/step - loss: 1.5480e-06\n",
      "Epoch 925/3000\n",
      "87006/87006 [==============================] - 7s 82us/step - loss: 1.5461e-06\n",
      "Epoch 926/3000\n",
      "87006/87006 [==============================] - 8s 86us/step - loss: 1.5518e-06\n",
      "Epoch 927/3000\n",
      "87006/87006 [==============================] - 7s 81us/step - loss: 1.5494e-06: 0s - loss: 1.5511e\n",
      "Epoch 928/3000\n",
      "87006/87006 [==============================] - 6s 66us/step - loss: 1.5447e-06: 6s - loss: 1 - ETA: 2s - loss: 1.\n",
      "Epoch 929/3000\n",
      "87006/87006 [==============================] - 6s 70us/step - loss: 1.5478e-06\n",
      "Epoch 930/3000\n",
      "87006/87006 [==============================] - 8s 97us/step - loss: 1.5469e-06\n",
      "Epoch 931/3000\n",
      "87006/87006 [==============================] - 8s 89us/step - loss: 1.5487e-06TA: 2s - loss: 1.5 -\n",
      "Epoch 932/3000\n",
      "87006/87006 [==============================] - 6s 72us/step - loss: 1.5468e-06\n",
      "Epoch 933/3000\n",
      "87006/87006 [==============================] - 6s 65us/step - loss: 1.5442e-06\n",
      "Epoch 934/3000\n",
      "87006/87006 [==============================] - 7s 80us/step - loss: 1.5498e-06: 4 - \n",
      "Epoch 935/3000\n",
      "87006/87006 [==============================] - 4s 50us/step - loss: 1.5563e-06\n",
      "Epoch 936/3000\n",
      "87006/87006 [==============================] - 7s 84us/step - loss: 1.5471e-06: 0s - loss: 1.5455e\n",
      "Epoch 937/3000\n",
      "87006/87006 [==============================] - 7s 83us/step - loss: 1.5506e-06\n",
      "Epoch 938/3000\n",
      "87006/87006 [==============================] - 5s 52us/step - loss: 1.5523e-06\n",
      "Epoch 939/3000\n",
      "87006/87006 [==============================] - 4s 48us/step - loss: 1.5464e-06\n",
      "Epoch 940/3000\n",
      "87006/87006 [==============================] - 6s 67us/step - loss: 1.5505e-06\n",
      "Epoch 941/3000\n",
      "87006/87006 [==============================] - 8s 94us/step - loss: 1.5481e-06: \n",
      "Epoch 942/3000\n",
      "87006/87006 [==============================] - 5s 61us/step - loss: 1.5492e-06: 0s - los\n",
      "Epoch 943/3000\n",
      "87006/87006 [==============================] - 9s 105us/step - loss: 1.5482e-06\n",
      "Epoch 944/3000\n",
      "87006/87006 [==============================] - 10s 110us/step - loss: 1.5521e-06\n",
      "Epoch 945/3000\n",
      "87006/87006 [==============================] - 9s 104us/step - loss: 1.5467e-06 5s - los - ETA: 5s - loss: 1 \n",
      "Epoch 946/3000\n",
      "87006/87006 [==============================] - 8s 95us/step - loss: 1.5422e-06\n",
      "Epoch 947/3000\n",
      "87006/87006 [==============================] - 7s 86us/step - loss: 1.5503e-06: 1s - loss: 1. - ETA: 0s - loss: 1.5591\n",
      "Epoch 948/3000\n",
      "87006/87006 [==============================] - 11s 128us/step - loss: 1.5477e-06\n",
      "Epoch 949/3000\n",
      "87006/87006 [==============================] - 7s 81us/step - loss: 1.5505e-06: 0s - loss: 1.55 - ETA: 0s - loss: 1.5528e-\n",
      "Epoch 950/3000\n",
      "87006/87006 [==============================] - 8s 96us/step - loss: 1.5483e-06: 1s -\n",
      "Epoch 951/3000\n",
      "87006/87006 [==============================] - 6s 71us/step - loss: 1.5465e-06\n",
      "Epoch 952/3000\n",
      "87006/87006 [==============================] - 7s 84us/step - loss: 1.5421e-06: 0s - loss: 1\n",
      "Epoch 953/3000\n",
      "87006/87006 [==============================] - 8s 90us/step - loss: 1.5482e-06: 2s - loss: 1. - ETA: \n",
      "Epoch 954/3000\n",
      "87006/87006 [==============================] - 7s 80us/step - loss: 1.5513e-06\n",
      "Epoch 955/3000\n",
      "87006/87006 [==============================] - 7s 81us/step - loss: 1.5533e-06\n",
      "Epoch 956/3000\n",
      "87006/87006 [==============================] - 7s 86us/step - loss: 1.5554e-06\n",
      "Epoch 957/3000\n",
      "87006/87006 [==============================] - 7s 77us/step - loss: 1.5568e-06: 0s  - ETA: 0s - loss: 1.5564e-\n",
      "Epoch 958/3000\n",
      "87006/87006 [==============================] - 8s 97us/step - loss: 1.5460e-06\n",
      "Epoch 959/3000\n",
      "87006/87006 [==============================] - 6s 72us/step - loss: 1.5463e-06\n",
      "Epoch 960/3000\n",
      "87006/87006 [==============================] - 8s 97us/step - loss: 1.5505e-06\n",
      "Epoch 961/3000\n",
      "87006/87006 [==============================] - 6s 72us/step - loss: 1.5512e-06\n",
      "Epoch 962/3000\n",
      "87006/87006 [==============================] - 7s 80us/step - loss: 1.5486e-06: \n",
      "Epoch 963/3000\n",
      "87006/87006 [==============================] - 6s 72us/step - loss: 1.5512e-06\n",
      "Epoch 964/3000\n",
      "87006/87006 [==============================] - 7s 81us/step - loss: 1.5494e-06\n",
      "Epoch 965/3000\n",
      "87006/87006 [==============================] - 6s 69us/step - loss: 1.5462e-06\n",
      "Epoch 966/3000\n",
      "87006/87006 [==============================] - 9s 102us/step - loss: 1.5484e-06  - ETA: 0s - loss: 1.541\n",
      "Epoch 967/3000\n",
      "87006/87006 [==============================] - 8s 91us/step - loss: 1.5466e-06: 3s - loss: 1.4640 - ET - ETA: 0s - lo\n",
      "Epoch 968/3000\n",
      "87006/87006 [==============================] - 6s 67us/step - loss: 1.5540e-06\n",
      "Epoch 969/3000\n",
      "87006/87006 [==============================] - 8s 90us/step - loss: 1.5438e-06: 6s - los - ETA: - ETA: 0s - loss: 1.5255e-0 - ETA: 0s - loss: 1.5252e\n",
      "Epoch 970/3000\n",
      "87006/87006 [==============================] - 8s 96us/step - loss: 1.5507e-06\n",
      "Epoch 971/3000\n",
      "87006/87006 [==============================] - 8s 95us/step - loss: 1.5561e-06\n",
      "Epoch 972/3000\n",
      "87006/87006 [==============================] - 7s 77us/step - loss: 1.5560e-06\n",
      "Epoch 973/3000\n",
      "87006/87006 [==============================] - 6s 65us/step - loss: 1.5599e-06\n",
      "Epoch 974/3000\n",
      "87006/87006 [==============================] - 8s 91us/step - loss: 1.5428e-06\n",
      "Epoch 975/3000\n",
      "87006/87006 [==============================] - 8s 94us/step - loss: 1.5455e-06\n",
      "Epoch 976/3000\n",
      "87006/87006 [==============================] - 7s 79us/step - loss: 1.5509e-06: 5s - loss: 1\n",
      "Epoch 977/3000\n",
      "87006/87006 [==============================] - 7s 77us/step - loss: 1.5528e-06: 1s -\n",
      "Epoch 978/3000\n",
      "87006/87006 [==============================] - 6s 74us/step - loss: 1.5487e-06\n",
      "Epoch 979/3000\n",
      "87006/87006 [==============================] - 8s 92us/step - loss: 1.5666e-06\n",
      "Epoch 980/3000\n",
      "87006/87006 [==============================] - 7s 80us/step - loss: 1.5423e-06 - ETA: 2s - loss: 1. - ETA:\n",
      "Epoch 981/3000\n",
      "87006/87006 [==============================] - 8s 95us/step - loss: 1.5491e-06\n",
      "Epoch 982/3000\n",
      "87006/87006 [==============================] - 12s 134us/step - loss: 1.5529e-060s - loss: 1.56\n",
      "Epoch 983/3000\n",
      "87006/87006 [==============================] - 7s 85us/step - loss: 1.5473e-06: 10s - loss: 1.4732 - ETA\n",
      "Epoch 984/3000\n",
      "87006/87006 [==============================] - 8s 95us/step - loss: 1.5515e-06\n",
      "Epoch 985/3000\n",
      "87006/87006 [==============================] - 4s 51us/step - loss: 1.5526e-06\n",
      "Epoch 986/3000\n",
      "87006/87006 [==============================] - 8s 90us/step - loss: 1.5499e-06: 5s - l - ETA: 4s - loss:  -\n",
      "Epoch 987/3000\n",
      "87006/87006 [==============================] - 7s 78us/step - loss: 1.5601e-06\n",
      "Epoch 988/3000\n",
      "87006/87006 [==============================] - 5s 62us/step - loss: 1.5492e-06\n",
      "Epoch 989/3000\n",
      "87006/87006 [==============================] - 8s 90us/step - loss: 1.5520e-06\n",
      "Epoch 990/3000\n",
      "87006/87006 [==============================] - 6s 71us/step - loss: 1.5444e-06: 5s - loss: 1.5492e-0 - ETA: 4s -\n",
      "Epoch 991/3000\n",
      "87006/87006 [==============================] - 9s 100us/step - loss: 1.5469e-06\n",
      "Epoch 992/3000\n",
      "87006/87006 [==============================] - 7s 75us/step - loss: 1.5422e-06\n",
      "Epoch 993/3000\n",
      "87006/87006 [==============================] - 9s 102us/step - loss: 1.5512e-06\n",
      "Epoch 994/3000\n",
      "87006/87006 [==============================] - 8s 90us/step - loss: 1.5451e-06\n",
      "Epoch 995/3000\n",
      "87006/87006 [==============================] - 6s 70us/step - loss: 1.5474e-06\n",
      "Epoch 996/3000\n",
      "87006/87006 [==============================] - 5s 57us/step - loss: 1.5524e-06\n",
      "Epoch 997/3000\n",
      "87006/87006 [==============================] - 10s 113us/step - loss: 1.5497e-06\n",
      "Epoch 998/3000\n",
      "87006/87006 [==============================] - 10s 119us/step - loss: 1.5536e-06\n",
      "Epoch 999/3000\n",
      "87006/87006 [==============================] - 7s 81us/step - loss: 1.5495e-06\n",
      "Epoch 1000/3000\n",
      "87006/87006 [==============================] - 8s 96us/step - loss: 1.5438e-06 - val_loss: 1.9502e-06\n",
      "Epoch 1001/3000\n",
      "87006/87006 [==============================] - 11s 124us/step - loss: 1.5481e-06\n",
      "Epoch 1002/3000\n",
      "87006/87006 [==============================] - 9s 100us/step - loss: 1.5598e-06 1s - l\n",
      "Epoch 1003/3000\n",
      "87006/87006 [==============================] - 8s 89us/step - loss: 1.5478e-06\n",
      "Epoch 1004/3000\n",
      "87006/87006 [==============================] - 7s 85us/step - loss: 1.5455e-06: 1s - l\n",
      "Epoch 1005/3000\n",
      "87006/87006 [==============================] - 11s 123us/step - loss: 1.5443e-06\n",
      "Epoch 1006/3000\n",
      "87006/87006 [==============================] - 8s 96us/step - loss: 1.5442e-06: 0s - loss: 1.547\n",
      "Epoch 1007/3000\n",
      "87006/87006 [==============================] - 8s 90us/step - loss: 1.5544e-06: 0s - loss: 1.553\n",
      "Epoch 1008/3000\n",
      "87006/87006 [==============================] - 8s 89us/step - loss: 1.5515e-06: 3s - loss: 1 - ET - ET\n",
      "Epoch 1009/3000\n",
      " 1800/87006 [..............................] - ETA: 13s - loss: 1.5059e-06"
     ]
    },
    {
     "name": "stderr",
     "output_type": "stream",
     "text": [
      "C:\\Users\\User\\.conda\\envs\\theano_v1\\lib\\site-packages\\keras\\callbacks\\callbacks.py:95: RuntimeWarning: Method (on_train_batch_end) is slow compared to the batch update (0.131482). Check your callbacks.\n",
      "  % (hook_name, delta_t_median), RuntimeWarning)\n"
     ]
    },
    {
     "name": "stdout",
     "output_type": "stream",
     "text": [
      "87006/87006 [==============================] - 10s 114us/step - loss: 1.5530e-06\n",
      "Epoch 1010/3000\n",
      "87006/87006 [==============================] - 7s 82us/step - loss: 1.5492e-06: 0s - loss: 1.5492e-0\n",
      "Epoch 1011/3000\n",
      "87006/87006 [==============================] - 8s 94us/step - loss: 1.5577e-06: 0s - loss: 1.557\n",
      "Epoch 1012/3000\n",
      "87006/87006 [==============================] - 7s 80us/step - loss: 1.5478e-06: 0s - loss: 1.54\n",
      "Epoch 1013/3000\n",
      "87006/87006 [==============================] - 7s 84us/step - loss: 1.5526e-06\n",
      "Epoch 1014/3000\n",
      "87006/87006 [==============================] - 5s 62us/step - loss: 1.5505e-06: 0s - loss: 1.5502e\n",
      "Epoch 1015/3000\n",
      "87006/87006 [==============================] - 3s 36us/step - loss: 1.5428e-06\n",
      "Epoch 1016/3000\n",
      "87006/87006 [==============================] - 8s 92us/step - loss: 1.5482e-06: 0s - loss: 1.5481\n",
      "Epoch 1017/3000\n",
      "87006/87006 [==============================] - 6s 73us/step - loss: 1.5485e-06\n",
      "Epoch 1018/3000\n",
      "87006/87006 [==============================] - 8s 90us/step - loss: 1.5425e-06: 15s  - ETA: 5s - l - ETA: 4s - loss: 1.63\n",
      "Epoch 1019/3000\n",
      "87006/87006 [==============================] - 6s 69us/step - loss: 1.5561e-06: - ET\n",
      "Epoch 1020/3000\n",
      "87006/87006 [==============================] - 8s 89us/step - loss: 1.5503e-06: 1s\n",
      "Epoch 1021/3000\n",
      "87006/87006 [==============================] - 9s 101us/step - loss: 1.5409e-06\n",
      "Epoch 1022/3000\n",
      "87006/87006 [==============================] - 6s 69us/step - loss: 1.5464e-06: - ETA: 2s - loss: 1.582\n",
      "Epoch 1023/3000\n",
      "87006/87006 [==============================] - 6s 74us/step - loss: 1.5450e-06\n",
      "Epoch 1024/3000\n",
      "87006/87006 [==============================] - 6s 67us/step - loss: 1.5439e-06\n",
      "Epoch 1025/3000\n",
      "87006/87006 [==============================] - 7s 83us/step - loss: 1.5493e-06: 3s - los - ETA: 5s - loss: 1.67 - - ETA: 4s\n",
      "Epoch 1026/3000\n",
      "87006/87006 [==============================] - 6s 64us/step - loss: 1.5456e-06\n",
      "Epoch 1027/3000\n",
      "87006/87006 [==============================] - 7s 77us/step - loss: 1.5517e-06\n",
      "Epoch 1028/3000\n",
      "87006/87006 [==============================] - 7s 77us/step - loss: 1.5514e-06: 6s - loss: 1.64 - ETA:  - ET - ETA: 4s - loss: 1.54 \n",
      "Epoch 1029/3000\n",
      "87006/87006 [==============================] - 8s 89us/step - loss: 1.5439e-06: 6s - loss: 1. - ET - ETA: 2s - l - ETA: 0s - loss: 1.5\n",
      "Epoch 1030/3000\n",
      "41100/87006 [=============>................] - ETA: 7s - loss: 1.5371e-06  ETA: 11s - loss: 1.64 - ETA: 5s - los"
     ]
    },
    {
     "name": "stderr",
     "output_type": "stream",
     "text": [
      "C:\\Users\\User\\.conda\\envs\\theano_v1\\lib\\site-packages\\keras\\callbacks\\callbacks.py:95: RuntimeWarning: Method (on_train_batch_end) is slow compared to the batch update (0.116210). Check your callbacks.\n",
      "  % (hook_name, delta_t_median), RuntimeWarning)\n"
     ]
    },
    {
     "name": "stdout",
     "output_type": "stream",
     "text": [
      "87006/87006 [==============================] - 11s 123us/step - loss: 1.5474e-06\n",
      "Epoch 1031/3000\n",
      "87006/87006 [==============================] - 7s 77us/step - loss: 1.5668e-06\n",
      "Epoch 1032/3000\n",
      "87006/87006 [==============================] - 4s 44us/step - loss: 1.5484e-06\n",
      "Epoch 1033/3000\n",
      "87006/87006 [==============================] - 5s 63us/step - loss: 1.5527e-06\n",
      "Epoch 1034/3000\n",
      "87006/87006 [==============================] - 6s 68us/step - loss: 1.5614e-06A: 0s - l\n",
      "Epoch 1035/3000\n",
      "87006/87006 [==============================] - 4s 50us/step - loss: 1.5548e-06\n",
      "Epoch 1036/3000\n",
      "87006/87006 [==============================] - 6s 75us/step - loss: 1.5480e-06: 0s - loss: 1.5465e-0 - ETA: 0s - loss: \n",
      "Epoch 1037/3000\n",
      "87006/87006 [==============================] - 9s 106us/step - loss: 1.5458e-06 2s - l - ETA: 1s - \n",
      "Epoch 1038/3000\n",
      "87006/87006 [==============================] - 7s 81us/step - loss: 1.5440e-06: 0s - loss: \n",
      "Epoch 1039/3000\n",
      "87006/87006 [==============================] - 8s 97us/step - loss: 1.5536e-06\n",
      "Epoch 1040/3000\n",
      "87006/87006 [==============================] - 7s 84us/step - loss: 1.5518e-06\n",
      "Epoch 1041/3000\n",
      "87006/87006 [==============================] - 7s 84us/step - loss: 1.5479e-06\n",
      "Epoch 1042/3000\n",
      "87006/87006 [==============================] - 3s 34us/step - loss: 1.5538e-06\n",
      "Epoch 1043/3000\n",
      "87006/87006 [==============================] - 5s 59us/step - loss: 1.5479e-06: 0s - loss: 1.553\n",
      "Epoch 1044/3000\n",
      "87006/87006 [==============================] - 9s 100us/step - loss: 1.5438e-06\n",
      "Epoch 1045/3000\n",
      "87006/87006 [==============================] - 6s 67us/step - loss: 1.5455e-06\n",
      "Epoch 1046/3000\n",
      "87006/87006 [==============================] - 5s 53us/step - loss: 1.5481e-06\n",
      "Epoch 1047/3000\n",
      "87006/87006 [==============================] - 8s 94us/step - loss: 1.5601e-06\n",
      "Epoch 1048/3000\n",
      "87006/87006 [==============================] - 6s 63us/step - loss: 1.5449e-06: 7s - lo\n",
      "Epoch 1049/3000\n",
      "87006/87006 [==============================] - 9s 101us/step - loss: 1.5428e-06 2s - loss: 1.5055e-0 - ETA: 2s - loss: 1.5098e-0 - ETA: 2s - loss: 1.5087 - ETA:  - ETA: 0s - loss: 1.539\n",
      "Epoch 1050/3000\n",
      " 1500/87006 [..............................] - ETA: 15s - loss: 1.3087e-06"
     ]
    },
    {
     "name": "stderr",
     "output_type": "stream",
     "text": [
      "C:\\Users\\User\\.conda\\envs\\theano_v1\\lib\\site-packages\\keras\\callbacks\\callbacks.py:95: RuntimeWarning: Method (on_train_batch_end) is slow compared to the batch update (0.137986). Check your callbacks.\n",
      "  % (hook_name, delta_t_median), RuntimeWarning)\n"
     ]
    },
    {
     "name": "stdout",
     "output_type": "stream",
     "text": [
      "87006/87006 [==============================] - 5s 54us/step - loss: 1.5487e-06\n",
      "Epoch 1051/3000\n",
      "87006/87006 [==============================] - 7s 82us/step - loss: 1.5482e-06: 4s - loss: 1.6365 - ETA: 4s - loss: 1 - ETA: \n",
      "Epoch 1052/3000\n",
      "87006/87006 [==============================] - 8s 89us/step - loss: 1.5482e-06: 0s - loss\n",
      "Epoch 1053/3000\n",
      "87006/87006 [==============================] - 7s 75us/step - loss: 1.5458e-06\n",
      "Epoch 1054/3000\n",
      "87006/87006 [==============================] - 8s 97us/step - loss: 1.5473e-06: 4s - - ETA: 2s - l - ETA: 1s -\n",
      "Epoch 1055/3000\n",
      "87006/87006 [==============================] - 5s 53us/step - loss: 1.5490e-06: 2s - loss: 1.5170e \n",
      "Epoch 1056/3000\n",
      "87006/87006 [==============================] - 7s 84us/step - loss: 1.5439e-06: 7s  - ETA: - ET - ETA: 1\n",
      "Epoch 1057/3000\n",
      "87006/87006 [==============================] - 8s 88us/step - loss: 1.5516e-06: 1s - loss: 1.54 - ETA: 1s - los\n",
      "Epoch 1058/3000\n",
      "87006/87006 [==============================] - 4s 51us/step - loss: 1.5664e-06\n",
      "Epoch 1059/3000\n",
      "87006/87006 [==============================] - 8s 92us/step - loss: 1.5519e-06\n",
      "Epoch 1060/3000\n",
      "87006/87006 [==============================] - 7s 85us/step - loss: 1.5465e-06\n",
      "Epoch 1061/3000\n",
      "87006/87006 [==============================] - 6s 68us/step - loss: 1.5514e-06: 4s - loss: - ETA: 3s\n",
      "Epoch 1062/3000\n",
      "87006/87006 [==============================] - 7s 81us/step - loss: 1.5564e-06: 1\n",
      "Epoch 1063/3000\n",
      "87006/87006 [==============================] - 7s 82us/step - loss: 1.5427e-06\n",
      "Epoch 1064/3000\n",
      "87006/87006 [==============================] - 4s 49us/step - loss: 1.5482e-06: 0s\n",
      "Epoch 1065/3000\n",
      "87006/87006 [==============================] - 8s 97us/step - loss: 1.5652e-06\n",
      "Epoch 1066/3000\n",
      "87006/87006 [==============================] - 8s 91us/step - loss: 1.5436e-06: 1s - loss: 1.533 - ETA: 1s - loss: 1.5605e- - ETA: 1s -\n",
      "Epoch 1067/3000\n",
      "87006/87006 [==============================] - 9s 102us/step - loss: 1.5484e-06 0s - l\n",
      "Epoch 1068/3000\n",
      "87006/87006 [==============================] - 6s 69us/step - loss: 1.5448e-06\n",
      "Epoch 1069/3000\n",
      "87006/87006 [==============================] - 7s 82us/step - loss: 1.5449e-06: 5s  - ETA: 5s  - ETA: 3s\n",
      "Epoch 1070/3000\n",
      "87006/87006 [==============================] - 4s 46us/step - loss: 1.6437e-06\n",
      "Epoch 1071/3000\n",
      "87006/87006 [==============================] - 7s 79us/step - loss: 1.5424e-06: 1s - loss: 1.4999e - ETA: 1s - loss:  - ETA: 1s - loss: 1 - ETA: 1s \n",
      "Epoch 1072/3000\n",
      "87006/87006 [==============================] - 9s 108us/step - loss: 1.5561e-06\n",
      "Epoch 1073/3000\n",
      "87006/87006 [==============================] - 7s 84us/step - loss: 1.5425e-06\n",
      "Epoch 1074/3000\n",
      "87006/87006 [==============================] - 7s 75us/step - loss: 1.5428e-06: 2s - los\n",
      "Epoch 1075/3000\n",
      "87006/87006 [==============================] - 8s 96us/step - loss: 1.5428e-06\n",
      "Epoch 1076/3000\n",
      "87006/87006 [==============================] - 8s 88us/step - loss: 1.5479e-06\n",
      "Epoch 1077/3000\n",
      "87006/87006 [==============================] - 5s 60us/step - loss: 1.5541e-06: 2s - loss:\n",
      "Epoch 1078/3000\n",
      "87006/87006 [==============================] - 5s 54us/step - loss: 1.5429e-06: 0s - los\n",
      "Epoch 1079/3000\n",
      "87006/87006 [==============================] - 6s 73us/step - loss: 1.5485e-06: 3 - ETA: 0s - loss: 1.5612e - ETA: 0s \n",
      "Epoch 1080/3000\n",
      "87006/87006 [==============================] - 9s 99us/step - loss: 1.5460e-06\n",
      "Epoch 1081/3000\n",
      "87006/87006 [==============================] - 5s 60us/step - loss: 1.5458e-06\n",
      "Epoch 1082/3000\n",
      "87006/87006 [==============================] - 6s 69us/step - loss: 1.5545e-06\n",
      "Epoch 1083/3000\n",
      "87006/87006 [==============================] - 8s 93us/step - loss: 1.5469e-06ETA: 1s - l\n",
      "Epoch 1084/3000\n",
      "87006/87006 [==============================] - 5s 59us/step - loss: 1.5455e-06\n",
      "Epoch 1085/3000\n",
      "87006/87006 [==============================] - 8s 91us/step - loss: 1.5561e-06A: 0s - loss: 1.5459e\n",
      "Epoch 1086/3000\n",
      "87006/87006 [==============================] - 7s 82us/step - loss: 1.5462e-06\n",
      "Epoch 1087/3000\n",
      "87006/87006 [==============================] - 10s 114us/step - loss: 1.5454e-06\n",
      "Epoch 1088/3000\n",
      "87006/87006 [==============================] - 8s 94us/step - loss: 1.5475e-06\n",
      "Epoch 1089/3000\n",
      "87006/87006 [==============================] - 6s 63us/step - loss: 1.5571e-06: 2s - loss: 1.5773 - ETA: 1s -  - ETA: 0s - l\n",
      "Epoch 1090/3000\n",
      "87006/87006 [==============================] - 7s 80us/step - loss: 1.5510e-06: 4s - loss: 1. - ETA: 0s - los\n",
      "Epoch 1091/3000\n",
      "87006/87006 [==============================] - 6s 71us/step - loss: 1.5482e-06\n",
      "Epoch 1092/3000\n",
      "87006/87006 [==============================] - 7s 78us/step - loss: 1.5550e-06:  - ETA: 1s - loss: 1.5427e- - ETA: 1s - loss - E\n",
      "Epoch 1093/3000\n",
      "87006/87006 [==============================] - 7s 78us/step - loss: 1.5454e-06: 2s - loss: 1. - ETA: - ETA: 0s - loss: 1.55\n",
      "Epoch 1094/3000\n",
      "87006/87006 [==============================] - 6s 74us/step - loss: 1.5528e-06A: 1 - ETA: 3s - loss: 1.5622e - ET - ETA: 1s\n",
      "Epoch 1095/3000\n",
      "87006/87006 [==============================] - 6s 72us/step - loss: 1.5594e-06: 0s - lo\n",
      "Epoch 1096/3000\n",
      "87006/87006 [==============================] - 8s 89us/step - loss: 1.5455e-06\n",
      "Epoch 1097/3000\n",
      "87006/87006 [==============================] - 8s 97us/step - loss: 1.5440e-06: 2s - loss: 1.57 - E - ETA: 0s - loss: 1.5593e-0 - ETA: 0s - loss: 1\n",
      "Epoch 1098/3000\n",
      "87006/87006 [==============================] - 7s 80us/step - loss: 1.5470e-06\n",
      "Epoch 1099/3000\n",
      "87006/87006 [==============================] - 5s 58us/step - loss: 1.5436e-06\n",
      "Epoch 1100/3000\n",
      "87006/87006 [==============================] - ETA: 0s - loss: 1.5448e-06- ETA: 1s - loss: 1. - 7s 79us/step - loss: 1.5442e-06 - val_loss: 1.8338e-06\n",
      "Epoch 1101/3000\n",
      "87006/87006 [==============================] - 7s 84us/step - loss: 1.5537e-06\n",
      "Epoch 1102/3000\n",
      "87006/87006 [==============================] - 6s 73us/step - loss: 1.5473e-06\n",
      "Epoch 1103/3000\n",
      "87006/87006 [==============================] - 6s 64us/step - loss: 1.5525e-06: 0s - los\n",
      "Epoch 1104/3000\n",
      "87006/87006 [==============================] - 5s 57us/step - loss: 1.5511e-06\n",
      "Epoch 1105/3000\n",
      "87006/87006 [==============================] - 8s 96us/step - loss: 1.5483e-06\n",
      "Epoch 1106/3000\n",
      "87006/87006 [==============================] - 8s 87us/step - loss: 1.5510e-06\n",
      "Epoch 1107/3000\n",
      "87006/87006 [==============================] - 7s 76us/step - loss: 1.5433e-06\n",
      "Epoch 1108/3000\n",
      "87006/87006 [==============================] - 7s 77us/step - loss: 1.5525e-06\n",
      "Epoch 1109/3000\n",
      "87006/87006 [==============================] - 7s 77us/step - loss: 1.5445e-06\n",
      "Epoch 1110/3000\n",
      "87006/87006 [==============================] - 7s 77us/step - loss: 1.5467e-06\n",
      "Epoch 1111/3000\n",
      "87006/87006 [==============================] - 9s 98us/step - loss: 1.5460e-06: 3s - loss: 1.5444e-0 -\n",
      "Epoch 1112/3000\n",
      "87006/87006 [==============================] - 8s 95us/step - loss: 1.5516e-06: 3s - loss: 1.5415e- - ETA\n",
      "Epoch 1113/3000\n",
      "87006/87006 [==============================] - 8s 96us/step - loss: 1.5556e-06: 3s  - ETA: 2s - loss: 1.6006 - ETA: 2s \n",
      "Epoch 1114/3000\n",
      "87006/87006 [==============================] - 8s 89us/step - loss: 1.5527e-06\n",
      "Epoch 1115/3000\n",
      "87006/87006 [==============================] - 6s 71us/step - loss: 1.5533e-06\n",
      "Epoch 1116/3000\n",
      "57600/87006 [==================>...........] - ETA: 2s - loss: 1.5209e-06"
     ]
    },
    {
     "name": "stderr",
     "output_type": "stream",
     "text": [
      "C:\\Users\\User\\.conda\\envs\\theano_v1\\lib\\site-packages\\keras\\callbacks\\callbacks.py:95: RuntimeWarning: Method (on_train_batch_end) is slow compared to the batch update (0.102743). Check your callbacks.\n",
      "  % (hook_name, delta_t_median), RuntimeWarning)\n"
     ]
    },
    {
     "name": "stdout",
     "output_type": "stream",
     "text": [
      "58500/87006 [===================>..........] - ETA: 2s - loss: 1.5181e-06"
     ]
    },
    {
     "name": "stderr",
     "output_type": "stream",
     "text": [
      "C:\\Users\\User\\.conda\\envs\\theano_v1\\lib\\site-packages\\keras\\callbacks\\callbacks.py:95: RuntimeWarning: Method (on_train_batch_end) is slow compared to the batch update (0.131341). Check your callbacks.\n",
      "  % (hook_name, delta_t_median), RuntimeWarning)\n",
      "C:\\Users\\User\\.conda\\envs\\theano_v1\\lib\\site-packages\\keras\\callbacks\\callbacks.py:95: RuntimeWarning: Method (on_train_batch_end) is slow compared to the batch update (0.114169). Check your callbacks.\n",
      "  % (hook_name, delta_t_median), RuntimeWarning)\n"
     ]
    },
    {
     "name": "stdout",
     "output_type": "stream",
     "text": [
      "60000/87006 [===================>..........] - ETA: 2s - loss: 1.5179e-06"
     ]
    },
    {
     "name": "stderr",
     "output_type": "stream",
     "text": [
      "C:\\Users\\User\\.conda\\envs\\theano_v1\\lib\\site-packages\\keras\\callbacks\\callbacks.py:95: RuntimeWarning: Method (on_train_batch_end) is slow compared to the batch update (0.103815). Check your callbacks.\n",
      "  % (hook_name, delta_t_median), RuntimeWarning)\n"
     ]
    },
    {
     "name": "stdout",
     "output_type": "stream",
     "text": [
      "87006/87006 [==============================] - 8s 92us/step - loss: 1.5540e-06: \n",
      "Epoch 1117/3000\n",
      "87006/87006 [==============================] - 6s 64us/step - loss: 1.5508e-06\n",
      "Epoch 1118/3000\n",
      "87006/87006 [==============================] - 3s 36us/step - loss: 1.5382e-06: 0s - loss: 1.5388\n",
      "Epoch 1119/3000\n",
      "87006/87006 [==============================] - 8s 91us/step - loss: 1.5500e-06: 0s - loss: 1.5499e-0\n",
      "Epoch 1120/3000\n",
      "87006/87006 [==============================] - 7s 75us/step - loss: 1.5459e-06: 0s - loss: 1.5452e\n",
      "Epoch 1121/3000\n",
      "87006/87006 [==============================] - 9s 107us/step - loss: 1.5698e-06 2s - loss: 1 - ETA: 0s - los\n",
      "Epoch 1122/3000\n",
      "87006/87006 [==============================] - 5s 56us/step - loss: 1.5502e-06: 1s - loss: 1.5462e-0 - ETA: 1s - lo - ETA: 1s -  - ETA: 0s - l\n",
      "Epoch 1123/3000\n",
      "87006/87006 [==============================] - ETA: 0s - loss: 1.5209e-06- ETA: 1s - loss - ETA: 1s - loss: 1.5233e- - ETA - 9s 108us/step - loss: 1.5449e-06\n",
      "Epoch 1124/3000\n",
      "87006/87006 [==============================] - 5s 52us/step - loss: 1.5556e-06\n",
      "Epoch 1125/3000\n",
      "87006/87006 [==============================] - 9s 99us/step - loss: 1.5503e-06\n",
      "Epoch 1126/3000\n",
      "87006/87006 [==============================] - 5s 63us/step - loss: 1.5463e-06\n",
      "Epoch 1127/3000\n",
      "87006/87006 [==============================] - 6s 65us/step - loss: 1.5546e-06\n",
      "Epoch 1128/3000\n",
      "87006/87006 [==============================] - 8s 96us/step - loss: 1.5419e-06:  - ETA: 4s - - ETA: 2s - loss: 1.550 - ETA: 1s\n",
      "Epoch 1129/3000\n",
      "87006/87006 [==============================] - 3s 38us/step - loss: 1.5487e-06\n",
      "Epoch 1130/3000\n",
      "87006/87006 [==============================] - 6s 75us/step - loss: 1.5456e-06: 1s - loss: 1\n",
      "Epoch 1131/3000\n",
      "87006/87006 [==============================] - 7s 75us/step - loss: 1.5467e-06\n",
      "Epoch 1132/3000\n",
      "87006/87006 [==============================] - 7s 77us/step - loss: 1.5578e-06\n",
      "Epoch 1133/3000\n",
      "87006/87006 [==============================] - 8s 96us/step - loss: 1.5427e-06: 0s - loss: 1.5484\n",
      "Epoch 1134/3000\n",
      "87006/87006 [==============================] - 7s 84us/step - loss: 1.5523e-06: 3s \n",
      "Epoch 1135/3000\n",
      "87006/87006 [==============================] - 8s 87us/step - loss: 1.5492e-06\n",
      "Epoch 1136/3000\n",
      "87006/87006 [==============================] - 6s 74us/step - loss: 1.5456e-06\n",
      "Epoch 1137/3000\n",
      "87006/87006 [==============================] - 11s 127us/step - loss: 1.5539e-060s - loss: 1.5555\n",
      "Epoch 1138/3000\n",
      "87006/87006 [==============================] - 6s 67us/step - loss: 1.5477e-06: 2s - -\n",
      "Epoch 1139/3000\n",
      "87006/87006 [==============================] - 9s 101us/step - loss: 1.5445e-06 8s - los - ETA: 6s - loss: 1.4738e-0 - ETA: 6s - loss: 1.4719e- - ETA: 6s - loss\n",
      "Epoch 1140/3000\n",
      "87006/87006 [==============================] - 7s 80us/step - loss: 1.5448e-06\n",
      "Epoch 1141/3000\n",
      "87006/87006 [==============================] - 6s 67us/step - loss: 1.5536e-06\n",
      "Epoch 1142/3000\n",
      "87006/87006 [==============================] - 9s 104us/step - loss: 1.5412e-06\n",
      "Epoch 1143/3000\n",
      "87006/87006 [==============================] - 8s 94us/step - loss: 1.5477e-06: 5s - loss: 1. - ETA: 7s - loss: 1.5289e - ETA: 7s - loss: - ET - ETA: 0s - loss: 1.5521e\n",
      "Epoch 1144/3000\n",
      "87006/87006 [==============================] - 9s 109us/step - loss: 1.5470e-06 0s - loss: 1.553\n",
      "Epoch 1145/3000\n",
      "87006/87006 [==============================] - 10s 112us/step - loss: 1.5469e-06\n",
      "Epoch 1146/3000\n",
      "87006/87006 [==============================] - 9s 107us/step - loss: 1.5518e-06\n",
      "Epoch 1147/3000\n",
      "87006/87006 [==============================] - 10s 112us/step - loss: 1.5489e-060s - loss: 1.5524e\n",
      "Epoch 1148/3000\n",
      "87006/87006 [==============================] - 7s 85us/step - loss: 1.5484e-06\n",
      "Epoch 1149/3000\n",
      "87006/87006 [==============================] - 8s 90us/step - loss: 1.5455e-06: 6s - loss: - ETA: 3s - los - ETA: 0s - loss\n",
      "Epoch 1150/3000\n",
      "87006/87006 [==============================] - 10s 116us/step - loss: 1.5436e-06\n",
      "Epoch 1151/3000\n",
      "87006/87006 [==============================] - 8s 93us/step - loss: 1.5415e-06:  - ETA: 0s - loss\n",
      "Epoch 1152/3000\n",
      "87006/87006 [==============================] - 6s 72us/step - loss: 1.5438e-06: 3s - loss: 1.5  - ETA: 3s - l - ETA: 0s - lo\n",
      "Epoch 1153/3000\n",
      "87006/87006 [==============================] - 9s 104us/step - loss: 1.5448e-06 0s - loss: - ETA: 0s - loss: 1.547\n",
      "Epoch 1154/3000\n",
      "87006/87006 [==============================] - 9s 103us/step - loss: 1.5452e-06\n",
      "Epoch 1155/3000\n",
      "87006/87006 [==============================] - 6s 72us/step - loss: 1.5518e-06\n",
      "Epoch 1156/3000\n",
      "87006/87006 [==============================] - 6s 74us/step - loss: 1.5454e-06: 0s - loss: 1.5371e-0 - ETA: 0s\n",
      "Epoch 1157/3000\n",
      "87006/87006 [==============================] - 6s 68us/step - loss: 1.5505e-06: 1s \n",
      "Epoch 1158/3000\n",
      "87006/87006 [==============================] - 7s 75us/step - loss: 1.5463e-06: 3s - lo - ETA: 2s - loss:  - ETA: 1s - loss: 1.5456e - ETA\n",
      "Epoch 1159/3000\n",
      "87006/87006 [==============================] - 6s 70us/step - loss: 1.5453e-06\n",
      "Epoch 1160/3000\n",
      "87006/87006 [==============================] - 8s 89us/step - loss: 1.5467e-06\n",
      "Epoch 1161/3000\n",
      "87006/87006 [==============================] - 9s 100us/step - loss: 1.5485e-06\n",
      "Epoch 1162/3000\n",
      "87006/87006 [==============================] - 7s 84us/step - loss: 1.5533e-06: 4s - loss: 1.5408e - ETA:\n",
      "Epoch 1163/3000\n",
      "87006/87006 [==============================] - 8s 96us/step - loss: 1.5423e-06\n",
      "Epoch 1164/3000\n",
      "87006/87006 [==============================] - 7s 79us/step - loss: 1.5426e-06\n",
      "Epoch 1165/3000\n",
      "87006/87006 [==============================] - 8s 89us/step - loss: 1.5486e-06\n",
      "Epoch 1166/3000\n",
      "87006/87006 [==============================] - 8s 94us/step - loss: 1.5416e-06: 4s -\n",
      "Epoch 1167/3000\n",
      "87006/87006 [==============================] - 10s 113us/step - loss: 1.5496e-060s - loss: 1. - ETA: 0s - loss\n",
      "Epoch 1168/3000\n",
      "87006/87006 [==============================] - 10s 110us/step - loss: 1.5489e-061s -\n",
      "Epoch 1169/3000\n",
      "87006/87006 [==============================] - 7s 75us/step - loss: 1.5462e-06: 0s - loss: \n",
      "Epoch 1170/3000\n",
      "87006/87006 [==============================] - 8s 96us/step - loss: 1.5472e-06: 4 - ETA: 3s \n",
      "Epoch 1171/3000\n",
      "87006/87006 [==============================] - 9s 102us/step - loss: 1.5477e-06\n",
      "Epoch 1172/3000\n",
      "87006/87006 [==============================] - 9s 107us/step - loss: 1.5450e-06 0s - loss: 1.5509 - ETA: 0s - loss: 1.5450e-0\n",
      "Epoch 1173/3000\n",
      "87006/87006 [==============================] - 10s 119us/step - loss: 1.5464e-060s - loss: \n",
      "Epoch 1174/3000\n",
      "87006/87006 [==============================] - 10s 116us/step - loss: 1.5501e-06\n",
      "Epoch 1175/3000\n",
      "87006/87006 [==============================] - 9s 104us/step - loss: 1.5473e-06 4 - ETA: 1s - loss: 1.5475e - ETA: \n",
      "Epoch 1176/3000\n",
      "87006/87006 [==============================] - 9s 100us/step - loss: 1.5550e-06\n",
      "Epoch 1177/3000\n",
      "87006/87006 [==============================] - 7s 85us/step - loss: 1.5507e-06\n",
      "Epoch 1178/3000\n",
      "87006/87006 [==============================] - 7s 84us/step - loss: 1.5457e-06\n",
      "Epoch 1179/3000\n",
      "87006/87006 [==============================] - 7s 78us/step - loss: 1.5427e-06: 2s - loss: 1.5404e - ETA:\n",
      "Epoch 1180/3000\n",
      "87006/87006 [==============================] - 10s 110us/step - loss: 1.5595e-060s - loss: 1.5595e-0\n",
      "Epoch 1181/3000\n",
      "87006/87006 [==============================] - 9s 101us/step - loss: 1.5468e-06\n",
      "Epoch 1182/3000\n",
      "87006/87006 [==============================] - 12s 133us/step - loss: 1.5447e-06\n",
      "Epoch 1183/3000\n",
      "87006/87006 [==============================] - 11s 125us/step - loss: 1.5448e-06\n",
      "Epoch 1184/3000\n",
      "87006/87006 [==============================] - 11s 121us/step - loss: 1.5501e-062s - loss: 1.5\n",
      "Epoch 1185/3000\n",
      "87006/87006 [==============================] - 9s 108us/step - loss: 1.5541e-06\n",
      "Epoch 1186/3000\n",
      "87006/87006 [==============================] - ETA: 0s - loss: 1.5383e-06- ETA: 0s - - 11s 127us/step - loss: 1.5424e-06\n",
      "Epoch 1187/3000\n",
      "87006/87006 [==============================] - 13s 152us/step - loss: 1.5501e-060s - loss: 1.5491e-\n",
      "Epoch 1188/3000\n",
      "87006/87006 [==============================] - 16s 185us/step - loss: 1.5444e-06\n",
      "Epoch 1189/3000\n",
      " 1200/87006 [..............................] - ETA: 22s - loss: 1.0913e-06"
     ]
    },
    {
     "name": "stderr",
     "output_type": "stream",
     "text": [
      "C:\\Users\\User\\.conda\\envs\\theano_v1\\lib\\site-packages\\keras\\callbacks\\callbacks.py:95: RuntimeWarning: Method (on_train_batch_end) is slow compared to the batch update (0.121910). Check your callbacks.\n",
      "  % (hook_name, delta_t_median), RuntimeWarning)\n"
     ]
    },
    {
     "name": "stdout",
     "output_type": "stream",
     "text": [
      "87006/87006 [==============================] - 9s 103us/step - loss: 1.5433e-06\n",
      "Epoch 1190/3000\n",
      "35700/87006 [===========>..................] - ETA: 7s - loss: 1.5868e-06- ETA: 5s - los"
     ]
    },
    {
     "name": "stderr",
     "output_type": "stream",
     "text": [
      "C:\\Users\\User\\.conda\\envs\\theano_v1\\lib\\site-packages\\keras\\callbacks\\callbacks.py:95: RuntimeWarning: Method (on_train_batch_end) is slow compared to the batch update (0.107966). Check your callbacks.\n",
      "  % (hook_name, delta_t_median), RuntimeWarning)\n"
     ]
    },
    {
     "name": "stdout",
     "output_type": "stream",
     "text": [
      "87006/87006 [==============================] - 11s 127us/step - loss: 1.5478e-06\n",
      "Epoch 1191/3000\n",
      "87006/87006 [==============================] - 13s 147us/step - loss: 1.5550e-06\n",
      "Epoch 1192/3000\n",
      "87006/87006 [==============================] - 11s 121us/step - loss: 1.5454e-06\n",
      "Epoch 1193/3000\n",
      "87006/87006 [==============================] - 10s 119us/step - loss: 1.5687e-06\n",
      "Epoch 1194/3000\n",
      "87006/87006 [==============================] - 7s 75us/step - loss: 1.5475e-06: 0s - loss: 1.\n",
      "Epoch 1195/3000\n",
      "87006/87006 [==============================] - 7s 75us/step - loss: 1.5426e-06\n",
      "Epoch 1196/3000\n",
      "87006/87006 [==============================] - 7s 79us/step - loss: 1.5502e-06: 3s - lo - ETA: \n",
      "Epoch 1197/3000\n",
      "87006/87006 [==============================] - 8s 90us/step - loss: 1.5447e-06: 4s - loss: 1.60 - ETA: 3\n",
      "Epoch 1198/3000\n",
      "87006/87006 [==============================] - 9s 102us/step - loss: 1.5548e-06\n",
      "Epoch 1199/3000\n",
      "87006/87006 [==============================] - 8s 91us/step - loss: 1.5559e-06\n",
      "Epoch 1200/3000\n",
      "87006/87006 [==============================] - 6s 69us/step - loss: 1.5438e-06 - val_loss: 1.8832e-06\n",
      "Epoch 1201/3000\n",
      "87006/87006 [==============================] - 5s 55us/step - loss: 1.5494e-06\n",
      "Epoch 1202/3000\n",
      "87006/87006 [==============================] - 7s 84us/step - loss: 1.5540e-06: 0s - loss: 1.5\n",
      "Epoch 1203/3000\n",
      "87006/87006 [==============================] - 6s 66us/step - loss: 1.5478e-06 - ETA: 0s - lo\n",
      "Epoch 1204/3000\n",
      "87006/87006 [==============================] - 6s 66us/step - loss: 1.5427e-06\n",
      "Epoch 1205/3000\n",
      "87006/87006 [==============================] - 6s 65us/step - loss: 1.5536e-06: 0s - loss: 1.5612e - ETA: 0s - loss: 1.5533e-\n",
      "Epoch 1206/3000\n",
      "87006/87006 [==============================] - 6s 73us/step - loss: 1.5557e-06: 2s - loss\n",
      "Epoch 1207/3000\n",
      "87006/87006 [==============================] - 6s 67us/step - loss: 1.5437e-06\n",
      "Epoch 1208/3000\n",
      "87006/87006 [==============================] - 7s 80us/step - loss: 1.5583e-06\n",
      "Epoch 1209/3000\n",
      "87006/87006 [==============================] - 5s 61us/step - loss: 1.5418e-06\n",
      "Epoch 1210/3000\n",
      "87006/87006 [==============================] - 7s 76us/step - loss: 1.5445e-06: 2s - loss: 1 - ETA: 1\n",
      "Epoch 1211/3000\n",
      "87006/87006 [==============================] - 6s 70us/step - loss: 1.5672e-06\n",
      "Epoch 1212/3000\n",
      "87006/87006 [==============================] - 8s 93us/step - loss: 1.5493e-06: 0s - loss: 1.5588e - ETA: 0s - loss: 1.5\n",
      "Epoch 1213/3000\n",
      "87006/87006 [==============================] - 5s 63us/step - loss: 1.5494e-06\n",
      "Epoch 1214/3000\n",
      "87006/87006 [==============================] - 6s 74us/step - loss: 1.5472e-06: 3s - loss: 1 - \n",
      "Epoch 1215/3000\n",
      "87006/87006 [==============================] - 6s 72us/step - loss: 1.5461e-06\n",
      "Epoch 1216/3000\n",
      "87006/87006 [==============================] - 7s 76us/step - loss: 1.5492e-06: 1s - loss: 1.568 - ETA: 1s - loss: 1.554 - ETA: 0s - los\n",
      "Epoch 1217/3000\n",
      "87006/87006 [==============================] - 10s 112us/step - loss: 1.5512e-061s - loss: 1.5302 - ETA: 1s - loss:\n",
      "Epoch 1218/3000\n",
      "87006/87006 [==============================] - 6s 73us/step - loss: 1.5477e-06: 0s - lo\n",
      "Epoch 1219/3000\n",
      "87006/87006 [==============================] - 7s 80us/step - loss: 1.5523e-06\n",
      "Epoch 1220/3000\n",
      "87006/87006 [==============================] - 6s 75us/step - loss: 1.5410e-06: 7s - los - ETA:\n",
      "Epoch 1221/3000\n",
      "87006/87006 [==============================] - 9s 98us/step - loss: 1.5547e-06: 1s\n",
      "Epoch 1222/3000\n",
      "87006/87006 [==============================] - 4s 43us/step - loss: 1.5453e-06\n",
      "Epoch 1223/3000\n",
      "87006/87006 [==============================] - 8s 95us/step - loss: 1.5460e-06\n",
      "Epoch 1224/3000\n",
      "87006/87006 [==============================] - 7s 83us/step - loss: 1.5454e-06: 1s - los\n",
      "Epoch 1225/3000\n",
      "87006/87006 [==============================] - 7s 86us/step - loss: 1.5416e-06\n",
      "Epoch 1226/3000\n",
      "87006/87006 [==============================] - 6s 66us/step - loss: 1.5486e-06\n",
      "Epoch 1227/3000\n",
      "87006/87006 [==============================] - 6s 65us/step - loss: 1.5409e-06\n",
      "Epoch 1228/3000\n",
      "87006/87006 [==============================] - 6s 74us/step - loss: 1.5422e-06: 2s - loss:  - ETA: 1s - \n",
      "Epoch 1229/3000\n",
      "87006/87006 [==============================] - 7s 82us/step - loss: 1.5436e-06\n",
      "Epoch 1230/3000\n",
      "87006/87006 [==============================] - 4s 41us/step - loss: 1.5464e-06\n",
      "Epoch 1231/3000\n",
      "87006/87006 [==============================] - 8s 89us/step - loss: 1.5522e-06\n",
      "Epoch 1232/3000\n",
      "87006/87006 [==============================] - 8s 90us/step - loss: 1.5434e-06\n",
      "Epoch 1233/3000\n",
      "87006/87006 [==============================] - 6s 71us/step - loss: 1.5444e-06: 4s - loss: 1.5649e - ETA: 4s - loss: 1.555 - ETA: 3s - loss: 1.5901e - ETA - ETA: 1s  - ETA: 0s - loss: 1.5549e-0 - ETA: 0s - loss:\n",
      "Epoch 1234/3000\n",
      "87006/87006 [==============================] - 7s 85us/step - loss: 1.5429e-06: 5s - loss: 1.6111e - ETA: 5s  - ETA: 4s - loss: 1.5961e - ET\n",
      "Epoch 1235/3000\n",
      "87006/87006 [==============================] - 6s 63us/step - loss: 1.5408e-06: 0s - \n",
      "Epoch 1236/3000\n",
      "87006/87006 [==============================] - 6s 68us/step - loss: 1.5624e-06\n",
      "Epoch 1237/3000\n",
      "87006/87006 [==============================] - 7s 82us/step - loss: 1.5776e-06\n",
      "Epoch 1238/3000\n",
      "87006/87006 [==============================] - 4s 48us/step - loss: 1.5405e-06\n",
      "Epoch 1239/3000\n",
      "87006/87006 [==============================] - 7s 75us/step - loss: 1.5426e-06\n",
      "Epoch 1240/3000\n",
      "87006/87006 [==============================] - 7s 86us/step - loss: 1.5408e-06: 4s - l - ETA - E\n",
      "Epoch 1241/3000\n",
      "87006/87006 [==============================] - 6s 71us/step - loss: 1.5444e-06\n",
      "Epoch 1242/3000\n",
      "87006/87006 [==============================] - 8s 97us/step - loss: 1.5474e-06: 1s - \n",
      "Epoch 1243/3000\n",
      "87006/87006 [==============================] - 5s 59us/step - loss: 1.5550e-06\n",
      "Epoch 1244/3000\n",
      "87006/87006 [==============================] - 6s 73us/step - loss: 1.5491e-06\n",
      "Epoch 1245/3000\n",
      "87006/87006 [==============================] - 6s 71us/step - loss: 1.5400e-06: 2s - loss: 1 - ETA: 1s\n",
      "Epoch 1246/3000\n",
      "87006/87006 [==============================] - 5s 53us/step - loss: 1.5441e-06\n",
      "Epoch 1247/3000\n",
      "87006/87006 [==============================] - 5s 61us/step - loss: 1.5478e-06\n",
      "Epoch 1248/3000\n",
      "87006/87006 [==============================] - 5s 53us/step - loss: 1.5394e-06\n",
      "Epoch 1249/3000\n",
      "87006/87006 [==============================] - 5s 61us/step - loss: 1.5438e-06: 1s - loss: 1 - ETA: 1s - lo - ETA: 0s - loss: 1.5433 - ETA: 0s - loss - ETA: 0s - loss: 1\n",
      "Epoch 1250/3000\n",
      "87006/87006 [==============================] - 4s 50us/step - loss: 1.5543e-06\n",
      "Epoch 1251/3000\n",
      "87006/87006 [==============================] - 6s 65us/step - loss: 1.5460e-06\n",
      "Epoch 1252/3000\n",
      "87006/87006 [==============================] - 5s 54us/step - loss: 1.5387e-06\n",
      "Epoch 1253/3000\n",
      "87006/87006 [==============================] - 9s 100us/step - loss: 1.5477e-06 0s - loss: 1\n",
      "Epoch 1254/3000\n",
      "87006/87006 [==============================] - 7s 79us/step - loss: 1.5406e-06\n",
      "Epoch 1255/3000\n",
      "87006/87006 [==============================] - 6s 67us/step - loss: 1.5551e-06\n",
      "Epoch 1256/3000\n",
      "87006/87006 [==============================] - 5s 59us/step - loss: 1.5459e-06: 0s - loss: 1.5\n",
      "Epoch 1257/3000\n",
      "87006/87006 [==============================] - 8s 91us/step - loss: 1.5492e-06: 5s - ETA - ETA: 2s - loss: 1.5421e- - ETA: 2s - loss:  - ETA: 2s - loss:  - ETA: 2s\n",
      "Epoch 1258/3000\n",
      "87006/87006 [==============================] - 5s 60us/step - loss: 1.5418e-06\n",
      "Epoch 1259/3000\n",
      "87006/87006 [==============================] - 7s 78us/step - loss: 1.5409e-06: 6s -  - ETA: 5s - loss: 1. - \n",
      "Epoch 1260/3000\n",
      "87006/87006 [==============================] - 5s 59us/step - loss: 1.5456e-06: 0s - l\n",
      "Epoch 1261/3000\n",
      "87006/87006 [==============================] - 6s 67us/step - loss: 1.5450e-06: 6s - loss: 1 - ET - ETA: 0s - lo\n",
      "Epoch 1262/3000\n",
      "87006/87006 [==============================] - 7s 85us/step - loss: 1.5532e-06: 3s - lo\n",
      "Epoch 1263/3000\n",
      "87006/87006 [==============================] - 5s 60us/step - loss: 1.5703e-06\n",
      "Epoch 1264/3000\n",
      "87006/87006 [==============================] - 6s 74us/step - loss: 1.5463e-06: 0s - loss: 1.\n",
      "Epoch 1265/3000\n",
      "87006/87006 [==============================] - 7s 81us/step - loss: 1.5487e-06\n",
      "Epoch 1266/3000\n",
      "87006/87006 [==============================] - 3s 39us/step - loss: 1.5426e-06\n",
      "Epoch 1267/3000\n",
      "87006/87006 [==============================] - 6s 74us/step - loss: 1.5424e-06\n",
      "Epoch 1268/3000\n",
      "87006/87006 [==============================] - 7s 85us/step - loss: 1.5498e-06\n",
      "Epoch 1269/3000\n",
      "87006/87006 [==============================] - 8s 88us/step - loss: 1.5465e-06\n",
      "Epoch 1270/3000\n",
      "87006/87006 [==============================] - 6s 73us/step - loss: 1.5452e-06: 7s - loss: - ETA: 5s  - ETA: 3\n",
      "Epoch 1271/3000\n",
      "87006/87006 [==============================] - 7s 76us/step - loss: 1.5514e-06\n",
      "Epoch 1272/3000\n",
      "87006/87006 [==============================] - 8s 91us/step - loss: 1.5514e-06\n",
      "Epoch 1273/3000\n",
      "87006/87006 [==============================] - 7s 77us/step - loss: 1.5443e-06\n",
      "Epoch 1274/3000\n",
      "87006/87006 [==============================] - 6s 75us/step - loss: 1.5414e-06\n",
      "Epoch 1275/3000\n",
      "87006/87006 [==============================] - 7s 85us/step - loss: 1.5414e-06: 0s - loss: 1.5420 - ETA: 0s - loss: 1\n",
      "Epoch 1276/3000\n",
      "87006/87006 [==============================] - 5s 62us/step - loss: 1.5511e-06\n",
      "Epoch 1277/3000\n",
      "87006/87006 [==============================] - 10s 117us/step - loss: 1.5452e-06\n",
      "Epoch 1278/3000\n",
      "87006/87006 [==============================] - 6s 70us/step - loss: 1.5418e-06 - ETA: 0s - loss: 1.5419e-0\n",
      "Epoch 1279/3000\n",
      "87006/87006 [==============================] - 6s 67us/step - loss: 1.5472e-06: 0s \n",
      "Epoch 1280/3000\n",
      "87006/87006 [==============================] - 10s 114us/step - loss: 1.5447e-066s - los\n",
      "Epoch 1281/3000\n",
      "87006/87006 [==============================] - 8s 95us/step - loss: 1.5457e-06: 7s - loss: 1.65 - ETA: 8s - l\n",
      "Epoch 1282/3000\n",
      "87006/87006 [==============================] - 5s 54us/step - loss: 1.5496e-06\n",
      "Epoch 1283/3000\n",
      "87006/87006 [==============================] - 5s 63us/step - loss: 1.5430e-06: 2s - ETA: 0s - loss: 1\n",
      "Epoch 1284/3000\n",
      "87006/87006 [==============================] - 6s 73us/step - loss: 1.5508e-06\n",
      "Epoch 1285/3000\n",
      "87006/87006 [==============================] - 4s 43us/step - loss: 1.5485e-06\n",
      "Epoch 1286/3000\n",
      "87006/87006 [==============================] - 4s 42us/step - loss: 1.5505e-06: 0s - loss: 1 - ETA: 0s - loss: 1.5533e - ETA: 0s - loss: 1.5560e - ETA: 0s - loss: 1.554\n",
      "Epoch 1287/3000\n",
      "87006/87006 [==============================] - 4s 42us/step - loss: 1.5426e-06\n",
      "Epoch 1288/3000\n",
      "87006/87006 [==============================] - 6s 64us/step - loss: 1.5450e-06\n",
      "Epoch 1289/3000\n",
      "87006/87006 [==============================] - 5s 60us/step - loss: 1.5554e-06: 2 - \n",
      "Epoch 1290/3000\n",
      "87006/87006 [==============================] - 5s 60us/step - loss: 1.5421e-06\n",
      "Epoch 1291/3000\n",
      "87006/87006 [==============================] - 6s 67us/step - loss: 1.5471e-06\n",
      "Epoch 1292/3000\n",
      "87006/87006 [==============================] - 7s 83us/step - loss: 1.5460e-06\n",
      "Epoch 1293/3000\n",
      "87006/87006 [==============================] - 7s 76us/step - loss: 1.5393e-06: 0s - loss: 1.\n",
      "Epoch 1294/3000\n",
      "87006/87006 [==============================] - 3s 40us/step - loss: 1.5442e-06\n",
      "Epoch 1295/3000\n",
      "87006/87006 [==============================] - 5s 55us/step - loss: 1.5472e-06: 0s - loss: 1\n",
      "Epoch 1296/3000\n",
      "87006/87006 [==============================] - 7s 84us/step - loss: 1.5471e-06: 3s - loss: 1.569 - ETA: \n",
      "Epoch 1297/3000\n",
      "87006/87006 [==============================] - 6s 68us/step - loss: 1.5418e-06\n",
      "Epoch 1298/3000\n",
      "87006/87006 [==============================] - 9s 106us/step - loss: 1.5425e-06\n",
      "Epoch 1299/3000\n",
      "87006/87006 [==============================] - 7s 82us/step - loss: 1.5546e-06: 3s - loss: 1. - ETA: 3s - loss: 1.558 - ETA: 3s - loss: 1. - ETA:\n",
      "Epoch 1300/3000\n",
      "87006/87006 [==============================] - 7s 77us/step - loss: 1.5438e-06 - val_loss: 1.8206e-06\n",
      "Epoch 1301/3000\n",
      "87006/87006 [==============================] - 5s 54us/step - loss: 1.5470e-06\n",
      "Epoch 1302/3000\n",
      "87006/87006 [==============================] - 6s 72us/step - loss: 1.5472e-06\n",
      "Epoch 1303/3000\n",
      "87006/87006 [==============================] - 9s 109us/step - loss: 1.5436e-06\n",
      "Epoch 1304/3000\n",
      "87006/87006 [==============================] - 7s 79us/step - loss: 1.5430e-06\n",
      "Epoch 1305/3000\n",
      "87006/87006 [==============================] - 9s 99us/step - loss: 1.5465e-06\n",
      "Epoch 1306/3000\n",
      "87006/87006 [==============================] - 6s 67us/step - loss: 1.5453e-06\n",
      "Epoch 1307/3000\n",
      "87006/87006 [==============================] - 4s 47us/step - loss: 1.5432e-06\n",
      "Epoch 1308/3000\n",
      "87006/87006 [==============================] - 7s 82us/step - loss: 1.5374e-06\n",
      "Epoch 1309/3000\n",
      "87006/87006 [==============================] - 7s 78us/step - loss: 1.5442e-06\n",
      "Epoch 1310/3000\n",
      "87006/87006 [==============================] - 8s 95us/step - loss: 1.5407e-06\n",
      "Epoch 1311/3000\n",
      "87006/87006 [==============================] - 7s 81us/step - loss: 1.5454e-06\n",
      "Epoch 1312/3000\n",
      "87006/87006 [==============================] - 11s 129us/step - loss: 1.5417e-060s - loss: 1.5440e-0\n",
      "Epoch 1313/3000\n",
      "87006/87006 [==============================] - 10s 120us/step - loss: 1.5475e-06\n",
      "Epoch 1314/3000\n",
      "87006/87006 [==============================] - 8s 95us/step - loss: 1.5409e-06: 1s - loss:  - ET\n",
      "Epoch 1315/3000\n",
      "87006/87006 [==============================] - 8s 93us/step - loss: 1.5424e-06\n",
      "Epoch 1316/3000\n",
      "87006/87006 [==============================] - 7s 85us/step - loss: 1.5390e-06\n",
      "Epoch 1317/3000\n",
      "87006/87006 [==============================] - 7s 76us/step - loss: 1.5427e-06: 4s - loss:  -  - ETA: 1s - l - ETA: 0s - loss: 1.5385e-\n",
      "Epoch 1318/3000\n",
      "87006/87006 [==============================] - 7s 82us/step - loss: 1.5475e-06: 5 - ETA: 3s - loss: 1\n",
      "Epoch 1319/3000\n",
      "87006/87006 [==============================] - 7s 76us/step - loss: 1.5445e-06\n",
      "Epoch 1320/3000\n",
      "87006/87006 [==============================] - 7s 84us/step - loss: 1.5460e-06\n",
      "Epoch 1321/3000\n",
      "87006/87006 [==============================] - ETA: 0s - loss: 1.5410e-0 - 6s 72us/step - loss: 1.5411e-06\n",
      "Epoch 1322/3000\n",
      "87006/87006 [==============================] - 7s 86us/step - loss: 1.5472e-06\n",
      "Epoch 1323/3000\n",
      "87006/87006 [==============================] - 7s 77us/step - loss: 1.5433e-06\n",
      "Epoch 1324/3000\n",
      "87006/87006 [==============================] - 6s 70us/step - loss: 1.5411e-06: 1s - loss: 1.5472e-0 - ETA: 1s  - ETA: 1s - los - ETA: 0s - loss: 1.548\n",
      "Epoch 1325/3000\n",
      "87006/87006 [==============================] - 6s 74us/step - loss: 1.5654e-06\n",
      "Epoch 1326/3000\n",
      "87006/87006 [==============================] - 7s 86us/step - loss: 1.5449e-06\n",
      "Epoch 1327/3000\n",
      "87006/87006 [==============================] - 8s 92us/step - loss: 1.5480e-06\n",
      "Epoch 1328/3000\n",
      "87006/87006 [==============================] - 6s 73us/step - loss: 1.5453e-06\n",
      "Epoch 1329/3000\n",
      "87006/87006 [==============================] - 5s 54us/step - loss: 1.5401e-06\n",
      "Epoch 1330/3000\n",
      "87006/87006 [==============================] - 6s 68us/step - loss: 1.5566e-06: 1s - ETA: 0s - loss: 1.5415 - ETA: 0s - loss\n",
      "Epoch 1331/3000\n",
      "87006/87006 [==============================] - 8s 94us/step - loss: 1.5397e-06: 0s - los\n",
      "Epoch 1332/3000\n",
      "87006/87006 [==============================] - 8s 95us/step - loss: 1.5474e-06: 6s - loss: - ETA: 0s - loss: 1.5492e-\n",
      "Epoch 1333/3000\n",
      "87006/87006 [==============================] - 7s 84us/step - loss: 1.5404e-06\n",
      "Epoch 1334/3000\n",
      "87006/87006 [==============================] - 8s 96us/step - loss: 1.5475e-06\n",
      "Epoch 1335/3000\n",
      "87006/87006 [==============================] - 11s 129us/step - loss: 1.5426e-06\n",
      "Epoch 1336/3000\n",
      "87006/87006 [==============================] - ETA: 0s - loss: 1.5566e-0 - ETA: 0s - loss: 1.5558e-0 - 9s 105us/step - loss: 1.5558e-06\n",
      "Epoch 1337/3000\n",
      "87006/87006 [==============================] - 8s 92us/step - loss: 1.5527e-06\n",
      "Epoch 1338/3000\n",
      "87006/87006 [==============================] - 9s 98us/step - loss: 1.5512e-06: 1s - loss:  - ETA: 0s \n",
      "Epoch 1339/3000\n",
      "87006/87006 [==============================] - 12s 139us/step - loss: 1.5428e-06\n",
      "Epoch 1340/3000\n",
      "87006/87006 [==============================] - 9s 99us/step - loss: 1.5689e-06\n",
      "Epoch 1341/3000\n",
      "87006/87006 [==============================] - 9s 99us/step - loss: 1.5590e-06\n",
      "Epoch 1342/3000\n"
     ]
    },
    {
     "name": "stdout",
     "output_type": "stream",
     "text": [
      "87006/87006 [==============================] - 9s 107us/step - loss: 1.5424e-06 0s - los\n",
      "Epoch 1343/3000\n",
      "87006/87006 [==============================] - 10s 114us/step - loss: 1.5515e-06\n",
      "Epoch 1344/3000\n",
      "87006/87006 [==============================] - 11s 125us/step - loss: 1.5461e-061s - - ETA: 0s - loss: 1.549\n",
      "Epoch 1345/3000\n",
      "87006/87006 [==============================] - 9s 107us/step - loss: 1.5434e-06 6s - los\n",
      "Epoch 1346/3000\n",
      "87006/87006 [==============================] - 12s 133us/step - loss: 1.5443e-06\n",
      "Epoch 1347/3000\n",
      "87006/87006 [==============================] - 8s 94us/step - loss: 1.5427e-06\n",
      "Epoch 1348/3000\n",
      "87006/87006 [==============================] - 9s 105us/step - loss: 1.5462e-06\n",
      "Epoch 1349/3000\n",
      "87006/87006 [==============================] - 10s 116us/step - loss: 1.5421e-062s - loss: 1.5528e\n",
      "Epoch 1350/3000\n",
      "87006/87006 [==============================] - 7s 84us/step - loss: 1.5451e-06\n",
      "Epoch 1351/3000\n",
      "87006/87006 [==============================] - 7s 82us/step - loss: 1.5457e-06\n",
      "Epoch 1352/3000\n",
      "87006/87006 [==============================] - 5s 61us/step - loss: 1.5509e-06\n",
      "Epoch 1353/3000\n",
      "87006/87006 [==============================] - 7s 81us/step - loss: 1.5422e-06\n",
      "Epoch 1354/3000\n",
      "87006/87006 [==============================] - 8s 90us/step - loss: 1.5413e-06: 0s - l\n",
      "Epoch 1355/3000\n",
      "87006/87006 [==============================] - 7s 85us/step - loss: 1.5425e-06\n",
      "Epoch 1356/3000\n",
      "87006/87006 [==============================] - 5s 53us/step - loss: 1.5443e-06\n",
      "Epoch 1357/3000\n",
      "87006/87006 [==============================] - 6s 67us/step - loss: 1.5537e-06\n",
      "Epoch 1358/3000\n",
      "87006/87006 [==============================] - 8s 91us/step - loss: 1.5436e-06- ETA: 1s \n",
      "Epoch 1359/3000\n",
      "87006/87006 [==============================] - 11s 128us/step - loss: 1.5392e-06\n",
      "Epoch 1360/3000\n",
      "87006/87006 [==============================] - 9s 103us/step - loss: 1.5423e-06\n",
      "Epoch 1361/3000\n",
      "87006/87006 [==============================] - 7s 82us/step - loss: 1.5520e-06: 6s - loss - ETA: \n",
      "Epoch 1362/3000\n",
      "87006/87006 [==============================] - 8s 98us/step - loss: 1.5456e-06\n",
      "Epoch 1363/3000\n",
      "87006/87006 [==============================] - 6s 64us/step - loss: 1.5422e-06: 0s - loss: \n",
      "Epoch 1364/3000\n",
      "87006/87006 [==============================] - 4s 51us/step - loss: 1.5488e-06\n",
      "Epoch 1365/3000\n",
      "87006/87006 [==============================] - 8s 91us/step - loss: 1.5399e-06: 1s - loss: 1.5033e-0 - ETA: - ETA: 0s - loss:\n",
      "Epoch 1366/3000\n",
      "87006/87006 [==============================] - 6s 64us/step - loss: 1.5513e-06\n",
      "Epoch 1367/3000\n",
      "87006/87006 [==============================] - 7s 75us/step - loss: 1.5446e-06\n",
      "Epoch 1368/3000\n",
      "87006/87006 [==============================] - 6s 69us/step - loss: 1.5562e-06\n",
      "Epoch 1369/3000\n",
      "87006/87006 [==============================] - 7s 75us/step - loss: 1.5485e-06\n",
      "Epoch 1370/3000\n",
      "87006/87006 [==============================] - 8s 91us/step - loss: 1.5431e-06: 0s - loss: 1.5416e\n",
      "Epoch 1371/3000\n",
      "87006/87006 [==============================] - 6s 67us/step - loss: 1.5460e-06\n",
      "Epoch 1372/3000\n",
      "87006/87006 [==============================] - 7s 78us/step - loss: 1.5478e-06\n",
      "Epoch 1373/3000\n",
      "87006/87006 [==============================] - 6s 70us/step - loss: 1.5424e-06: 3s - loss\n",
      "Epoch 1374/3000\n",
      "87006/87006 [==============================] - 9s 98us/step - loss: 1.5468e-06- ETA: 2s - loss: 1.5 - ETA: 0s - loss: 1\n",
      "Epoch 1375/3000\n",
      "87006/87006 [==============================] - 7s 84us/step - loss: 1.5411e-06\n",
      "Epoch 1376/3000\n",
      "87006/87006 [==============================] - 7s 85us/step - loss: 1.5446e-06\n",
      "Epoch 1377/3000\n",
      "87006/87006 [==============================] - 4s 46us/step - loss: 1.5443e-06\n",
      "Epoch 1378/3000\n",
      "87006/87006 [==============================] - 7s 79us/step - loss: 1.5445e-06\n",
      "Epoch 1379/3000\n",
      "87006/87006 [==============================] - 7s 80us/step - loss: 1.5494e-06\n",
      "Epoch 1380/3000\n",
      "87006/87006 [==============================] - 6s 71us/step - loss: 1.5426e-06\n",
      "Epoch 1381/3000\n",
      "87006/87006 [==============================] - 6s 64us/step - loss: 1.5439e-06: 1s - loss: 1.563 - ETA: 1s - loss\n",
      "Epoch 1382/3000\n",
      "87006/87006 [==============================] - 8s 95us/step - loss: 1.5484e-06\n",
      "Epoch 1383/3000\n",
      "87006/87006 [==============================] - 9s 99us/step - loss: 1.5495e-06: 1s - loss: 1.55\n",
      "Epoch 1384/3000\n",
      "87006/87006 [==============================] - 6s 73us/step - loss: 1.5379e-06\n",
      "Epoch 1385/3000\n",
      "87006/87006 [==============================] - 6s 72us/step - loss: 1.5446e-06\n",
      "Epoch 1386/3000\n",
      "87006/87006 [==============================] - 6s 67us/step - loss: 1.5394e-06\n",
      "Epoch 1387/3000\n",
      "87006/87006 [==============================] - 6s 72us/step - loss: 1.5464e-06\n",
      "Epoch 1388/3000\n",
      "87006/87006 [==============================] - 7s 77us/step - loss: 1.5452e-06\n",
      "Epoch 1389/3000\n",
      "87006/87006 [==============================] - 6s 66us/step - loss: 1.5496e-06\n",
      "Epoch 1390/3000\n",
      "87006/87006 [==============================] - 5s 62us/step - loss: 1.5426e-06\n",
      "Epoch 1391/3000\n",
      "87006/87006 [==============================] - 8s 87us/step - loss: 1.5478e-06: - ETA: \n",
      "Epoch 1392/3000\n",
      "87006/87006 [==============================] - 8s 91us/step - loss: 1.5453e-06\n",
      "Epoch 1393/3000\n",
      "87006/87006 [==============================] - 7s 81us/step - loss: 1.5507e-06: 3s - loss: 1. - ETA: 2s - loss: 1 -\n",
      "Epoch 1394/3000\n",
      "87006/87006 [==============================] - 10s 110us/step - loss: 1.5385e-06\n",
      "Epoch 1395/3000\n",
      "87006/87006 [==============================] - 8s 87us/step - loss: 1.5428e-06\n",
      "Epoch 1396/3000\n",
      "87006/87006 [==============================] - 8s 92us/step - loss: 1.5412e-06: 3s - los - ETA - E\n",
      "Epoch 1397/3000\n",
      "87006/87006 [==============================] - 7s 84us/step - loss: 1.5507e-06\n",
      "Epoch 1398/3000\n",
      "87006/87006 [==============================] - 7s 78us/step - loss: 1.5393e-06: - ETA: 4s - loss: - ETA: 3s - loss: 1.537\n",
      "Epoch 1399/3000\n",
      "87006/87006 [==============================] - 9s 102us/step - loss: 1.5476e-06 0s - loss: 1.5543e- - ETA: 0s - loss: 1.5523e\n",
      "Epoch 1400/3000\n",
      "87006/87006 [==============================] - 7s 83us/step - loss: 1.5370e-06 - val_loss: 1.8067e-06\n",
      "Epoch 1401/3000\n",
      " 2400/87006 [..............................] - ETA: 9s - loss: 1.4822e-06 "
     ]
    },
    {
     "name": "stderr",
     "output_type": "stream",
     "text": [
      "C:\\Users\\User\\.conda\\envs\\theano_v1\\lib\\site-packages\\keras\\callbacks\\callbacks.py:95: RuntimeWarning: Method (on_train_batch_end) is slow compared to the batch update (0.116862). Check your callbacks.\n",
      "  % (hook_name, delta_t_median), RuntimeWarning)\n"
     ]
    },
    {
     "name": "stdout",
     "output_type": "stream",
     "text": [
      "87006/87006 [==============================] - 6s 71us/step - loss: 1.5470e-06\n",
      "Epoch 1402/3000\n",
      "87006/87006 [==============================] - 7s 80us/step - loss: 1.5432e-06: 1s - \n",
      "Epoch 1403/3000\n",
      "87006/87006 [==============================] - 9s 105us/step - loss: 1.5409e-06 1s - los\n",
      "Epoch 1404/3000\n",
      "87006/87006 [==============================] - 5s 63us/step - loss: 1.5501e-06\n",
      "Epoch 1405/3000\n",
      "87006/87006 [==============================] - 6s 72us/step - loss: 1.5381e-06\n",
      "Epoch 1406/3000\n",
      "87006/87006 [==============================] - 7s 77us/step - loss: 1.5465e-06: 0s - loss: 1.55 - ETA: 0s - loss: 1.547\n",
      "Epoch 1407/3000\n",
      "87006/87006 [==============================] - 7s 83us/step - loss: 1.5445e-06: 1s - l\n",
      "Epoch 1408/3000\n",
      "87006/87006 [==============================] - 7s 78us/step - loss: 1.5497e-06\n",
      "Epoch 1409/3000\n",
      "87006/87006 [==============================] - 8s 89us/step - loss: 1.5657e-06\n",
      "Epoch 1410/3000\n",
      "  900/87006 [..............................] - ETA: 29s - loss: 1.5056e-06"
     ]
    },
    {
     "name": "stderr",
     "output_type": "stream",
     "text": [
      "C:\\Users\\User\\.conda\\envs\\theano_v1\\lib\\site-packages\\keras\\callbacks\\callbacks.py:95: RuntimeWarning: Method (on_train_batch_end) is slow compared to the batch update (0.118814). Check your callbacks.\n",
      "  % (hook_name, delta_t_median), RuntimeWarning)\n"
     ]
    },
    {
     "name": "stdout",
     "output_type": "stream",
     "text": [
      "87006/87006 [==============================] - 7s 80us/step - loss: 1.5457e-06: 0s \n",
      "Epoch 1411/3000\n",
      "87006/87006 [==============================] - 6s 66us/step - loss: 1.5536e-06: 5s - loss: 1.6 - ET\n",
      "Epoch 1412/3000\n",
      "87006/87006 [==============================] - 5s 57us/step - loss: 1.5427e-06\n",
      "Epoch 1413/3000\n",
      "87006/87006 [==============================] - 7s 78us/step - loss: 1.5521e-06\n",
      "Epoch 1414/3000\n",
      "  900/87006 [..............................] - ETA: 35s - loss: 1.7802e-06"
     ]
    },
    {
     "name": "stderr",
     "output_type": "stream",
     "text": [
      "C:\\Users\\User\\.conda\\envs\\theano_v1\\lib\\site-packages\\keras\\callbacks\\callbacks.py:95: RuntimeWarning: Method (on_train_batch_end) is slow compared to the batch update (0.148106). Check your callbacks.\n",
      "  % (hook_name, delta_t_median), RuntimeWarning)\n",
      "C:\\Users\\User\\.conda\\envs\\theano_v1\\lib\\site-packages\\keras\\callbacks\\callbacks.py:95: RuntimeWarning: Method (on_train_batch_end) is slow compared to the batch update (0.111546). Check your callbacks.\n",
      "  % (hook_name, delta_t_median), RuntimeWarning)\n"
     ]
    },
    {
     "name": "stdout",
     "output_type": "stream",
     "text": [
      "87006/87006 [==============================] - 6s 66us/step - loss: 1.5533e-06: 7s - lo\n",
      "Epoch 1415/3000\n",
      "87006/87006 [==============================] - 6s 72us/step - loss: 1.5574e-06\n",
      "Epoch 1416/3000\n",
      "87006/87006 [==============================] - 6s 70us/step - loss: 1.5394e-06\n",
      "Epoch 1417/3000\n",
      "87006/87006 [==============================] - 6s 67us/step - loss: 1.5502e-06: 0s - loss: 1 - ETA: 0\n",
      "Epoch 1418/3000\n",
      "87006/87006 [==============================] - 7s 84us/step - loss: 1.5471e-06TA: 2s - - ETA: 1s - loss: 1.5227e - ETA: 0s - loss\n",
      "Epoch 1419/3000\n",
      "87006/87006 [==============================] - 5s 53us/step - loss: 1.5448e-06\n",
      "Epoch 1420/3000\n",
      "87006/87006 [==============================] - 3s 39us/step - loss: 1.5441e-06\n",
      "Epoch 1421/3000\n",
      "87006/87006 [==============================] - 6s 70us/step - loss: 1.5437e-06\n",
      "Epoch 1422/3000\n",
      "87006/87006 [==============================] - 6s 73us/step - loss: 1.5490e-06\n",
      "Epoch 1423/3000\n",
      "87006/87006 [==============================] - 5s 56us/step - loss: 1.5448e-06: 1s\n",
      "Epoch 1424/3000\n",
      "87006/87006 [==============================] - 7s 84us/step - loss: 1.5428e-06: 3s - - - ET - ETA: 1s\n",
      "Epoch 1425/3000\n",
      "87006/87006 [==============================] - 7s 83us/step - loss: 1.5404e-06\n",
      "Epoch 1426/3000\n",
      "87006/87006 [==============================] - 7s 81us/step - loss: 1.5396e-06: 0s - loss: 1.51\n",
      "Epoch 1427/3000\n",
      "87006/87006 [==============================] - 7s 80us/step - loss: 1.5480e-06\n",
      "Epoch 1428/3000\n",
      "87006/87006 [==============================] - 5s 63us/step - loss: 1.5377e-06: 0\n",
      "Epoch 1429/3000\n",
      "87006/87006 [==============================] - 7s 80us/step - loss: 1.5469e-06: 4s - loss - ETA: 2s - loss: 1.\n",
      "Epoch 1430/3000\n",
      "87006/87006 [==============================] - 8s 90us/step - loss: 1.5493e-06\n",
      "Epoch 1431/3000\n",
      "87006/87006 [==============================] - 5s 57us/step - loss: 1.5464e-06\n",
      "Epoch 1432/3000\n",
      "87006/87006 [==============================] - 5s 63us/step - loss: 1.5515e-06\n",
      "Epoch 1433/3000\n",
      "87006/87006 [==============================] - 7s 75us/step - loss: 1.5490e-06\n",
      "Epoch 1434/3000\n",
      "87006/87006 [==============================] - 6s 73us/step - loss: 1.5408e-06: 3s - - ETA: 1s - loss\n",
      "Epoch 1435/3000\n",
      "87006/87006 [==============================] - 9s 101us/step - loss: 1.5505e-06\n",
      "Epoch 1436/3000\n",
      "87006/87006 [==============================] - 6s 72us/step - loss: 1.5428e-06\n",
      "Epoch 1437/3000\n",
      "87006/87006 [==============================] - 8s 90us/step - loss: 1.5479e-06: 1s\n",
      "Epoch 1438/3000\n",
      "87006/87006 [==============================] - 8s 92us/step - loss: 1.5455e-06\n",
      "Epoch 1439/3000\n",
      "87006/87006 [==============================] - 6s 67us/step - loss: 1.5466e-06: 1s - loss: 1.5855e- - ETA\n",
      "Epoch 1440/3000\n",
      "87006/87006 [==============================] - 5s 63us/step - loss: 1.5425e-06\n",
      "Epoch 1441/3000\n",
      "87006/87006 [==============================] - 8s 97us/step - loss: 1.5406e-06\n",
      "Epoch 1442/3000\n",
      "87006/87006 [==============================] - 8s 92us/step - loss: 1.5383e-06\n",
      "Epoch 1443/3000\n",
      "87006/87006 [==============================] - 8s 95us/step - loss: 1.5457e-06: 10s - ETA: 7s - loss: 1.4150e-0 - ETA: 8s - lo - ETA: 7s - loss: 1.5 - ETA: 6s -\n",
      "Epoch 1444/3000\n",
      "87006/87006 [==============================] - 7s 83us/step - loss: 1.5419e-06: 0s - loss: 1.\n",
      "Epoch 1445/3000\n",
      "87006/87006 [==============================] - 9s 106us/step - loss: 1.5498e-06\n",
      "Epoch 1446/3000\n",
      "87006/87006 [==============================] - 8s 93us/step - loss: 1.5455e-06: 0s - loss: \n",
      "Epoch 1447/3000\n",
      "87006/87006 [==============================] - 9s 108us/step - loss: 1.5401e-06\n",
      "Epoch 1448/3000\n",
      "87006/87006 [==============================] - 8s 94us/step - loss: 1.5401e-06\n",
      "Epoch 1449/3000\n",
      "34800/87006 [==========>...................] - ETA: 6s - loss: 1.5696e-06- ETA: 3s - lo"
     ]
    },
    {
     "name": "stderr",
     "output_type": "stream",
     "text": [
      "C:\\Users\\User\\.conda\\envs\\theano_v1\\lib\\site-packages\\keras\\callbacks\\callbacks.py:95: RuntimeWarning: Method (on_train_batch_end) is slow compared to the batch update (0.131689). Check your callbacks.\n",
      "  % (hook_name, delta_t_median), RuntimeWarning)\n"
     ]
    },
    {
     "name": "stdout",
     "output_type": "stream",
     "text": [
      "35400/87006 [===========>..................] - ETA: 6s - loss: 1.5716e-06"
     ]
    },
    {
     "name": "stderr",
     "output_type": "stream",
     "text": [
      "C:\\Users\\User\\.conda\\envs\\theano_v1\\lib\\site-packages\\keras\\callbacks\\callbacks.py:95: RuntimeWarning: Method (on_train_batch_end) is slow compared to the batch update (0.103249). Check your callbacks.\n",
      "  % (hook_name, delta_t_median), RuntimeWarning)\n"
     ]
    },
    {
     "name": "stdout",
     "output_type": "stream",
     "text": [
      "87006/87006 [==============================] - 11s 132us/step - loss: 1.5510e-062s - loss: 1\n",
      "Epoch 1450/3000\n",
      "87006/87006 [==============================] - 5s 62us/step - loss: 1.5465e-06\n",
      "Epoch 1451/3000\n",
      "87006/87006 [==============================] - 6s 66us/step - loss: 1.5485e-06: 4s - ETA: 3s -\n",
      "Epoch 1452/3000\n",
      "87006/87006 [==============================] - 8s 92us/step - loss: 1.5434e-06\n",
      "Epoch 1453/3000\n",
      "87006/87006 [==============================] - 9s 104us/step - loss: 1.5449e-06\n",
      "Epoch 1454/3000\n",
      "87006/87006 [==============================] - 8s 96us/step - loss: 1.5453e-06: - ETA: 0s - loss\n",
      "Epoch 1455/3000\n",
      "87006/87006 [==============================] - 7s 76us/step - loss: 1.5364e-06\n",
      "Epoch 1456/3000\n",
      "87006/87006 [==============================] - 7s 82us/step - loss: 1.5419e-06\n",
      "Epoch 1457/3000\n",
      "87006/87006 [==============================] - 8s 87us/step - loss: 1.5458e-06\n",
      "Epoch 1458/3000\n",
      "87006/87006 [==============================] - 6s 73us/step - loss: 1.5477e-06\n",
      "Epoch 1459/3000\n",
      "87006/87006 [==============================] - 6s 70us/step - loss: 1.5383e-06\n",
      "Epoch 1460/3000\n",
      "87006/87006 [==============================] - 10s 119us/step - loss: 1.5436e-062s - lo - ETA: 1s - loss: 1.5525e-0 - ETA\n",
      "Epoch 1461/3000\n",
      "87006/87006 [==============================] - 8s 92us/step - loss: 1.5375e-06: 0s - loss: \n",
      "Epoch 1462/3000\n",
      "87006/87006 [==============================] - 8s 92us/step - loss: 1.5507e-06: 4s - lo - E - ETA: 4s - loss: 1 - ETA: 3s - loss: 1. - ETA: 0s - loss: 1.550\n",
      "Epoch 1463/3000\n",
      "87006/87006 [==============================] - 7s 81us/step - loss: 1.5404e-06\n",
      "Epoch 1464/3000\n",
      "87006/87006 [==============================] - 7s 77us/step - loss: 1.5363e-06: 3s - l - ETA: 2s - loss:  - ETA: 1s - \n",
      "Epoch 1465/3000\n",
      "87006/87006 [==============================] - 7s 85us/step - loss: 1.5409e-06\n",
      "Epoch 1466/3000\n",
      "87006/87006 [==============================] - 5s 61us/step - loss: 1.5426e-06: 1s\n",
      "Epoch 1467/3000\n",
      "87006/87006 [==============================] - 7s 84us/step - loss: 1.5500e-06: 0s - loss: 1.5503e-\n",
      "Epoch 1468/3000\n",
      "87006/87006 [==============================] - 6s 67us/step - loss: 1.5447e-06: 0s - loss: \n",
      "Epoch 1469/3000\n",
      "87006/87006 [==============================] - 6s 66us/step - loss: 1.5449e-06\n",
      "Epoch 1470/3000\n",
      "87006/87006 [==============================] - ETA: 0s - loss: 1.5422e-06- ETA: 2s - - ETA: 1s - loss: - ETA: 0s - loss:  - 7s 75us/step - loss: 1.5422e-06\n",
      "Epoch 1471/3000\n",
      "87006/87006 [==============================] - 6s 72us/step - loss: 1.5399e-06: 1s - loss: 1. - ETA: 0s \n",
      "Epoch 1472/3000\n",
      "87006/87006 [==============================] - 6s 69us/step - loss: 1.5505e-06: 0s - loss: \n",
      "Epoch 1473/3000\n",
      "87006/87006 [==============================] - 5s 59us/step - loss: 1.5395e-06\n",
      "Epoch 1474/3000\n",
      "87006/87006 [==============================] - 8s 88us/step - loss: 1.5405e-06\n",
      "Epoch 1475/3000\n",
      "87006/87006 [==============================] - 3s 38us/step - loss: 1.5461e-06\n",
      "Epoch 1476/3000\n",
      "87006/87006 [==============================] - 6s 68us/step - loss: 1.5443e-06: 4s - l\n",
      "Epoch 1477/3000\n",
      "87006/87006 [==============================] - 7s 84us/step - loss: 1.5467e-06: 2s - loss: 1.5 - ETA: 0s - loss: \n",
      "Epoch 1478/3000\n",
      "87006/87006 [==============================] - 10s 113us/step - loss: 1.5434e-0612s - loss: 1.250 - ETA: 8s -  - ETA: 3s -  \n",
      "Epoch 1479/3000\n",
      "87006/87006 [==============================] - 9s 107us/step - loss: 1.5415e-06 3s - loss: 1.5 - ETA: 0s - loss: 1.5\n",
      "Epoch 1480/3000\n",
      "87006/87006 [==============================] - 10s 117us/step - loss: 1.5433e-06\n",
      "Epoch 1481/3000\n",
      "87006/87006 [==============================] - 10s 118us/step - loss: 1.5455e-060s - loss: 1.5455e-0\n",
      "Epoch 1482/3000\n",
      "87006/87006 [==============================] - 7s 83us/step - loss: 1.5465e-06\n",
      "Epoch 1483/3000\n",
      "87006/87006 [==============================] - 8s 94us/step - loss: 1.5428e-06\n",
      "Epoch 1484/3000\n",
      "87006/87006 [==============================] - 7s 78us/step - loss: 1.5412e-06: 1s - loss: 1. - ETA: 0s - loss: - ETA: 0s - loss: 1.5129e\n",
      "Epoch 1485/3000\n",
      "87006/87006 [==============================] - 5s 57us/step - loss: 1.5439e-06: 0s - loss: 1.5446e\n",
      "Epoch 1486/3000\n",
      "87006/87006 [==============================] - 7s 79us/step - loss: 1.5442e-06\n",
      "Epoch 1487/3000\n",
      "87006/87006 [==============================] - 7s 75us/step - loss: 1.5434e-06: 1s - \n",
      "Epoch 1488/3000\n",
      "87006/87006 [==============================] - 7s 85us/step - loss: 1.5535e-06: 3s - loss: 1. - ETA:\n",
      "Epoch 1489/3000\n",
      "87006/87006 [==============================] - 7s 77us/step - loss: 1.5388e-06 ETA: 0s - loss: 1.5\n",
      "Epoch 1490/3000\n",
      "87006/87006 [==============================] - 6s 67us/step - loss: 1.5390e-06: 2s - loss: 1.6 - E - ETA: 0s - loss: 1.5 - ETA: 0s - l\n",
      "Epoch 1491/3000\n",
      "87006/87006 [==============================] - 6s 67us/step - loss: 1.5425e-06\n",
      "Epoch 1492/3000\n",
      "87006/87006 [==============================] - 9s 104us/step - loss: 1.5440e-06 1s - loss:\n",
      "Epoch 1493/3000\n",
      "87006/87006 [==============================] - 6s 70us/step - loss: 1.5486e-06\n",
      "Epoch 1494/3000\n",
      "87006/87006 [==============================] - 5s 59us/step - loss: 1.5469e-06\n",
      "Epoch 1495/3000\n",
      "87006/87006 [==============================] - 6s 74us/step - loss: 1.5380e-06\n",
      "Epoch 1496/3000\n",
      "87006/87006 [==============================] - 7s 79us/step - loss: 1.5399e-06\n",
      "Epoch 1497/3000\n",
      "87006/87006 [==============================] - 9s 104us/step - loss: 1.5391e-06 4s - loss: 1.5711e - ETA: 4s - l\n",
      "Epoch 1498/3000\n",
      "87006/87006 [==============================] - 8s 96us/step - loss: 1.5392e-06- ETA:\n",
      "Epoch 1499/3000\n",
      "87006/87006 [==============================] - 8s 90us/step - loss: 1.5424e-06: 0s - loss:  - ETA: 0s - loss: 1.\n",
      "Epoch 1500/3000\n",
      "87006/87006 [==============================] - 8s 88us/step - loss: 1.5471e-06 - val_loss: 1.7940e-06\n",
      "Epoch 1501/3000\n",
      "87006/87006 [==============================] - 7s 86us/step - loss: 1.5394e-06: - ETA: 0s - loss: 1.5391e\n",
      "Epoch 1502/3000\n",
      "87006/87006 [==============================] - 8s 95us/step - loss: 1.5419e-06:  - ETA: 3s \n",
      "Epoch 1503/3000\n",
      "87006/87006 [==============================] - 10s 114us/step - loss: 1.5427e-06\n",
      "Epoch 1504/3000\n",
      "87006/87006 [==============================] - 7s 86us/step - loss: 1.5415e-06: 0s - loss: 1.\n",
      "Epoch 1505/3000\n",
      "87006/87006 [==============================] - 9s 103us/step - loss: 1.5422e-06\n",
      "Epoch 1506/3000\n",
      "87006/87006 [==============================] - 8s 94us/step - loss: 1.5447e-06\n",
      "Epoch 1507/3000\n",
      "87006/87006 [==============================] - 10s 120us/step - loss: 1.5512e-06\n",
      "Epoch 1508/3000\n",
      "87006/87006 [==============================] - ETA: 0s - loss: 1.5420e-0 - 10s 111us/step - loss: 1.5413e-06\n",
      "Epoch 1509/3000\n",
      "87006/87006 [==============================] - 10s 114us/step - loss: 1.5407e-060s\n",
      "Epoch 1510/3000\n",
      "87006/87006 [==============================] - 7s 80us/step - loss: 1.5486e-06: 0s - loss\n",
      "Epoch 1511/3000\n",
      "87006/87006 [==============================] - 10s 112us/step - loss: 1.5419e-06\n",
      "Epoch 1512/3000\n",
      "87006/87006 [==============================] - 8s 96us/step - loss: 1.5474e-06: 5s - l - ETA: 1s - loss: 1. - ETA: 1s - los\n",
      "Epoch 1513/3000\n",
      "87006/87006 [==============================] - 8s 90us/step - loss: 1.5587e-06\n",
      "Epoch 1514/3000\n",
      "87006/87006 [==============================] - 10s 109us/step - loss: 1.5377e-06\n",
      "Epoch 1515/3000\n",
      "87006/87006 [==============================] - 9s 109us/step - loss: 1.5412e-06\n",
      "Epoch 1516/3000\n",
      "87006/87006 [==============================] - 12s 137us/step - loss: 1.5461e-061s -\n",
      "Epoch 1517/3000\n",
      "87006/87006 [==============================] - 13s 145us/step - loss: 1.5363e-065s - loss: 1 - ETA: 4s - loss: 1.486 - ET - ETA: 2s - ETA: 0s - loss: 1.5137e - ETA: 0s - loss: 1.5279\n",
      "Epoch 1518/3000\n",
      "87006/87006 [==============================] - 4s 50us/step - loss: 1.5444e-06\n",
      "Epoch 1519/3000\n",
      "87006/87006 [==============================] - 9s 105us/step - loss: 1.5444e-06\n",
      "Epoch 1520/3000\n",
      "87006/87006 [==============================] - 7s 80us/step - loss: 1.5375e-06\n",
      "Epoch 1521/3000\n",
      "87006/87006 [==============================] - 9s 101us/step - loss: 1.5559e-06 4s - - ETA: 0s - loss: 1.54\n",
      "Epoch 1522/3000\n",
      "87006/87006 [==============================] - 9s 104us/step - loss: 1.5400e-06\n",
      "Epoch 1523/3000\n",
      "87006/87006 [==============================] - 6s 73us/step - loss: 1.5403e-06\n",
      "Epoch 1524/3000\n",
      "87006/87006 [==============================] - 7s 79us/step - loss: 1.5374e-06\n",
      "Epoch 1525/3000\n",
      "87006/87006 [==============================] - 7s 83us/step - loss: 1.5342e-06: 0s - lo\n",
      "Epoch 1526/3000\n",
      "87006/87006 [==============================] - 5s 58us/step - loss: 1.5388e-06\n",
      "Epoch 1527/3000\n",
      "87006/87006 [==============================] - 8s 89us/step - loss: 1.5464e-06\n",
      "Epoch 1528/3000\n",
      "87006/87006 [==============================] - 6s 71us/step - loss: 1.5498e-06: 1s - loss: 1 - ETA: 0s - loss\n",
      "Epoch 1529/3000\n",
      "87006/87006 [==============================] - 7s 80us/step - loss: 1.5391e-06: 0s - loss: 1.542\n",
      "Epoch 1530/3000\n",
      "28200/87006 [========>.....................] - ETA: 6s - loss: 1.5526e-06"
     ]
    },
    {
     "name": "stderr",
     "output_type": "stream",
     "text": [
      "C:\\Users\\User\\.conda\\envs\\theano_v1\\lib\\site-packages\\keras\\callbacks\\callbacks.py:95: RuntimeWarning: Method (on_train_batch_end) is slow compared to the batch update (0.102093). Check your callbacks.\n",
      "  % (hook_name, delta_t_median), RuntimeWarning)\n",
      "C:\\Users\\User\\.conda\\envs\\theano_v1\\lib\\site-packages\\keras\\callbacks\\callbacks.py:95: RuntimeWarning: Method (on_train_batch_end) is slow compared to the batch update (0.113657). Check your callbacks.\n",
      "  % (hook_name, delta_t_median), RuntimeWarning)\n"
     ]
    },
    {
     "name": "stdout",
     "output_type": "stream",
     "text": [
      "29400/87006 [=========>....................] - ETA: 7s - loss: 1.5518e-06"
     ]
    },
    {
     "name": "stderr",
     "output_type": "stream",
     "text": [
      "C:\\Users\\User\\.conda\\envs\\theano_v1\\lib\\site-packages\\keras\\callbacks\\callbacks.py:95: RuntimeWarning: Method (on_train_batch_end) is slow compared to the batch update (0.119942). Check your callbacks.\n",
      "  % (hook_name, delta_t_median), RuntimeWarning)\n",
      "C:\\Users\\User\\.conda\\envs\\theano_v1\\lib\\site-packages\\keras\\callbacks\\callbacks.py:95: RuntimeWarning: Method (on_train_batch_end) is slow compared to the batch update (0.117810). Check your callbacks.\n",
      "  % (hook_name, delta_t_median), RuntimeWarning)\n"
     ]
    },
    {
     "name": "stdout",
     "output_type": "stream",
     "text": [
      "30600/87006 [=========>....................] - ETA: 8s - loss: 1.5508e-06"
     ]
    },
    {
     "name": "stderr",
     "output_type": "stream",
     "text": [
      "C:\\Users\\User\\.conda\\envs\\theano_v1\\lib\\site-packages\\keras\\callbacks\\callbacks.py:95: RuntimeWarning: Method (on_train_batch_end) is slow compared to the batch update (0.111899). Check your callbacks.\n",
      "  % (hook_name, delta_t_median), RuntimeWarning)\n",
      "C:\\Users\\User\\.conda\\envs\\theano_v1\\lib\\site-packages\\keras\\callbacks\\callbacks.py:95: RuntimeWarning: Method (on_train_batch_end) is slow compared to the batch update (0.106844). Check your callbacks.\n",
      "  % (hook_name, delta_t_median), RuntimeWarning)\n",
      "C:\\Users\\User\\.conda\\envs\\theano_v1\\lib\\site-packages\\keras\\callbacks\\callbacks.py:95: RuntimeWarning: Method (on_train_batch_end) is slow compared to the batch update (0.103507). Check your callbacks.\n",
      "  % (hook_name, delta_t_median), RuntimeWarning)\n"
     ]
    },
    {
     "name": "stdout",
     "output_type": "stream",
     "text": [
      "87006/87006 [==============================] - 9s 100us/step - loss: 1.5488e-06\n",
      "Epoch 1531/3000\n",
      "87006/87006 [==============================] - 8s 93us/step - loss: 1.5428e-06\n",
      "Epoch 1532/3000\n",
      "87006/87006 [==============================] - 8s 93us/step - loss: 1.5451e-06\n",
      "Epoch 1533/3000\n",
      "87006/87006 [==============================] - ETA: 0s - loss: 1.5402e-0 - 7s 77us/step - loss: 1.5404e-06\n",
      "Epoch 1534/3000\n",
      "87006/87006 [==============================] - 7s 78us/step - loss: 1.5386e-06\n",
      "Epoch 1535/3000\n",
      "87006/87006 [==============================] - 7s 80us/step - loss: 1.5518e-06\n",
      "Epoch 1536/3000\n",
      "87006/87006 [==============================] - 4s 46us/step - loss: 1.5475e-06\n",
      "Epoch 1537/3000\n",
      "87006/87006 [==============================] - 5s 56us/step - loss: 1.5417e-06\n",
      "Epoch 1538/3000\n",
      "87006/87006 [==============================] - 7s 85us/step - loss: 1.5399e-06\n",
      "Epoch 1539/3000\n",
      "87006/87006 [==============================] - 4s 43us/step - loss: 1.5454e-06\n",
      "Epoch 1540/3000\n",
      "87006/87006 [==============================] - 8s 89us/step - loss: 1.5409e-06: 2s -  - ETA: 0s - loss: 1.\n",
      "Epoch 1541/3000\n",
      "87006/87006 [==============================] - 6s 73us/step - loss: 1.5398e-06: 0s - loss: 1.5383e-\n",
      "Epoch 1542/3000\n",
      "87006/87006 [==============================] - 6s 72us/step - loss: 1.5412e-06\n",
      "Epoch 1543/3000\n",
      "87006/87006 [==============================] - 6s 64us/step - loss: 1.5377e-06\n",
      "Epoch 1544/3000\n",
      "87006/87006 [==============================] - 6s 75us/step - loss: 1.5449e-06: 2s - loss: 1.5 - ETA: 2s - loss: 1.5481e- - ETA: 2s - loss - ETA: 2s  - ETA\n",
      "Epoch 1545/3000\n",
      "87006/87006 [==============================] - 7s 86us/step - loss: 1.5377e-06\n",
      "Epoch 1546/3000\n",
      "87006/87006 [==============================] - 8s 95us/step - loss: 1.5494e-06\n",
      "Epoch 1547/3000\n",
      "87006/87006 [==============================] - 7s 79us/step - loss: 1.5372e-06: 1s - \n",
      "Epoch 1548/3000\n",
      "87006/87006 [==============================] - 4s 51us/step - loss: 1.5420e-06\n",
      "Epoch 1549/3000\n",
      "87006/87006 [==============================] - 6s 67us/step - loss: 1.5475e-06\n",
      "Epoch 1550/3000\n",
      "87006/87006 [==============================] - 10s 112us/step - loss: 1.5379e-061\n",
      "Epoch 1551/3000\n",
      "87006/87006 [==============================] - 9s 104us/step - loss: 1.5366e-06 6s - los - ETA: 5s - lo - ETA: 1s - - ETA: 1s\n",
      "Epoch 1552/3000\n",
      "87006/87006 [==============================] - 9s 100us/step - loss: 1.5390e-06 1\n",
      "Epoch 1553/3000\n",
      "87006/87006 [==============================] - 5s 56us/step - loss: 1.5580e-06\n",
      "Epoch 1554/3000\n",
      "87006/87006 [==============================] - 7s 86us/step - loss: 1.5394e-06\n",
      "Epoch 1555/3000\n",
      "87006/87006 [==============================] - 6s 67us/step - loss: 1.5469e-06\n",
      "Epoch 1556/3000\n",
      "87006/87006 [==============================] - 8s 90us/step - loss: 1.5495e-06\n",
      "Epoch 1557/3000\n",
      "87006/87006 [==============================] - 8s 87us/step - loss: 1.5468e-06\n",
      "Epoch 1558/3000\n",
      "87006/87006 [==============================] - 8s 91us/step - loss: 1.5478e-06: 0s - loss: \n",
      "Epoch 1559/3000\n",
      "87006/87006 [==============================] - 6s 72us/step - loss: 1.5446e-06\n",
      "Epoch 1560/3000\n",
      "87006/87006 [==============================] - 9s 100us/step - loss: 1.5412e-06\n",
      "Epoch 1561/3000\n",
      "87006/87006 [==============================] - 7s 76us/step - loss: 1.5393e-06: 0s - loss: 1.5393e-0\n",
      "Epoch 1562/3000\n",
      "87006/87006 [==============================] - 10s 119us/step - loss: 1.5459e-06\n",
      "Epoch 1563/3000\n",
      "87006/87006 [==============================] - 9s 106us/step - loss: 1.5359e-06\n",
      "Epoch 1564/3000\n",
      "87006/87006 [==============================] - 9s 100us/step - loss: 1.5419e-06\n",
      "Epoch 1565/3000\n",
      "87006/87006 [==============================] - 10s 112us/step - loss: 1.5365e-06 - ETA\n",
      "Epoch 1566/3000\n",
      "87006/87006 [==============================] - 8s 94us/step - loss: 1.5402e-06\n",
      "Epoch 1567/3000\n",
      "87006/87006 [==============================] - 6s 72us/step - loss: 1.5453e-06: \n",
      "Epoch 1568/3000\n",
      "87006/87006 [==============================] - 9s 108us/step - loss: 1.5428e-06ETA: 7s - loss: 1.444 - ETA: 1s - \n",
      "Epoch 1569/3000\n",
      "87006/87006 [==============================] - 7s 84us/step - loss: 1.5446e-06\n",
      "Epoch 1570/3000\n",
      "87006/87006 [==============================] - 11s 131us/step - loss: 1.5362e-064s - lo -  - ETA: 1s - l\n",
      "Epoch 1571/3000\n",
      "87006/87006 [==============================] - 8s 93us/step - loss: 1.5505e-06: 0s - loss:\n",
      "Epoch 1572/3000\n",
      "87006/87006 [==============================] - 9s 108us/step - loss: 1.5449e-06\n",
      "Epoch 1573/3000\n",
      "87006/87006 [==============================] - 9s 98us/step - loss: 1.5423e-06: 6s - loss: 1.5870e-0 - ETA: 6 - ETA: 1\n",
      "Epoch 1574/3000\n",
      "87006/87006 [==============================] - 7s 84us/step - loss: 1.5399e-06: 0s - loss: 1.5431e- - ETA: 0s - loss: 1.5399\n",
      "Epoch 1575/3000\n",
      "87006/87006 [==============================] - 8s 97us/step - loss: 1.5375e-06\n",
      "Epoch 1576/3000\n",
      "87006/87006 [==============================] - 8s 92us/step - loss: 1.5444e-06\n",
      "Epoch 1577/3000\n",
      "87006/87006 [==============================] - 7s 82us/step - loss: 1.5484e-06\n",
      "Epoch 1578/3000\n",
      "87006/87006 [==============================] - 9s 104us/step - loss: 1.5421e-06\n",
      "Epoch 1579/3000\n",
      "  900/87006 [..............................] - ETA: 27s - loss: 1.7661e-06"
     ]
    },
    {
     "name": "stderr",
     "output_type": "stream",
     "text": [
      "C:\\Users\\User\\.conda\\envs\\theano_v1\\lib\\site-packages\\keras\\callbacks\\callbacks.py:95: RuntimeWarning: Method (on_train_batch_end) is slow compared to the batch update (0.104240). Check your callbacks.\n",
      "  % (hook_name, delta_t_median), RuntimeWarning)\n"
     ]
    },
    {
     "name": "stdout",
     "output_type": "stream",
     "text": [
      "87006/87006 [==============================] - 8s 86us/step - loss: 1.5430e-06A: 8s - loss - ETA: 1s - l\n",
      "Epoch 1580/3000\n",
      "87006/87006 [==============================] - 5s 61us/step - loss: 1.5479e-06\n",
      "Epoch 1581/3000\n",
      "87006/87006 [==============================] - 6s 69us/step - loss: 1.5390e-06\n",
      "Epoch 1582/3000\n",
      "87006/87006 [==============================] - 7s 78us/step - loss: 1.5395e-06: 1s - loss: \n",
      "Epoch 1583/3000\n",
      "87006/87006 [==============================] - 7s 82us/step - loss: 1.5379e-06: 3s - - ETA: 2s - los - ETA:  - ETA: 0s - loss:\n",
      "Epoch 1584/3000\n",
      "87006/87006 [==============================] - 5s 61us/step - loss: 1.5375e-06: 2s - loss: 1. - ETA: 1s - loss: 1.5008 - ETA: 1\n",
      "Epoch 1585/3000\n",
      "87006/87006 [==============================] - 9s 106us/step - loss: 1.5446e-06 1s - loss: 1.\n",
      "Epoch 1586/3000\n",
      "87006/87006 [==============================] - 8s 92us/step - loss: 1.5441e-06\n",
      "Epoch 1587/3000\n",
      "87006/87006 [==============================] - 8s 88us/step - loss: 1.5427e-06TA: 1s - loss: 1.5598e\n",
      "Epoch 1588/3000\n",
      "87006/87006 [==============================] - 8s 94us/step - loss: 1.5449e-06\n",
      "Epoch 1589/3000\n",
      "87006/87006 [==============================] - 8s 88us/step - loss: 1.5382e-06\n",
      "Epoch 1590/3000\n",
      "87006/87006 [==============================] - 7s 80us/step - loss: 1.5472e-06\n",
      "Epoch 1591/3000\n",
      "87006/87006 [==============================] - 6s 65us/step - loss: 1.5413e-06: 1s - ETA: 0s - loss:\n",
      "Epoch 1592/3000\n",
      "87006/87006 [==============================] - 8s 94us/step - loss: 1.5434e-06 - ETA: 0s - los\n",
      "Epoch 1593/3000\n",
      "87006/87006 [==============================] - 7s 76us/step - loss: 1.5427e-06:  - ETA: 0s - loss: 1. - ETA: 0s - loss: 1.542\n",
      "Epoch 1594/3000\n",
      "87006/87006 [==============================] - 7s 79us/step - loss: 1.5449e-06: 1s - loss: 1.51\n",
      "Epoch 1595/3000\n",
      "87006/87006 [==============================] - 7s 79us/step - loss: 1.5449e-06: 6s  - ETA: 5 - ETA: 0s - \n",
      "Epoch 1596/3000\n",
      "87006/87006 [==============================] - 8s 93us/step - loss: 1.5422e-06\n",
      "Epoch 1597/3000\n",
      "87006/87006 [==============================] - 9s 104us/step - loss: 1.5497e-06 4s - loss: 1\n",
      "Epoch 1598/3000\n",
      "87006/87006 [==============================] - 10s 115us/step - loss: 1.5446e-06\n",
      "Epoch 1599/3000\n",
      "87006/87006 [==============================] - 7s 78us/step - loss: 1.5387e-06: 0s - los\n",
      "Epoch 1600/3000\n",
      "87006/87006 [==============================] - 9s 99us/step - loss: 1.5405e-06 - val_loss: 1.9120e-06\n",
      "Epoch 1601/3000\n",
      "87006/87006 [==============================] - 7s 85us/step - loss: 1.5434e-06: 1s - l\n",
      "Epoch 1602/3000\n",
      "87006/87006 [==============================] - 7s 77us/step - loss: 1.5540e-06: 0s - loss:\n",
      "Epoch 1603/3000\n",
      "87006/87006 [==============================] - 6s 72us/step - loss: 1.5417e-06: 2s - - ETA: 1s - loss: 1.5600e- - ETA: 1s - loss: - ETA: 1s - l\n",
      "Epoch 1604/3000\n",
      "87006/87006 [==============================] - 9s 102us/step - loss: 1.5420e-06\n",
      "Epoch 1605/3000\n",
      "87006/87006 [==============================] - 8s 92us/step - loss: 1.5417e-06\n",
      "Epoch 1606/3000\n",
      "87006/87006 [==============================] - 10s 115us/step - loss: 1.5399e-063s - - ETA: 1s - loss: 1. - ETA: 0s - loss: 1.54\n",
      "Epoch 1607/3000\n",
      "87006/87006 [==============================] - 9s 105us/step - loss: 1.5375e-06\n",
      "Epoch 1608/3000\n",
      "57000/87006 [==================>...........] - ETA: 2s - loss: 1.5240e-06"
     ]
    },
    {
     "name": "stderr",
     "output_type": "stream",
     "text": [
      "C:\\Users\\User\\.conda\\envs\\theano_v1\\lib\\site-packages\\keras\\callbacks\\callbacks.py:95: RuntimeWarning: Method (on_train_batch_end) is slow compared to the batch update (0.116952). Check your callbacks.\n",
      "  % (hook_name, delta_t_median), RuntimeWarning)\n"
     ]
    },
    {
     "name": "stdout",
     "output_type": "stream",
     "text": [
      "87006/87006 [==============================] - 8s 92us/step - loss: 1.5436e-06\n",
      "Epoch 1609/3000\n",
      "87006/87006 [==============================] - 8s 93us/step - loss: 1.5400e-06\n",
      "Epoch 1610/3000\n",
      "87006/87006 [==============================] - 6s 73us/step - loss: 1.5557e-06: 2s - loss:  - ET - ETA: 0s - loss: 1.5561e-\n",
      "Epoch 1611/3000\n",
      "87006/87006 [==============================] - 7s 80us/step - loss: 1.5468e-06: 1s -  - ETA: 0s - loss: 1.5 - ETA: 0s - loss: 1.5469e-0\n",
      "Epoch 1612/3000\n",
      "87006/87006 [==============================] - 7s 84us/step - loss: 1.5343e-06: 0s - loss: 1.5307e- - ETA: 0s - loss: 1.5305e - ETA: 0s - l\n",
      "Epoch 1613/3000\n",
      "87006/87006 [==============================] - 8s 92us/step - loss: 1.5377e-06\n",
      "Epoch 1614/3000\n",
      "87006/87006 [==============================] - 8s 90us/step - loss: 1.5451e-06\n",
      "Epoch 1615/3000\n",
      "87006/87006 [==============================] - 6s 70us/step - loss: 1.5419e-06\n",
      "Epoch 1616/3000\n",
      "87006/87006 [==============================] - 6s 74us/step - loss: 1.5498e-06\n",
      "Epoch 1617/3000\n",
      "87006/87006 [==============================] - 6s 72us/step - loss: 1.5402e-06: \n",
      "Epoch 1618/3000\n",
      "87006/87006 [==============================] - 8s 91us/step - loss: 1.5404e-06: 2s - loss: 1 -\n",
      "Epoch 1619/3000\n",
      "87006/87006 [==============================] - 9s 100us/step - loss: 1.5499e-06\n",
      "Epoch 1620/3000\n",
      "87006/87006 [==============================] - 7s 80us/step - loss: 1.5389e-06\n",
      "Epoch 1621/3000\n",
      "87006/87006 [==============================] - 8s 87us/step - loss: 1.5355e-06\n",
      "Epoch 1622/3000\n",
      "87006/87006 [==============================] - 5s 62us/step - loss: 1.5411e-06\n",
      "Epoch 1623/3000\n",
      "87006/87006 [==============================] - 7s 85us/step - loss: 1.5474e-06: 1s - loss: 1.5664e- - ETA: 1s -\n",
      "Epoch 1624/3000\n",
      "87006/87006 [==============================] - 9s 103us/step - loss: 1.5357e-06 1s - lo\n",
      "Epoch 1625/3000\n",
      "87006/87006 [==============================] - 7s 85us/step - loss: 1.5398e-06\n",
      "Epoch 1626/3000\n",
      "87006/87006 [==============================] - 7s 77us/step - loss: 1.5441e-06\n",
      "Epoch 1627/3000\n",
      "87006/87006 [==============================] - 6s 74us/step - loss: 1.5390e-06: 2s - los - ETA: 1s - loss: 1.5\n",
      "Epoch 1628/3000\n",
      "87006/87006 [==============================] - 8s 90us/step - loss: 1.5380e-06\n",
      "Epoch 1629/3000\n",
      "87006/87006 [==============================] - 6s 71us/step - loss: 1.5360e-06\n",
      "Epoch 1630/3000\n",
      "87006/87006 [==============================] - 6s 72us/step - loss: 1.5422e-06\n",
      "Epoch 1631/3000\n",
      "87006/87006 [==============================] - 5s 54us/step - loss: 1.5327e-06\n",
      "Epoch 1632/3000\n",
      " 3600/87006 [>.............................] - ETA: 7s - loss: 1.5256e-06 "
     ]
    },
    {
     "name": "stderr",
     "output_type": "stream",
     "text": [
      "C:\\Users\\User\\.conda\\envs\\theano_v1\\lib\\site-packages\\keras\\callbacks\\callbacks.py:95: RuntimeWarning: Method (on_train_batch_end) is slow compared to the batch update (0.138066). Check your callbacks.\n",
      "  % (hook_name, delta_t_median), RuntimeWarning)\n"
     ]
    },
    {
     "name": "stdout",
     "output_type": "stream",
     "text": [
      "87006/87006 [==============================] - 8s 92us/step - loss: 1.5424e-06\n",
      "Epoch 1633/3000\n",
      "87006/87006 [==============================] - 7s 78us/step - loss: 1.5474e-06\n",
      "Epoch 1634/3000\n",
      "87006/87006 [==============================] - 7s 80us/step - loss: 1.5432e-06: 0s - loss: 1.5433e-0\n",
      "Epoch 1635/3000\n",
      "87006/87006 [==============================] - 7s 79us/step - loss: 1.5342e-06\n",
      "Epoch 1636/3000\n",
      "87006/87006 [==============================] - 8s 93us/step - loss: 1.5388e-06\n",
      "Epoch 1637/3000\n",
      "87006/87006 [==============================] - 7s 83us/step - loss: 1.5357e-06\n",
      "Epoch 1638/3000\n",
      "87006/87006 [==============================] - 9s 98us/step - loss: 1.5374e-06\n",
      "Epoch 1639/3000\n",
      "87006/87006 [==============================] - 7s 76us/step - loss: 1.5439e-06\n",
      "Epoch 1640/3000\n",
      "87006/87006 [==============================] - 6s 65us/step - loss: 1.5349e-06\n",
      "Epoch 1641/3000\n",
      "87006/87006 [==============================] - 6s 74us/step - loss: 1.5435e-06\n",
      "Epoch 1642/3000\n",
      "87006/87006 [==============================] - 9s 102us/step - loss: 1.5385e-06 3s - loss: 1.51\n",
      "Epoch 1643/3000\n",
      "87006/87006 [==============================] - 7s 84us/step - loss: 1.5418e-06\n",
      "Epoch 1644/3000\n",
      "87006/87006 [==============================] - 5s 57us/step - loss: 1.5374e-06\n",
      "Epoch 1645/3000\n",
      "87006/87006 [==============================] - 10s 114us/step - loss: 1.5419e-06\n",
      "Epoch 1646/3000\n",
      "87006/87006 [==============================] - 4s 49us/step - loss: 1.5435e-06\n",
      "Epoch 1647/3000\n",
      "87006/87006 [==============================] - 6s 64us/step - loss: 1.5451e-06\n",
      "Epoch 1648/3000\n",
      "87006/87006 [==============================] - 5s 60us/step - loss: 1.5389e-06\n",
      "Epoch 1649/3000\n",
      "87006/87006 [==============================] - 8s 87us/step - loss: 1.5361e-06\n",
      "Epoch 1650/3000\n",
      "87006/87006 [==============================] - 7s 76us/step - loss: 1.5431e-06: 0s - loss: 1.5444e-0\n",
      "Epoch 1651/3000\n",
      "87006/87006 [==============================] - 8s 95us/step - loss: 1.5438e-06\n",
      "Epoch 1652/3000\n",
      "87006/87006 [==============================] - 5s 60us/step - loss: 1.5406e-06\n",
      "Epoch 1653/3000\n",
      "87006/87006 [==============================] - 6s 66us/step - loss: 1.5365e-06\n",
      "Epoch 1654/3000\n",
      "87006/87006 [==============================] - 7s 77us/step - loss: 1.5366e-06: 1 - ETA: 0s - loss: 1.5\n",
      "Epoch 1655/3000\n",
      "87006/87006 [==============================] - 7s 80us/step - loss: 1.5453e-06\n",
      "Epoch 1656/3000\n",
      "87006/87006 [==============================] - 8s 91us/step - loss: 1.5415e-06: 0s\n",
      "Epoch 1657/3000\n",
      "87006/87006 [==============================] - 8s 89us/step - loss: 1.5388e-06: 1s - loss: 1.\n",
      "Epoch 1658/3000\n",
      "87006/87006 [==============================] - 8s 90us/step - loss: 1.5423e-06: 0s - loss: 1.5457e-\n",
      "Epoch 1659/3000\n",
      "87006/87006 [==============================] - 8s 97us/step - loss: 1.5412e-06\n",
      "Epoch 1660/3000\n",
      "87006/87006 [==============================] - 6s 70us/step - loss: 1.5391e-06- E - ETA: 1s - l\n",
      "Epoch 1661/3000\n",
      "87006/87006 [==============================] - 5s 61us/step - loss: 1.5396e-06\n",
      "Epoch 1662/3000\n",
      "87006/87006 [==============================] - 11s 129us/step - loss: 1.5405e-06\n",
      "Epoch 1663/3000\n",
      "87006/87006 [==============================] - 5s 62us/step - loss: 1.5388e-06\n",
      "Epoch 1664/3000\n",
      "87006/87006 [==============================] - 6s 71us/step - loss: 1.5351e-06: 3s - - ETA: 1s\n",
      "Epoch 1665/3000\n",
      "87006/87006 [==============================] - 5s 62us/step - loss: 1.5410e-06: 0s - lo\n",
      "Epoch 1666/3000\n",
      "87006/87006 [==============================] - 7s 78us/step - loss: 1.5436e-06: 0s - loss\n",
      "Epoch 1667/3000\n",
      "87006/87006 [==============================] - 7s 79us/step - loss: 1.5380e-06: 4s - loss: 1 - \n",
      "Epoch 1668/3000\n",
      "87006/87006 [==============================] - 8s 88us/step - loss: 1.5384e-06\n",
      "Epoch 1669/3000\n",
      "87006/87006 [==============================] - 5s 53us/step - loss: 1.5401e-06\n",
      "Epoch 1670/3000\n",
      "87006/87006 [==============================] - 6s 67us/step - loss: 1.5384e-06: 1s - loss: 1. - ETA: 1s \n",
      "Epoch 1671/3000\n",
      "87006/87006 [==============================] - 7s 80us/step - loss: 1.5495e-06\n",
      "Epoch 1672/3000\n",
      "87006/87006 [==============================] - 8s 97us/step - loss: 1.5545e-06: 8s - loss: 1 - ETA: 4s - ETA: \n",
      "Epoch 1673/3000\n",
      "87006/87006 [==============================] - 8s 88us/step - loss: 1.5469e-06\n",
      "Epoch 1674/3000\n",
      "87006/87006 [==============================] - 5s 58us/step - loss: 1.5353e-06\n",
      "Epoch 1675/3000\n",
      "87006/87006 [==============================] - 6s 67us/step - loss: 1.5393e-06\n",
      "Epoch 1676/3000\n",
      "87006/87006 [==============================] - 7s 76us/step - loss: 1.5470e-06: 1s - ETA: 0\n",
      "Epoch 1677/3000\n",
      "87006/87006 [==============================] - 6s 70us/step - loss: 1.5525e-06: 1s - loss: 1.5602 - ETA: 1s - loss: 1. - ETA: 1s - loss: 1.5509e - ETA: 0s - loss: 1. - ETA: 0s - loss: \n",
      "Epoch 1678/3000\n",
      "87006/87006 [==============================] - 9s 105us/step - loss: 1.5412e-06 1s - loss: 1.5070e-0 - ETA: 1s - los\n",
      "Epoch 1679/3000\n",
      "87006/87006 [==============================] - 7s 78us/step - loss: 1.5398e-06\n",
      "Epoch 1680/3000\n",
      "87006/87006 [==============================] - 8s 88us/step - loss: 1.5423e-06: 1\n",
      "Epoch 1681/3000\n",
      "87006/87006 [==============================] - 7s 82us/step - loss: 1.5368e-06: 5s\n",
      "Epoch 1682/3000\n",
      "87006/87006 [==============================] - 4s 51us/step - loss: 1.5334e-06\n",
      "Epoch 1683/3000\n",
      "87006/87006 [==============================] - 5s 56us/step - loss: 1.5502e-06\n",
      "Epoch 1684/3000\n",
      "87006/87006 [==============================] - 6s 69us/step - loss: 1.5431e-06\n",
      "Epoch 1685/3000\n",
      "87006/87006 [==============================] - 7s 85us/step - loss: 1.5527e-06 ETA: 2s  - \n",
      "Epoch 1686/3000\n",
      "87006/87006 [==============================] - 6s 66us/step - loss: 1.5394e-06: 1s - loss: 1.4981e - ETA: 0s - loss: 1.4945e - ETA: 0s - loss: 1.49 - ETA: 0s - loss: 1.5444e\n",
      "Epoch 1687/3000\n",
      "87006/87006 [==============================] - 9s 101us/step - loss: 1.5390e-06 4s - loss: 1. - ETA: 5s - - ETA: 4s - loss: - ETA: 1s -\n",
      "Epoch 1688/3000\n",
      "87006/87006 [==============================] - 10s 110us/step - loss: 1.5573e-060s - loss: 1.5519e - ETA: 0s - los\n",
      "Epoch 1689/3000\n",
      "87006/87006 [==============================] - 10s 114us/step - loss: 1.5346e-06\n",
      "Epoch 1690/3000\n",
      " 1200/87006 [..............................] - ETA: 21s - loss: 1.8269e-06"
     ]
    },
    {
     "name": "stderr",
     "output_type": "stream",
     "text": [
      "C:\\Users\\User\\.conda\\envs\\theano_v1\\lib\\site-packages\\keras\\callbacks\\callbacks.py:95: RuntimeWarning: Method (on_train_batch_end) is slow compared to the batch update (0.101885). Check your callbacks.\n",
      "  % (hook_name, delta_t_median), RuntimeWarning)\n"
     ]
    },
    {
     "name": "stdout",
     "output_type": "stream",
     "text": [
      "87006/87006 [==============================] - 7s 85us/step - loss: 1.5444e-06\n",
      "Epoch 1691/3000\n",
      "87006/87006 [==============================] - 8s 95us/step - loss: 1.5413e-06\n",
      "Epoch 1692/3000\n",
      "87006/87006 [==============================] - 7s 85us/step - loss: 1.5402e-06: 1s - los - ETA: 0s - loss: 1\n",
      "Epoch 1693/3000\n",
      "87006/87006 [==============================] - 7s 75us/step - loss: 1.5413e-06\n",
      "Epoch 1694/3000\n",
      "  600/87006 [..............................] - ETA: 1:01 - loss: 1.5199e-06"
     ]
    },
    {
     "name": "stderr",
     "output_type": "stream",
     "text": [
      "C:\\Users\\User\\.conda\\envs\\theano_v1\\lib\\site-packages\\keras\\callbacks\\callbacks.py:95: RuntimeWarning: Method (on_train_batch_end) is slow compared to the batch update (0.293802). Check your callbacks.\n",
      "  % (hook_name, delta_t_median), RuntimeWarning)\n",
      "C:\\Users\\User\\.conda\\envs\\theano_v1\\lib\\site-packages\\keras\\callbacks\\callbacks.py:95: RuntimeWarning: Method (on_train_batch_end) is slow compared to the batch update (0.162861). Check your callbacks.\n",
      "  % (hook_name, delta_t_median), RuntimeWarning)\n"
     ]
    },
    {
     "name": "stdout",
     "output_type": "stream",
     "text": [
      "87006/87006 [==============================] - 9s 108us/step - loss: 1.5378e-06 1s - lo - ETA: 0s - loss: 1.5384e\n",
      "Epoch 1695/3000\n",
      "87006/87006 [==============================] - 6s 64us/step - loss: 1.5375e-06\n",
      "Epoch 1696/3000\n",
      "87006/87006 [==============================] - 6s 66us/step - loss: 1.5378e-06\n",
      "Epoch 1697/3000\n",
      "87006/87006 [==============================] - 7s 79us/step - loss: 1.5409e-06:\n",
      "Epoch 1698/3000\n",
      "87006/87006 [==============================] - 7s 76us/step - loss: 1.5389e-06: 0s - \n",
      "Epoch 1699/3000\n",
      "87006/87006 [==============================] - 8s 87us/step - loss: 1.5401e-06:  - ETA: 0s - los\n",
      "Epoch 1700/3000\n",
      "87006/87006 [==============================] - 6s 74us/step - loss: 1.5459e-06 - val_loss: 2.0657e-06\n",
      "Epoch 1701/3000\n",
      "87006/87006 [==============================] - 7s 80us/step - loss: 1.5417e-06\n",
      "Epoch 1702/3000\n",
      "87006/87006 [==============================] - 7s 85us/step - loss: 1.5458e-06\n",
      "Epoch 1703/3000\n",
      "87006/87006 [==============================] - 7s 81us/step - loss: 1.5589e-06: 2s - los - ETA: 1s  - ETA: 0s - lo\n",
      "Epoch 1704/3000\n",
      "87006/87006 [==============================] - 9s 107us/step - loss: 1.5352e-06\n",
      "Epoch 1705/3000\n",
      "87006/87006 [==============================] - 8s 87us/step - loss: 1.5374e-06\n",
      "Epoch 1706/3000\n",
      "87006/87006 [==============================] - 10s 118us/step - loss: 1.5437e-06TA: 7s - loss - ETA: 5s - loss: - ETA\n",
      "Epoch 1707/3000\n",
      "87006/87006 [==============================] - 7s 84us/step - loss: 1.5359e-06\n",
      "Epoch 1708/3000\n",
      "87006/87006 [==============================] - 8s 98us/step - loss: 1.5477e-06\n",
      "Epoch 1709/3000\n",
      "87006/87006 [==============================] - 8s 90us/step - loss: 1.5437e-06:\n",
      "Epoch 1710/3000\n",
      "87006/87006 [==============================] - 6s 68us/step - loss: 1.5333e-06\n",
      "Epoch 1711/3000\n",
      "87006/87006 [==============================] - 7s 78us/step - loss: 1.5426e-06\n",
      "Epoch 1712/3000\n",
      "87006/87006 [==============================] - 7s 76us/step - loss: 1.5478e-06\n",
      "Epoch 1713/3000\n",
      "87006/87006 [==============================] - 8s 97us/step - loss: 1.5368e-06\n",
      "Epoch 1714/3000\n",
      "87006/87006 [==============================] - 6s 71us/step - loss: 1.5384e-06\n",
      "Epoch 1715/3000\n",
      "87006/87006 [==============================] - 8s 89us/step - loss: 1.5422e-06\n",
      "Epoch 1716/3000\n",
      "87006/87006 [==============================] - 7s 86us/step - loss: 1.5406e-06: 6s - loss: - ETA: 5s - loss: 1.5360e - ETA: 5s - loss: - ETA:\n",
      "Epoch 1717/3000\n",
      "87006/87006 [==============================] - 6s 68us/step - loss: 1.5345e-06\n",
      "Epoch 1718/3000\n",
      "87006/87006 [==============================] - 7s 80us/step - loss: 1.5423e-06\n",
      "Epoch 1719/3000\n",
      "87006/87006 [==============================] - 8s 89us/step - loss: 1.5508e-06\n",
      "Epoch 1720/3000\n",
      "87006/87006 [==============================] - 7s 78us/step - loss: 1.5411e-06: 2s - loss: 1.5761e-0 - ETA: 2s - los\n",
      "Epoch 1721/3000\n",
      "87006/87006 [==============================] - 6s 66us/step - loss: 1.5407e-06\n",
      "Epoch 1722/3000\n",
      "87006/87006 [==============================] - 7s 77us/step - loss: 1.5446e-06\n",
      "Epoch 1723/3000\n",
      "87006/87006 [==============================] - 6s 65us/step - loss: 1.5483e-06\n",
      "Epoch 1724/3000\n",
      "87006/87006 [==============================] - 5s 60us/step - loss: 1.5373e-06: 0s - loss: 1.5115 - ETA: 0s - loss - ETA: 0s - lo - ETA: 0s - loss: 1.540\n",
      "Epoch 1725/3000\n",
      "87006/87006 [==============================] - 6s 73us/step - loss: 1.5442e-06\n",
      "Epoch 1726/3000\n",
      "87006/87006 [==============================] - 6s 64us/step - loss: 1.5357e-06: 1s \n",
      "Epoch 1727/3000\n",
      "87006/87006 [==============================] - 6s 71us/step - loss: 1.5394e-06\n",
      "Epoch 1728/3000\n",
      "87006/87006 [==============================] - 5s 62us/step - loss: 1.5357e-06: 1s - loss: 1.564 - ETA: 0s -\n",
      "Epoch 1729/3000\n",
      "87006/87006 [==============================] - 8s 89us/step - loss: 1.5487e-06\n",
      "Epoch 1730/3000\n",
      "87006/87006 [==============================] - 7s 86us/step - loss: 1.5413e-06\n",
      "Epoch 1731/3000\n",
      "87006/87006 [==============================] - 8s 97us/step - loss: 1.5344e-06\n",
      "Epoch 1732/3000\n",
      "87006/87006 [==============================] - 6s 71us/step - loss: 1.5437e-06\n",
      "Epoch 1733/3000\n",
      "87006/87006 [==============================] - 8s 87us/step - loss: 1.5458e-06\n",
      "Epoch 1734/3000\n",
      "87006/87006 [==============================] - 7s 86us/step - loss: 1.5339e-06\n",
      "Epoch 1735/3000\n",
      "87006/87006 [==============================] - 6s 66us/step - loss: 1.5372e-06\n",
      "Epoch 1736/3000\n",
      "87006/87006 [==============================] - 6s 70us/step - loss: 1.5410e-06\n",
      "Epoch 1737/3000\n",
      "87006/87006 [==============================] - 6s 73us/step - loss: 1.5369e-06\n",
      "Epoch 1738/3000\n",
      "87006/87006 [==============================] - 5s 63us/step - loss: 1.5419e-06: 1s - loss: 1.5272e - ETA: 1s - loss: 1 - ETA: 0s - loss: 1.5 - ETA: 0s - loss: 1.\n",
      "Epoch 1739/3000\n",
      "87006/87006 [==============================] - 8s 93us/step - loss: 1.5387e-06: 1\n",
      "Epoch 1740/3000\n",
      "87006/87006 [==============================] - 7s 75us/step - loss: 1.5366e-06: 1s - loss: 1.5484e - ETA: 0s - loss: \n",
      "Epoch 1741/3000\n",
      "87006/87006 [==============================] - 6s 71us/step - loss: 1.5389e-06: 1s - loss: 1.5412e - ETA: 0s - \n",
      "Epoch 1742/3000\n",
      "87006/87006 [==============================] - 6s 69us/step - loss: 1.5446e-06: 1s - - ETA: 0s - loss: 1\n",
      "Epoch 1743/3000\n",
      "87006/87006 [==============================] - 9s 107us/step - loss: 1.5363e-06\n",
      "Epoch 1744/3000\n",
      "87006/87006 [==============================] - 7s 75us/step - loss: 1.5377e-06: 0s - los\n",
      "Epoch 1745/3000\n",
      "87006/87006 [==============================] - 9s 109us/step - loss: 1.5344e-06 3s - loss - E\n",
      "Epoch 1746/3000\n",
      "87006/87006 [==============================] - 5s 63us/step - loss: 1.5470e-06\n",
      "Epoch 1747/3000\n",
      "87006/87006 [==============================] - 7s 82us/step - loss: 1.5372e-06: 0s \n",
      "Epoch 1748/3000\n",
      "87006/87006 [==============================] - 5s 62us/step - loss: 1.5390e-06\n",
      "Epoch 1749/3000\n",
      "87006/87006 [==============================] - 8s 91us/step - loss: 1.5412e-06: 0s - loss: 1\n",
      "Epoch 1750/3000\n",
      "87006/87006 [==============================] - 6s 72us/step - loss: 1.5455e-06\n",
      "Epoch 1751/3000\n",
      "87006/87006 [==============================] - 8s 90us/step - loss: 1.5394e-06\n",
      "Epoch 1752/3000\n",
      "87006/87006 [==============================] - 9s 105us/step - loss: 1.5373e-06TA: 0s - loss: 1.54\n",
      "Epoch 1753/3000\n",
      "87006/87006 [==============================] - 8s 94us/step - loss: 1.5426e-06\n",
      "Epoch 1754/3000\n",
      "87006/87006 [==============================] - 6s 74us/step - loss: 1.5337e-06\n",
      "Epoch 1755/3000\n",
      "87006/87006 [==============================] - 4s 48us/step - loss: 1.5452e-06\n",
      "Epoch 1756/3000\n",
      "87006/87006 [==============================] - 6s 70us/step - loss: 1.5383e-06: 2s  - ETA: 1s - ETA: - ETA: 0s - loss: 1.54\n",
      "Epoch 1757/3000\n",
      "87006/87006 [==============================] - 7s 76us/step - loss: 1.5443e-06: 4s - loss: - ETA: 1s -\n",
      "Epoch 1758/3000\n",
      "87006/87006 [==============================] - 6s 74us/step - loss: 1.5407e-06: 0s - loss: 1.\n",
      "Epoch 1759/3000\n",
      "87006/87006 [==============================] - 6s 70us/step - loss: 1.5343e-06\n",
      "Epoch 1760/3000\n",
      "87006/87006 [==============================] - 5s 62us/step - loss: 1.5400e-06: 2s - loss:  - ETA: 0s - loss:\n",
      "Epoch 1761/3000\n",
      "87006/87006 [==============================] - 7s 75us/step - loss: 1.5392e-06\n",
      "Epoch 1762/3000\n",
      "87006/87006 [==============================] - 7s 81us/step - loss: 1.5356e-06- ETA: 1s - loss: 1.56 - ETA: 1s - loss: 1.5610e - ETA: - ETA: 0s - loss: \n",
      "Epoch 1763/3000\n",
      "87006/87006 [==============================] - 6s 74us/step - loss: 1.5502e-06: 0s - lo\n",
      "Epoch 1764/3000\n",
      "87006/87006 [==============================] - 7s 76us/step - loss: 1.5420e-06\n",
      "Epoch 1765/3000\n",
      "87006/87006 [==============================] - 6s 68us/step - loss: 1.5400e-06: \n",
      "Epoch 1766/3000\n",
      "87006/87006 [==============================] - 6s 66us/step - loss: 1.5411e-06\n",
      "Epoch 1767/3000\n",
      "87006/87006 [==============================] - 8s 91us/step - loss: 1.5466e-06\n",
      "Epoch 1768/3000\n",
      "87006/87006 [==============================] - 8s 94us/step - loss: 1.5423e-06: 1s - - ETA: 0s -\n",
      "Epoch 1769/3000\n",
      "87006/87006 [==============================] - 8s 90us/step - loss: 1.5354e-06\n",
      "Epoch 1770/3000\n",
      "87006/87006 [==============================] - 8s 90us/step - loss: 1.5414e-06: 5s - loss - ETA: 5s - lo\n",
      "Epoch 1771/3000\n",
      "87006/87006 [==============================] - 7s 84us/step - loss: 1.5386e-06\n",
      "Epoch 1772/3000\n",
      "87006/87006 [==============================] - 6s 73us/step - loss: 1.5419e-06\n",
      "Epoch 1773/3000\n",
      "87006/87006 [==============================] - 8s 88us/step - loss: 1.5443e-06: 0s - loss:\n",
      "Epoch 1774/3000\n",
      "87006/87006 [==============================] - 9s 105us/step - loss: 1.5399e-06\n",
      "Epoch 1775/3000\n",
      "87006/87006 [==============================] - 12s 133us/step - loss: 1.5421e-061s - - ETA: 0s - loss: 1.5421e-0\n",
      "Epoch 1776/3000\n",
      "87006/87006 [==============================] - 7s 78us/step - loss: 1.5405e-06\n",
      "Epoch 1777/3000\n",
      "87006/87006 [==============================] - 9s 100us/step - loss: 1.5381e-06 5s - loss: 1.62 -  - ETA: 3s - loss: 1.5428e -  -\n",
      "Epoch 1778/3000\n",
      "87006/87006 [==============================] - 10s 119us/step - loss: 1.5371e-064s - loss: 1.515 - \n",
      "Epoch 1779/3000\n",
      "87006/87006 [==============================] - 8s 91us/step - loss: 1.5385e-06: 0s - loss: 1.5448e-\n",
      "Epoch 1780/3000\n",
      "25800/87006 [=======>......................] - ETA: 8s - loss: 1.6029e-06"
     ]
    },
    {
     "name": "stderr",
     "output_type": "stream",
     "text": [
      "C:\\Users\\User\\.conda\\envs\\theano_v1\\lib\\site-packages\\keras\\callbacks\\callbacks.py:95: RuntimeWarning: Method (on_train_batch_end) is slow compared to the batch update (0.113700). Check your callbacks.\n",
      "  % (hook_name, delta_t_median), RuntimeWarning)\n",
      "C:\\Users\\User\\.conda\\envs\\theano_v1\\lib\\site-packages\\keras\\callbacks\\callbacks.py:95: RuntimeWarning: Method (on_train_batch_end) is slow compared to the batch update (0.106113). Check your callbacks.\n",
      "  % (hook_name, delta_t_median), RuntimeWarning)\n"
     ]
    },
    {
     "name": "stdout",
     "output_type": "stream",
     "text": [
      "87006/87006 [==============================] - 9s 105us/step - loss: 1.5413e-06\n",
      "Epoch 1781/3000\n",
      "87006/87006 [==============================] - 7s 79us/step - loss: 1.5469e-06\n",
      "Epoch 1782/3000\n",
      "87006/87006 [==============================] - 5s 63us/step - loss: 1.5442e-06: 0s - loss: \n",
      "Epoch 1783/3000\n",
      "87006/87006 [==============================] - 6s 65us/step - loss: 1.5486e-06\n",
      "Epoch 1784/3000\n",
      "87006/87006 [==============================] - 5s 63us/step - loss: 1.5364e-06: 3s - loss: 1.492 - ETA: 3s -  - ETA: 1s - loss: 1.528 - ETA: 1s \n",
      "Epoch 1785/3000\n",
      "87006/87006 [==============================] - 6s 70us/step - loss: 1.5442e-06: 1s - loss:\n",
      "Epoch 1786/3000\n",
      "87006/87006 [==============================] - 6s 64us/step - loss: 1.5421e-06:\n",
      "Epoch 1787/3000\n",
      "87006/87006 [==============================] - 7s 85us/step - loss: 1.5346e-06\n",
      "Epoch 1788/3000\n",
      "87006/87006 [==============================] - 9s 102us/step - loss: 1.5363e-06 4s -  - ETA: 1s \n",
      "Epoch 1789/3000\n",
      "87006/87006 [==============================] - 6s 70us/step - loss: 1.5356e-06\n",
      "Epoch 1790/3000\n",
      "87006/87006 [==============================] - 7s 82us/step - loss: 1.5405e-06\n",
      "Epoch 1791/3000\n",
      "87006/87006 [==============================] - 8s 96us/step - loss: 1.5516e-06\n",
      "Epoch 1792/3000\n",
      "87006/87006 [==============================] - 7s 78us/step - loss: 1.5501e-06\n",
      "Epoch 1793/3000\n",
      "87006/87006 [==============================] - 8s 94us/step - loss: 1.5365e-06:\n",
      "Epoch 1794/3000\n",
      "87006/87006 [==============================] - 7s 76us/step - loss: 1.5431e-06\n",
      "Epoch 1795/3000\n",
      "87006/87006 [==============================] - 11s 128us/step - loss: 1.5353e-064s - loss: - ETA: 3s -\n",
      "Epoch 1796/3000\n",
      "87006/87006 [==============================] - 8s 91us/step - loss: 1.5477e-06: 0s - loss: 1.5503e-\n",
      "Epoch 1797/3000\n",
      "87006/87006 [==============================] - 6s 70us/step - loss: 1.5352e-06: 0s - loss: 1.54 - ETA: 0s - loss: 1.539\n",
      "Epoch 1798/3000\n",
      "87006/87006 [==============================] - 6s 74us/step - loss: 1.5403e-06: 1s - lo - E - ETA: 0s - loss: 1.\n",
      "Epoch 1799/3000\n",
      "87006/87006 [==============================] - 8s 93us/step - loss: 1.5406e-06: 4s -\n",
      "Epoch 1800/3000\n",
      "87006/87006 [==============================] - 8s 87us/step - loss: 1.5435e-06 - val_loss: 1.9521e-06\n",
      "Epoch 1801/3000\n",
      "87006/87006 [==============================] - 7s 84us/step - loss: 1.5405e-06\n",
      "Epoch 1802/3000\n",
      "87006/87006 [==============================] - 7s 86us/step - loss: 1.5358e-06: 4s -\n",
      "Epoch 1803/3000\n",
      "87006/87006 [==============================] - 7s 83us/step - loss: 1.5404e-06: \n",
      "Epoch 1804/3000\n",
      "87006/87006 [==============================] - 6s 70us/step - loss: 1.5366e-06: 0\n",
      "Epoch 1805/3000\n",
      "87006/87006 [==============================] - 14s 157us/step - loss: 1.5355e-06\n",
      "Epoch 1806/3000\n",
      "87006/87006 [==============================] - 5s 57us/step - loss: 1.5453e-06\n",
      "Epoch 1807/3000\n",
      "87006/87006 [==============================] - 9s 103us/step - loss: 1.5373e-06\n",
      "Epoch 1808/3000\n",
      "87006/87006 [==============================] - 9s 109us/step - loss: 1.5443e-06 0s - lo\n",
      "Epoch 1809/3000\n",
      "87006/87006 [==============================] - 9s 104us/step - loss: 1.5376e-06 0s \n",
      "Epoch 1810/3000\n",
      "87006/87006 [==============================] - 6s 69us/step - loss: 1.5328e-06: 0s - loss\n",
      "Epoch 1811/3000\n",
      "87006/87006 [==============================] - 10s 117us/step - loss: 1.5362e-06\n",
      "Epoch 1812/3000\n",
      "87006/87006 [==============================] - 7s 81us/step - loss: 1.5349e-06: 0s - loss: 1.5\n",
      "Epoch 1813/3000\n",
      "87006/87006 [==============================] - 8s 90us/step - loss: 1.5358e-06\n",
      "Epoch 1814/3000\n",
      "87006/87006 [==============================] - 8s 96us/step - loss: 1.5337e-06: 0s - loss:\n",
      "Epoch 1815/3000\n",
      "87006/87006 [==============================] - 7s 81us/step - loss: 1.5448e-06\n",
      "Epoch 1816/3000\n",
      "87006/87006 [==============================] - 7s 77us/step - loss: 1.5402e-06\n",
      "Epoch 1817/3000\n",
      "87006/87006 [==============================] - 7s 80us/step - loss: 1.5446e-06: 0s - loss: 1.5450e-\n",
      "Epoch 1818/3000\n",
      "87006/87006 [==============================] - 8s 98us/step - loss: 1.5487e-06: 0s - loss:\n",
      "Epoch 1819/3000\n",
      "87006/87006 [==============================] - 8s 87us/step - loss: 1.5347e-06: 0s - los\n",
      "Epoch 1820/3000\n",
      "87006/87006 [==============================] - 6s 74us/step - loss: 1.5564e-06\n",
      "Epoch 1821/3000\n",
      "87006/87006 [==============================] - 6s 73us/step - loss: 1.5438e-06\n",
      "Epoch 1822/3000\n",
      "87006/87006 [==============================] - 5s 59us/step - loss: 1.5429e-06: 0s - loss: 1.\n",
      "Epoch 1823/3000\n",
      "87006/87006 [==============================] - 9s 102us/step - loss: 1.5341e-06\n",
      "Epoch 1824/3000\n",
      "87006/87006 [==============================] - 9s 98us/step - loss: 1.5335e-06\n",
      "Epoch 1825/3000\n",
      "87006/87006 [==============================] - 6s 73us/step - loss: 1.5442e-06\n",
      "Epoch 1826/3000\n",
      "  900/87006 [..............................] - ETA: 23s - loss: 1.7651e-"
     ]
    },
    {
     "name": "stderr",
     "output_type": "stream",
     "text": [
      "C:\\Users\\User\\.conda\\envs\\theano_v1\\lib\\site-packages\\keras\\callbacks\\callbacks.py:95: RuntimeWarning: Method (on_train_batch_end) is slow compared to the batch update (0.113438). Check your callbacks.\n",
      "  % (hook_name, delta_t_median), RuntimeWarning)\n",
      "C:\\Users\\User\\.conda\\envs\\theano_v1\\lib\\site-packages\\keras\\callbacks\\callbacks.py:95: RuntimeWarning: Method (on_train_batch_end) is slow compared to the batch update (0.101615). Check your callbacks.\n",
      "  % (hook_name, delta_t_median), RuntimeWarning)\n"
     ]
    },
    {
     "name": "stdout",
     "output_type": "stream",
     "text": [
      "87006/87006 [==============================] - 9s 103us/step - loss: 1.5402e-06 5s - loss: 1.5 - ETA: 4s - loss: 1.569 \n",
      "Epoch 1827/3000\n",
      "87006/87006 [==============================] - 7s 77us/step - loss: 1.5464e-06: 1s -\n",
      "Epoch 1828/3000\n",
      "87006/87006 [==============================] - 7s 78us/step - loss: 1.5405e-06\n",
      "Epoch 1829/3000\n",
      "87006/87006 [==============================] - 5s 54us/step - loss: 1.5407e-06\n",
      "Epoch 1830/3000\n",
      "87006/87006 [==============================] - 6s 67us/step - loss: 1.5322e-06\n",
      "Epoch 1831/3000\n",
      "87006/87006 [==============================] - 5s 63us/step - loss: 1.5406e-06\n",
      "Epoch 1832/3000\n",
      "87006/87006 [==============================] - 7s 80us/step - loss: 1.5376e-06: 0s - loss: 1\n",
      "Epoch 1833/3000\n",
      "87006/87006 [==============================] - 6s 71us/step - loss: 1.5355e-06: 0s - los\n",
      "Epoch 1834/3000\n",
      "87006/87006 [==============================] - 8s 87us/step - loss: 1.5368e-06: 4s - l - ET - ETA: 0s - loss: 1.5\n",
      "Epoch 1835/3000\n",
      "87006/87006 [==============================] - 7s 79us/step - loss: 1.5330e-06\n",
      "Epoch 1836/3000\n",
      "87006/87006 [==============================] - 7s 86us/step - loss: 1.5406e-06\n",
      "Epoch 1837/3000\n",
      "87006/87006 [==============================] - 5s 61us/step - loss: 1.5544e-06\n",
      "Epoch 1838/3000\n",
      "87006/87006 [==============================] - 6s 75us/step - loss: 1.5404e-06 - ETA:\n",
      "Epoch 1839/3000\n",
      "87006/87006 [==============================] - 4s 45us/step - loss: 1.5373e-06\n",
      "Epoch 1840/3000\n",
      "87006/87006 [==============================] - 5s 61us/step - loss: 1.5351e-06: 0s - loss: 1.5320e-0\n",
      "Epoch 1841/3000\n",
      "87006/87006 [==============================] - 8s 90us/step - loss: 1.5406e-06\n",
      "Epoch 1842/3000\n",
      "87006/87006 [==============================] - 8s 96us/step - loss: 1.5392e-06: 3s - loss: 1 - ET\n",
      "Epoch 1843/3000\n",
      "87006/87006 [==============================] - 8s 91us/step - loss: 1.5445e-06\n",
      "Epoch 1844/3000\n",
      "87006/87006 [==============================] - 6s 64us/step - loss: 1.5524e-06\n",
      "Epoch 1845/3000\n",
      "87006/87006 [==============================] - 7s 81us/step - loss: 1.5372e-06: \n",
      "Epoch 1846/3000\n",
      "87006/87006 [==============================] - 6s 64us/step - loss: 1.5568e-06: 0s - l\n",
      "Epoch 1847/3000\n",
      "87006/87006 [==============================] - 7s 82us/step - loss: 1.5394e-06\n",
      "Epoch 1848/3000\n",
      "87006/87006 [==============================] - 7s 81us/step - loss: 1.5451e-06: 1s\n",
      "Epoch 1849/3000\n",
      "87006/87006 [==============================] - 6s 64us/step - loss: 1.5359e-06\n",
      "Epoch 1850/3000\n",
      "87006/87006 [==============================] - 6s 73us/step - loss: 1.5391e-06\n",
      "Epoch 1851/3000\n",
      "87006/87006 [==============================] - 4s 49us/step - loss: 1.5417e-06: 1\n",
      "Epoch 1852/3000\n",
      "87006/87006 [==============================] - 9s 103us/step - loss: 1.5423e-06\n",
      "Epoch 1853/3000\n",
      "87006/87006 [==============================] - 8s 92us/step - loss: 1.5312e-06: 6s - lo\n",
      "Epoch 1854/3000\n",
      "87006/87006 [==============================] - 9s 99us/step - loss: 1.5403e-06 ETA: 0s - loss: 1.\n",
      "Epoch 1855/3000\n",
      "87006/87006 [==============================] - 7s 76us/step - loss: 1.5427e-06: 1s - loss: - ETA: 0s - loss: 1\n",
      "Epoch 1856/3000\n",
      "87006/87006 [==============================] - 7s 82us/step - loss: 1.5386e-06\n",
      "Epoch 1857/3000\n",
      "87006/87006 [==============================] - 6s 72us/step - loss: 1.5368e-06\n",
      "Epoch 1858/3000\n",
      "87006/87006 [==============================] - 8s 96us/step - loss: 1.5318e-06\n",
      "Epoch 1859/3000\n",
      "87006/87006 [==============================] - 10s 115us/step - loss: 1.5397e-064s - loss: 1.4647 - ETA: 4s  - ETA: 3s - \n",
      "Epoch 1860/3000\n",
      "87006/87006 [==============================] - 11s 126us/step - loss: 1.5386e-061s - loss: 1.543 - ETA: 1s - l - ETA: 0s - loss:\n",
      "Epoch 1861/3000\n",
      "87006/87006 [==============================] - 9s 102us/step - loss: 1.5406e-06 5s - loss: 1.5 - ETA: 4s -  - ETA: 0s\n",
      "Epoch 1862/3000\n",
      "87006/87006 [==============================] - 7s 79us/step - loss: 1.5332e-06: 8s - E - ETA: \n",
      "Epoch 1863/3000\n",
      "  600/87006 [..............................] - ETA: 47s - loss: 1.2508e-06"
     ]
    },
    {
     "name": "stderr",
     "output_type": "stream",
     "text": [
      "C:\\Users\\User\\.conda\\envs\\theano_v1\\lib\\site-packages\\keras\\callbacks\\callbacks.py:95: RuntimeWarning: Method (on_train_batch_end) is slow compared to the batch update (0.136994). Check your callbacks.\n",
      "  % (hook_name, delta_t_median), RuntimeWarning)\n",
      "C:\\Users\\User\\.conda\\envs\\theano_v1\\lib\\site-packages\\keras\\callbacks\\callbacks.py:95: RuntimeWarning: Method (on_train_batch_end) is slow compared to the batch update (0.137481). Check your callbacks.\n",
      "  % (hook_name, delta_t_median), RuntimeWarning)\n"
     ]
    },
    {
     "name": "stdout",
     "output_type": "stream",
     "text": [
      " 2100/87006 [..............................] - ETA: 45s - loss: 1.2293e-06"
     ]
    },
    {
     "name": "stderr",
     "output_type": "stream",
     "text": [
      "C:\\Users\\User\\.conda\\envs\\theano_v1\\lib\\site-packages\\keras\\callbacks\\callbacks.py:95: RuntimeWarning: Method (on_train_batch_end) is slow compared to the batch update (0.133769). Check your callbacks.\n",
      "  % (hook_name, delta_t_median), RuntimeWarning)\n",
      "C:\\Users\\User\\.conda\\envs\\theano_v1\\lib\\site-packages\\keras\\callbacks\\callbacks.py:95: RuntimeWarning: Method (on_train_batch_end) is slow compared to the batch update (0.130543). Check your callbacks.\n",
      "  % (hook_name, delta_t_median), RuntimeWarning)\n",
      "C:\\Users\\User\\.conda\\envs\\theano_v1\\lib\\site-packages\\keras\\callbacks\\callbacks.py:95: RuntimeWarning: Method (on_train_batch_end) is slow compared to the batch update (0.128575). Check your callbacks.\n",
      "  % (hook_name, delta_t_median), RuntimeWarning)\n",
      "C:\\Users\\User\\.conda\\envs\\theano_v1\\lib\\site-packages\\keras\\callbacks\\callbacks.py:95: RuntimeWarning: Method (on_train_batch_end) is slow compared to the batch update (0.126607). Check your callbacks.\n",
      "  % (hook_name, delta_t_median), RuntimeWarning)\n"
     ]
    },
    {
     "name": "stdout",
     "output_type": "stream",
     "text": [
      " 2700/87006 [..............................] - ETA: 45s - loss: 1.2918e-06"
     ]
    },
    {
     "name": "stderr",
     "output_type": "stream",
     "text": [
      "C:\\Users\\User\\.conda\\envs\\theano_v1\\lib\\site-packages\\keras\\callbacks\\callbacks.py:95: RuntimeWarning: Method (on_train_batch_end) is slow compared to the batch update (0.100597). Check your callbacks.\n",
      "  % (hook_name, delta_t_median), RuntimeWarning)\n"
     ]
    },
    {
     "name": "stdout",
     "output_type": "stream",
     "text": [
      "87006/87006 [==============================] - 10s 110us/step - loss: 1.5418e-060s - los\n",
      "Epoch 1864/3000\n",
      "87006/87006 [==============================] - 7s 75us/step - loss: 1.5325e-06ETA: 2s - loss: 1.4776 - ETA: 1s - loss: 1.5\n",
      "Epoch 1865/3000\n",
      "87006/87006 [==============================] - 9s 103us/step - loss: 1.5351e-06\n",
      "Epoch 1866/3000\n",
      "87006/87006 [==============================] - 7s 81us/step - loss: 1.5443e-06: 0s - loss: 1.5437e-\n",
      "Epoch 1867/3000\n",
      "87006/87006 [==============================] - 7s 75us/step - loss: 1.5388e-06\n",
      "Epoch 1868/3000\n",
      "87006/87006 [==============================] - 6s 70us/step - loss: 1.5334e-06: 3s - loss: 1.4 - ETA: 3s  - ETA: 2s - loss: 1.6 - ETA: 3s - - ETA: 0s - los\n",
      "Epoch 1869/3000\n",
      "87006/87006 [==============================] - 9s 101us/step - loss: 1.5328e-06 0s - loss: 1.5308e\n",
      "Epoch 1870/3000\n",
      "87006/87006 [==============================] - 5s 60us/step - loss: 1.5326e-06: 0s - loss: 1 - ETA: 0s - loss: \n",
      "Epoch 1871/3000\n",
      "87006/87006 [==============================] - 6s 72us/step - loss: 1.5556e-06: 1s - loss: 1. - ETA: 1s - loss: 1.6018e- - ETA: 1s -  - ETA: 0s - loss:  - ETA: 0s - loss: 1.5570\n",
      "Epoch 1872/3000\n",
      "87006/87006 [==============================] - 8s 97us/step - loss: 1.5373e-06: 2s - loss: 1.5675 - ETA: 1s - loss:\n",
      "Epoch 1873/3000\n",
      "87006/87006 [==============================] - 8s 94us/step - loss: 1.5435e-06: 1s\n",
      "Epoch 1874/3000\n",
      " 1800/87006 [..............................] - ETA: 13s - loss: 1.2490e-06"
     ]
    },
    {
     "name": "stderr",
     "output_type": "stream",
     "text": [
      "C:\\Users\\User\\.conda\\envs\\theano_v1\\lib\\site-packages\\keras\\callbacks\\callbacks.py:95: RuntimeWarning: Method (on_train_batch_end) is slow compared to the batch update (0.107862). Check your callbacks.\n",
      "  % (hook_name, delta_t_median), RuntimeWarning)\n"
     ]
    },
    {
     "name": "stdout",
     "output_type": "stream",
     "text": [
      "87006/87006 [==============================] - 8s 90us/step - loss: 1.5385e-06\n",
      "Epoch 1875/3000\n",
      "87006/87006 [==============================] - 9s 102us/step - loss: 1.5452e-06\n",
      "Epoch 1876/3000\n",
      "87006/87006 [==============================] - 8s 92us/step - loss: 1.5337e-06:  - ETA: 1s - loss: - ETA: \n",
      "Epoch 1877/3000\n",
      "87006/87006 [==============================] - 7s 86us/step - loss: 1.5421e-06\n",
      "Epoch 1878/3000\n",
      "87006/87006 [==============================] - 7s 85us/step - loss: 1.5384e-06\n",
      "Epoch 1879/3000\n",
      "87006/87006 [==============================] - 6s 73us/step - loss: 1.5438e-06 - ETA: 0s - loss: 1.5470e\n",
      "Epoch 1880/3000\n",
      "87006/87006 [==============================] - 6s 69us/step - loss: 1.5373e-06\n",
      "Epoch 1881/3000\n",
      "87006/87006 [==============================] - 6s 66us/step - loss: 1.5358e-06: 9s - loss: 1.43 - ETA: 8s - loss: 1.5206e- - ETA: 7s - loss: 1.5107e  - ETA: 0s - loss: 1.5358e-0\n",
      "Epoch 1882/3000\n",
      "87006/87006 [==============================] - 7s 79us/step - loss: 1.5388e-06\n",
      "Epoch 1883/3000\n",
      "87006/87006 [==============================] - 7s 80us/step - loss: 1.5380e-06\n",
      "Epoch 1884/3000\n",
      "87006/87006 [==============================] - 7s 76us/step - loss: 1.5418e-06: 2s -\n",
      "Epoch 1885/3000\n",
      "87006/87006 [==============================] - 6s 64us/step - loss: 1.5441e-06\n",
      "Epoch 1886/3000\n",
      "87006/87006 [==============================] - 8s 88us/step - loss: 1.5302e-06\n",
      "Epoch 1887/3000\n",
      "87006/87006 [==============================] - 9s 98us/step - loss: 1.5363e-06: 0s - loss: 1.539\n",
      "Epoch 1888/3000\n",
      "87006/87006 [==============================] - 10s 112us/step - loss: 1.5409e-06\n",
      "Epoch 1889/3000\n",
      "  300/87006 [..............................] - ETA: 14s - loss: 2.1993e-06"
     ]
    },
    {
     "name": "stderr",
     "output_type": "stream",
     "text": [
      "C:\\Users\\User\\.conda\\envs\\theano_v1\\lib\\site-packages\\keras\\callbacks\\callbacks.py:95: RuntimeWarning: Method (on_train_batch_end) is slow compared to the batch update (0.111785). Check your callbacks.\n",
      "  % (hook_name, delta_t_median), RuntimeWarning)\n"
     ]
    },
    {
     "name": "stdout",
     "output_type": "stream",
     "text": [
      "87006/87006 [==============================] - 10s 117us/step - loss: 1.5411e-06\n",
      "Epoch 1890/3000\n",
      "87006/87006 [==============================] - 13s 144us/step - loss: 1.5356e-06\n",
      "Epoch 1891/3000\n",
      "87006/87006 [==============================] - 9s 103us/step - loss: 1.5437e-06\n",
      "Epoch 1892/3000\n",
      "87006/87006 [==============================] - 12s 142us/step - loss: 1.5437e-06\n",
      "Epoch 1893/3000\n",
      "87006/87006 [==============================] - 8s 96us/step - loss: 1.5379e-06\n",
      "Epoch 1894/3000\n",
      "87006/87006 [==============================] - 6s 66us/step - loss: 1.5464e-06\n",
      "Epoch 1895/3000\n",
      "87006/87006 [==============================] - 9s 103us/step - loss: 1.5295e-06\n",
      "Epoch 1896/3000\n",
      "87006/87006 [==============================] - 7s 76us/step - loss: 1.5389e-06\n",
      "Epoch 1897/3000\n",
      "87006/87006 [==============================] - 6s 71us/step - loss: 1.5365e-06\n",
      "Epoch 1898/3000\n",
      "87006/87006 [==============================] - 8s 95us/step - loss: 1.5340e-06\n",
      "Epoch 1899/3000\n",
      "87006/87006 [==============================] - 8s 88us/step - loss: 1.5413e-06\n",
      "Epoch 1900/3000\n",
      "87006/87006 [==============================] - 8s 92us/step - loss: 1.5396e-06 - val_loss: 1.8440e-06\n",
      "Epoch 1901/3000\n",
      "87006/87006 [==============================] - 8s 94us/step - loss: 1.5427e-06- ETA: 1s -  - ETA: 0s - loss: 1\n",
      "Epoch 1902/3000\n",
      "87006/87006 [==============================] - 8s 91us/step - loss: 1.5419e-06: 3s - loss: 1.5500e - ETA: 2s - loss: 1.5 - ETA:\n",
      "Epoch 1903/3000\n",
      "87006/87006 [==============================] - 6s 70us/step - loss: 1.5289e-06\n",
      "Epoch 1904/3000\n",
      "87006/87006 [==============================] - 7s 80us/step - loss: 1.5421e-06\n",
      "Epoch 1905/3000\n",
      "87006/87006 [==============================] - 7s 75us/step - loss: 1.5358e-06\n",
      "Epoch 1906/3000\n",
      "87006/87006 [==============================] - 5s 62us/step - loss: 1.5354e-06: 0s - loss: 1.5\n",
      "Epoch 1907/3000\n",
      "87006/87006 [==============================] - 8s 87us/step - loss: 1.5398e-06: 0s - loss: 1.\n",
      "Epoch 1908/3000\n",
      "87006/87006 [==============================] - 7s 82us/step - loss: 1.5451e-06: 1s \n",
      "Epoch 1909/3000\n",
      "87006/87006 [==============================] - 8s 95us/step - loss: 1.5375e-06\n",
      "Epoch 1910/3000\n",
      "87006/87006 [==============================] - 8s 90us/step - loss: 1.5345e-06ETA: 0s - loss: 1.530\n",
      "Epoch 1911/3000\n",
      "87006/87006 [==============================] - 7s 77us/step - loss: 1.5374e-06\n",
      "Epoch 1912/3000\n",
      "87006/87006 [==============================] - 8s 92us/step - loss: 1.5326e-06\n",
      "Epoch 1913/3000\n",
      "87006/87006 [==============================] - 7s 82us/step - loss: 1.5448e-06: 0s - loss: 1.5449e-0\n",
      "Epoch 1914/3000\n",
      "87006/87006 [==============================] - 8s 96us/step - loss: 1.5313e-06\n",
      "Epoch 1915/3000\n",
      "87006/87006 [==============================] - 6s 64us/step - loss: 1.5420e-06\n",
      "Epoch 1916/3000\n",
      "87006/87006 [==============================] - 5s 58us/step - loss: 1.5341e-06: 3s - lo - ETA: 3s - - \n",
      "Epoch 1917/3000\n",
      "87006/87006 [==============================] - 5s 62us/step - loss: 1.5310e-06\n",
      "Epoch 1918/3000\n",
      "87006/87006 [==============================] - 8s 87us/step - loss: 1.5478e-06: 0s - loss: 1.5459 - ETA: 0s - l\n",
      "Epoch 1919/3000\n",
      "87006/87006 [==============================] - 10s 114us/step - loss: 1.5401e-060s - los\n",
      "Epoch 1920/3000\n",
      "87006/87006 [==============================] - 9s 102us/step - loss: 1.5452e-06 1s - loss:  - ETA: 0s - loss: 1.5451e-0\n",
      "Epoch 1921/3000\n",
      "87006/87006 [==============================] - 9s 107us/step - loss: 1.5371e-06\n",
      "Epoch 1922/3000\n",
      "87006/87006 [==============================] - 11s 129us/step - loss: 1.5431e-06\n",
      "Epoch 1923/3000\n",
      "87006/87006 [==============================] - 7s 85us/step - loss: 1.5332e-06: 4s - loss: 1.5060 - E - ETA: 4s - loss: 1. - ETA: 3s - loss: 1.4748 - ETA: 3s  - ETA: 0s - loss: 1.5330e-0\n",
      "Epoch 1924/3000\n",
      "87006/87006 [==============================] - 6s 69us/step - loss: 1.5453e-06: 0s - loss: 1.5\n",
      "Epoch 1925/3000\n",
      "87006/87006 [==============================] - 5s 62us/step - loss: 1.5368e-06: 0s - \n",
      "Epoch 1926/3000\n",
      "87006/87006 [==============================] - 8s 88us/step - loss: 1.5334e-06\n",
      "Epoch 1927/3000\n",
      "87006/87006 [==============================] - 7s 81us/step - loss: 1.5433e-06\n",
      "Epoch 1928/3000\n",
      "87006/87006 [==============================] - 7s 77us/step - loss: 1.5380e-06\n",
      "Epoch 1929/3000\n",
      "87006/87006 [==============================] - ETA: 0s - loss: 1.5432e-06- ETA: 4s - loss: 1.603 - ETA: 3s -  - ETA: 1s - los - ETA: 0s - - 6s 65us/step - loss: 1.5425e-06\n",
      "Epoch 1930/3000\n",
      "87006/87006 [==============================] - 7s 77us/step - loss: 1.5351e-06\n",
      "Epoch 1931/3000\n",
      "87006/87006 [==============================] - 5s 62us/step - loss: 1.5367e-06: 1s - \n",
      "Epoch 1932/3000\n",
      "87006/87006 [==============================] - 5s 54us/step - loss: 1.5353e-06\n",
      "Epoch 1933/3000\n",
      "87006/87006 [==============================] - 10s 111us/step - loss: 1.5369e-063s - loss: 1.5335e-0 - ETA: 3s - los - ETA: 4s - loss: - ETA: 3s -\n",
      "Epoch 1934/3000\n",
      "87006/87006 [==============================] - 6s 74us/step - loss: 1.5451e-06\n",
      "Epoch 1935/3000\n",
      "87006/87006 [==============================] - 6s 69us/step - loss: 1.5355e-06\n",
      "Epoch 1936/3000\n",
      "87006/87006 [==============================] - 7s 83us/step - loss: 1.5411e-06: 8s -  - ETA: 0s - los\n",
      "Epoch 1937/3000\n",
      "87006/87006 [==============================] - 9s 100us/step - loss: 1.5401e-06\n",
      "Epoch 1938/3000\n",
      "87006/87006 [==============================] - 9s 101us/step - loss: 1.5373e-06 1s - l\n",
      "Epoch 1939/3000\n",
      "87006/87006 [==============================] - 12s 140us/step - loss: 1.5317e-063s - loss: 1. - \n",
      "Epoch 1940/3000\n",
      "87006/87006 [==============================] - 9s 102us/step - loss: 1.5375e-06- ETA: 3s - loss:  - \n",
      "Epoch 1941/3000\n",
      "87006/87006 [==============================] - 4s 49us/step - loss: 1.5413e-06\n",
      "Epoch 1942/3000\n",
      "87006/87006 [==============================] - 10s 116us/step - loss: 1.5414e-062s - ETA: 0s - loss: 1.53\n",
      "Epoch 1943/3000\n",
      "87006/87006 [==============================] - ETA: 0s - loss: 1.5341e-0 - 6s 68us/step - loss: 1.5342e-06\n",
      "Epoch 1944/3000\n",
      "87006/87006 [==============================] - 7s 79us/step - loss: 1.5425e-06\n",
      "Epoch 1945/3000\n",
      "87006/87006 [==============================] - 8s 87us/step - loss: 1.5404e-06: 0s - loss: 1.\n",
      "Epoch 1946/3000\n",
      "87006/87006 [==============================] - 6s 74us/step - loss: 1.5337e-06: 0s - \n",
      "Epoch 1947/3000\n",
      "87006/87006 [==============================] - 8s 87us/step - loss: 1.5346e-06: 3s - loss: 1.5469e - ETA: 3s - los\n",
      "Epoch 1948/3000\n",
      "87006/87006 [==============================] - 8s 93us/step - loss: 1.5497e-06: 0s - loss: 1.5\n",
      "Epoch 1949/3000\n",
      "87006/87006 [==============================] - 10s 119us/step - loss: 1.5317e-06\n",
      "Epoch 1950/3000\n",
      "87006/87006 [==============================] - 7s 84us/step - loss: 1.5441e-06: 1s - lo\n",
      "Epoch 1951/3000\n",
      "87006/87006 [==============================] - 7s 79us/step - loss: 1.5443e-06\n",
      "Epoch 1952/3000\n",
      "87006/87006 [==============================] - 7s 83us/step - loss: 1.5378e-06: 1s - - ETA: 0s - loss: 1.\n",
      "Epoch 1953/3000\n",
      "87006/87006 [==============================] - 7s 82us/step - loss: 1.5414e-06\n",
      "Epoch 1954/3000\n",
      "87006/87006 [==============================] - 7s 79us/step - loss: 1.5331e-06\n",
      "Epoch 1955/3000\n",
      "87006/87006 [==============================] - 9s 106us/step - loss: 1.5380e-06\n",
      "Epoch 1956/3000\n",
      "87006/87006 [==============================] - 7s 79us/step - loss: 1.5461e-06\n",
      "Epoch 1957/3000\n",
      "87006/87006 [==============================] - 6s 72us/step - loss: 1.5338e-06: 1s - loss: 1.5370 - ETA: 1s -\n",
      "Epoch 1958/3000\n",
      "87006/87006 [==============================] - 5s 60us/step - loss: 1.5369e-06: 0s - loss: 1.5382e-\n",
      "Epoch 1959/3000\n",
      "87006/87006 [==============================] - 7s 77us/step - loss: 1.5352e-06\n",
      "Epoch 1960/3000\n",
      "87006/87006 [==============================] - 8s 97us/step - loss: 1.5306e-06: 2s - loss: 1.5\n",
      "Epoch 1961/3000\n",
      "87006/87006 [==============================] - ETA: 0s - loss: 1.5296e-0 - 8s 95us/step - loss: 1.5359e-06\n",
      "Epoch 1962/3000\n",
      "87006/87006 [==============================] - 8s 90us/step - loss: 1.5499e-06\n",
      "Epoch 1963/3000\n",
      "87006/87006 [==============================] - 9s 108us/step - loss: 1.5329e-06\n",
      "Epoch 1964/3000\n",
      "87006/87006 [==============================] - 8s 87us/step - loss: 1.5334e-06\n",
      "Epoch 1965/3000\n",
      "87006/87006 [==============================] - 7s 81us/step - loss: 1.5367e-06\n",
      "Epoch 1966/3000\n",
      "87006/87006 [==============================] - 6s 66us/step - loss: 1.5383e-06\n",
      "Epoch 1967/3000\n",
      "87006/87006 [==============================] - 8s 87us/step - loss: 1.5374e-06\n",
      "Epoch 1968/3000\n",
      "87006/87006 [==============================] - 9s 105us/step - loss: 1.5361e-06 5s - lo - \n",
      "Epoch 1969/3000\n",
      "87006/87006 [==============================] - 9s 99us/step - loss: 1.5393e-06\n",
      "Epoch 1970/3000\n",
      "87006/87006 [==============================] - 9s 101us/step - loss: 1.5357e-06\n",
      "Epoch 1971/3000\n",
      "87006/87006 [==============================] - 10s 111us/step - loss: 1.5450e-064s - los - ETA: 2s - loss: 1.5\n",
      "Epoch 1972/3000\n",
      "87006/87006 [==============================] - 8s 97us/step - loss: 1.5359e-06\n",
      "Epoch 1973/3000\n",
      "87006/87006 [==============================] - 7s 79us/step - loss: 1.5342e-06\n",
      "Epoch 1974/3000\n",
      "87006/87006 [==============================] - 8s 96us/step - loss: 1.5324e-06\n",
      "Epoch 1975/3000\n",
      "87006/87006 [==============================] - 6s 67us/step - loss: 1.5374e-06\n",
      "Epoch 1976/3000\n",
      "87006/87006 [==============================] - 7s 77us/step - loss: 1.5417e-06: 0s - loss\n",
      "Epoch 1977/3000\n",
      "87006/87006 [==============================] - 9s 105us/step - loss: 1.5383e-06 1s - loss: 1.548 - ETA: 0s - loss: 1.5380e-0 - ETA: 0s - loss: 1.5358e - ETA: 0s - loss: 1.\n",
      "Epoch 1978/3000\n",
      "87006/87006 [==============================] - 10s 111us/step - loss: 1.5363e-06\n",
      "Epoch 1979/3000\n",
      "87006/87006 [==============================] - 9s 99us/step - loss: 1.5410e-06: \n",
      "Epoch 1980/3000\n",
      "87006/87006 [==============================] - 11s 128us/step - loss: 1.5309e-060s - loss\n",
      "Epoch 1981/3000\n",
      "87006/87006 [==============================] - 9s 108us/step - loss: 1.5437e-06 1s - l\n",
      "Epoch 1982/3000\n",
      "87006/87006 [==============================] - 7s 77us/step - loss: 1.5377e-06: 0s - loss: 1\n",
      "Epoch 1983/3000\n",
      "87006/87006 [==============================] - 8s 92us/step - loss: 1.5372e-06\n",
      "Epoch 1984/3000\n",
      "87006/87006 [==============================] - 10s 111us/step - loss: 1.5379e-061s\n",
      "Epoch 1985/3000\n",
      "87006/87006 [==============================] - 10s 109us/step - loss: 1.5361e-06\n",
      "Epoch 1986/3000\n",
      "87006/87006 [==============================] - 9s 99us/step - loss: 1.5300e-06\n",
      "Epoch 1987/3000\n",
      "87006/87006 [==============================] - 8s 89us/step - loss: 1.5325e-06\n",
      "Epoch 1988/3000\n",
      "87006/87006 [==============================] - 13s 144us/step - loss: 1.5508e-06\n",
      "Epoch 1989/3000\n",
      "87006/87006 [==============================] - 16s 190us/step - loss: 1.5420e-06\n",
      "Epoch 1990/3000\n",
      "87006/87006 [==============================] - 17s 201us/step - loss: 1.5404e-06\n",
      "Epoch 1991/3000\n",
      "  600/87006 [..............................] - ETA: 14s - loss: 1.8084e- - ETA: 39s - loss: 1.5063e-06"
     ]
    },
    {
     "name": "stderr",
     "output_type": "stream",
     "text": [
      "C:\\Users\\User\\.conda\\envs\\theano_v1\\lib\\site-packages\\keras\\callbacks\\callbacks.py:95: RuntimeWarning: Method (on_train_batch_end) is slow compared to the batch update (0.107078). Check your callbacks.\n",
      "  % (hook_name, delta_t_median), RuntimeWarning)\n"
     ]
    },
    {
     "name": "stdout",
     "output_type": "stream",
     "text": [
      "87006/87006 [==============================] - 17s 197us/step - loss: 1.5354e-06\n",
      "Epoch 1992/3000\n",
      "87006/87006 [==============================] - 17s 192us/step - loss: 1.5337e-06\n",
      "Epoch 1993/3000\n",
      "87006/87006 [==============================] - 18s 204us/step - loss: 1.5424e-06\n",
      "Epoch 1994/3000\n",
      "87006/87006 [==============================] - 17s 192us/step - loss: 1.5402e-065s - loss: 1.5838e- - ETA: 4s - loss: 1.580 - ETA: 4s - l - ETA: 2s - loss: 1.56\n",
      "Epoch 1995/3000\n",
      "87006/87006 [==============================] - 21s 236us/step - loss: 1.5417e-069s - loss -  - ETA: 1s -\n",
      "Epoch 1996/3000\n",
      "87006/87006 [==============================] - 11s 126us/step - loss: 1.5373e-060s - loss: 1.5\n",
      "Epoch 1997/3000\n",
      "87006/87006 [==============================] - 14s 161us/step - loss: 1.5308e-06\n",
      "Epoch 1998/3000\n",
      "87006/87006 [==============================] - 14s 158us/step - loss: 1.5356e-061s - - ETA: 0s - loss: 1\n",
      "Epoch 1999/3000\n",
      "87006/87006 [==============================] - 14s 160us/step - loss: 1.5338e-06\n",
      "Epoch 2000/3000\n",
      "87006/87006 [==============================] - ETA: 0s - loss: 1.5376e-06- ETA: 2s - loss: 1.5474e- - 20s 228us/step - loss: 1.5385e-06 - val_loss: 1.8351e-06\n",
      "Epoch 2001/3000\n",
      "87006/87006 [==============================] - 18s 203us/step - loss: 1.5382e-06\n",
      "Epoch 2002/3000\n",
      "87006/87006 [==============================] - 13s 149us/step - loss: 1.5406e-06\n",
      "Epoch 2003/3000\n",
      "87006/87006 [==============================] - 18s 211us/step - loss: 1.5399e-060s - loss: 1.5\n",
      "Epoch 2004/3000\n",
      "87006/87006 [==============================] - 14s 162us/step - loss: 1.5473e-06 ETA: 3s - loss: 1.4978e- - ETA:\n",
      "Epoch 2005/3000\n",
      "87006/87006 [==============================] - 15s 172us/step - loss: 1.5336e-068s - loss: 1.4 - ETA: \n",
      "Epoch 2006/3000\n",
      "87006/87006 [==============================] - 14s 160us/step - loss: 1.5363e-06ETA: 2s - ETA: 1s - loss: 1. - ETA: 0s - loss: 1.\n",
      "Epoch 2007/3000\n",
      "87006/87006 [==============================] - 16s 179us/step - loss: 1.5390e-06\n",
      "Epoch 2008/3000\n",
      "87006/87006 [==============================] - 17s 193us/step - loss: 1.5388e-06\n",
      "Epoch 2009/3000\n",
      "  900/87006 [..............................] - ETA: 24s - loss: 1.8179e-06"
     ]
    },
    {
     "name": "stderr",
     "output_type": "stream",
     "text": [
      "C:\\Users\\User\\.conda\\envs\\theano_v1\\lib\\site-packages\\keras\\callbacks\\callbacks.py:95: RuntimeWarning: Method (on_train_batch_end) is slow compared to the batch update (0.106253). Check your callbacks.\n",
      "  % (hook_name, delta_t_median), RuntimeWarning)\n"
     ]
    },
    {
     "name": "stdout",
     "output_type": "stream",
     "text": [
      "87006/87006 [==============================] - 16s 190us/step - loss: 1.5353e-06\n",
      "Epoch 2010/3000\n",
      "87006/87006 [==============================] - 14s 161us/step - loss: 1.5353e-065s - los\n",
      "Epoch 2011/3000\n",
      "87006/87006 [==============================] - 14s 166us/step - loss: 1.5373e-06\n",
      "Epoch 2012/3000\n",
      "87006/87006 [==============================] - 15s 172us/step - loss: 1.5328e-0611s \n",
      "Epoch 2013/3000\n",
      "87006/87006 [==============================] - 12s 136us/step - loss: 1.5372e-06\n",
      "Epoch 2014/3000\n",
      "87006/87006 [==============================] - 13s 151us/step - loss: 1.5318e-06\n",
      "Epoch 2015/3000\n",
      "87006/87006 [==============================] - 17s 197us/step - loss: 1.5337e-063s - loss: 1.5132e - ETA: 2s - loss: 1.5448e \n",
      "Epoch 2016/3000\n",
      "87006/87006 [==============================] - 16s 188us/step - loss: 1.5374e-060s - loss: 1.5371 - ETA: 0s - loss: 1.5384e-\n",
      "Epoch 2017/3000\n",
      "87006/87006 [==============================] - 13s 154us/step - loss: 1.5426e-06\n",
      "Epoch 2018/3000\n",
      "87006/87006 [==============================] - 16s 185us/step - loss: 1.5363e-068s - loss - ETA: 5s - lo - ET\n",
      "Epoch 2019/3000\n",
      "87006/87006 [==============================] - 15s 168us/step - loss: 1.5350e-06\n",
      "Epoch 2020/3000\n",
      "  600/87006 [..............................] - ETA: 27s - loss: 1.3130e-06"
     ]
    },
    {
     "name": "stderr",
     "output_type": "stream",
     "text": [
      "C:\\Users\\User\\.conda\\envs\\theano_v1\\lib\\site-packages\\keras\\callbacks\\callbacks.py:95: RuntimeWarning: Method (on_train_batch_end) is slow compared to the batch update (0.116859). Check your callbacks.\n",
      "  % (hook_name, delta_t_median), RuntimeWarning)\n"
     ]
    },
    {
     "name": "stdout",
     "output_type": "stream",
     "text": [
      "87006/87006 [==============================] - 13s 155us/step - loss: 1.5372e-06\n",
      "Epoch 2021/3000\n",
      "87006/87006 [==============================] - 15s 168us/step - loss: 1.5352e-06\n",
      "Epoch 2022/3000\n",
      "87006/87006 [==============================] - 13s 151us/step - loss: 1.5414e-06\n",
      "Epoch 2023/3000\n",
      "87006/87006 [==============================] - 13s 148us/step - loss: 1.5345e-060s - loss: 1.\n",
      "Epoch 2024/3000\n",
      "87006/87006 [==============================] - 15s 168us/step - loss: 1.5285e-06 1s - loss: 1.539 - ETA: 0s - loss: \n",
      "Epoch 2025/3000\n",
      "87006/87006 [==============================] - 16s 187us/step - loss: 1.5477e-06\n",
      "Epoch 2026/3000\n",
      "87006/87006 [==============================] - 14s 164us/step - loss: 1.5312e-06\n",
      "Epoch 2027/3000\n",
      " 2100/87006 [..............................] - ETA: 36s - loss: 1.6705e-06"
     ]
    },
    {
     "name": "stderr",
     "output_type": "stream",
     "text": [
      "C:\\Users\\User\\.conda\\envs\\theano_v1\\lib\\site-packages\\keras\\callbacks\\callbacks.py:95: RuntimeWarning: Method (on_train_batch_end) is slow compared to the batch update (0.101495). Check your callbacks.\n",
      "  % (hook_name, delta_t_median), RuntimeWarning)\n"
     ]
    },
    {
     "name": "stdout",
     "output_type": "stream",
     "text": [
      " 3900/87006 [>.............................] - ETA: 35s - loss: 1.5575e-06"
     ]
    },
    {
     "name": "stderr",
     "output_type": "stream",
     "text": [
      "C:\\Users\\User\\.conda\\envs\\theano_v1\\lib\\site-packages\\keras\\callbacks\\callbacks.py:95: RuntimeWarning: Method (on_train_batch_end) is slow compared to the batch update (0.104742). Check your callbacks.\n",
      "  % (hook_name, delta_t_median), RuntimeWarning)\n",
      "C:\\Users\\User\\.conda\\envs\\theano_v1\\lib\\site-packages\\keras\\callbacks\\callbacks.py:95: RuntimeWarning: Method (on_train_batch_end) is slow compared to the batch update (0.100990). Check your callbacks.\n",
      "  % (hook_name, delta_t_median), RuntimeWarning)\n"
     ]
    },
    {
     "name": "stdout",
     "output_type": "stream",
     "text": [
      "87006/87006 [==============================] - 16s 182us/step - loss: 1.5321e-06\n",
      "Epoch 2028/3000\n",
      "87006/87006 [==============================] - 15s 175us/step - loss: 1.5305e-06\n",
      "Epoch 2029/3000\n",
      "87006/87006 [==============================] - 16s 179us/step - loss: 1.5398e-06\n",
      "Epoch 2030/3000\n",
      "87006/87006 [==============================] - 15s 172us/step - loss: 1.5379e-06\n",
      "Epoch 2031/3000\n",
      "87006/87006 [==============================] - 13s 150us/step - loss: 1.5408e-06\n",
      "Epoch 2032/3000\n",
      "87006/87006 [==============================] - 14s 162us/step - loss: 1.5368e-06\n",
      "Epoch 2033/3000\n",
      "87006/87006 [==============================] - 16s 183us/step - loss: 1.5333e-06\n",
      "Epoch 2034/3000\n",
      "87006/87006 [==============================] - 12s 142us/step - loss: 1.5412e-06\n",
      "Epoch 2035/3000\n",
      "87006/87006 [==============================] - 12s 142us/step - loss: 1.5419e-06\n",
      "Epoch 2036/3000\n",
      "87006/87006 [==============================] - 13s 149us/step - loss: 1.5303e-06\n",
      "Epoch 2037/3000\n",
      "87006/87006 [==============================] - 16s 182us/step - loss: 1.5367e-060s - loss: 1.5374e\n",
      "Epoch 2038/3000\n",
      "87006/87006 [==============================] - 13s 149us/step - loss: 1.5338e-06\n",
      "Epoch 2039/3000\n",
      "87006/87006 [==============================] - 14s 160us/step - loss: 1.5362e-06\n",
      "Epoch 2040/3000\n",
      "87006/87006 [==============================] - 15s 170us/step - loss: 1.5422e-06\n",
      "Epoch 2041/3000\n",
      "87006/87006 [==============================] - 15s 176us/step - loss: 1.5348e-060s - loss: 1.5361 - ETA: 0s - loss: 1.5372\n",
      "Epoch 2042/3000\n",
      "87006/87006 [==============================] - 17s 196us/step - loss: 1.5371e-06\n",
      "Epoch 2043/3000\n",
      "87006/87006 [==============================] - 14s 157us/step - loss: 1.5426e-061s - los\n",
      "Epoch 2044/3000\n",
      "87006/87006 [==============================] - 13s 148us/step - loss: 1.5410e-06:\n",
      "Epoch 2045/3000\n",
      "87006/87006 [==============================] - 17s 201us/step - loss: 1.5319e-06\n",
      "Epoch 2046/3000\n",
      "87006/87006 [==============================] - 15s 169us/step - loss: 1.5394e-060s - loss: \n",
      "Epoch 2047/3000\n",
      "87006/87006 [==============================] - 13s 152us/step - loss: 1.5491e-06\n",
      "Epoch 2048/3000\n",
      "87006/87006 [==============================] - 16s 181us/step - loss: 1.5320e-060s - loss: 1.5338e-\n",
      "Epoch 2049/3000\n",
      "87006/87006 [==============================] - 17s 193us/step - loss: 1.5333e-06\n",
      "Epoch 2050/3000\n",
      "87006/87006 [==============================] - 16s 187us/step - loss: 1.5374e-06\n",
      "Epoch 2051/3000\n",
      "87006/87006 [==============================] - 16s 180us/step - loss: 1.5305e-06\n",
      "Epoch 2052/3000\n",
      "87006/87006 [==============================] - 15s 173us/step - loss: 1.5330e-06\n",
      "Epoch 2053/3000\n",
      "87006/87006 [==============================] - 16s 182us/step - loss: 1.5394e-06\n",
      "Epoch 2054/3000\n",
      "87006/87006 [==============================] - 15s 168us/step - loss: 1.5353e-06\n",
      "Epoch 2055/3000\n",
      "87006/87006 [==============================] - 15s 167us/step - loss: 1.5339e-067s - loss - ETA - ETA: \n",
      "Epoch 2056/3000\n",
      "87006/87006 [==============================] - 13s 152us/step - loss: 1.5373e-069s - loss: 1.5196 - ETA: 9s - - ETA:  - ETA: 3s - loss: 1.5514 - ETA: 3s - ETA: 1s - l - ETA: 0s - loss: 1.5355e\n",
      "Epoch 2057/3000\n",
      "87006/87006 [==============================] - 19s 214us/step - loss: 1.5374e-066 - - ETA: 3s \n",
      "Epoch 2058/3000\n",
      "87006/87006 [==============================] - 15s 171us/step - loss: 1.5338e-060s - loss: 1.53\n",
      "Epoch 2059/3000\n",
      "87006/87006 [==============================] - 13s 152us/step - loss: 1.5431e-062s - loss: \n",
      "Epoch 2060/3000\n",
      "87006/87006 [==============================] - 14s 163us/step - loss: 1.5334e-06ET - ETA: 0s - loss: 1.51 - ETA: 0s - loss: 1\n",
      "Epoch 2061/3000\n",
      " 1200/87006 [..............................] - ETA: 32s - loss: 1.4478e-06"
     ]
    },
    {
     "name": "stderr",
     "output_type": "stream",
     "text": [
      "C:\\Users\\User\\.conda\\envs\\theano_v1\\lib\\site-packages\\keras\\callbacks\\callbacks.py:95: RuntimeWarning: Method (on_train_batch_end) is slow compared to the batch update (0.101591). Check your callbacks.\n",
      "  % (hook_name, delta_t_median), RuntimeWarning)\n"
     ]
    },
    {
     "name": "stdout",
     "output_type": "stream",
     "text": [
      "87006/87006 [==============================] - 12s 137us/step - loss: 1.5329e-064s - loss: - E\n",
      "Epoch 2062/3000\n",
      "87006/87006 [==============================] - 13s 145us/step - loss: 1.5421e-061s - lo\n",
      "Epoch 2063/3000\n",
      "87006/87006 [==============================] - ETA: 0s - loss: 1.5371e-06- ETA:  - 14s 164us/step - loss: 1.5371e-06\n",
      "Epoch 2064/3000\n",
      "87006/87006 [==============================] - 14s 166us/step - loss: 1.5374e-061s - \n",
      "Epoch 2065/3000\n",
      "87006/87006 [==============================] - 12s 134us/step - loss: 1.5464e-06\n",
      "Epoch 2066/3000\n",
      "87006/87006 [==============================] - 15s 170us/step - loss: 1.5310e-060s - \n",
      "Epoch 2067/3000\n",
      "87006/87006 [==============================] - 12s 143us/step - loss: 1.5338e-06ETA: 0s - loss: 1.5241e\n",
      "Epoch 2068/3000\n",
      "87006/87006 [==============================] - 15s 176us/step - loss: 1.5352e-063 - ETA: 0s - loss: 1.5\n",
      "Epoch 2069/3000\n",
      "87006/87006 [==============================] - 12s 142us/step - loss: 1.5388e-060s - loss: 1.5\n",
      "Epoch 2070/3000\n",
      "87006/87006 [==============================] - ETA: 0s - loss: 1.5348e-06- ETA:  - E - ETA: 1s - loss: 1.54 - ETA: 1s - loss: 1.5397 - ETA: 1s -  - 15s 175us/step - loss: 1.5330e-06\n",
      "Epoch 2071/3000\n",
      "87006/87006 [==============================] - 8s 96us/step - loss: 1.5364e-06\n",
      "Epoch 2072/3000\n",
      "87006/87006 [==============================] - 7s 76us/step - loss: 1.5332e-06: 4s\n",
      "Epoch 2073/3000\n",
      "87006/87006 [==============================] - 6s 69us/step - loss: 1.5365e-06: 7s - loss: 1 - ETA: 5s - loss: 1.4339 - ETA: 4s - lo - ETA: 2s - loss: 1.506 - ET\n",
      "Epoch 2074/3000\n",
      "87006/87006 [==============================] - 9s 102us/step - loss: 1.5330e-06 0s - loss: \n",
      "Epoch 2075/3000\n",
      "87006/87006 [==============================] - 5s 60us/step - loss: 1.5384e-06\n",
      "Epoch 2076/3000\n",
      "87006/87006 [==============================] - 7s 76us/step - loss: 1.5370e-06: 0s - loss: 1.5373\n",
      "Epoch 2077/3000\n",
      "87006/87006 [==============================] - 6s 75us/step - loss: 1.5417e-06\n",
      "Epoch 2078/3000\n",
      "87006/87006 [==============================] - 6s 63us/step - loss: 1.5347e-06\n",
      "Epoch 2079/3000\n",
      "87006/87006 [==============================] - 10s 113us/step - loss: 1.5343e-06\n",
      "Epoch 2080/3000\n",
      "87006/87006 [==============================] - 7s 77us/step - loss: 1.5352e-06\n",
      "Epoch 2081/3000\n",
      "87006/87006 [==============================] - 11s 129us/step - loss: 1.5326e-060s - loss: 1\n",
      "Epoch 2082/3000\n",
      "87006/87006 [==============================] - 8s 96us/step - loss: 1.5446e-06: 2s - loss: 1.557\n",
      "Epoch 2083/3000\n",
      "87006/87006 [==============================] - 6s 65us/step - loss: 1.5425e-06: 0s -\n",
      "Epoch 2084/3000\n",
      "87006/87006 [==============================] - 8s 96us/step - loss: 1.5317e-06\n",
      "Epoch 2085/3000\n",
      "87006/87006 [==============================] - 5s 56us/step - loss: 1.5382e-06\n",
      "Epoch 2086/3000\n",
      "87006/87006 [==============================] - 6s 73us/step - loss: 1.5368e-06\n",
      "Epoch 2087/3000\n",
      "87006/87006 [==============================] - 7s 79us/step - loss: 1.5392e-06TA: 0s - loss: 1.5393e-0\n",
      "Epoch 2088/3000\n",
      "87006/87006 [==============================] - 7s 76us/step - loss: 1.5345e-06\n",
      "Epoch 2089/3000\n",
      "87006/87006 [==============================] - 7s 81us/step - loss: 1.5348e-06\n",
      "Epoch 2090/3000\n",
      "87006/87006 [==============================] - 6s 67us/step - loss: 1.5367e-06: 0s - loss: 1.5\n",
      "Epoch 2091/3000\n",
      "87006/87006 [==============================] - 9s 98us/step - loss: 1.5366e-06\n",
      "Epoch 2092/3000\n",
      "87006/87006 [==============================] - 7s 76us/step - loss: 1.5324e-06\n",
      "Epoch 2093/3000\n",
      "87006/87006 [==============================] - 11s 123us/step - loss: 1.5366e-065s - los - E\n",
      "Epoch 2094/3000\n",
      "87006/87006 [==============================] - 6s 69us/step - loss: 1.5385e-06\n",
      "Epoch 2095/3000\n",
      "87006/87006 [==============================] - 9s 102us/step - loss: 1.5392e-06 3s -  - ETA: 1\n",
      "Epoch 2096/3000\n",
      "87006/87006 [==============================] - 6s 74us/step - loss: 1.5327e-06: 0s - lo - ETA: 0s - loss: 1.531\n",
      "Epoch 2097/3000\n",
      "87006/87006 [==============================] - 13s 151us/step - loss: 1.5345e-06\n",
      "Epoch 2098/3000\n",
      "87006/87006 [==============================] - 14s 158us/step - loss: 1.5335e-06\n",
      "Epoch 2099/3000\n",
      "87006/87006 [==============================] - 13s 152us/step - loss: 1.5352e-06\n",
      "Epoch 2100/3000\n",
      "87006/87006 [==============================] - ETA: 0s - loss: 1.5495e-06- ETA: 2s - loss - ETA: 0s - loss: 1.5575 - 14s 161us/step - loss: 1.5487e-06 - val_loss: 1.7985e-06\n",
      "Epoch 2101/3000\n",
      "87006/87006 [==============================] - 14s 164us/step - loss: 1.5344e-06\n",
      "Epoch 2102/3000\n",
      "87006/87006 [==============================] - 14s 163us/step - loss: 1.5375e-06- ETA: - ETA: 8s - loss: 1.5401 - ETA: 8s - los\n",
      "Epoch 2103/3000\n",
      "87006/87006 [==============================] - 10s 114us/step - loss: 1.5338e-060s - loss: \n",
      "Epoch 2104/3000\n",
      "87006/87006 [==============================] - 15s 169us/step - loss: 1.5345e-061s - lo\n",
      "Epoch 2105/3000\n",
      "87006/87006 [==============================] - 14s 164us/step - loss: 1.5283e-06\n",
      "Epoch 2106/3000\n",
      "87006/87006 [==============================] - 11s 131us/step - loss: 1.5444e-060s - \n",
      "Epoch 2107/3000\n",
      "87006/87006 [==============================] - 12s 134us/step - loss: 1.5299e-06\n",
      "Epoch 2108/3000\n",
      "87006/87006 [==============================] - 14s 159us/step - loss: 1.5366e-066s - - ETA: 4s - E\n",
      "Epoch 2109/3000\n",
      "87006/87006 [==============================] - 16s 179us/step - loss: 1.5381e-060s - loss: 1.529\n",
      "Epoch 2110/3000\n",
      "87006/87006 [==============================] - 14s 166us/step - loss: 1.5336e-06\n",
      "Epoch 2111/3000\n",
      "87006/87006 [==============================] - 15s 170us/step - loss: 1.5379e-06\n",
      "Epoch 2112/3000\n",
      "87006/87006 [==============================] - 14s 165us/step - loss: 1.5316e-06\n",
      "Epoch 2113/3000\n",
      "87006/87006 [==============================] - 18s 202us/step - loss: 1.5503e-06\n",
      "Epoch 2114/3000\n",
      "87006/87006 [==============================] - 13s 148us/step - loss: 1.5298e-06\n",
      "Epoch 2115/3000\n",
      "87006/87006 [==============================] - 14s 166us/step - loss: 1.5315e-064s - loss: 1.5286e-0 - ETA\n",
      "Epoch 2116/3000\n",
      "87006/87006 [==============================] - 10s 118us/step - loss: 1.5382e-061s - los\n",
      "Epoch 2117/3000\n",
      "87006/87006 [==============================] - ETA: 0s - loss: 1.5312e-0 - 9s 109us/step - loss: 1.5313e-06\n",
      "Epoch 2118/3000\n",
      "87006/87006 [==============================] - 16s 182us/step - loss: 1.5393e-060s - loss: 1.5401\n",
      "Epoch 2119/3000\n",
      "87006/87006 [==============================] - 13s 154us/step - loss: 1.5351e-060s - loss:\n",
      "Epoch 2120/3000\n",
      "87006/87006 [==============================] - 13s 150us/step - loss: 1.5304e-06\n",
      "Epoch 2121/3000\n",
      "87006/87006 [==============================] - 13s 150us/step - loss: 1.5313e-06\n",
      "Epoch 2122/3000\n",
      "87006/87006 [==============================] - 12s 141us/step - loss: 1.5301e-06\n",
      "Epoch 2123/3000\n",
      "87006/87006 [==============================] - 14s 158us/step - loss: 1.5395e-06\n",
      "Epoch 2124/3000\n",
      "87006/87006 [==============================] - 12s 139us/step - loss: 1.5328e-06\n",
      "Epoch 2125/3000\n",
      "87006/87006 [==============================] - 10s 120us/step - loss: 1.5332e-06\n",
      "Epoch 2126/3000\n",
      "87006/87006 [==============================] - 10s 115us/step - loss: 1.5395e-06 - ETA: 2s - loss - ETA:\n",
      "Epoch 2127/3000\n",
      "87006/87006 [==============================] - 6s 72us/step - loss: 1.5347e-06\n",
      "Epoch 2128/3000\n",
      "87006/87006 [==============================] - 11s 127us/step - loss: 1.5364e-060s - loss: 1.5\n",
      "Epoch 2129/3000\n",
      "87006/87006 [==============================] - 8s 89us/step - loss: 1.5334e-06\n",
      "Epoch 2130/3000\n",
      "87006/87006 [==============================] - 8s 88us/step - loss: 1.5333e-06 - ETA: 1s - loss: 1.5 - ETA: 0s - loss: 1.5\n",
      "Epoch 2131/3000\n",
      "87006/87006 [==============================] - 7s 79us/step - loss: 1.5353e-06\n",
      "Epoch 2132/3000\n",
      "87006/87006 [==============================] - 8s 88us/step - loss: 1.5418e-06\n",
      "Epoch 2133/3000\n",
      "87006/87006 [==============================] - 8s 97us/step - loss: 1.5343e-06\n",
      "Epoch 2134/3000\n",
      "87006/87006 [==============================] - 7s 77us/step - loss: 1.5320e-06\n",
      "Epoch 2135/3000\n",
      "87006/87006 [==============================] - 9s 109us/step - loss: 1.5559e-06\n",
      "Epoch 2136/3000\n",
      "87006/87006 [==============================] - 9s 100us/step - loss: 1.5301e-06T\n",
      "Epoch 2137/3000\n",
      "87006/87006 [==============================] - 11s 122us/step - loss: 1.5358e-062s - loss:\n",
      "Epoch 2138/3000\n",
      "87006/87006 [==============================] - 10s 115us/step - loss: 1.5332e-06\n",
      "Epoch 2139/3000\n",
      "87006/87006 [==============================] - 14s 160us/step - loss: 1.5357e-06\n",
      "Epoch 2140/3000\n",
      "87006/87006 [==============================] - 12s 142us/step - loss: 1.5432e-06\n",
      "Epoch 2141/3000\n",
      "87006/87006 [==============================] - 14s 164us/step - loss: 1.5410e-06\n",
      "Epoch 2142/3000\n",
      "87006/87006 [==============================] - 12s 136us/step - loss: 1.5294e-06\n",
      "Epoch 2143/3000\n",
      "87006/87006 [==============================] - 12s 141us/step - loss: 1.5340e-064s - loss: 1.5350e- - ETA: 4s - loss:  - ETA: 3s - l - ETA: 1s - loss: 1 - ETA: 0s - loss: 1.5\n",
      "Epoch 2144/3000\n",
      "87006/87006 [==============================] - 13s 147us/step - loss: 1.5289e-06\n",
      "Epoch 2145/3000\n",
      "87006/87006 [==============================] - 7s 78us/step - loss: 1.5344e-06\n",
      "Epoch 2146/3000\n",
      "87006/87006 [==============================] - 10s 119us/step - loss: 1.5365e-060s - loss: 1.51\n",
      "Epoch 2147/3000\n",
      "87006/87006 [==============================] - 8s 97us/step - loss: 1.5381e-06: 0s - loss: 1\n",
      "Epoch 2148/3000\n",
      "87006/87006 [==============================] - 8s 96us/step - loss: 1.5415e-06\n",
      "Epoch 2149/3000\n",
      "87006/87006 [==============================] - 5s 56us/step - loss: 1.5408e-06\n",
      "Epoch 2150/3000\n",
      "87006/87006 [==============================] - 10s 114us/step - loss: 1.5302e-06\n",
      "Epoch 2151/3000\n",
      "87006/87006 [==============================] - 7s 75us/step - loss: 1.5419e-06\n",
      "Epoch 2152/3000\n",
      "87006/87006 [==============================] - 9s 99us/step - loss: 1.5325e-06: 2\n",
      "Epoch 2153/3000\n",
      "87006/87006 [==============================] - 5s 61us/step - loss: 1.5354e-06\n",
      "Epoch 2154/3000\n",
      "87006/87006 [==============================] - 8s 96us/step - loss: 1.5400e-06\n",
      "Epoch 2155/3000\n",
      "87006/87006 [==============================] - 7s 80us/step - loss: 1.5348e-06\n",
      "Epoch 2156/3000\n",
      "87006/87006 [==============================] - 5s 56us/step - loss: 1.5437e-06: 1s - \n",
      "Epoch 2157/3000\n",
      "87006/87006 [==============================] - 4s 50us/step - loss: 1.5353e-06\n",
      "Epoch 2158/3000\n",
      "87006/87006 [==============================] - 5s 62us/step - loss: 1.5407e-06: 0s - loss\n",
      "Epoch 2159/3000\n",
      "87006/87006 [==============================] - 7s 85us/step - loss: 1.5313e-06: 0s - loss: - ETA: 0s - loss: 1.5\n",
      "Epoch 2160/3000\n",
      "87006/87006 [==============================] - 5s 61us/step - loss: 1.5303e-06\n",
      "Epoch 2161/3000\n",
      "87006/87006 [==============================] - 7s 78us/step - loss: 1.5340e-06\n",
      "Epoch 2162/3000\n",
      "  900/87006 [..............................] - ETA: 31s - loss: 1.6258e-06 ETA: 37s - loss: 1.8131e-"
     ]
    },
    {
     "name": "stderr",
     "output_type": "stream",
     "text": [
      "C:\\Users\\User\\.conda\\envs\\theano_v1\\lib\\site-packages\\keras\\callbacks\\callbacks.py:95: RuntimeWarning: Method (on_train_batch_end) is slow compared to the batch update (0.115860). Check your callbacks.\n",
      "  % (hook_name, delta_t_median), RuntimeWarning)\n"
     ]
    },
    {
     "name": "stdout",
     "output_type": "stream",
     "text": [
      "87006/87006 [==============================] - 6s 67us/step - loss: 1.5353e-06: 0s - loss: 1.5362e - ETA: 0s - loss: 1.5\n",
      "Epoch 2163/3000\n",
      "87006/87006 [==============================] - 7s 83us/step - loss: 1.5296e-06\n",
      "Epoch 2164/3000\n",
      "87006/87006 [==============================] - 8s 89us/step - loss: 1.5382e-06\n",
      "Epoch 2165/3000\n",
      "87006/87006 [==============================] - 8s 96us/step - loss: 1.5393e-06\n",
      "Epoch 2166/3000\n",
      "87006/87006 [==============================] - 5s 56us/step - loss: 1.5389e-06\n",
      "Epoch 2167/3000\n",
      "87006/87006 [==============================] - 8s 94us/step - loss: 1.5392e-06\n",
      "Epoch 2168/3000\n",
      "87006/87006 [==============================] - 6s 70us/step - loss: 1.5329e-06\n",
      "Epoch 2169/3000\n",
      "87006/87006 [==============================] - 4s 45us/step - loss: 1.5328e-06\n",
      "Epoch 2170/3000\n",
      "87006/87006 [==============================] - 5s 54us/step - loss: 1.5388e-06\n",
      "Epoch 2171/3000\n",
      "87006/87006 [==============================] - 5s 58us/step - loss: 1.5384e-06\n",
      "Epoch 2172/3000\n",
      "87006/87006 [==============================] - 6s 71us/step - loss: 1.5345e-06\n",
      "Epoch 2173/3000\n",
      "87006/87006 [==============================] - 6s 73us/step - loss: 1.5393e-06: 1s - loss: 1.536 - ETA\n",
      "Epoch 2174/3000\n",
      "87006/87006 [==============================] - 6s 70us/step - loss: 1.5421e-06\n",
      "Epoch 2175/3000\n",
      "87006/87006 [==============================] - 6s 69us/step - loss: 1.5295e-06: 0s - loss: 1.549 - ETA: 0s - loss: 1.5360 - ETA: 0s - loss: 1.5310e-\n",
      "Epoch 2176/3000\n",
      "84000/87006 [===========================>..] - ETA: 0s - loss: 1.5273e-06"
     ]
    },
    {
     "name": "stderr",
     "output_type": "stream",
     "text": [
      "C:\\Users\\User\\.conda\\envs\\theano_v1\\lib\\site-packages\\keras\\callbacks\\callbacks.py:95: RuntimeWarning: Method (on_train_batch_end) is slow compared to the batch update (0.112827). Check your callbacks.\n",
      "  % (hook_name, delta_t_median), RuntimeWarning)\n"
     ]
    },
    {
     "name": "stdout",
     "output_type": "stream",
     "text": [
      "87006/87006 [==============================] - 10s 118us/step - loss: 1.5438e-06\n"
     ]
    },
    {
     "name": "stderr",
     "output_type": "stream",
     "text": [
      "C:\\Users\\User\\.conda\\envs\\theano_v1\\lib\\site-packages\\keras\\callbacks\\callbacks.py:95: RuntimeWarning: Method (on_train_batch_end) is slow compared to the batch update (0.102048). Check your callbacks.\n",
      "  % (hook_name, delta_t_median), RuntimeWarning)\n"
     ]
    },
    {
     "name": "stdout",
     "output_type": "stream",
     "text": [
      "Epoch 2177/3000\n",
      "87006/87006 [==============================] - 10s 111us/step - loss: 1.5385e-06\n",
      "Epoch 2178/3000\n",
      "87006/87006 [==============================] - 7s 84us/step - loss: 1.5330e-06: \n",
      "Epoch 2179/3000\n",
      "87006/87006 [==============================] - 11s 122us/step - loss: 1.5337e-06\n",
      "Epoch 2180/3000\n",
      "87006/87006 [==============================] - 10s 119us/step - loss: 1.5394e-06\n",
      "Epoch 2181/3000\n",
      "87006/87006 [==============================] - 5s 61us/step - loss: 1.5302e-06\n",
      "Epoch 2182/3000\n",
      "87006/87006 [==============================] - 7s 82us/step - loss: 1.5295e-06: 0s - l\n",
      "Epoch 2183/3000\n",
      "87006/87006 [==============================] - 7s 79us/step - loss: 1.5331e-06\n",
      "Epoch 2184/3000\n",
      "87006/87006 [==============================] - 7s 78us/step - loss: 1.5347e-06\n",
      "Epoch 2185/3000\n",
      "87006/87006 [==============================] - 8s 96us/step - loss: 1.5391e-06: 1s -\n",
      "Epoch 2186/3000\n",
      "87006/87006 [==============================] - 7s 85us/step - loss: 1.5337e-06: 0s - loss: 1.540 - ETA: 0s - loss: 1.5370\n",
      "Epoch 2187/3000\n",
      "87006/87006 [==============================] - 11s 122us/step - loss: 1.5412e-06\n",
      "Epoch 2188/3000\n",
      " 1500/87006 [..............................] - ETA: 17s - loss: 1.4181e-06"
     ]
    },
    {
     "name": "stderr",
     "output_type": "stream",
     "text": [
      "C:\\Users\\User\\.conda\\envs\\theano_v1\\lib\\site-packages\\keras\\callbacks\\callbacks.py:95: RuntimeWarning: Method (on_train_batch_end) is slow compared to the batch update (0.118864). Check your callbacks.\n",
      "  % (hook_name, delta_t_median), RuntimeWarning)\n"
     ]
    },
    {
     "name": "stdout",
     "output_type": "stream",
     "text": [
      "87006/87006 [==============================] - 6s 66us/step - loss: 1.5346e-06\n",
      "Epoch 2189/3000\n",
      "87006/87006 [==============================] - 7s 86us/step - loss: 1.5372e-06\n",
      "Epoch 2190/3000\n",
      "87006/87006 [==============================] - 8s 89us/step - loss: 1.5340e-06\n",
      "Epoch 2191/3000\n",
      "87006/87006 [==============================] - 7s 80us/step - loss: 1.5365e-06 - ETA: 3s -  - ETA: 0s - loss: \n",
      "Epoch 2192/3000\n",
      "87006/87006 [==============================] - 9s 100us/step - loss: 1.5285e-06\n",
      "Epoch 2193/3000\n",
      "87006/87006 [==============================] - 6s 70us/step - loss: 1.5319e-06\n",
      "Epoch 2194/3000\n",
      "87006/87006 [==============================] - 11s 127us/step - loss: 1.5376e-06\n",
      "Epoch 2195/3000\n",
      "87006/87006 [==============================] - 7s 81us/step - loss: 1.5399e-06\n",
      "Epoch 2196/3000\n",
      "87006/87006 [==============================] - 9s 108us/step - loss: 1.5320e-06\n",
      "Epoch 2197/3000\n",
      "87006/87006 [==============================] - 11s 125us/step - loss: 1.5376e-06\n",
      "Epoch 2198/3000\n",
      "87006/87006 [==============================] - 11s 123us/step - loss: 1.5384e-06ETA: 1s -  - ETA: 0s - l\n",
      "Epoch 2199/3000\n",
      "87006/87006 [==============================] - 8s 91us/step - loss: 1.5336e-06\n",
      "Epoch 2200/3000\n",
      "87006/87006 [==============================] - 10s 116us/step - loss: 1.5331e-06 - val_loss: 1.8533e-06\n",
      "Epoch 2201/3000\n",
      "87006/87006 [==============================] - 7s 85us/step - loss: 1.5355e-06\n",
      "Epoch 2202/3000\n",
      "87006/87006 [==============================] - 8s 98us/step - loss: 1.5376e-06: 4s - loss: 1.5990e -\n",
      "Epoch 2203/3000\n",
      "87006/87006 [==============================] - 8s 93us/step - loss: 1.5442e-06\n",
      "Epoch 2204/3000\n",
      "87006/87006 [==============================] - 9s 101us/step - loss: 1.5290e-06\n",
      "Epoch 2205/3000\n",
      "87006/87006 [==============================] - 7s 81us/step - loss: 1.5329e-06: 1s - l\n",
      "Epoch 2206/3000\n",
      "87006/87006 [==============================] - 10s 109us/step - loss: 1.5407e-068s - lo\n",
      "Epoch 2207/3000\n",
      "87006/87006 [==============================] - 9s 106us/step - loss: 1.5377e-06\n",
      "Epoch 2208/3000\n",
      "87006/87006 [==============================] - 6s 73us/step - loss: 1.5353e-06\n",
      "Epoch 2209/3000\n",
      "87006/87006 [==============================] - 7s 82us/step - loss: 1.5339e-06: 0s - loss\n",
      "Epoch 2210/3000\n",
      "87006/87006 [==============================] - 10s 118us/step - loss: 1.5346e-065s - - ETA\n",
      "Epoch 2211/3000\n",
      "87006/87006 [==============================] - 10s 113us/step - loss: 1.5346e-06\n",
      "Epoch 2212/3000\n",
      "87006/87006 [==============================] - 12s 135us/step - loss: 1.5414e-061s \n",
      "Epoch 2213/3000\n",
      "87006/87006 [==============================] - 10s 117us/step - loss: 1.5327e-06 ETA: 2s - l - ETA:\n",
      "Epoch 2214/3000\n",
      "87006/87006 [==============================] - 10s 114us/step - loss: 1.5358e-061s \n",
      "Epoch 2215/3000\n",
      "87006/87006 [==============================] - 5s 52us/step - loss: 1.5341e-06\n",
      "Epoch 2216/3000\n",
      "87006/87006 [==============================] - 5s 59us/step - loss: 1.5317e-06\n",
      "Epoch 2217/3000\n",
      "87006/87006 [==============================] - 6s 65us/step - loss: 1.5302e-06\n",
      "Epoch 2218/3000\n",
      "87006/87006 [==============================] - 6s 75us/step - loss: 1.5350e-06\n",
      "Epoch 2219/3000\n",
      "87006/87006 [==============================] - 6s 68us/step - loss: 1.5366e-06: 0s - loss\n",
      "Epoch 2220/3000\n",
      "87006/87006 [==============================] - 6s 71us/step - loss: 1.5311e-06\n",
      "Epoch 2221/3000\n",
      "87006/87006 [==============================] - 6s 66us/step - loss: 1.5363e-06: 0s - loss: 1.54\n",
      "Epoch 2222/3000\n",
      "87006/87006 [==============================] - 7s 85us/step - loss: 1.5314e-06: 3 - ETA: 3s - loss: - - ETA\n",
      "Epoch 2223/3000\n",
      "87006/87006 [==============================] - 9s 101us/step - loss: 1.5428e-06ETA: 0s - loss: 1.5414e-\n",
      "Epoch 2224/3000\n",
      "87006/87006 [==============================] - 9s 102us/step - loss: 1.5313e-06 0s - loss: 1\n",
      "Epoch 2225/3000\n",
      "87006/87006 [==============================] - 10s 114us/step - loss: 1.5371e-06\n",
      "Epoch 2226/3000\n",
      "87006/87006 [==============================] - 7s 83us/step - loss: 1.5317e-06: 1s - l\n",
      "Epoch 2227/3000\n",
      "87006/87006 [==============================] - 5s 58us/step - loss: 1.5333e-06\n",
      "Epoch 2228/3000\n",
      "87006/87006 [==============================] - 6s 66us/step - loss: 1.5425e-06\n",
      "Epoch 2229/3000\n",
      "87006/87006 [==============================] - 8s 98us/step - loss: 1.5322e-06\n",
      "Epoch 2230/3000\n",
      "87006/87006 [==============================] - 5s 55us/step - loss: 1.5300e-06: 1s - loss:  - ETA: 0s - loss:\n",
      "Epoch 2231/3000\n",
      "87006/87006 [==============================] - 7s 76us/step - loss: 1.5289e-06\n",
      "Epoch 2232/3000\n",
      "87006/87006 [==============================] - 8s 88us/step - loss: 1.5459e-06\n",
      "Epoch 2233/3000\n",
      "87006/87006 [==============================] - 7s 78us/step - loss: 1.5295e-06: 2s - loss: 1.5462 - ETA: 1s - lo\n",
      "Epoch 2234/3000\n",
      "87006/87006 [==============================] - 6s 73us/step - loss: 1.5388e-06\n",
      "Epoch 2235/3000\n",
      "87006/87006 [==============================] - 9s 104us/step - loss: 1.5383e-06\n",
      "Epoch 2236/3000\n",
      "87006/87006 [==============================] - 9s 98us/step - loss: 1.5352e-06\n",
      "Epoch 2237/3000\n",
      "87006/87006 [==============================] - 9s 109us/step - loss: 1.5304e-06 2s - loss: 1.547 - ETA: 1s -  - ETA: 0s - loss: \n",
      "Epoch 2238/3000\n",
      "87006/87006 [==============================] - 8s 93us/step - loss: 1.5352e-06\n",
      "Epoch 2239/3000\n",
      "87006/87006 [==============================] - 8s 91us/step - loss: 1.5349e-06\n",
      "Epoch 2240/3000\n",
      "87006/87006 [==============================] - 8s 96us/step - loss: 1.5302e-06\n",
      "Epoch 2241/3000\n",
      "87006/87006 [==============================] - 9s 107us/step - loss: 1.5278e-06\n",
      "Epoch 2242/3000\n",
      "87006/87006 [==============================] - 11s 121us/step - loss: 1.5367e-062s - loss: 1.5 - ETA:  - ETA: 0s - loss: \n",
      "Epoch 2243/3000\n",
      "87006/87006 [==============================] - 9s 104us/step - loss: 1.5306e-06\n",
      "Epoch 2244/3000\n",
      "87006/87006 [==============================] - 4s 42us/step - loss: 1.5389e-06: 0s - l\n",
      "Epoch 2245/3000\n",
      "87006/87006 [==============================] - 6s 71us/step - loss: 1.5251e-06\n",
      "Epoch 2246/3000\n",
      "87006/87006 [==============================] - 7s 85us/step - loss: 1.5315e-06: 1s\n",
      "Epoch 2247/3000\n",
      "87006/87006 [==============================] - 5s 60us/step - loss: 1.5455e-06\n",
      "Epoch 2248/3000\n",
      "87006/87006 [==============================] - 10s 118us/step - loss: 1.5345e-06\n",
      "Epoch 2249/3000\n",
      "87006/87006 [==============================] - 8s 94us/step - loss: 1.5338e-06\n",
      "Epoch 2250/3000\n",
      "87006/87006 [==============================] - 10s 116us/step - loss: 1.5466e-06\n",
      "Epoch 2251/3000\n",
      "87006/87006 [==============================] - 12s 140us/step - loss: 1.5300e-060s - loss: 1\n",
      "Epoch 2252/3000\n",
      "87006/87006 [==============================] - 10s 111us/step - loss: 1.5386e-06\n",
      "Epoch 2253/3000\n",
      "87006/87006 [==============================] - 14s 160us/step - loss: 1.5408e-064s - l - ETA: 2s - loss: 1.52 - ETA: 2s -  - ETA: 0s -\n",
      "Epoch 2254/3000\n",
      "87006/87006 [==============================] - 14s 156us/step - loss: 1.5313e-06\n",
      "Epoch 2255/3000\n",
      "87006/87006 [==============================] - 16s 185us/step - loss: 1.5429e-06\n",
      "Epoch 2256/3000\n",
      "87006/87006 [==============================] - 9s 106us/step - loss: 1.5370e-06\n",
      "Epoch 2257/3000\n",
      " 1200/87006 [..............................] - ETA: 21s - loss: 1.4854e- - ETA: 16s - loss: 1.6142e-06"
     ]
    },
    {
     "name": "stderr",
     "output_type": "stream",
     "text": [
      "C:\\Users\\User\\.conda\\envs\\theano_v1\\lib\\site-packages\\keras\\callbacks\\callbacks.py:95: RuntimeWarning: Method (on_train_batch_end) is slow compared to the batch update (0.123464). Check your callbacks.\n",
      "  % (hook_name, delta_t_median), RuntimeWarning)\n"
     ]
    },
    {
     "name": "stdout",
     "output_type": "stream",
     "text": [
      "87006/87006 [==============================] - 10s 110us/step - loss: 1.5294e-06\n",
      "Epoch 2258/3000\n",
      "87006/87006 [==============================] - 7s 80us/step - loss: 1.5396e-06: 4s - loss: 1. - ETA: 4s - l - ETA - ETA: 2s - loss: 1. - ETA: 0s - loss:  - ETA: 0s - loss: 1.5244\n",
      "Epoch 2259/3000\n",
      "87006/87006 [==============================] - 10s 112us/step - loss: 1.5284e-061s - los - ETA: 0s - loss: 1.52\n",
      "Epoch 2260/3000\n",
      "87006/87006 [==============================] - 11s 122us/step - loss: 1.5365e-06\n",
      "Epoch 2261/3000\n",
      "87006/87006 [==============================] - 9s 100us/step - loss: 1.5319e-06\n",
      "Epoch 2262/3000\n",
      "87006/87006 [==============================] - 7s 82us/step - loss: 1.5347e-06: 2s - loss: 1.46 - ETA: 5s - l - ETA: 1s - loss - ETA: 0s - loss:  - ETA: 0s - loss: 1.5348e-0\n",
      "Epoch 2263/3000\n",
      "87006/87006 [==============================] - 7s 82us/step - loss: 1.5346e-06\n",
      "Epoch 2264/3000\n",
      "87006/87006 [==============================] - 5s 52us/step - loss: 1.5322e-06\n",
      "Epoch 2265/3000\n",
      "87006/87006 [==============================] - 5s 58us/step - loss: 1.5320e-06: 0s - loss: 1.536 - ETA: 0s - loss: 1.529\n",
      "Epoch 2266/3000\n",
      "87006/87006 [==============================] - 9s 100us/step - loss: 1.5326e-06 1s - \n",
      "Epoch 2267/3000\n",
      "87006/87006 [==============================] - 6s 64us/step - loss: 1.5374e-06: 3s - lo - ETA: 2s - loss: 1.5 - ETA: 2s - loss: 1.56 - ETA: \n",
      "Epoch 2268/3000\n",
      "87006/87006 [==============================] - 7s 81us/step - loss: 1.5279e-06\n",
      "Epoch 2269/3000\n",
      "87006/87006 [==============================] - 5s 53us/step - loss: 1.5402e-06\n",
      "Epoch 2270/3000\n",
      "87006/87006 [==============================] - 8s 88us/step - loss: 1.5309e-06\n",
      "Epoch 2271/3000\n",
      "87006/87006 [==============================] - 6s 67us/step - loss: 1.5321e-06\n",
      "Epoch 2272/3000\n",
      "87006/87006 [==============================] - 3s 38us/step - loss: 1.5328e-06\n",
      "Epoch 2273/3000\n",
      "87006/87006 [==============================] - 7s 85us/step - loss: 1.5267e-06: 0s -\n",
      "Epoch 2274/3000\n",
      "87006/87006 [==============================] - 6s 67us/step - loss: 1.5292e-06: 4s - lo\n",
      "Epoch 2275/3000\n",
      "87006/87006 [==============================] - 6s 72us/step - loss: 1.5338e-06\n",
      "Epoch 2276/3000\n",
      "87006/87006 [==============================] - 6s 71us/step - loss: 1.5332e-06\n",
      "Epoch 2277/3000\n",
      "87006/87006 [==============================] - 7s 79us/step - loss: 1.5385e-06: 1s - loss: 1.5113e- \n",
      "Epoch 2278/3000\n",
      "87006/87006 [==============================] - 7s 85us/step - loss: 1.5282e-06: 3s  -\n",
      "Epoch 2279/3000\n",
      "87006/87006 [==============================] - 8s 97us/step - loss: 1.5357e-06\n",
      "Epoch 2280/3000\n",
      "87006/87006 [==============================] - 9s 107us/step - loss: 1.5339e-06 1s - loss: \n",
      "Epoch 2281/3000\n",
      "87006/87006 [==============================] - 7s 84us/step - loss: 1.5290e-06: 1s -\n",
      "Epoch 2282/3000\n",
      "87006/87006 [==============================] - 6s 72us/step - loss: 1.5316e-06\n",
      "Epoch 2283/3000\n",
      "87006/87006 [==============================] - 6s 70us/step - loss: 1.5325e-06\n",
      "Epoch 2284/3000\n",
      "87006/87006 [==============================] - 7s 75us/step - loss: 1.5325e-06\n",
      "Epoch 2285/3000\n",
      "87006/87006 [==============================] - 6s 69us/step - loss: 1.5321e-06\n",
      "Epoch 2286/3000\n",
      "87006/87006 [==============================] - 7s 84us/step - loss: 1.5356e-06\n",
      "Epoch 2287/3000\n",
      "87006/87006 [==============================] - 9s 108us/step - loss: 1.5286e-06 1s - loss:\n",
      "Epoch 2288/3000\n",
      "87006/87006 [==============================] - 8s 90us/step - loss: 1.5444e-06: 4s - loss: 1.5185e-0 - ETA: 4s - loss: 1.5198e - - ETA: 0s -\n",
      "Epoch 2289/3000\n",
      "87006/87006 [==============================] - 9s 109us/step - loss: 1.5308e-06\n",
      "Epoch 2290/3000\n",
      "87006/87006 [==============================] - 7s 80us/step - loss: 1.5303e-06: 0s - loss: \n",
      "Epoch 2291/3000\n",
      "87006/87006 [==============================] - 9s 107us/step - loss: 1.5393e-06\n",
      "Epoch 2292/3000\n",
      "87006/87006 [==============================] - ETA: 0s - loss: 1.5295e-0 - 6s 72us/step - loss: 1.5303e-06\n",
      "Epoch 2293/3000\n",
      "87006/87006 [==============================] - 8s 90us/step - loss: 1.5321e-06\n",
      "Epoch 2294/3000\n",
      "87006/87006 [==============================] - 8s 87us/step - loss: 1.5321e-06\n",
      "Epoch 2295/3000\n",
      "87006/87006 [==============================] - 5s 53us/step - loss: 1.5333e-06: 1s - los - ETA: 0s - los\n",
      "Epoch 2296/3000\n",
      "87006/87006 [==============================] - 7s 83us/step - loss: 1.5284e-06\n",
      "Epoch 2297/3000\n",
      "87006/87006 [==============================] - 7s 75us/step - loss: 1.5340e-06\n",
      "Epoch 2298/3000\n",
      "87006/87006 [==============================] - 8s 92us/step - loss: 1.5342e-06\n",
      "Epoch 2299/3000\n",
      "87006/87006 [==============================] - 8s 96us/step - loss: 1.5384e-06\n",
      "Epoch 2300/3000\n",
      "87006/87006 [==============================] - 8s 95us/step - loss: 1.5417e-06 - val_loss: 1.8592e-06\n",
      "Epoch 2301/3000\n",
      "87006/87006 [==============================] - 6s 72us/step - loss: 1.5358e-06: 0 - ETA: 0s - loss: 1.5412 - ETA: 0s - lo\n",
      "Epoch 2302/3000\n",
      "87006/87006 [==============================] - 7s 77us/step - loss: 1.5365e-06: 1s - los - ETA: 0s - loss: 1.5\n",
      "Epoch 2303/3000\n",
      "87006/87006 [==============================] - 9s 102us/step - loss: 1.5359e-06\n",
      "Epoch 2304/3000\n",
      "87006/87006 [==============================] - 6s 71us/step - loss: 1.5317e-06\n",
      "Epoch 2305/3000\n",
      "87006/87006 [==============================] - 5s 55us/step - loss: 1.5302e-06: 0s -\n",
      "Epoch 2306/3000\n",
      "87006/87006 [==============================] - 7s 83us/step - loss: 1.5327e-06: 4s - loss: 1.5380e - E - ETA: 0s - loss: 1.\n",
      "Epoch 2307/3000\n",
      "87006/87006 [==============================] - 5s 62us/step - loss: 1.5351e-06: 5s - lo - ETA: 3s - loss: 1 - ETA: 2s  - ETA: 0s - loss: 1.5\n",
      "Epoch 2308/3000\n",
      "87006/87006 [==============================] - 8s 94us/step - loss: 1.5699e-06\n",
      "Epoch 2309/3000\n",
      "87006/87006 [==============================] - 7s 78us/step - loss: 1.5258e-06: 0s - loss: 1.53\n",
      "Epoch 2310/3000\n",
      "87006/87006 [==============================] - 10s 115us/step - loss: 1.5354e-06\n",
      "Epoch 2311/3000\n",
      "87006/87006 [==============================] - 9s 108us/step - loss: 1.5323e-06\n",
      "Epoch 2312/3000\n",
      "87006/87006 [==============================] - 7s 83us/step - loss: 1.5387e-06: \n",
      "Epoch 2313/3000\n",
      "87006/87006 [==============================] - 7s 76us/step - loss: 1.5356e-06TA: 0s - loss: 1.51 - ETA: 0s - loss: 1.5400e\n",
      "Epoch 2314/3000\n",
      "87006/87006 [==============================] - 10s 112us/step - loss: 1.5382e-065s - lo - ETA:\n",
      "Epoch 2315/3000\n",
      "87006/87006 [==============================] - 6s 69us/step - loss: 1.5339e-06\n",
      "Epoch 2316/3000\n",
      "87006/87006 [==============================] - 6s 72us/step - loss: 1.5264e-06\n",
      "Epoch 2317/3000\n",
      "87006/87006 [==============================] - 7s 80us/step - loss: 1.5392e-06\n",
      "Epoch 2318/3000\n",
      "87006/87006 [==============================] - 5s 60us/step - loss: 1.5331e-06\n",
      "Epoch 2319/3000\n",
      "87006/87006 [==============================] - 8s 91us/step - loss: 1.5318e-06\n",
      "Epoch 2320/3000\n",
      "87006/87006 [==============================] - 9s 102us/step - loss: 1.5314e-06 \n",
      "Epoch 2321/3000\n",
      "87006/87006 [==============================] - 8s 89us/step - loss: 1.5271e-06 ETA: \n",
      "Epoch 2322/3000\n",
      "87006/87006 [==============================] - 8s 91us/step - loss: 1.5367e-06\n",
      "Epoch 2323/3000\n",
      "87006/87006 [==============================] - 7s 79us/step - loss: 1.5345e-06:\n",
      "Epoch 2324/3000\n",
      "87006/87006 [==============================] - 10s 118us/step - loss: 1.5344e-060s - loss: 1.\n",
      "Epoch 2325/3000\n",
      "87006/87006 [==============================] - 5s 62us/step - loss: 1.5365e-06\n",
      "Epoch 2326/3000\n",
      "87006/87006 [==============================] - 7s 82us/step - loss: 1.5310e-06: 2s - lo - ETA: 1s - los\n",
      "Epoch 2327/3000\n",
      "87006/87006 [==============================] - 7s 75us/step - loss: 1.5281e-06TA: 0s - loss: 1.51\n",
      "Epoch 2328/3000\n",
      "87006/87006 [==============================] - 8s 96us/step - loss: 1.5275e-06: 4s - lo - ETA: 4s - lo - ETA: 1s \n",
      "Epoch 2329/3000\n",
      "87006/87006 [==============================] - 6s 71us/step - loss: 1.5296e-06\n",
      "Epoch 2330/3000\n",
      "87006/87006 [==============================] - 8s 91us/step - loss: 1.5337e-06: 2s - loss: 1.5074 - ETA: 1s - l\n",
      "Epoch 2331/3000\n",
      "87006/87006 [==============================] - 5s 58us/step - loss: 1.5318e-06: \n",
      "Epoch 2332/3000\n",
      "87006/87006 [==============================] - 8s 89us/step - loss: 1.5296e-06: 4s - - ETA: 2s - lo\n",
      "Epoch 2333/3000\n",
      "87006/87006 [==============================] - 8s 88us/step - loss: 1.5373e-06: 1s - los\n",
      "Epoch 2334/3000\n",
      "87006/87006 [==============================] - 5s 54us/step - loss: 1.5308e-06\n",
      "Epoch 2335/3000\n",
      "87006/87006 [==============================] - 8s 95us/step - loss: 1.5288e-06: 5s - loss - ETA: 4s \n",
      "Epoch 2336/3000\n",
      "87006/87006 [==============================] - 9s 104us/step - loss: 1.5334e-06\n",
      "Epoch 2337/3000\n",
      "87006/87006 [==============================] - 8s 88us/step - loss: 1.5327e-06: 4s - loss: 1.5048e-0 -  - ETA: 0s - loss: 1.5351\n",
      "Epoch 2338/3000\n",
      "87006/87006 [==============================] - 6s 65us/step - loss: 1.5364e-06: 5s - los - ETA: 5s - loss: 1.58\n",
      "Epoch 2339/3000\n",
      "87006/87006 [==============================] - 4s 41us/step - loss: 1.5278e-06: 0s - loss: 1.51\n",
      "Epoch 2340/3000\n",
      "87006/87006 [==============================] - 9s 103us/step - loss: 1.5270e-06 \n",
      "Epoch 2341/3000\n",
      "87006/87006 [==============================] - 6s 70us/step - loss: 1.5275e-06: 0s - lo\n",
      "Epoch 2342/3000\n",
      "87006/87006 [==============================] - 6s 72us/step - loss: 1.5313e-06: 1s -  - ETA: 1s - loss - ETA: 0s - loss:  - ETA: 0s - loss: 1.5247e\n",
      "Epoch 2343/3000\n",
      "87006/87006 [==============================] - 4s 45us/step - loss: 1.5386e-06\n",
      "Epoch 2344/3000\n",
      "87006/87006 [==============================] - 6s 71us/step - loss: 1.5284e-06: 3s - loss: 1.4925e- - ETA:\n",
      "Epoch 2345/3000\n",
      "87006/87006 [==============================] - 8s 92us/step - loss: 1.5347e-06: 4s - loss: 1.51 - ETA: 1s - l\n",
      "Epoch 2346/3000\n",
      "87006/87006 [==============================] - 5s 61us/step - loss: 1.5333e-06\n",
      "Epoch 2347/3000\n",
      "87006/87006 [==============================] - 9s 102us/step - loss: 1.5310e-06\n",
      "Epoch 2348/3000\n",
      "87006/87006 [==============================] - 7s 76us/step - loss: 1.5319e-06\n",
      "Epoch 2349/3000\n",
      "87006/87006 [==============================] - 7s 81us/step - loss: 1.5352e-06\n",
      "Epoch 2350/3000\n",
      "87006/87006 [==============================] - 4s 48us/step - loss: 1.5314e-06\n",
      "Epoch 2351/3000\n",
      "87006/87006 [==============================] - 9s 99us/step - loss: 1.5295e-06\n",
      "Epoch 2352/3000\n",
      "87006/87006 [==============================] - 8s 92us/step - loss: 1.5318e-06: 0s - loss:  - ETA: 0s - loss: 1.5339e\n",
      "Epoch 2353/3000\n",
      "87006/87006 [==============================] - 9s 102us/step - loss: 1.5340e-06 3 - ETA: 2s - l\n",
      "Epoch 2354/3000\n",
      "87006/87006 [==============================] - 5s 60us/step - loss: 1.5420e-06: 0s - loss: 1.5421e-0\n",
      "Epoch 2355/3000\n",
      "87006/87006 [==============================] - 12s 133us/step - loss: 1.5348e-06\n",
      "Epoch 2356/3000\n",
      "87006/87006 [==============================] - 10s 110us/step - loss: 1.5357e-06\n",
      "Epoch 2357/3000\n",
      "87006/87006 [==============================] - 10s 114us/step - loss: 1.5323e-06\n",
      "Epoch 2358/3000\n",
      "87006/87006 [==============================] - 9s 108us/step - loss: 1.5336e-06 0s - loss: 1.534\n",
      "Epoch 2359/3000\n",
      "87006/87006 [==============================] - 12s 135us/step - loss: 1.5376e-062s \n",
      "Epoch 2360/3000\n",
      "87006/87006 [==============================] - 11s 132us/step - loss: 1.5425e-06\n",
      "Epoch 2361/3000\n",
      "87006/87006 [==============================] - 9s 105us/step - loss: 1.5332e-06 1s - loss: 1. - ETA: 0s\n",
      "Epoch 2362/3000\n",
      "87006/87006 [==============================] - 9s 108us/step - loss: 1.5276e-06\n",
      "Epoch 2363/3000\n",
      "87006/87006 [==============================] - 10s 111us/step - loss: 1.5281e-068s - loss - - ETA: 4s - loss: - ETA: 4s - \n",
      "Epoch 2364/3000\n",
      "87006/87006 [==============================] - 9s 102us/step - loss: 1.5264e-06\n",
      "Epoch 2365/3000\n",
      "87006/87006 [==============================] - ETA: 0s - loss: 1.5423e-06- ETA: 1s - loss: - 9s 108us/step - loss: 1.5402e-06\n",
      "Epoch 2366/3000\n",
      "87006/87006 [==============================] - 10s 113us/step - loss: 1.5278e-06\n",
      "Epoch 2367/3000\n",
      "87006/87006 [==============================] - 11s 123us/step - loss: 1.5299e-06\n",
      "Epoch 2368/3000\n",
      "87006/87006 [==============================] - 10s 115us/step - loss: 1.5312e-063\n",
      "Epoch 2369/3000\n",
      "87006/87006 [==============================] - 11s 122us/step - loss: 1.5280e-060s - loss: \n",
      "Epoch 2370/3000\n",
      "87006/87006 [==============================] - 10s 113us/step - loss: 1.5326e-06\n",
      "Epoch 2371/3000\n",
      "87006/87006 [==============================] - 9s 100us/step - loss: 1.5321e-06\n",
      "Epoch 2372/3000\n",
      "87006/87006 [==============================] - 6s 68us/step - loss: 1.5383e-06\n",
      "Epoch 2373/3000\n",
      "87006/87006 [==============================] - 6s 67us/step - loss: 1.5279e-06: 0s - loss: 1.5\n",
      "Epoch 2374/3000\n",
      "87006/87006 [==============================] - 7s 86us/step - loss: 1.5283e-06: 4s - loss\n",
      "Epoch 2375/3000\n",
      "87006/87006 [==============================] - 3s 34us/step - loss: 1.5321e-06\n",
      "Epoch 2376/3000\n",
      "87006/87006 [==============================] - 8s 92us/step - loss: 1.5362e-06: 2s - loss - ETA: 2s - loss:  - ETA: 2s -  -\n",
      "Epoch 2377/3000\n",
      "87006/87006 [==============================] - 8s 87us/step - loss: 1.5362e-06: - ETA:\n",
      "Epoch 2378/3000\n",
      "87006/87006 [==============================] - 7s 75us/step - loss: 1.5440e-06 - ETA: 0s - los\n",
      "Epoch 2379/3000\n",
      "87006/87006 [==============================] - 12s 134us/step - loss: 1.5278e-06\n",
      "Epoch 2380/3000\n",
      "87006/87006 [==============================] - 8s 97us/step - loss: 1.5426e-06\n",
      "Epoch 2381/3000\n",
      "87006/87006 [==============================] - 8s 96us/step - loss: 1.5457e-06\n",
      "Epoch 2382/3000\n",
      "87006/87006 [==============================] - 8s 96us/step - loss: 1.5320e-06: 1s - loss: 1.5 - ET\n",
      "Epoch 2383/3000\n",
      "46200/87006 [==============>...............] - ETA: 5s - loss: 1.5308e-06"
     ]
    },
    {
     "name": "stderr",
     "output_type": "stream",
     "text": [
      "C:\\Users\\User\\.conda\\envs\\theano_v1\\lib\\site-packages\\keras\\callbacks\\callbacks.py:95: RuntimeWarning: Method (on_train_batch_end) is slow compared to the batch update (0.122836). Check your callbacks.\n",
      "  % (hook_name, delta_t_median), RuntimeWarning)\n"
     ]
    },
    {
     "name": "stdout",
     "output_type": "stream",
     "text": [
      "87006/87006 [==============================] - 11s 126us/step - loss: 1.5429e-06\n",
      "Epoch 2384/3000\n",
      "87006/87006 [==============================] - 9s 105us/step - loss: 1.5320e-06 1s - - ETA: 0s - loss: 1\n",
      "Epoch 2385/3000\n",
      "87006/87006 [==============================] - 7s 82us/step - loss: 1.5253e-06: 10s - los\n",
      "Epoch 2386/3000\n",
      "87006/87006 [==============================] - 7s 84us/step - loss: 1.5353e-06\n",
      "Epoch 2387/3000\n",
      "87006/87006 [==============================] - 8s 89us/step - loss: 1.5370e-06\n",
      "Epoch 2388/3000\n",
      "87006/87006 [==============================] - 4s 52us/step - loss: 1.5351e-06\n",
      "Epoch 2389/3000\n",
      "87006/87006 [==============================] - 10s 118us/step - loss: 1.5363e-060s - loss: 1.\n",
      "Epoch 2390/3000\n",
      "87006/87006 [==============================] - 7s 85us/step - loss: 1.5359e-06: 1s\n",
      "Epoch 2391/3000\n",
      "87006/87006 [==============================] - 7s 83us/step - loss: 1.5315e-06\n",
      "Epoch 2392/3000\n",
      "87006/87006 [==============================] - 7s 85us/step - loss: 1.5280e-06: 0s \n",
      "Epoch 2393/3000\n",
      "87006/87006 [==============================] - 6s 70us/step - loss: 1.5322e-06\n",
      "Epoch 2394/3000\n",
      "87006/87006 [==============================] - 7s 82us/step - loss: 1.5357e-06: 4s  - E\n",
      "Epoch 2395/3000\n",
      "87006/87006 [==============================] - 9s 100us/step - loss: 1.5295e-06 3s - loss: 1.\n",
      "Epoch 2396/3000\n",
      "87006/87006 [==============================] - 9s 106us/step - loss: 1.5358e-06 0s - loss: 1.5455 - ETA: 0s - loss: 1.5369e\n",
      "Epoch 2397/3000\n",
      "87006/87006 [==============================] - 7s 85us/step - loss: 1.5391e-06: 0s - loss\n",
      "Epoch 2398/3000\n",
      "87006/87006 [==============================] - 9s 103us/step - loss: 1.5340e-06: 4s - loss: 1.879 - ETA: 4s - l - ETA: 2s - los - ETA: 2s - l - ETA: 1s \n",
      "Epoch 2399/3000\n",
      "87006/87006 [==============================] - 11s 127us/step - loss: 1.5339e-06\n",
      "Epoch 2400/3000\n",
      "87006/87006 [==============================] - 8s 92us/step - loss: 1.5393e-06 - val_loss: 1.7815e-06\n",
      "Epoch 2401/3000\n",
      "  900/87006 [..............................] - ETA: 26s - loss: 1.3492e-06"
     ]
    },
    {
     "name": "stderr",
     "output_type": "stream",
     "text": [
      "C:\\Users\\User\\.conda\\envs\\theano_v1\\lib\\site-packages\\keras\\callbacks\\callbacks.py:95: RuntimeWarning: Method (on_train_batch_end) is slow compared to the batch update (0.186375). Check your callbacks.\n",
      "  % (hook_name, delta_t_median), RuntimeWarning)\n",
      "C:\\Users\\User\\.conda\\envs\\theano_v1\\lib\\site-packages\\keras\\callbacks\\callbacks.py:95: RuntimeWarning: Method (on_train_batch_end) is slow compared to the batch update (0.116619). Check your callbacks.\n",
      "  % (hook_name, delta_t_median), RuntimeWarning)\n"
     ]
    },
    {
     "name": "stdout",
     "output_type": "stream",
     "text": [
      "87006/87006 [==============================] - 6s 68us/step - loss: 1.5292e-06- ETA: 2s - loss: - ETA: 1s -  - ETA: 0s - loss: 1 - ETA: 0s - loss: 1.522\n",
      "Epoch 2402/3000\n",
      "87006/87006 [==============================] - 6s 74us/step - loss: 1.5465e-06\n",
      "Epoch 2403/3000\n",
      "87006/87006 [==============================] - 6s 72us/step - loss: 1.5279e-06\n",
      "Epoch 2404/3000\n",
      "87006/87006 [==============================] - 6s 67us/step - loss: 1.5240e-06: 1s - los - ETA: 0s - loss\n",
      "Epoch 2405/3000\n",
      "87006/87006 [==============================] - 6s 74us/step - loss: 1.5322e-06: 0s - loss: 1.522 - ETA: 0s -\n",
      "Epoch 2406/3000\n",
      "87006/87006 [==============================] - 9s 103us/step - loss: 1.5348e-06\n",
      "Epoch 2407/3000\n",
      "87006/87006 [==============================] - 9s 99us/step - loss: 1.5324e-06\n",
      "Epoch 2408/3000\n",
      " 1800/87006 [..............................] - ETA: 21s - loss: 1.9238e-06"
     ]
    },
    {
     "name": "stderr",
     "output_type": "stream",
     "text": [
      "C:\\Users\\User\\.conda\\envs\\theano_v1\\lib\\site-packages\\keras\\callbacks\\callbacks.py:95: RuntimeWarning: Method (on_train_batch_end) is slow compared to the batch update (0.117062). Check your callbacks.\n",
      "  % (hook_name, delta_t_median), RuntimeWarning)\n"
     ]
    },
    {
     "name": "stdout",
     "output_type": "stream",
     "text": [
      "87006/87006 [==============================] - 7s 81us/step - loss: 1.5296e-06: 1s - loss: - ETA: 1s - loss:\n",
      "Epoch 2409/3000\n",
      "87006/87006 [==============================] - 7s 84us/step - loss: 1.5391e-06\n",
      "Epoch 2410/3000\n",
      "87006/87006 [==============================] - 7s 83us/step - loss: 1.5276e-06: 0s - loss: \n",
      "Epoch 2411/3000\n",
      "87006/87006 [==============================] - 7s 84us/step - loss: 1.5269e-06\n",
      "Epoch 2412/3000\n",
      "87006/87006 [==============================] - 8s 87us/step - loss: 1.5317e-06: 1s - los - ETA: 0s - loss: \n",
      "Epoch 2413/3000\n",
      "87006/87006 [==============================] - ETA: 0s - loss: 1.5383e-0 - 9s 103us/step - loss: 1.5358e-06\n",
      "Epoch 2414/3000\n",
      "87006/87006 [==============================] - 9s 101us/step - loss: 1.5326e-06\n",
      "Epoch 2415/3000\n",
      "87006/87006 [==============================] - 6s 71us/step - loss: 1.5322e-06\n",
      "Epoch 2416/3000\n",
      "87006/87006 [==============================] - 11s 122us/step - loss: 1.5317e-06\n",
      "Epoch 2417/3000\n",
      "87006/87006 [==============================] - 8s 91us/step - loss: 1.5466e-06: 0s - loss: 1.\n",
      "Epoch 2418/3000\n",
      "87006/87006 [==============================] - 6s 65us/step - loss: 1.5282e-06\n",
      "Epoch 2419/3000\n",
      "87006/87006 [==============================] - 7s 77us/step - loss: 1.5246e-06\n",
      "Epoch 2420/3000\n",
      "87006/87006 [==============================] - 9s 107us/step - loss: 1.5352e-06\n",
      "Epoch 2421/3000\n",
      "87006/87006 [==============================] - 7s 79us/step - loss: 1.5298e-06\n",
      "Epoch 2422/3000\n",
      "87006/87006 [==============================] - 10s 120us/step - loss: 1.5310e-06\n",
      "Epoch 2423/3000\n",
      "87006/87006 [==============================] - 8s 93us/step - loss: 1.5312e-06\n",
      "Epoch 2424/3000\n",
      "87006/87006 [==============================] - 6s 72us/step - loss: 1.5312e-06\n",
      "Epoch 2425/3000\n",
      "87006/87006 [==============================] - 8s 87us/step - loss: 1.5368e-06\n",
      "Epoch 2426/3000\n",
      "87006/87006 [==============================] - 9s 100us/step - loss: 1.5307e-06\n",
      "Epoch 2427/3000\n",
      "87006/87006 [==============================] - 10s 115us/step - loss: 1.5346e-061\n",
      "Epoch 2428/3000\n",
      "87006/87006 [==============================] - 11s 127us/step - loss: 1.5354e-06\n",
      "Epoch 2429/3000\n",
      "87006/87006 [==============================] - 8s 92us/step - loss: 1.5315e-06: 3s - loss: 1.524 -  - ETA: 0s - loss: \n",
      "Epoch 2430/3000\n",
      "87006/87006 [==============================] - 8s 92us/step - loss: 1.5329e-06\n",
      "Epoch 2431/3000\n",
      "87006/87006 [==============================] - 8s 90us/step - loss: 1.5387e-06: 2s - loss: 1.5\n",
      "Epoch 2432/3000\n",
      "87006/87006 [==============================] - 9s 100us/step - loss: 1.5399e-06 6s - loss - ETA: 2s -\n",
      "Epoch 2433/3000\n",
      "87006/87006 [==============================] - 7s 80us/step - loss: 1.5346e-06: 0s - lo\n",
      "Epoch 2434/3000\n",
      "87006/87006 [==============================] - 9s 102us/step - loss: 1.5306e-06\n",
      "Epoch 2435/3000\n",
      "87006/87006 [==============================] - 6s 67us/step - loss: 1.5239e-06: 2s \n",
      "Epoch 2436/3000\n",
      "87006/87006 [==============================] - 8s 88us/step - loss: 1.5307e-06\n",
      "Epoch 2437/3000\n",
      "87006/87006 [==============================] - 6s 72us/step - loss: 1.5402e-06\n",
      "Epoch 2438/3000\n",
      "87006/87006 [==============================] - 7s 83us/step - loss: 1.5337e-06\n",
      "Epoch 2439/3000\n",
      "87006/87006 [==============================] - 6s 71us/step - loss: 1.5310e-06A: 0s - loss: 1.5291e\n",
      "Epoch 2440/3000\n",
      "87006/87006 [==============================] - 7s 76us/step - loss: 1.5374e-06\n",
      "Epoch 2441/3000\n",
      "87006/87006 [==============================] - 7s 80us/step - loss: 1.5293e-06: 0s - loss: 1. - ETA: 0s - loss: 1.5307\n",
      "Epoch 2442/3000\n",
      "87006/87006 [==============================] - ETA: 0s - loss: 1.5290e-06- ETA: 0s - loss: 1.5 - 6s 72us/step - loss: 1.5272e-06\n",
      "Epoch 2443/3000\n",
      "87006/87006 [==============================] - 6s 66us/step - loss: 1.5357e-06\n",
      "Epoch 2444/3000\n",
      "87006/87006 [==============================] - 6s 70us/step - loss: 1.5280e-06: - ETA: 2s - loss - ETA: 1s - lo\n",
      "Epoch 2445/3000\n",
      "87006/87006 [==============================] - 8s 94us/step - loss: 1.5283e-06\n",
      "Epoch 2446/3000\n",
      "87006/87006 [==============================] - 8s 91us/step - loss: 1.5314e-06: 2s - loss: - ETA\n",
      "Epoch 2447/3000\n",
      "87006/87006 [==============================] - 4s 41us/step - loss: 1.5319e-06\n",
      "Epoch 2448/3000\n",
      "87006/87006 [==============================] - 3s 40us/step - loss: 1.5334e-06\n",
      "Epoch 2449/3000\n",
      "87006/87006 [==============================] - 6s 70us/step - loss: 1.5376e-06\n",
      "Epoch 2450/3000\n",
      "87006/87006 [==============================] - 6s 68us/step - loss: 1.5394e-06: 1s - loss: 1\n",
      "Epoch 2451/3000\n",
      "87006/87006 [==============================] - 5s 58us/step - loss: 1.5291e-06\n",
      "Epoch 2452/3000\n",
      "87006/87006 [==============================] - 9s 101us/step - loss: 1.5370e-06 3s - loss - ETA: 2\n",
      "Epoch 2453/3000\n",
      "  900/87006 [..............................] - ETA: 27s - loss: 1.3749e-06"
     ]
    },
    {
     "name": "stderr",
     "output_type": "stream",
     "text": [
      "C:\\Users\\User\\.conda\\envs\\theano_v1\\lib\\site-packages\\keras\\callbacks\\callbacks.py:95: RuntimeWarning: Method (on_train_batch_end) is slow compared to the batch update (0.110083). Check your callbacks.\n",
      "  % (hook_name, delta_t_median), RuntimeWarning)\n"
     ]
    },
    {
     "name": "stdout",
     "output_type": "stream",
     "text": [
      "87006/87006 [==============================] - 8s 95us/step - loss: 1.5337e-06\n",
      "Epoch 2454/3000\n",
      "87006/87006 [==============================] - 8s 88us/step - loss: 1.5347e-06: 0s -\n",
      "Epoch 2455/3000\n",
      "87006/87006 [==============================] - 8s 91us/step - loss: 1.5337e-06\n",
      "Epoch 2456/3000\n",
      "87006/87006 [==============================] - 6s 65us/step - loss: 1.5306e-06:  - ETA: 1s -  - ETA: 0s - loss:\n",
      "Epoch 2457/3000\n",
      "87006/87006 [==============================] - 7s 82us/step - loss: 1.5351e-06\n",
      "Epoch 2458/3000\n",
      "87006/87006 [==============================] - 7s 84us/step - loss: 1.5391e-06\n",
      "Epoch 2459/3000\n",
      "87006/87006 [==============================] - 8s 91us/step - loss: 1.5373e-06: 2s - lo - ETA: 1s - loss: 1.5 - ETA: 1s - l\n",
      "Epoch 2460/3000\n",
      "87006/87006 [==============================] - 7s 83us/step - loss: 1.5290e-06: 0s - loss: 1\n",
      "Epoch 2461/3000\n",
      "87006/87006 [==============================] - 10s 115us/step - loss: 1.5300e-06ETA: 1s - loss:  - ETA: 0s - loss: 1.5315e-\n",
      "Epoch 2462/3000\n",
      "87006/87006 [==============================] - 8s 88us/step - loss: 1.5394e-06\n",
      "Epoch 2463/3000\n",
      "87006/87006 [==============================] - 6s 72us/step - loss: 1.5312e-06\n",
      "Epoch 2464/3000\n",
      "87006/87006 [==============================] - 4s 42us/step - loss: 1.5331e-06\n",
      "Epoch 2465/3000\n",
      "  600/87006 [..............................] - ETA: 26s - loss: 1.2536e-06"
     ]
    },
    {
     "name": "stderr",
     "output_type": "stream",
     "text": [
      "C:\\Users\\User\\.conda\\envs\\theano_v1\\lib\\site-packages\\keras\\callbacks\\callbacks.py:95: RuntimeWarning: Method (on_train_batch_end) is slow compared to the batch update (0.105239). Check your callbacks.\n",
      "  % (hook_name, delta_t_median), RuntimeWarning)\n"
     ]
    },
    {
     "name": "stdout",
     "output_type": "stream",
     "text": [
      "87006/87006 [==============================] - 11s 129us/step - loss: 1.5319e-06\n",
      "Epoch 2466/3000\n",
      "87006/87006 [==============================] - 8s 97us/step - loss: 1.5342e-06: 0s - loss: 1.530\n",
      "Epoch 2467/3000\n",
      "87006/87006 [==============================] - 7s 80us/step - loss: 1.5295e-06: 4s - loss: 1.46\n",
      "Epoch 2468/3000\n",
      "87006/87006 [==============================] - 4s 48us/step - loss: 1.5336e-06\n",
      "Epoch 2469/3000\n",
      "87006/87006 [==============================] - 8s 88us/step - loss: 1.5369e-06\n",
      "Epoch 2470/3000\n",
      "87006/87006 [==============================] - 6s 68us/step - loss: 1.5267e-06\n",
      "Epoch 2471/3000\n",
      "87006/87006 [==============================] - 7s 81us/step - loss: 1.5384e-06\n",
      "Epoch 2472/3000\n",
      "87006/87006 [==============================] - 7s 85us/step - loss: 1.5383e-06\n",
      "Epoch 2473/3000\n",
      "87006/87006 [==============================] - 6s 65us/step - loss: 1.5287e-06\n",
      "Epoch 2474/3000\n",
      "87006/87006 [==============================] - 9s 107us/step - loss: 1.5280e-06\n",
      "Epoch 2475/3000\n",
      "87006/87006 [==============================] - 8s 96us/step - loss: 1.5465e-06: 4  - - ETA: 1s - l - ETA: 0s - loss: 1.5489\n",
      "Epoch 2476/3000\n",
      "87006/87006 [==============================] - 8s 88us/step - loss: 1.5295e-06\n",
      "Epoch 2477/3000\n",
      "87006/87006 [==============================] - 9s 106us/step - loss: 1.5310e-06 0s - loss\n",
      "Epoch 2478/3000\n",
      "87006/87006 [==============================] - 8s 94us/step - loss: 1.5269e-06\n",
      "Epoch 2479/3000\n",
      "87006/87006 [==============================] - 8s 91us/step - loss: 1.5366e-06\n",
      "Epoch 2480/3000\n",
      "87006/87006 [==============================] - 6s 73us/step - loss: 1.5355e-06\n",
      "Epoch 2481/3000\n",
      "87006/87006 [==============================] - 7s 82us/step - loss: 1.5322e-06\n",
      "Epoch 2482/3000\n",
      "87006/87006 [==============================] - 7s 81us/step - loss: 1.5358e-06\n",
      "Epoch 2483/3000\n",
      "87006/87006 [==============================] - 7s 80us/step - loss: 1.5302e-06: 2 - E\n",
      "Epoch 2484/3000\n",
      "87006/87006 [==============================] - 11s 128us/step - loss: 1.5427e-062s - loss: 1.551 - ETA: 2s - \n",
      "Epoch 2485/3000\n",
      "87006/87006 [==============================] - 8s 89us/step - loss: 1.5338e-06: 0\n",
      "Epoch 2486/3000\n",
      "87006/87006 [==============================] - 8s 90us/step - loss: 1.5304e-06\n",
      "Epoch 2487/3000\n",
      "87006/87006 [==============================] - 8s 87us/step - loss: 1.5270e-06\n",
      "Epoch 2488/3000\n",
      "87006/87006 [==============================] - 9s 98us/step - loss: 1.5332e-06\n",
      "Epoch 2489/3000\n",
      "87006/87006 [==============================] - 8s 94us/step - loss: 1.5463e-06A: 8s - loss: 1.60\n",
      "Epoch 2490/3000\n",
      "87006/87006 [==============================] - 8s 97us/step - loss: 1.5320e-06: 1s - lo\n",
      "Epoch 2491/3000\n",
      "87006/87006 [==============================] - 9s 107us/step - loss: 1.5311e-06 0s - loss: 1.5\n",
      "Epoch 2492/3000\n",
      "87006/87006 [==============================] - 8s 87us/step - loss: 1.5352e-06: 1\n",
      "Epoch 2493/3000\n",
      "87006/87006 [==============================] - 9s 102us/step - loss: 1.5279e-06\n",
      "Epoch 2494/3000\n",
      "87006/87006 [==============================] - 8s 95us/step - loss: 1.5293e-06\n",
      "Epoch 2495/3000\n",
      "87006/87006 [==============================] - 7s 84us/step - loss: 1.5407e-06\n",
      "Epoch 2496/3000\n",
      "87006/87006 [==============================] - 8s 96us/step - loss: 1.5366e-06\n",
      "Epoch 2497/3000\n",
      "87006/87006 [==============================] - 8s 97us/step - loss: 1.5484e-06: 0s - loss: 1.5564e - ETA: 0s - loss: 1.55\n",
      "Epoch 2498/3000\n",
      "87006/87006 [==============================] - 9s 108us/step - loss: 1.5273e-06A: 0s - loss: 1.5231\n",
      "Epoch 2499/3000\n",
      "87006/87006 [==============================] - 8s 97us/step - loss: 1.5273e-06: 4s - lo - ETA: 5s -\n",
      "Epoch 2500/3000\n",
      "87006/87006 [==============================] - ETA: 0s - loss: 1.5261e-0 - 8s 90us/step - loss: 1.5264e-06 - val_loss: 1.7853e-06\n",
      "Epoch 2501/3000\n",
      "87006/87006 [==============================] - 7s 81us/step - loss: 1.5314e-06\n",
      "Epoch 2502/3000\n",
      "87006/87006 [==============================] - 7s 81us/step - loss: 1.5412e-06\n",
      "Epoch 2503/3000\n",
      "87006/87006 [==============================] - 7s 84us/step - loss: 1.5309e-06: 2s - loss: 1.4990e-0\n",
      "Epoch 2504/3000\n",
      "87006/87006 [==============================] - ETA: 0s - loss: 1.5315e-0 - 7s 78us/step - loss: 1.5270e-06\n",
      "Epoch 2505/3000\n",
      "87006/87006 [==============================] - 7s 85us/step - loss: 1.5257e-06: 1s - \n",
      "Epoch 2506/3000\n",
      "87006/87006 [==============================] - 8s 92us/step - loss: 1.5257e-06: 3s - loss: 1.\n",
      "Epoch 2507/3000\n",
      "87006/87006 [==============================] - 7s 81us/step - loss: 1.5269e-06\n",
      "Epoch 2508/3000\n",
      "87006/87006 [==============================] - 8s 87us/step - loss: 1.5338e-06\n",
      "Epoch 2509/3000\n",
      "87006/87006 [==============================] - 7s 86us/step - loss: 1.5290e-06: 3s - loss: 1. - ETA: 3s - los - ETA: 2s - loss: \n",
      "Epoch 2510/3000\n",
      "87006/87006 [==============================] - 5s 58us/step - loss: 1.5252e-06\n",
      "Epoch 2511/3000\n",
      "87006/87006 [==============================] - 4s 48us/step - loss: 1.5288e-06\n",
      "Epoch 2512/3000\n",
      "87006/87006 [==============================] - 7s 83us/step - loss: 1.5298e-06: 1s - loss:\n",
      "Epoch 2513/3000\n",
      "87006/87006 [==============================] - 7s 75us/step - loss: 1.5308e-06A: 0s - loss: 1.5146e\n",
      "Epoch 2514/3000\n",
      "87006/87006 [==============================] - 8s 88us/step - loss: 1.5348e-06\n",
      "Epoch 2515/3000\n",
      "87006/87006 [==============================] - 9s 100us/step - loss: 1.5240e-06\n",
      "Epoch 2516/3000\n",
      "87006/87006 [==============================] - 8s 97us/step - loss: 1.5322e-06: 3s - los - ETA - ETA: 0s - loss: 1.5328e-\n",
      "Epoch 2517/3000\n",
      "87006/87006 [==============================] - 7s 75us/step - loss: 1.5293e-06\n",
      "Epoch 2518/3000\n",
      "87006/87006 [==============================] - 7s 83us/step - loss: 1.5324e-06: 3s - loss: 1.4 \n",
      "Epoch 2519/3000\n",
      "87006/87006 [==============================] - 6s 66us/step - loss: 1.5329e-06: 0s - loss: 1.\n",
      "Epoch 2520/3000\n",
      "87006/87006 [==============================] - 4s 47us/step - loss: 1.5293e-06:\n",
      "Epoch 2521/3000\n",
      "87006/87006 [==============================] - 8s 94us/step - loss: 1.5303e-06: 1s\n",
      "Epoch 2522/3000\n",
      "87006/87006 [==============================] - 9s 107us/step - loss: 1.5271e-06 \n",
      "Epoch 2523/3000\n",
      "87006/87006 [==============================] - 9s 105us/step - loss: 1.5450e-06\n",
      "Epoch 2524/3000\n",
      "87006/87006 [==============================] - 8s 91us/step - loss: 1.5294e-06: 1s - loss: 1.5583 - ETA\n",
      "Epoch 2525/3000\n",
      "87006/87006 [==============================] - 8s 89us/step - loss: 1.5442e-06: 9s - loss: 1.4834e-0 - ETA: 8s - l - ETA: 6s -\n",
      "Epoch 2526/3000\n",
      "87006/87006 [==============================] - 8s 90us/step - loss: 1.5329e-06: 0s - loss: 1.\n",
      "Epoch 2527/3000\n",
      "87006/87006 [==============================] - 7s 82us/step - loss: 1.5316e-06\n",
      "Epoch 2528/3000\n",
      "87006/87006 [==============================] - 8s 92us/step - loss: 1.5298e-06\n",
      "Epoch 2529/3000\n",
      "87006/87006 [==============================] - 7s 83us/step - loss: 1.5398e-06: 0s - loss: \n",
      "Epoch 2530/3000\n",
      "87006/87006 [==============================] - 7s 77us/step - loss: 1.5271e-06: 5s  - ETA: 3s - loss - ETA: 3s - loss: 1.519 - ETA: 2s \n",
      "Epoch 2531/3000\n",
      "87006/87006 [==============================] - 9s 104us/step - loss: 1.5280e-06 0s - loss: 1.5308\n",
      "Epoch 2532/3000\n",
      "87006/87006 [==============================] - 6s 75us/step - loss: 1.5540e-06\n",
      "Epoch 2533/3000\n",
      "87006/87006 [==============================] - 6s 65us/step - loss: 1.5218e-06\n",
      "Epoch 2534/3000\n",
      "87006/87006 [==============================] - 4s 51us/step - loss: 1.5318e-06\n",
      "Epoch 2535/3000\n",
      "87006/87006 [==============================] - 6s 64us/step - loss: 1.5237e-06\n",
      "Epoch 2536/3000\n",
      "87006/87006 [==============================] - 6s 73us/step - loss: 1.5299e-06\n",
      "Epoch 2537/3000\n",
      "87006/87006 [==============================] - 8s 90us/step - loss: 1.5333e-06: 2s - loss - ETA: 0s -  - ETA: 0s - loss: 1.537\n",
      "Epoch 2538/3000\n",
      "87006/87006 [==============================] - 9s 103us/step - loss: 1.5312e-06\n",
      "Epoch 2539/3000\n",
      "87006/87006 [==============================] - 8s 91us/step - loss: 1.5297e-06\n",
      "Epoch 2540/3000\n",
      "87006/87006 [==============================] - 11s 126us/step - loss: 1.5307e-06\n",
      "Epoch 2541/3000\n",
      "87006/87006 [==============================] - 8s 90us/step - loss: 1.5395e-06: 0s - loss: 1.54\n",
      "Epoch 2542/3000\n",
      "87006/87006 [==============================] - 11s 124us/step - loss: 1.5275e-06\n"
     ]
    },
    {
     "name": "stdout",
     "output_type": "stream",
     "text": [
      "Epoch 2543/3000\n",
      " 2100/87006 [..............................] - ETA: 12s - loss: 1.4885e-06"
     ]
    },
    {
     "name": "stderr",
     "output_type": "stream",
     "text": [
      "C:\\Users\\User\\.conda\\envs\\theano_v1\\lib\\site-packages\\keras\\callbacks\\callbacks.py:95: RuntimeWarning: Method (on_train_batch_end) is slow compared to the batch update (0.100240). Check your callbacks.\n",
      "  % (hook_name, delta_t_median), RuntimeWarning)\n"
     ]
    },
    {
     "name": "stdout",
     "output_type": "stream",
     "text": [
      "87006/87006 [==============================] - 8s 88us/step - loss: 1.5304e-06\n",
      "Epoch 2544/3000\n",
      "87006/87006 [==============================] - 7s 78us/step - loss: 1.5293e-06\n",
      "Epoch 2545/3000\n",
      "87006/87006 [==============================] - 8s 92us/step - loss: 1.5226e-06\n",
      "Epoch 2546/3000\n",
      "87006/87006 [==============================] - 6s 70us/step - loss: 1.5283e-06\n",
      "Epoch 2547/3000\n",
      "87006/87006 [==============================] - 8s 87us/step - loss: 1.5290e-06\n",
      "Epoch 2548/3000\n",
      "87006/87006 [==============================] - 10s 110us/step - loss: 1.5343e-064\n",
      "Epoch 2549/3000\n",
      "87006/87006 [==============================] - 4s 49us/step - loss: 1.5280e-06\n",
      "Epoch 2550/3000\n",
      "87006/87006 [==============================] - 8s 92us/step - loss: 1.5312e-06\n",
      "Epoch 2551/3000\n",
      "87006/87006 [==============================] - 4s 50us/step - loss: 1.5279e-06: 2s - loss: 1.5230e - ETA: 2s - loss: 1.538 - ETA: 1s -\n",
      "Epoch 2552/3000\n",
      "87006/87006 [==============================] - 9s 99us/step - loss: 1.5320e-06: 0s - loss: \n",
      "Epoch 2553/3000\n",
      "87006/87006 [==============================] - 10s 111us/step - loss: 1.5318e-068s - loss: 1. - ETA: 8s - \n",
      "Epoch 2554/3000\n",
      "87006/87006 [==============================] - 7s 85us/step - loss: 1.5349e-06\n",
      "Epoch 2555/3000\n",
      "87006/87006 [==============================] - 7s 80us/step - loss: 1.5598e-06A: 0s - loss: \n",
      "Epoch 2556/3000\n",
      "87006/87006 [==============================] - 7s 82us/step - loss: 1.5274e-06\n",
      "Epoch 2557/3000\n",
      "87006/87006 [==============================] - 5s 60us/step - loss: 1.5291e-06\n",
      "Epoch 2558/3000\n",
      "87006/87006 [==============================] - 6s 65us/step - loss: 1.5249e-06: 0s -\n",
      "Epoch 2559/3000\n",
      "87006/87006 [==============================] - 6s 64us/step - loss: 1.5292e-06\n",
      "Epoch 2560/3000\n",
      "87006/87006 [==============================] - 8s 90us/step - loss: 1.5275e-06\n",
      "Epoch 2561/3000\n",
      "87006/87006 [==============================] - 5s 57us/step - loss: 1.5291e-06: 0s - loss: 1.5175 - ETA: 0s - loss:\n",
      "Epoch 2562/3000\n",
      "87006/87006 [==============================] - 6s 63us/step - loss: 1.5316e-06\n",
      "Epoch 2563/3000\n",
      "87006/87006 [==============================] - 7s 77us/step - loss: 1.5289e-06\n",
      "Epoch 2564/3000\n",
      "87006/87006 [==============================] - 5s 59us/step - loss: 1.5312e-06: 1s\n",
      "Epoch 2565/3000\n",
      "87006/87006 [==============================] - 8s 88us/step - loss: 1.5283e-06\n",
      "Epoch 2566/3000\n",
      "87006/87006 [==============================] - 6s 74us/step - loss: 1.5280e-06: 1s - loss: 1.541 - ETA:\n",
      "Epoch 2567/3000\n",
      "87006/87006 [==============================] - 9s 99us/step - loss: 1.5337e-06\n",
      "Epoch 2568/3000\n",
      "87006/87006 [==============================] - 5s 61us/step - loss: 1.5303e-06\n",
      "Epoch 2569/3000\n",
      "87006/87006 [==============================] - 8s 95us/step - loss: 1.5378e-06: 3s - loss: 1.5685 - ETA: 1s - loss\n",
      "Epoch 2570/3000\n",
      "87006/87006 [==============================] - 8s 90us/step - loss: 1.5249e-06\n",
      "Epoch 2571/3000\n",
      "87006/87006 [==============================] - 10s 112us/step - loss: 1.5287e-06\n",
      "Epoch 2572/3000\n",
      "87006/87006 [==============================] - 8s 92us/step - loss: 1.5338e-06\n",
      "Epoch 2573/3000\n",
      "87006/87006 [==============================] - 8s 93us/step - loss: 1.5297e-06:\n",
      "Epoch 2574/3000\n",
      "87006/87006 [==============================] - 9s 106us/step - loss: 1.5205e-06\n",
      "Epoch 2575/3000\n",
      "87006/87006 [==============================] - 8s 97us/step - loss: 1.5346e-06: 0s - loss\n",
      "Epoch 2576/3000\n",
      "87006/87006 [==============================] - 5s 55us/step - loss: 1.5339e-06\n",
      "Epoch 2577/3000\n",
      "87006/87006 [==============================] - 6s 73us/step - loss: 1.5307e-06\n",
      "Epoch 2578/3000\n",
      "87006/87006 [==============================] - 8s 95us/step - loss: 1.5212e-06\n",
      "Epoch 2579/3000\n",
      "87006/87006 [==============================] - 7s 84us/step - loss: 1.5376e-06TA: 2s - loss: 1.4686 - ETA: 1 - ETA: 0s - los\n",
      "Epoch 2580/3000\n",
      "87006/87006 [==============================] - 9s 101us/step - loss: 1.5308e-06\n",
      "Epoch 2581/3000\n",
      "87006/87006 [==============================] - 6s 64us/step - loss: 1.5275e-06\n",
      "Epoch 2582/3000\n",
      "87006/87006 [==============================] - 6s 66us/step - loss: 1.5275e-06: 0s - loss: 1.5104e - ETA: 0s - loss: \n",
      "Epoch 2583/3000\n",
      "87006/87006 [==============================] - 5s 57us/step - loss: 1.5479e-06\n",
      "Epoch 2584/3000\n",
      "87006/87006 [==============================] - 6s 68us/step - loss: 1.5348e-06: 0s - loss: 1\n",
      "Epoch 2585/3000\n",
      "87006/87006 [==============================] - 6s 67us/step - loss: 1.5276e-06: 0s - loss: 1.5323e-\n",
      "Epoch 2586/3000\n",
      "87006/87006 [==============================] - 7s 76us/step - loss: 1.5282e-06: 0s - loss\n",
      "Epoch 2587/3000\n",
      "87006/87006 [==============================] - 5s 63us/step - loss: 1.5334e-06\n",
      "Epoch 2588/3000\n",
      "87006/87006 [==============================] - 6s 65us/step - loss: 1.5316e-06\n",
      "Epoch 2589/3000\n",
      "87006/87006 [==============================] - 6s 70us/step - loss: 1.5283e-06: 0s - loss\n",
      "Epoch 2590/3000\n",
      "87006/87006 [==============================] - 7s 83us/step - loss: 1.5315e-06\n",
      "Epoch 2591/3000\n",
      "87006/87006 [==============================] - 6s 70us/step - loss: 1.5324e-06: 0s - loss:\n",
      "Epoch 2592/3000\n",
      "87006/87006 [==============================] - 7s 77us/step - loss: 1.5283e-06\n",
      "Epoch 2593/3000\n",
      "87006/87006 [==============================] - 7s 82us/step - loss: 1.5434e-06ETA: 0s - loss: 1.548\n",
      "Epoch 2594/3000\n",
      "87006/87006 [==============================] - 5s 62us/step - loss: 1.5336e-06\n",
      "Epoch 2595/3000\n",
      "87006/87006 [==============================] - 6s 71us/step - loss: 1.5331e-06: 1s - l\n",
      "Epoch 2596/3000\n",
      "87006/87006 [==============================] - 9s 104us/step - loss: 1.5356e-06 0s - los\n",
      "Epoch 2597/3000\n",
      "87006/87006 [==============================] - 8s 88us/step - loss: 1.5327e-06\n",
      "Epoch 2598/3000\n",
      "87006/87006 [==============================] - 10s 116us/step - loss: 1.5367e-066s - loss: 1.5336e- - ETA:\n",
      "Epoch 2599/3000\n",
      "87006/87006 [==============================] - 6s 68us/step - loss: 1.5275e-06: 3s\n",
      "Epoch 2600/3000\n",
      "87006/87006 [==============================] - 8s 96us/step - loss: 1.5294e-06 - val_loss: 1.7821e-06\n",
      "Epoch 2601/3000\n",
      "87006/87006 [==============================] - 10s 111us/step - loss: 1.5296e-064s -\n",
      "Epoch 2602/3000\n",
      "87006/87006 [==============================] - 11s 129us/step - loss: 1.5271e-06\n",
      "Epoch 2603/3000\n",
      " 2100/87006 [..............................] - ETA: 14s - loss: 1.3136e-06"
     ]
    },
    {
     "name": "stderr",
     "output_type": "stream",
     "text": [
      "C:\\Users\\User\\.conda\\envs\\theano_v1\\lib\\site-packages\\keras\\callbacks\\callbacks.py:95: RuntimeWarning: Method (on_train_batch_end) is slow compared to the batch update (0.105274). Check your callbacks.\n",
      "  % (hook_name, delta_t_median), RuntimeWarning)\n"
     ]
    },
    {
     "name": "stdout",
     "output_type": "stream",
     "text": [
      "87006/87006 [==============================] - 11s 129us/step - loss: 1.5279e-062s - loss - ETA: 1s - loss: 1.5141 - ETA: 0s -\n",
      "Epoch 2604/3000\n",
      "87006/87006 [==============================] - 8s 97us/step - loss: 1.5310e-06\n",
      "Epoch 2605/3000\n",
      "87006/87006 [==============================] - 8s 86us/step - loss: 1.5251e-06\n",
      "Epoch 2606/3000\n",
      "87006/87006 [==============================] - 7s 82us/step - loss: 1.5391e-06\n",
      "Epoch 2607/3000\n",
      "87006/87006 [==============================] - 8s 87us/step - loss: 1.5305e-06: 5s - - ETA: 0s - loss: 1\n",
      "Epoch 2608/3000\n",
      "87006/87006 [==============================] - 8s 97us/step - loss: 1.5277e-06\n",
      "Epoch 2609/3000\n",
      "87006/87006 [==============================] - 7s 82us/step - loss: 1.5274e-06: 0s \n",
      "Epoch 2610/3000\n",
      "87006/87006 [==============================] - 7s 80us/step - loss: 1.5333e-06: 2s - lo - ETA: 1\n",
      "Epoch 2611/3000\n",
      "87006/87006 [==============================] - 6s 72us/step - loss: 1.5327e-06: 6\n",
      "Epoch 2612/3000\n",
      "87006/87006 [==============================] - 7s 77us/step - loss: 1.5271e-06: 1s - lo\n",
      "Epoch 2613/3000\n",
      "87006/87006 [==============================] - 7s 82us/step - loss: 1.5357e-06\n",
      "Epoch 2614/3000\n",
      "87006/87006 [==============================] - 7s 84us/step - loss: 1.5291e-06\n",
      "Epoch 2615/3000\n",
      "87006/87006 [==============================] - 5s 60us/step - loss: 1.5323e-06\n",
      "Epoch 2616/3000\n",
      "87006/87006 [==============================] - 6s 72us/step - loss: 1.5265e-06\n",
      "Epoch 2617/3000\n",
      "87006/87006 [==============================] - 6s 67us/step - loss: 1.5266e-06: 0s - loss: 1.5045\n",
      "Epoch 2618/3000\n",
      "87006/87006 [==============================] - 7s 86us/step - loss: 1.5307e-06\n",
      "Epoch 2619/3000\n",
      "87006/87006 [==============================] - 6s 74us/step - loss: 1.5293e-06\n",
      "Epoch 2620/3000\n",
      "87006/87006 [==============================] - 8s 92us/step - loss: 1.5287e-06: 10s  - ETA: 2s - loss - ETA: 1s\n",
      "Epoch 2621/3000\n",
      "87006/87006 [==============================] - 7s 77us/step - loss: 1.5260e-06\n",
      "Epoch 2622/3000\n",
      "87006/87006 [==============================] - 8s 97us/step - loss: 1.5233e-06: 0s - loss: 1.525\n",
      "Epoch 2623/3000\n",
      "87006/87006 [==============================] - 11s 130us/step - loss: 1.5365e-06\n",
      "Epoch 2624/3000\n",
      "87006/87006 [==============================] - 6s 72us/step - loss: 1.5281e-06\n",
      "Epoch 2625/3000\n",
      "87006/87006 [==============================] - 5s 62us/step - loss: 1.5285e-06: 0s - loss: \n",
      "Epoch 2626/3000\n",
      "87006/87006 [==============================] - 10s 112us/step - loss: 1.5335e-06\n",
      "Epoch 2627/3000\n",
      "87006/87006 [==============================] - 7s 82us/step - loss: 1.5280e-06\n",
      "Epoch 2628/3000\n",
      "87006/87006 [==============================] - 7s 79us/step - loss: 1.5262e-06: 2s - loss: 1.5478e - ETA: 2s - loss: 1.55 \n",
      "Epoch 2629/3000\n",
      "87006/87006 [==============================] - 7s 82us/step - loss: 1.5276e-06\n",
      "Epoch 2630/3000\n",
      "87006/87006 [==============================] - 8s 88us/step - loss: 1.5371e-06\n",
      "Epoch 2631/3000\n",
      "87006/87006 [==============================] - 6s 72us/step - loss: 1.5392e-06: 0s - lo\n",
      "Epoch 2632/3000\n",
      "87006/87006 [==============================] - 7s 84us/step - loss: 1.5359e-06\n",
      "Epoch 2633/3000\n",
      "87006/87006 [==============================] - 6s 73us/step - loss: 1.5274e-06\n",
      "Epoch 2634/3000\n",
      "87006/87006 [==============================] - 8s 86us/step - loss: 1.5290e-06\n",
      "Epoch 2635/3000\n",
      "87006/87006 [==============================] - 7s 84us/step - loss: 1.5306e-06: 2s - loss\n",
      "Epoch 2636/3000\n",
      "87006/87006 [==============================] - 7s 82us/step - loss: 1.5279e-06\n",
      "Epoch 2637/3000\n",
      "87006/87006 [==============================] - 8s 93us/step - loss: 1.5295e-06: 5s - los - ETA: 2s - loss: 1 - ETA\n",
      "Epoch 2638/3000\n",
      "87006/87006 [==============================] - 10s 116us/step - loss: 1.5284e-060s - loss: 1.5256\n",
      "Epoch 2639/3000\n",
      "87006/87006 [==============================] - 8s 87us/step - loss: 1.5310e-06: 0s - loss:\n",
      "Epoch 2640/3000\n",
      "87006/87006 [==============================] - 11s 124us/step - loss: 1.5304e-06\n",
      "Epoch 2641/3000\n",
      "87006/87006 [==============================] - 9s 108us/step - loss: 1.5315e-06\n",
      "Epoch 2642/3000\n",
      "87006/87006 [==============================] - 5s 59us/step - loss: 1.5232e-06: 0s - loss: 1.4\n",
      "Epoch 2643/3000\n",
      "87006/87006 [==============================] - 9s 102us/step - loss: 1.5257e-06\n",
      "Epoch 2644/3000\n",
      "87006/87006 [==============================] - 11s 126us/step - loss: 1.5299e-060s - loss: 1.5306e-\n",
      "Epoch 2645/3000\n",
      "87006/87006 [==============================] - 7s 80us/step - loss: 1.5359e-06\n",
      "Epoch 2646/3000\n",
      "87006/87006 [==============================] - 8s 97us/step - loss: 1.5227e-06\n",
      "Epoch 2647/3000\n",
      "87006/87006 [==============================] - 14s 163us/step - loss: 1.5297e-065\n",
      "Epoch 2648/3000\n",
      "87006/87006 [==============================] - 10s 119us/step - loss: 1.5309e-06\n",
      "Epoch 2649/3000\n",
      "87006/87006 [==============================] - 9s 107us/step - loss: 1.5281e-06 4s - loss - ETA: 2s - loss: 1.4 - ETA: 1 - ETA: 0s - loss\n",
      "Epoch 2650/3000\n",
      "13500/87006 [===>..........................] - ETA: 17s - loss: 1.6043e-06"
     ]
    },
    {
     "name": "stderr",
     "output_type": "stream",
     "text": [
      "C:\\Users\\User\\.conda\\envs\\theano_v1\\lib\\site-packages\\keras\\callbacks\\callbacks.py:95: RuntimeWarning: Method (on_train_batch_end) is slow compared to the batch update (0.115496). Check your callbacks.\n",
      "  % (hook_name, delta_t_median), RuntimeWarning)\n"
     ]
    },
    {
     "name": "stdout",
     "output_type": "stream",
     "text": [
      "87006/87006 [==============================] - 15s 172us/step - loss: 1.5320e-06\n",
      "Epoch 2651/3000\n",
      "87006/87006 [==============================] - 13s 144us/step - loss: 1.5268e-061s - lo\n",
      "Epoch 2652/3000\n",
      "87006/87006 [==============================] - 10s 111us/step - loss: 1.5303e-06- ETA: 2s - loss: 1.49 - E\n",
      "Epoch 2653/3000\n",
      "87006/87006 [==============================] - 11s 126us/step - loss: 1.5298e-06\n",
      "Epoch 2654/3000\n",
      "87006/87006 [==============================] - 17s 191us/step - loss: 1.5283e-06\n",
      "Epoch 2655/3000\n",
      "87006/87006 [==============================] - 9s 107us/step - loss: 1.5353e-06 9s - l - ETA: - ETA: 1s - loss: 1.\n",
      "Epoch 2656/3000\n",
      "87006/87006 [==============================] - 9s 106us/step - loss: 1.5317e-06\n",
      "Epoch 2657/3000\n",
      "87006/87006 [==============================] - 8s 93us/step - loss: 1.5324e-06: 4s - loss: 1.54 - - \n",
      "Epoch 2658/3000\n",
      "87006/87006 [==============================] - 12s 142us/step - loss: 1.5396e-06\n",
      "Epoch 2659/3000\n",
      "87006/87006 [==============================] - 10s 115us/step - loss: 1.5313e-062s - loss: 1.5 - ETA: 1s - loss: 1.5422 - ETA: 1s - lo\n",
      "Epoch 2660/3000\n",
      "87006/87006 [==============================] - 9s 101us/step - loss: 1.5279e-06\n",
      "Epoch 2661/3000\n",
      "87006/87006 [==============================] - 12s 135us/step - loss: 1.5302e-06\n",
      "Epoch 2662/3000\n",
      "87006/87006 [==============================] - 9s 108us/step - loss: 1.5310e-06\n",
      "Epoch 2663/3000\n",
      "87006/87006 [==============================] - 7s 83us/step - loss: 1.5317e-06\n",
      "Epoch 2664/3000\n",
      "87006/87006 [==============================] - 13s 149us/step - loss: 1.5286e-060s - loss: 1.4878\n",
      "Epoch 2665/3000\n",
      "87006/87006 [==============================] - 10s 116us/step - loss: 1.5263e-063s - loss: 1.5560e-0 - ETA: 3\n",
      "Epoch 2666/3000\n",
      "87006/87006 [==============================] - 8s 94us/step - loss: 1.5290e-06:\n",
      "Epoch 2667/3000\n",
      "87006/87006 [==============================] - 11s 125us/step - loss: 1.5289e-06\n",
      "Epoch 2668/3000\n",
      "87006/87006 [==============================] - 8s 88us/step - loss: 1.5292e-06\n",
      "Epoch 2669/3000\n",
      "87006/87006 [==============================] - 10s 114us/step - loss: 1.5331e-06\n",
      "Epoch 2670/3000\n",
      "87006/87006 [==============================] - 7s 83us/step - loss: 1.5374e-06: 1s - loss: 1.5 - ETA: 0s - loss: 1.537\n",
      "Epoch 2671/3000\n",
      "87006/87006 [==============================] - 9s 102us/step - loss: 1.5304e-06\n",
      "Epoch 2672/3000\n",
      "87006/87006 [==============================] - 9s 109us/step - loss: 1.5288e-06\n",
      "Epoch 2673/3000\n",
      "87006/87006 [==============================] - 8s 87us/step - loss: 1.5231e-06: \n",
      "Epoch 2674/3000\n",
      "87006/87006 [==============================] - 9s 98us/step - loss: 1.5293e-06\n",
      "Epoch 2675/3000\n",
      "87006/87006 [==============================] - 6s 74us/step - loss: 1.5302e-06\n",
      "Epoch 2676/3000\n",
      "87006/87006 [==============================] - ETA: 0s - loss: 1.5306e-0 - 7s 75us/step - loss: 1.5300e-06\n",
      "Epoch 2677/3000\n",
      "87006/87006 [==============================] - 11s 123us/step - loss: 1.5438e-06\n",
      "Epoch 2678/3000\n",
      "87006/87006 [==============================] - 14s 163us/step - loss: 1.5314e-06\n",
      "Epoch 2679/3000\n",
      "87006/87006 [==============================] - 12s 141us/step - loss: 1.5336e-06\n",
      "Epoch 2680/3000\n",
      "87006/87006 [==============================] - 10s 116us/step - loss: 1.5235e-060s - loss: 1.\n",
      "Epoch 2681/3000\n",
      "87006/87006 [==============================] - 7s 79us/step - loss: 1.5291e-06\n",
      "Epoch 2682/3000\n",
      "87006/87006 [==============================] - 13s 146us/step - loss: 1.5281e-06\n",
      "Epoch 2683/3000\n",
      "87006/87006 [==============================] - 8s 89us/step - loss: 1.5294e-06\n",
      "Epoch 2684/3000\n",
      "87006/87006 [==============================] - 9s 103us/step - loss: 1.5250e-06\n",
      "Epoch 2685/3000\n",
      "87006/87006 [==============================] - 10s 114us/step - loss: 1.5295e-06\n",
      "Epoch 2686/3000\n",
      "87006/87006 [==============================] - 9s 104us/step - loss: 1.5257e-06 2s - loss - ETA: 1s - loss: 1. - ETA: 1s - loss: 1.5034 - ETA: 0s -  - ETA: 0s - loss: 1.4\n",
      "Epoch 2687/3000\n",
      "87006/87006 [==============================] - 10s 111us/step - loss: 1.5268e-061s\n",
      "Epoch 2688/3000\n",
      "87006/87006 [==============================] - 9s 99us/step - loss: 1.5312e-06\n",
      "Epoch 2689/3000\n",
      "87006/87006 [==============================] - 8s 96us/step - loss: 1.5381e-06: 1s - loss: 1.56\n",
      "Epoch 2690/3000\n",
      "87006/87006 [==============================] - 9s 100us/step - loss: 1.5249e-06 4s - loss\n",
      "Epoch 2691/3000\n",
      "87006/87006 [==============================] - 6s 70us/step - loss: 1.5325e-06: 0s - loss:\n",
      "Epoch 2692/3000\n",
      "87006/87006 [==============================] - 9s 101us/step - loss: 1.5241e-06 1s \n",
      "Epoch 2693/3000\n",
      "87006/87006 [==============================] - 9s 105us/step - loss: 1.5264e-06\n",
      "Epoch 2694/3000\n",
      "87006/87006 [==============================] - 9s 98us/step - loss: 1.5269e-06\n",
      "Epoch 2695/3000\n",
      "87006/87006 [==============================] - 10s 117us/step - loss: 1.5279e-06\n",
      "Epoch 2696/3000\n",
      "87006/87006 [==============================] - ETA: 0s - loss: 1.5350e-06 - 8s 94us/step - loss: 1.5334e-06\n",
      "Epoch 2697/3000\n",
      "87006/87006 [==============================] - 10s 120us/step - loss: 1.5227e-06\n",
      "Epoch 2698/3000\n",
      "87006/87006 [==============================] - 11s 121us/step - loss: 1.5275e-061s\n",
      "Epoch 2699/3000\n",
      "87006/87006 [==============================] - 6s 73us/step - loss: 1.5271e-06\n",
      "Epoch 2700/3000\n",
      "87006/87006 [==============================] - 14s 159us/step - loss: 1.5227e-06 - val_loss: 2.0927e-06ss: 1.525 - ETA: 0s - loss: 1.5\n",
      "Epoch 2701/3000\n",
      "87006/87006 [==============================] - 9s 107us/step - loss: 1.5299e-06\n",
      "Epoch 2702/3000\n",
      "87006/87006 [==============================] - 10s 121us/step - loss: 1.5399e-060s\n",
      "Epoch 2703/3000\n",
      "87006/87006 [==============================] - 9s 108us/step - loss: 1.5263e-06: 0s - loss: 1.5276e\n",
      "Epoch 2704/3000\n",
      "87006/87006 [==============================] - 10s 119us/step - loss: 1.5319e-06 0s - l - ETA: 0s - loss: 1.5316e- - ETA: 0s - loss: 1.5321e-0\n",
      "Epoch 2705/3000\n",
      "87006/87006 [==============================] - 8s 86us/step - loss: 1.5330e-06: 0s - loss: 1\n",
      "Epoch 2706/3000\n",
      "87006/87006 [==============================] - 10s 114us/step - loss: 1.5324e-061\n",
      "Epoch 2707/3000\n",
      "87006/87006 [==============================] - 8s 88us/step - loss: 1.5277e-06: 3s - - ETA: 1s - l - ETA: 1s - loss: 1.5464e- - ETA: 1s - loss: 1\n",
      "Epoch 2708/3000\n",
      "87006/87006 [==============================] - ETA: 0s - loss: 1.5332e-0 - 10s 116us/step - loss: 1.5308e-06\n",
      "Epoch 2709/3000\n",
      "87006/87006 [==============================] - 9s 109us/step - loss: 1.5318e-06A: 1s - loss:\n",
      "Epoch 2710/3000\n",
      "87006/87006 [==============================] - 13s 152us/step - loss: 1.5232e-06\n",
      "Epoch 2711/3000\n",
      "87006/87006 [==============================] - 15s 172us/step - loss: 1.5334e-06\n",
      "Epoch 2712/3000\n",
      "87006/87006 [==============================] - 9s 100us/step - loss: 1.5286e-06\n",
      "Epoch 2713/3000\n",
      "87006/87006 [==============================] - 10s 113us/step - loss: 1.5292e-06\n",
      "Epoch 2714/3000\n",
      "87006/87006 [==============================] - 8s 90us/step - loss: 1.5296e-06\n",
      "Epoch 2715/3000\n",
      "87006/87006 [==============================] - 8s 93us/step - loss: 1.5286e-06\n",
      "Epoch 2716/3000\n",
      "87006/87006 [==============================] - 7s 75us/step - loss: 1.5257e-06: 1s - loss: \n",
      "Epoch 2717/3000\n",
      "87006/87006 [==============================] - 10s 114us/step - loss: 1.5244e-06\n",
      "Epoch 2718/3000\n",
      "87006/87006 [==============================] - 10s 121us/step - loss: 1.5249e-06\n",
      "Epoch 2719/3000\n",
      "87006/87006 [==============================] - 8s 88us/step - loss: 1.5275e-06\n",
      "Epoch 2720/3000\n",
      "87006/87006 [==============================] - 8s 96us/step - loss: 1.5244e-06: 0s - loss: 1.5241e-0\n",
      "Epoch 2721/3000\n",
      "87006/87006 [==============================] - 5s 52us/step - loss: 1.5320e-06: 0\n",
      "Epoch 2722/3000\n",
      "87006/87006 [==============================] - 8s 88us/step - loss: 1.5356e-06: 1s -  - ETA: 0s - loss: 1.5391\n",
      "Epoch 2723/3000\n",
      "87006/87006 [==============================] - 7s 83us/step - loss: 1.5235e-06: 1s - los\n",
      "Epoch 2724/3000\n",
      "87006/87006 [==============================] - 8s 96us/step - loss: 1.5309e-06\n",
      "Epoch 2725/3000\n",
      "87006/87006 [==============================] - 8s 90us/step - loss: 1.5267e-06: \n",
      "Epoch 2726/3000\n",
      "87006/87006 [==============================] - 8s 95us/step - loss: 1.5218e-06\n",
      "Epoch 2727/3000\n",
      "87006/87006 [==============================] - 4s 50us/step - loss: 1.5298e-06\n",
      "Epoch 2728/3000\n",
      "87006/87006 [==============================] - 4s 50us/step - loss: 1.5248e-06: 0s - loss: 1.5232e\n",
      "Epoch 2729/3000\n",
      "87006/87006 [==============================] - 6s 66us/step - loss: 1.5361e-06\n",
      "Epoch 2730/3000\n",
      "87006/87006 [==============================] - 6s 64us/step - loss: 1.5549e-06\n",
      "Epoch 2731/3000\n",
      "87006/87006 [==============================] - 7s 84us/step - loss: 1.5355e-06: 0s - - ETA: 0s - loss: 1.5360e-\n",
      "Epoch 2732/3000\n",
      "87006/87006 [==============================] - 8s 91us/step - loss: 1.5249e-06: 5s - l\n",
      "Epoch 2733/3000\n",
      "87006/87006 [==============================] - 8s 95us/step - loss: 1.5246e-06: 1s - loss: 1.5 - E\n",
      "Epoch 2734/3000\n",
      "87006/87006 [==============================] - 8s 97us/step - loss: 1.5215e-06\n",
      "Epoch 2735/3000\n",
      "87006/87006 [==============================] - 10s 114us/step - loss: 1.5276e-060s - loss: 1.5410e - ETA: 0s - l\n",
      "Epoch 2736/3000\n",
      "87006/87006 [==============================] - 6s 70us/step - loss: 1.5231e-06: 0s - lo - ETA: 0s - loss: 1.525\n",
      "Epoch 2737/3000\n",
      "87006/87006 [==============================] - 9s 99us/step - loss: 1.5298e-06: 0s\n",
      "Epoch 2738/3000\n",
      "87006/87006 [==============================] - 9s 101us/step - loss: 1.5282e-06\n",
      "Epoch 2739/3000\n",
      "87006/87006 [==============================] - 8s 96us/step - loss: 1.5229e-06\n",
      "Epoch 2740/3000\n",
      "87006/87006 [==============================] - 8s 95us/step - loss: 1.5225e-06\n",
      "Epoch 2741/3000\n",
      "87006/87006 [==============================] - 10s 114us/step - loss: 1.5368e-06\n",
      "Epoch 2742/3000\n",
      "87006/87006 [==============================] - 11s 125us/step - loss: 1.5270e-06\n",
      "Epoch 2743/3000\n",
      "87006/87006 [==============================] - 11s 122us/step - loss: 1.5270e-06\n",
      "Epoch 2744/3000\n",
      "87006/87006 [==============================] - 11s 132us/step - loss: 1.5328e-06\n",
      "Epoch 2745/3000\n",
      "87006/87006 [==============================] - 11s 125us/step - loss: 1.5319e-06\n",
      "Epoch 2746/3000\n",
      "87006/87006 [==============================] - 9s 109us/step - loss: 1.5215e-06\n",
      "Epoch 2747/3000\n",
      "87006/87006 [==============================] - 10s 112us/step - loss: 1.5363e-065s - loss: 1.4706 - ETA: 4s - loss: 1.6 - ETA:\n",
      "Epoch 2748/3000\n",
      "87006/87006 [==============================] - 11s 125us/step - loss: 1.5362e-063s - loss:  - ETA: 2s \n",
      "Epoch 2749/3000\n",
      "87006/87006 [==============================] - 10s 110us/step - loss: 1.5301e-062s - loss: 1. - ETA: 1s - los - ETA: 0\n",
      "Epoch 2750/3000\n",
      "87006/87006 [==============================] - 8s 94us/step - loss: 1.5288e-06: 4s - los - ETA: 2s - los\n",
      "Epoch 2751/3000\n",
      "87006/87006 [==============================] - 9s 104us/step - loss: 1.5306e-06 1s \n",
      "Epoch 2752/3000\n",
      "87006/87006 [==============================] - 11s 125us/step - loss: 1.5343e-060s - loss: 1\n",
      "Epoch 2753/3000\n",
      "87006/87006 [==============================] - 12s 132us/step - loss: 1.5224e-06\n",
      "Epoch 2754/3000\n",
      "87006/87006 [==============================] - 9s 108us/step - loss: 1.5399e-06 4s - - \n",
      "Epoch 2755/3000\n",
      "87006/87006 [==============================] - 12s 133us/step - loss: 1.5323e-06\n",
      "Epoch 2756/3000\n",
      "87006/87006 [==============================] - 9s 100us/step - loss: 1.5264e-06 0s - loss: 1\n",
      "Epoch 2757/3000\n",
      " 1500/87006 [..............................] - ETA: 13s - loss: 1.5607e-06"
     ]
    },
    {
     "name": "stderr",
     "output_type": "stream",
     "text": [
      "C:\\Users\\User\\.conda\\envs\\theano_v1\\lib\\site-packages\\keras\\callbacks\\callbacks.py:95: RuntimeWarning: Method (on_train_batch_end) is slow compared to the batch update (0.103737). Check your callbacks.\n",
      "  % (hook_name, delta_t_median), RuntimeWarning)\n"
     ]
    },
    {
     "name": "stdout",
     "output_type": "stream",
     "text": [
      "87006/87006 [==============================] - 12s 135us/step - loss: 1.5264e-062\n",
      "Epoch 2758/3000\n",
      "87006/87006 [==============================] - 12s 139us/step - loss: 1.5248e-06\n",
      "Epoch 2759/3000\n",
      "87006/87006 [==============================] - 6s 64us/step - loss: 1.5294e-06 ETA: 2s - los - ETA: 2s - loss: - E\n",
      "Epoch 2760/3000\n",
      "87006/87006 [==============================] - 9s 104us/step - loss: 1.5248e-06 0s - loss: 1.5277e\n",
      "Epoch 2761/3000\n",
      "87006/87006 [==============================] - 11s 131us/step - loss: 1.5248e-06\n",
      "Epoch 2762/3000\n",
      "87006/87006 [==============================] - 7s 81us/step - loss: 1.5283e-06\n",
      "Epoch 2763/3000\n",
      "87006/87006 [==============================] - 8s 90us/step - loss: 1.5364e-06\n",
      "Epoch 2764/3000\n",
      "87006/87006 [==============================] - 9s 106us/step - loss: 1.5304e-06\n",
      "Epoch 2765/3000\n",
      "87006/87006 [==============================] - 10s 111us/step - loss: 1.5328e-061s -\n",
      "Epoch 2766/3000\n",
      "87006/87006 [==============================] - 7s 83us/step - loss: 1.5268e-06\n",
      "Epoch 2767/3000\n",
      "87006/87006 [==============================] - 12s 141us/step - loss: 1.5325e-065s - l - \n",
      "Epoch 2768/3000\n",
      "87006/87006 [==============================] - 9s 99us/step - loss: 1.5323e-06: 1s \n",
      "Epoch 2769/3000\n",
      "87006/87006 [==============================] - 10s 118us/step - loss: 1.5427e-06\n",
      "Epoch 2770/3000\n",
      "87006/87006 [==============================] - 6s 66us/step - loss: 1.5260e-06\n",
      "Epoch 2771/3000\n",
      "87006/87006 [==============================] - 5s 61us/step - loss: 1.5293e-06\n",
      "Epoch 2772/3000\n",
      "87006/87006 [==============================] - 8s 95us/step - loss: 1.5256e-06\n",
      "Epoch 2773/3000\n",
      "87006/87006 [==============================] - 10s 111us/step - loss: 1.5320e-06\n",
      "Epoch 2774/3000\n",
      "87006/87006 [==============================] - 9s 98us/step - loss: 1.5266e-06\n",
      "Epoch 2775/3000\n",
      "87006/87006 [==============================] - 9s 100us/step - loss: 1.5332e-06 1s - - ETA: 0s - loss: 1\n",
      "Epoch 2776/3000\n",
      "87006/87006 [==============================] - ETA: 0s - loss: 1.5228e-0 - 6s 70us/step - loss: 1.5214e-06\n",
      "Epoch 2777/3000\n",
      "87006/87006 [==============================] - 7s 80us/step - loss: 1.5239e-06: 0s - loss: 1\n",
      "Epoch 2778/3000\n",
      "87006/87006 [==============================] - ETA: 0s - loss: 1.5268e-0 - 8s 91us/step - loss: 1.5248e-06\n",
      "Epoch 2779/3000\n",
      "87006/87006 [==============================] - 7s 76us/step - loss: 1.5309e-06\n",
      "Epoch 2780/3000\n",
      "87006/87006 [==============================] - 8s 93us/step - loss: 1.5222e-06: 6 - ETA: 0s - loss: 1.5\n",
      "Epoch 2781/3000\n",
      "87006/87006 [==============================] - 8s 90us/step - loss: 1.5303e-06\n",
      "Epoch 2782/3000\n",
      "87006/87006 [==============================] - 6s 65us/step - loss: 1.5243e-06: 0s\n",
      "Epoch 2783/3000\n",
      "87006/87006 [==============================] - 9s 103us/step - loss: 1.5300e-06\n",
      "Epoch 2784/3000\n",
      "87006/87006 [==============================] - 8s 95us/step - loss: 1.5278e-06\n",
      "Epoch 2785/3000\n",
      "87006/87006 [==============================] - 5s 58us/step - loss: 1.5207e-06\n",
      "Epoch 2786/3000\n",
      "87006/87006 [==============================] - 9s 100us/step - loss: 1.5258e-06\n",
      "Epoch 2787/3000\n",
      "87006/87006 [==============================] - 4s 49us/step - loss: 1.5217e-06: 0s - \n",
      "Epoch 2788/3000\n",
      "87006/87006 [==============================] - 9s 98us/step - loss: 1.5276e-06\n",
      "Epoch 2789/3000\n",
      "87006/87006 [==============================] - 7s 83us/step - loss: 1.5255e-06\n",
      "Epoch 2790/3000\n",
      "87006/87006 [==============================] - 9s 104us/step - loss: 1.5207e-06\n",
      "Epoch 2791/3000\n",
      "87006/87006 [==============================] - 7s 77us/step - loss: 1.5321e-06\n",
      "Epoch 2792/3000\n",
      "87006/87006 [==============================] - 10s 116us/step - loss: 1.5286e-060s - loss: 1.5\n",
      "Epoch 2793/3000\n",
      "87006/87006 [==============================] - 12s 135us/step - loss: 1.5276e-063s - loss: 1.5 - ETA: \n",
      "Epoch 2794/3000\n",
      "87006/87006 [==============================] - 5s 61us/step - loss: 1.5283e-06\n",
      "Epoch 2795/3000\n",
      "87006/87006 [==============================] - 8s 91us/step - loss: 1.5334e-06\n",
      "Epoch 2796/3000\n",
      "87006/87006 [==============================] - 9s 100us/step - loss: 1.5207e-06\n",
      "Epoch 2797/3000\n",
      "87006/87006 [==============================] - 7s 80us/step - loss: 1.5297e-06\n",
      "Epoch 2798/3000\n",
      "87006/87006 [==============================] - 9s 98us/step - loss: 1.5206e-06: 0s - loss: 1.\n",
      "Epoch 2799/3000\n",
      "87006/87006 [==============================] - 7s 83us/step - loss: 1.5392e-06: 12s -  - \n",
      "Epoch 2800/3000\n",
      "87006/87006 [==============================] - 9s 108us/step - loss: 1.5279e-06 - val_loss: 1.9289e-06\n",
      "Epoch 2801/3000\n",
      "87006/87006 [==============================] - 7s 82us/step - loss: 1.5305e-06\n",
      "Epoch 2802/3000\n",
      "87006/87006 [==============================] - 11s 122us/step - loss: 1.5278e-06\n",
      "Epoch 2803/3000\n",
      "87006/87006 [==============================] - 7s 78us/step - loss: 1.5250e-06\n",
      "Epoch 2804/3000\n",
      "87006/87006 [==============================] - 9s 107us/step - loss: 1.5290e-06: 8s  - ETA: 7s - lo - ETA: 2s - loss: 1. - ETA: 1s - l\n",
      "Epoch 2805/3000\n",
      "87006/87006 [==============================] - 7s 81us/step - loss: 1.5241e-06\n",
      "Epoch 2806/3000\n",
      "87006/87006 [==============================] - 10s 112us/step - loss: 1.5332e-06\n",
      "Epoch 2807/3000\n",
      "87006/87006 [==============================] - 14s 158us/step - loss: 1.5311e-06\n",
      "Epoch 2808/3000\n",
      "87006/87006 [==============================] - 8s 97us/step - loss: 1.5247e-06: 4s - loss: 1.541 - ETA: 0s - loss: 1.4\n",
      "Epoch 2809/3000\n",
      "87006/87006 [==============================] - 11s 127us/step - loss: 1.5357e-060s - loss:  - ETA: 0s - loss: 1.5351e-\n",
      "Epoch 2810/3000\n",
      "87006/87006 [==============================] - 12s 136us/step - loss: 1.5335e-06\n",
      "Epoch 2811/3000\n",
      "87006/87006 [==============================] - 9s 101us/step - loss: 1.5274e-06 0s - loss: 1.5253e-\n",
      "Epoch 2812/3000\n",
      "87006/87006 [==============================] - 8s 88us/step - loss: 1.5276e-06\n",
      "Epoch 2813/3000\n",
      "87006/87006 [==============================] - 7s 85us/step - loss: 1.5256e-06\n",
      "Epoch 2814/3000\n",
      "87006/87006 [==============================] - 13s 154us/step - loss: 1.5249e-06\n",
      "Epoch 2815/3000\n",
      "87006/87006 [==============================] - 9s 107us/step - loss: 1.5347e-06 0s - loss: 1.5348e-0\n",
      "Epoch 2816/3000\n",
      "87006/87006 [==============================] - 7s 82us/step - loss: 1.5244e-06: 0s - loss: 1.5229\n",
      "Epoch 2817/3000\n",
      "87006/87006 [==============================] - 9s 106us/step - loss: 1.5296e-06 5s -\n",
      "Epoch 2818/3000\n",
      "87006/87006 [==============================] - 8s 97us/step - loss: 1.5306e-06\n",
      "Epoch 2819/3000\n",
      "87006/87006 [==============================] - 9s 101us/step - loss: 1.5366e-06\n",
      "Epoch 2820/3000\n",
      "87006/87006 [==============================] - 8s 94us/step - loss: 1.5272e-06\n",
      "Epoch 2821/3000\n",
      "87006/87006 [==============================] - 8s 96us/step - loss: 1.5333e-06\n",
      "Epoch 2822/3000\n",
      "87006/87006 [==============================] - 11s 125us/step - loss: 1.5249e-06\n",
      "Epoch 2823/3000\n",
      "87006/87006 [==============================] - 9s 108us/step - loss: 1.5263e-06\n",
      "Epoch 2824/3000\n",
      "87006/87006 [==============================] - 10s 111us/step - loss: 1.5236e-06\n",
      "Epoch 2825/3000\n",
      "87006/87006 [==============================] - 10s 114us/step - loss: 1.5290e-060s - loss: 1.\n",
      "Epoch 2826/3000\n",
      "87006/87006 [==============================] - 7s 78us/step - loss: 1.5252e-06\n",
      "Epoch 2827/3000\n",
      "87006/87006 [==============================] - 10s 117us/step - loss: 1.5318e-06\n",
      "Epoch 2828/3000\n",
      "87006/87006 [==============================] - 7s 77us/step - loss: 1.5328e-06: 6s - l - ETA: 4s - loss: 1.5384e - ETA: 4s \n",
      "Epoch 2829/3000\n",
      "87006/87006 [==============================] - 8s 87us/step - loss: 1.5350e-06:\n",
      "Epoch 2830/3000\n",
      "87006/87006 [==============================] - 11s 128us/step - loss: 1.5318e-06\n",
      "Epoch 2831/3000\n",
      "87006/87006 [==============================] - 9s 106us/step - loss: 1.5318e-06\n",
      "Epoch 2832/3000\n",
      "87006/87006 [==============================] - 11s 123us/step - loss: 1.5267e-06\n",
      "Epoch 2833/3000\n",
      "87006/87006 [==============================] - 9s 108us/step - loss: 1.5298e-06 0s - loss: 1.5314e\n",
      "Epoch 2834/3000\n",
      "87006/87006 [==============================] - 8s 93us/step - loss: 1.5295e-06\n",
      "Epoch 2835/3000\n",
      "87006/87006 [==============================] - 9s 101us/step - loss: 1.5268e-06 1s - loss: 1 - ETA: 0s - loss:\n",
      "Epoch 2836/3000\n",
      "87006/87006 [==============================] - 9s 105us/step - loss: 1.5265e-06 ETA:\n",
      "Epoch 2837/3000\n",
      "87006/87006 [==============================] - 12s 136us/step - loss: 1.5264e-06\n",
      "Epoch 2838/3000\n",
      "87006/87006 [==============================] - 12s 143us/step - loss: 1.5314e-06\n",
      "Epoch 2839/3000\n",
      " 2100/87006 [..............................] - ETA: 13s - loss: 1.4957e-06"
     ]
    },
    {
     "name": "stderr",
     "output_type": "stream",
     "text": [
      "C:\\Users\\User\\.conda\\envs\\theano_v1\\lib\\site-packages\\keras\\callbacks\\callbacks.py:95: RuntimeWarning: Method (on_train_batch_end) is slow compared to the batch update (0.115861). Check your callbacks.\n",
      "  % (hook_name, delta_t_median), RuntimeWarning)\n"
     ]
    },
    {
     "name": "stdout",
     "output_type": "stream",
     "text": [
      "87006/87006 [==============================] - 10s 119us/step - loss: 1.5225e-06\n",
      "Epoch 2840/3000\n",
      "87006/87006 [==============================] - 11s 130us/step - loss: 1.5310e-06\n",
      "Epoch 2841/3000\n",
      "87006/87006 [==============================] - 14s 159us/step - loss: 1.5252e-06\n",
      "Epoch 2842/3000\n",
      "87006/87006 [==============================] - 8s 93us/step - loss: 1.5356e-06\n",
      "Epoch 2843/3000\n",
      "87006/87006 [==============================] - 10s 113us/step - loss: 1.5259e-06\n",
      "Epoch 2844/3000\n",
      "87006/87006 [==============================] - 10s 114us/step - loss: 1.5296e-06\n",
      "Epoch 2845/3000\n",
      "87006/87006 [==============================] - 8s 95us/step - loss: 1.5402e-06: 3s - l - E\n",
      "Epoch 2846/3000\n",
      "87006/87006 [==============================] - 7s 84us/step - loss: 1.5240e-06\n",
      "Epoch 2847/3000\n",
      "87006/87006 [==============================] - 6s 71us/step - loss: 1.5261e-06 ETA: 3s - loss: 1.6040e-0 - ETA - ETA: 3s - loss -\n",
      "Epoch 2848/3000\n",
      "87006/87006 [==============================] - 7s 79us/step - loss: 1.5416e-06\n",
      "Epoch 2849/3000\n",
      "87006/87006 [==============================] - 8s 93us/step - loss: 1.5302e-06\n",
      "Epoch 2850/3000\n",
      "87006/87006 [==============================] - 9s 99us/step - loss: 1.5227e-06: 1s \n",
      "Epoch 2851/3000\n",
      "87006/87006 [==============================] - 10s 109us/step - loss: 1.5230e-06\n",
      "Epoch 2852/3000\n",
      "87006/87006 [==============================] - 7s 79us/step - loss: 1.5291e-06\n",
      "Epoch 2853/3000\n",
      "87006/87006 [==============================] - 11s 127us/step - loss: 1.5345e-061s - loss: 1.5401 - ETA: 0s - loss: 1.5\n",
      "Epoch 2854/3000\n",
      "87006/87006 [==============================] - 8s 96us/step - loss: 1.5260e-06\n",
      "Epoch 2855/3000\n",
      "87006/87006 [==============================] - 6s 71us/step - loss: 1.5223e-06\n",
      "Epoch 2856/3000\n",
      "87006/87006 [==============================] - 8s 90us/step - loss: 1.5268e-06: 0s - loss: 1.5290e-\n",
      "Epoch 2857/3000\n",
      "87006/87006 [==============================] - 6s 72us/step - loss: 1.5203e-06: - ETA: 2s - loss - \n",
      "Epoch 2858/3000\n",
      "87006/87006 [==============================] - 5s 60us/step - loss: 1.5248e-06\n",
      "Epoch 2859/3000\n",
      "87006/87006 [==============================] - 5s 55us/step - loss: 1.5289e-06\n",
      "Epoch 2860/3000\n",
      "87006/87006 [==============================] - 7s 77us/step - loss: 1.5359e-06\n",
      "Epoch 2861/3000\n",
      "87006/87006 [==============================] - 6s 66us/step - loss: 1.5243e-06\n",
      "Epoch 2862/3000\n",
      "87006/87006 [==============================] - 8s 92us/step - loss: 1.5276e-06: 5s  - ETA - E - ETA: 0s - loss: 1.5223\n",
      "Epoch 2863/3000\n",
      "87006/87006 [==============================] - 8s 90us/step - loss: 1.5270e-06: 0s - los\n",
      "Epoch 2864/3000\n",
      "87006/87006 [==============================] - 5s 59us/step - loss: 1.5259e-06\n",
      "Epoch 2865/3000\n",
      " 1200/87006 [..............................] - ETA: 35s - loss: 1.7129e-06"
     ]
    },
    {
     "name": "stderr",
     "output_type": "stream",
     "text": [
      "C:\\Users\\User\\.conda\\envs\\theano_v1\\lib\\site-packages\\keras\\callbacks\\callbacks.py:95: RuntimeWarning: Method (on_train_batch_end) is slow compared to the batch update (0.133098). Check your callbacks.\n",
      "  % (hook_name, delta_t_median), RuntimeWarning)\n"
     ]
    },
    {
     "name": "stdout",
     "output_type": "stream",
     "text": [
      "87006/87006 [==============================] - 8s 95us/step - loss: 1.5302e-06\n",
      "Epoch 2866/3000\n",
      "87006/87006 [==============================] - 7s 84us/step - loss: 1.5256e-06: 2s - loss: - ETA: 1s -\n",
      "Epoch 2867/3000\n",
      "87006/87006 [==============================] - 7s 84us/step - loss: 1.5293e-06: 1s - loss: 1.506 - ETA: 1s - loss: - ETA: 0s - \n",
      "Epoch 2868/3000\n",
      "87006/87006 [==============================] - 7s 82us/step - loss: 1.5291e-06\n",
      "Epoch 2869/3000\n",
      " 2100/87006 [..............................] - ETA: 11s - loss: 1.4694e-06"
     ]
    },
    {
     "name": "stderr",
     "output_type": "stream",
     "text": [
      "C:\\Users\\User\\.conda\\envs\\theano_v1\\lib\\site-packages\\keras\\callbacks\\callbacks.py:95: RuntimeWarning: Method (on_train_batch_end) is slow compared to the batch update (0.131484). Check your callbacks.\n",
      "  % (hook_name, delta_t_median), RuntimeWarning)\n"
     ]
    },
    {
     "name": "stdout",
     "output_type": "stream",
     "text": [
      "87006/87006 [==============================] - 6s 74us/step - loss: 1.5267e-06: 1s - loss: 1.5180e -\n",
      "Epoch 2870/3000\n",
      "87006/87006 [==============================] - 7s 81us/step - loss: 1.5218e-06\n",
      "Epoch 2871/3000\n",
      "87006/87006 [==============================] - 6s 75us/step - loss: 1.5291e-06\n",
      "Epoch 2872/3000\n",
      "87006/87006 [==============================] - 7s 80us/step - loss: 1.5303e-06\n",
      "Epoch 2873/3000\n",
      "87006/87006 [==============================] - 4s 51us/step - loss: 1.5304e-06\n",
      "Epoch 2874/3000\n",
      "87006/87006 [==============================] - 6s 65us/step - loss: 1.5230e-06\n",
      "Epoch 2875/3000\n",
      "87006/87006 [==============================] - 7s 76us/step - loss: 1.5242e-06: 5s -\n",
      "Epoch 2876/3000\n",
      "87006/87006 [==============================] - 5s 61us/step - loss: 1.5204e-06: 0s - loss:\n",
      "Epoch 2877/3000\n",
      "87006/87006 [==============================] - 8s 92us/step - loss: 1.5261e-06: 0s - loss: 1.5\n",
      "Epoch 2878/3000\n",
      "87006/87006 [==============================] - 5s 57us/step - loss: 1.5351e-06: 2s - loss: 1. - ETA\n",
      "Epoch 2879/3000\n",
      "87006/87006 [==============================] - 5s 61us/step - loss: 1.5276e-06\n",
      "Epoch 2880/3000\n",
      "87006/87006 [==============================] - 8s 89us/step - loss: 1.5227e-06: 1s - - ETA: 1s -\n",
      "Epoch 2881/3000\n",
      "87006/87006 [==============================] - 8s 86us/step - loss: 1.5279e-06\n",
      "Epoch 2882/3000\n",
      "87006/87006 [==============================] - 7s 79us/step - loss: 1.5269e-06\n",
      "Epoch 2883/3000\n",
      "87006/87006 [==============================] - 7s 77us/step - loss: 1.5303e-06\n",
      "Epoch 2884/3000\n",
      "87006/87006 [==============================] - 7s 75us/step - loss: 1.5261e-06\n",
      "Epoch 2885/3000\n",
      "87006/87006 [==============================] - 8s 87us/step - loss: 1.5224e-06\n",
      "Epoch 2886/3000\n",
      "87006/87006 [==============================] - 5s 52us/step - loss: 1.5292e-06\n",
      "Epoch 2887/3000\n",
      "87006/87006 [==============================] - ETA: 0s - loss: 1.5406e-0 - 7s 77us/step - loss: 1.5405e-06\n",
      "Epoch 2888/3000\n",
      " 3000/87006 [>.............................] - ETA: 9s - loss: 1.6931e-0"
     ]
    },
    {
     "name": "stderr",
     "output_type": "stream",
     "text": [
      "C:\\Users\\User\\.conda\\envs\\theano_v1\\lib\\site-packages\\keras\\callbacks\\callbacks.py:95: RuntimeWarning: Method (on_train_batch_end) is slow compared to the batch update (0.100243). Check your callbacks.\n",
      "  % (hook_name, delta_t_median), RuntimeWarning)\n"
     ]
    },
    {
     "name": "stdout",
     "output_type": "stream",
     "text": [
      "87006/87006 [==============================] - 9s 104us/step - loss: 1.5239e-06\n",
      "Epoch 2889/3000\n",
      "87006/87006 [==============================] - 8s 91us/step - loss: 1.5227e-06: \n",
      "Epoch 2890/3000\n",
      "87006/87006 [==============================] - 5s 63us/step - loss: 1.5215e-06: 0s - lo\n",
      "Epoch 2891/3000\n",
      "87006/87006 [==============================] - 8s 96us/step - loss: 1.5271e-06\n",
      "Epoch 2892/3000\n",
      "87006/87006 [==============================] - 9s 100us/step - loss: 1.5310e-06\n",
      "Epoch 2893/3000\n",
      "87006/87006 [==============================] - 7s 82us/step - loss: 1.5223e-06\n",
      "Epoch 2894/3000\n",
      "87006/87006 [==============================] - 8s 92us/step - loss: 1.5247e-06\n",
      "Epoch 2895/3000\n",
      "87006/87006 [==============================] - 7s 82us/step - loss: 1.5310e-06\n",
      "Epoch 2896/3000\n",
      "87006/87006 [==============================] - 8s 88us/step - loss: 1.5246e-06: 0s - loss:\n",
      "Epoch 2897/3000\n",
      "87006/87006 [==============================] - 8s 97us/step - loss: 1.5286e-06: 0s - loss: 1.5343e-0 - ETA: 0s - loss: \n",
      "Epoch 2898/3000\n",
      "87006/87006 [==============================] - 8s 94us/step - loss: 1.5308e-06: 1s\n",
      "Epoch 2899/3000\n",
      "87006/87006 [==============================] - 8s 90us/step - loss: 1.5312e-06: 3s - loss: 1 - ETA: 0s - loss: 1.5337e-\n",
      "Epoch 2900/3000\n",
      "87006/87006 [==============================] - 11s 122us/step - loss: 1.5279e-06 - val_loss: 1.7764e-06TA: 0s - loss: \n",
      "Epoch 2901/3000\n",
      "87006/87006 [==============================] - 8s 87us/step - loss: 1.5225e-06\n",
      "Epoch 2902/3000\n",
      "87006/87006 [==============================] - 5s 53us/step - loss: 1.5250e-06:  - ETA: 1s - loss: 1.55 - ETA: 1s - loss - E\n",
      "Epoch 2903/3000\n",
      "87006/87006 [==============================] - 7s 83us/step - loss: 1.5241e-06: 1\n",
      "Epoch 2904/3000\n",
      "87006/87006 [==============================] - 7s 85us/step - loss: 1.5247e-06\n",
      "Epoch 2905/3000\n",
      "87006/87006 [==============================] - 5s 57us/step - loss: 1.5375e-06\n",
      "Epoch 2906/3000\n",
      "87006/87006 [==============================] - 9s 102us/step - loss: 1.5355e-06\n",
      "Epoch 2907/3000\n",
      "87006/87006 [==============================] - 6s 70us/step - loss: 1.5340e-06: 1s - loss:  - ETA: 0s - loss: 1\n",
      "Epoch 2908/3000\n",
      "87006/87006 [==============================] - 7s 84us/step - loss: 1.5292e-06: 0s - loss: 1.53\n",
      "Epoch 2909/3000\n",
      "87006/87006 [==============================] - 8s 90us/step - loss: 1.5252e-06\n",
      "Epoch 2910/3000\n",
      "87006/87006 [==============================] - 9s 100us/step - loss: 1.5237e-06\n",
      "Epoch 2911/3000\n",
      "87006/87006 [==============================] - 7s 78us/step - loss: 1.5280e-06\n",
      "Epoch 2912/3000\n",
      "87006/87006 [==============================] - 7s 85us/step - loss: 1.5226e-06\n",
      "Epoch 2913/3000\n",
      "87006/87006 [==============================] - 10s 120us/step - loss: 1.5606e-06\n",
      "Epoch 2914/3000\n",
      "87006/87006 [==============================] - ETA: 0s - loss: 1.4991e-0 - 9s 105us/step - loss: 1.5223e-06\n",
      "Epoch 2915/3000\n",
      "87006/87006 [==============================] - 7s 76us/step - loss: 1.5241e-06\n",
      "Epoch 2916/3000\n",
      "87006/87006 [==============================] - 5s 60us/step - loss: 1.5452e-06\n",
      "Epoch 2917/3000\n",
      "87006/87006 [==============================] - 8s 91us/step - loss: 1.5214e-06: 4s - loss: 1.55 - ETA: 4s - ETA\n",
      "Epoch 2918/3000\n",
      "87006/87006 [==============================] - ETA: 0s - loss: 1.5214e-0 - 6s 64us/step - loss: 1.5212e-06\n",
      "Epoch 2919/3000\n",
      "87006/87006 [==============================] - 9s 99us/step - loss: 1.5303e-06: 5s - loss:\n",
      "Epoch 2920/3000\n",
      "87006/87006 [==============================] - 5s 58us/step - loss: 1.5263e-06: 0s - loss: 1.52 - ETA: 0s - loss: 1.5262e-\n",
      "Epoch 2921/3000\n",
      "87006/87006 [==============================] - 6s 70us/step - loss: 1.5315e-06: 11s - loss:  - ETA: 0s - loss: 1.\n",
      "Epoch 2922/3000\n",
      "87006/87006 [==============================] - 8s 94us/step - loss: 1.5225e-06\n",
      "Epoch 2923/3000\n",
      "87006/87006 [==============================] - 7s 83us/step - loss: 1.5266e-06\n",
      "Epoch 2924/3000\n",
      "87006/87006 [==============================] - 9s 101us/step - loss: 1.5340e-06 6s  \n",
      "Epoch 2925/3000\n",
      "87006/87006 [==============================] - 9s 99us/step - loss: 1.5249e-06: 3s - loss: - ETA:\n",
      "Epoch 2926/3000\n",
      "87006/87006 [==============================] - 6s 72us/step - loss: 1.5237e-06: 4s - loss: 1.47 \n",
      "Epoch 2927/3000\n",
      "87006/87006 [==============================] - 6s 71us/step - loss: 1.5281e-06: 0\n",
      "Epoch 2928/3000\n",
      "87006/87006 [==============================] - 7s 77us/step - loss: 1.5360e-06: 1s -  - ETA: 0s - loss: 1.539\n",
      "Epoch 2929/3000\n",
      "87006/87006 [==============================] - 7s 83us/step - loss: 1.5329e-06\n",
      "Epoch 2930/3000\n",
      "87006/87006 [==============================] - 6s 67us/step - loss: 1.5270e-06\n",
      "Epoch 2931/3000\n",
      "87006/87006 [==============================] - 7s 85us/step - loss: 1.5347e-06: 0s - loss: 1.5367\n",
      "Epoch 2932/3000\n",
      "87006/87006 [==============================] - 9s 103us/step - loss: 1.5227e-06\n",
      "Epoch 2933/3000\n",
      "87006/87006 [==============================] - 7s 86us/step - loss: 1.5341e-06TA\n",
      "Epoch 2934/3000\n",
      "87006/87006 [==============================] - 8s 92us/step - loss: 1.5235e-06\n",
      "Epoch 2935/3000\n",
      "87006/87006 [==============================] - 7s 82us/step - loss: 1.5224e-06A:  - ETA: 1s - \n",
      "Epoch 2936/3000\n",
      "87006/87006 [==============================] - 6s 67us/step - loss: 1.5361e-06:\n",
      "Epoch 2937/3000\n",
      "87006/87006 [==============================] - 8s 93us/step - loss: 1.5266e-06: 0s - loss: 1.5352e- - ETA: 0s - loss: 1\n",
      "Epoch 2938/3000\n",
      "87006/87006 [==============================] - 6s 70us/step - loss: 1.5241e-06\n",
      "Epoch 2939/3000\n",
      "87006/87006 [==============================] - 7s 77us/step - loss: 1.5234e-06: 4s - loss: 1 - ETA: 3s - los - - ETA: 0s - loss: 1.5263\n",
      "Epoch 2940/3000\n",
      " 2700/87006 [..............................] - ETA: 8s - loss: 1.4418e-06 "
     ]
    },
    {
     "name": "stderr",
     "output_type": "stream",
     "text": [
      "C:\\Users\\User\\.conda\\envs\\theano_v1\\lib\\site-packages\\keras\\callbacks\\callbacks.py:95: RuntimeWarning: Method (on_train_batch_end) is slow compared to the batch update (0.124407). Check your callbacks.\n",
      "  % (hook_name, delta_t_median), RuntimeWarning)\n"
     ]
    },
    {
     "name": "stdout",
     "output_type": "stream",
     "text": [
      "87006/87006 [==============================] - 9s 100us/step - loss: 1.5325e-06A: 0s - loss: 1.5\n",
      "Epoch 2941/3000\n",
      "87006/87006 [==============================] - 7s 80us/step - loss: 1.5301e-06: 0s - loss: \n",
      "Epoch 2942/3000\n",
      "87006/87006 [==============================] - 8s 94us/step - loss: 1.5320e-06: 0s - loss: \n",
      "Epoch 2943/3000\n",
      "87006/87006 [==============================] - 9s 100us/step - loss: 1.5268e-06\n",
      "Epoch 2944/3000\n",
      "87006/87006 [==============================] - 8s 89us/step - loss: 1.5244e-06\n",
      "Epoch 2945/3000\n",
      "87006/87006 [==============================] - 8s 90us/step - loss: 1.5274e-06: 6s -  - ETA: 0s - loss: 1.52\n",
      "Epoch 2946/3000\n",
      "87006/87006 [==============================] - 4s 50us/step - loss: 1.5282e-06: 0s - loss: 1.5292e\n",
      "Epoch 2947/3000\n",
      "87006/87006 [==============================] - 7s 79us/step - loss: 1.5246e-06: 6s - loss: 1 - ETA\n",
      "Epoch 2948/3000\n",
      "87006/87006 [==============================] - 6s 74us/step - loss: 1.5329e-06\n",
      "Epoch 2949/3000\n",
      "87006/87006 [==============================] - 6s 72us/step - loss: 1.5250e-06 ETA: 0s - loss: 1. - ETA: 0s - loss: 1.523\n",
      "Epoch 2950/3000\n",
      "87006/87006 [==============================] - 9s 104us/step - loss: 1.5304e-06 2s - loss: 1.526 - ETA: 2s - loss\n",
      "Epoch 2951/3000\n",
      "87006/87006 [==============================] - 7s 85us/step - loss: 1.5234e-06: 2s - los\n",
      "Epoch 2952/3000\n",
      "87006/87006 [==============================] - 9s 105us/step - loss: 1.5250e-06\n",
      "Epoch 2953/3000\n",
      "87006/87006 [==============================] - 7s 83us/step - loss: 1.5297e-06\n",
      "Epoch 2954/3000\n",
      "87006/87006 [==============================] - 6s 69us/step - loss: 1.5248e-06\n",
      "Epoch 2955/3000\n",
      "87006/87006 [==============================] - 5s 63us/step - loss: 1.5327e-06-\n",
      "Epoch 2956/3000\n",
      "87006/87006 [==============================] - 9s 99us/step - loss: 1.5250e-06\n",
      "Epoch 2957/3000\n",
      "87006/87006 [==============================] - 7s 79us/step - loss: 1.5219e-06: 4s - loss: 1.4625e - ETA: 4s - loss:\n",
      "Epoch 2958/3000\n",
      "87006/87006 [==============================] - 4s 52us/step - loss: 1.5241e-06\n",
      "Epoch 2959/3000\n",
      "87006/87006 [==============================] - 6s 69us/step - loss: 1.5243e-06\n",
      "Epoch 2960/3000\n",
      "87006/87006 [==============================] - 8s 90us/step - loss: 1.5295e-06: 2s - loss: 1.5169e -\n",
      "Epoch 2961/3000\n",
      "87006/87006 [==============================] - 8s 87us/step - loss: 1.5253e-06\n",
      "Epoch 2962/3000\n",
      "87006/87006 [==============================] - 6s 66us/step - loss: 1.5212e-06\n",
      "Epoch 2963/3000\n",
      "  600/87006 [..............................] - ETA: 25s - loss: 1.3185e-06"
     ]
    },
    {
     "name": "stderr",
     "output_type": "stream",
     "text": [
      "C:\\Users\\User\\.conda\\envs\\theano_v1\\lib\\site-packages\\keras\\callbacks\\callbacks.py:95: RuntimeWarning: Method (on_train_batch_end) is slow compared to the batch update (0.126543). Check your callbacks.\n",
      "  % (hook_name, delta_t_median), RuntimeWarning)\n"
     ]
    },
    {
     "name": "stdout",
     "output_type": "stream",
     "text": [
      "87006/87006 [==============================] - 13s 154us/step - loss: 1.5256e-06\n",
      "Epoch 2964/3000\n",
      "87006/87006 [==============================] - 12s 136us/step - loss: 1.5411e-06\n",
      "Epoch 2965/3000\n",
      "87006/87006 [==============================] - 8s 97us/step - loss: 1.5195e-06\n",
      "Epoch 2966/3000\n",
      "87006/87006 [==============================] - 7s 83us/step - loss: 1.5339e-06 - ETA: 0s - loss: 1.5342\n",
      "Epoch 2967/3000\n",
      "87006/87006 [==============================] - 8s 91us/step - loss: 1.5232e-06\n",
      "Epoch 2968/3000\n",
      "87006/87006 [==============================] - 11s 123us/step - loss: 1.5232e-06\n",
      "Epoch 2969/3000\n",
      "87006/87006 [==============================] - 7s 82us/step - loss: 1.5341e-06\n",
      "Epoch 2970/3000\n",
      "87006/87006 [==============================] - 9s 107us/step - loss: 1.5242e-06\n",
      "Epoch 2971/3000\n",
      "87006/87006 [==============================] - 8s 90us/step - loss: 1.5289e-06\n",
      "Epoch 2972/3000\n",
      "87006/87006 [==============================] - 10s 117us/step - loss: 1.5401e-06\n",
      "Epoch 2973/3000\n",
      "87006/87006 [==============================] - 8s 95us/step - loss: 1.5242e-06\n",
      "Epoch 2974/3000\n",
      "87006/87006 [==============================] - 8s 91us/step - loss: 1.5320e-06: 0s - loss:\n",
      "Epoch 2975/3000\n",
      " 1200/87006 [..............................] - ETA: 20s - loss: 1.7096e-06"
     ]
    },
    {
     "name": "stderr",
     "output_type": "stream",
     "text": [
      "C:\\Users\\User\\.conda\\envs\\theano_v1\\lib\\site-packages\\keras\\callbacks\\callbacks.py:95: RuntimeWarning: Method (on_train_batch_end) is slow compared to the batch update (0.115864). Check your callbacks.\n",
      "  % (hook_name, delta_t_median), RuntimeWarning)\n"
     ]
    },
    {
     "name": "stdout",
     "output_type": "stream",
     "text": [
      "87006/87006 [==============================] - 8s 90us/step - loss: 1.5396e-06\n",
      "Epoch 2976/3000\n",
      "87006/87006 [==============================] - 10s 111us/step - loss: 1.5278e-060s - loss: 1.5321e-0\n",
      "Epoch 2977/3000\n",
      "87006/87006 [==============================] - 6s 74us/step - loss: 1.5220e-06: 0s - loss: 1.527 - ETA: 0s - loss: 1.5229e-\n",
      "Epoch 2978/3000\n",
      "87006/87006 [==============================] - 6s 64us/step - loss: 1.5251e-06\n",
      "Epoch 2979/3000\n",
      "87006/87006 [==============================] - 6s 73us/step - loss: 1.5276e-06\n",
      "Epoch 2980/3000\n",
      "87006/87006 [==============================] - 6s 67us/step - loss: 1.5303e-06: 0s -\n",
      "Epoch 2981/3000\n",
      "87006/87006 [==============================] - 8s 96us/step - loss: 1.5254e-06\n",
      "Epoch 2982/3000\n",
      "87006/87006 [==============================] - 9s 101us/step - loss: 1.5325e-06 1s - loss: 1.5231 - ETA: 0s - loss:\n",
      "Epoch 2983/3000\n",
      "87006/87006 [==============================] - 9s 106us/step - loss: 1.5288e-06 0s - loss: 1.5441e- - ETA: 0\n",
      "Epoch 2984/3000\n",
      "87006/87006 [==============================] - 8s 96us/step - loss: 1.5216e-06: 3s - loss: 1. - ETA: \n",
      "Epoch 2985/3000\n",
      "87006/87006 [==============================] - 7s 86us/step - loss: 1.5240e-06\n",
      "Epoch 2986/3000\n",
      "31500/87006 [=========>....................] - ETA: 8s - loss: 1.4707e-06"
     ]
    },
    {
     "name": "stderr",
     "output_type": "stream",
     "text": [
      "C:\\Users\\User\\.conda\\envs\\theano_v1\\lib\\site-packages\\keras\\callbacks\\callbacks.py:95: RuntimeWarning: Method (on_train_batch_end) is slow compared to the batch update (0.103463). Check your callbacks.\n",
      "  % (hook_name, delta_t_median), RuntimeWarning)\n"
     ]
    },
    {
     "name": "stdout",
     "output_type": "stream",
     "text": [
      "87006/87006 [==============================] - 8s 96us/step - loss: 1.5244e-06\n",
      "Epoch 2987/3000\n",
      "87006/87006 [==============================] - 6s 64us/step - loss: 1.5218e-06: 8s - los\n",
      "Epoch 2988/3000\n",
      "87006/87006 [==============================] - 7s 79us/step - loss: 1.5237e-06\n",
      "Epoch 2989/3000\n",
      "87006/87006 [==============================] - 7s 82us/step - loss: 1.5384e-06\n",
      "Epoch 2990/3000\n",
      "87006/87006 [==============================] - 7s 84us/step - loss: 1.5221e-06\n",
      "Epoch 2991/3000\n",
      "87006/87006 [==============================] - 8s 90us/step - loss: 1.5282e-06\n",
      "Epoch 2992/3000\n",
      "87006/87006 [==============================] - 6s 72us/step - loss: 1.5269e-06\n",
      "Epoch 2993/3000\n",
      "87006/87006 [==============================] - 7s 86us/step - loss: 1.5269e-06\n",
      "Epoch 2994/3000\n",
      "87006/87006 [==============================] - 6s 64us/step - loss: 1.5260e-06A: 2s - loss: 1.567 - ETA: 1s - loss: 1.55 - ETA: 1s - loss:  - ETA: 0s - loss\n",
      "Epoch 2995/3000\n",
      "87006/87006 [==============================] - 7s 81us/step - loss: 1.5268e-06: \n",
      "Epoch 2996/3000\n",
      "87006/87006 [==============================] - 5s 61us/step - loss: 1.5300e-06: 1s - loss:\n",
      "Epoch 2997/3000\n",
      "87006/87006 [==============================] - 6s 67us/step - loss: 1.5247e-06: 0s - loss: \n",
      "Epoch 2998/3000\n",
      "87006/87006 [==============================] - 6s 73us/step - loss: 1.5297e-06\n",
      "Epoch 2999/3000\n",
      "87006/87006 [==============================] - 6s 66us/step - loss: 1.5231e-06\n",
      "Epoch 3000/3000\n",
      "87006/87006 [==============================] - ETA: 0s - loss: 1.5314e-06- ETA: 5s - loss: 1.4950e-0 - ETA: 5s - loss: 1.4925 - ETA: 5s - ETA: 3s - loss - ETA: 2s - loss: 1.5349e-0 - ETA: 2s - loss: 1 - 7s 82us/step - loss: 1.5295e-06 - val_loss: 1.7793e-06\n"
     ]
    }
   ],
   "source": [
    "# train model\n",
    "history = model.fit(\n",
    "    input_data_all, output_data_all,\n",
    "    batch_size=300, epochs=3000,\n",
    "    verbose=1, validation_split=0.1,validation_freq=100\n",
    ")"
   ]
  },
  {
   "cell_type": "code",
   "execution_count": null,
   "metadata": {},
   "outputs": [],
   "source": []
  },
  {
   "cell_type": "code",
   "execution_count": 11,
   "metadata": {},
   "outputs": [
    {
     "name": "stdout",
     "output_type": "stream",
     "text": [
      "Rsquared: 99.99598804380064\n"
     ]
    }
   ],
   "source": [
    "### Now we load the test data and predict the model out of that\n",
    "### What we do next is calculate R-squared and display it.\n",
    "\n",
    "test_x = np.load('test_sample.npy')#,dtype=theano.config.floatX)\n",
    "test_y= np.load('test_target.npy')#,dtype=theano.config.floatX)\n",
    "test_x = np.load('test_sample.npy')#,dtype=theano.config.floatX)\n",
    "test_y= np.load('test_target.npy')#,dtype=theano.config.floatX)\n",
    "sample_out= model.predict(test_x)\n",
    "ss_tot = np.sum((test_y-np.mean(test_y))**2)\n",
    "SS_res = np.sum((sample_out.reshape(-1)-test_y)**2)\n",
    "print(\"Rsquared:\",(1 - SS_res/ss_tot)*100)"
   ]
  },
  {
   "cell_type": "code",
   "execution_count": 12,
   "metadata": {},
   "outputs": [
    {
     "data": {
      "text/plain": [
       "array([2.1102397], dtype=float32)"
      ]
     },
     "execution_count": 12,
     "metadata": {},
     "output_type": "execute_result"
    }
   ],
   "source": [
    "### To quickly check accuracy, we look at the biggest and samllest prediction.\n",
    "max(model.predict(test_x))"
   ]
  },
  {
   "cell_type": "code",
   "execution_count": 13,
   "metadata": {},
   "outputs": [
    {
     "data": {
      "text/plain": [
       "array([1.2022712], dtype=float32)"
      ]
     },
     "execution_count": 13,
     "metadata": {},
     "output_type": "execute_result"
    }
   ],
   "source": [
    "min(model.predict(test_x))"
   ]
  },
  {
   "cell_type": "code",
   "execution_count": 14,
   "metadata": {},
   "outputs": [],
   "source": [
    "### And we save the model;\n",
    "model.save(\"model.h1\")"
   ]
  },
  {
   "cell_type": "code",
   "execution_count": 15,
   "metadata": {},
   "outputs": [],
   "source": [
    "### Let us also check random forest prediction:\n",
    "regr = RandomForestRegressor(n_estimators=250,criterion=\"mse\")\n",
    "regr.fit(train_input, train_output)\n",
    "rf_prediction = regr.predict(test_x)\n"
   ]
  },
  {
   "cell_type": "code",
   "execution_count": 16,
   "metadata": {},
   "outputs": [
    {
     "name": "stdout",
     "output_type": "stream",
     "text": [
      "R-squared random forest: 99.99495683270166\n"
     ]
    }
   ],
   "source": [
    "### Random forest error:\n",
    "### Random forest R-square:\n",
    "ss_tot1 = np.sum((test_y-np.mean(test_y))**2)\n",
    "SS_res1 = np.sum((test_y-rf_prediction)**2)\n",
    "r2_error2= 1 - SS_res1/ss_tot1\n",
    "r2_error2 = r2_error2*100\n",
    "print(\"R-squared random forest:\",r2_error2)"
   ]
  },
  {
   "cell_type": "code",
   "execution_count": null,
   "metadata": {},
   "outputs": [],
   "source": []
  },
  {
   "cell_type": "code",
   "execution_count": null,
   "metadata": {},
   "outputs": [],
   "source": []
  }
 ],
 "metadata": {
  "kernelspec": {
   "display_name": "Python 3",
   "language": "python",
   "name": "python3"
  },
  "language_info": {
   "codemirror_mode": {
    "name": "ipython",
    "version": 3
   },
   "file_extension": ".py",
   "mimetype": "text/x-python",
   "name": "python",
   "nbconvert_exporter": "python",
   "pygments_lexer": "ipython3",
   "version": "3.7.7"
  }
 },
 "nbformat": 4,
 "nbformat_minor": 4
}
